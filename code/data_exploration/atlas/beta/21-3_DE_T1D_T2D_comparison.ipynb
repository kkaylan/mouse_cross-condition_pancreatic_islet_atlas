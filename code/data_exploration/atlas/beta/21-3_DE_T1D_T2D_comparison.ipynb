{
 "cells": [
  {
   "cell_type": "code",
   "execution_count": null,
   "id": "cfd36164",
   "metadata": {},
   "outputs": [],
   "source": [
    "import scanpy as sc\n",
    "import pandas as pd\n",
    "import numpy as np\n",
    "import pickle\n",
    "\n",
    "import matplotlib.pyplot as plt\n",
    "import seaborn as sb\n",
    "from matplotlib import rcParams\n",
    "import matplotlib.patches as mpatches\n",
    "\n",
    "from sklearn.preprocessing import minmax_scale,scale\n"
   ]
  },
  {
   "cell_type": "code",
   "execution_count": 2,
   "id": "4601d3a9",
   "metadata": {},
   "outputs": [],
   "source": [
    "path_data='/lustre/groups/ml01/workspace/karin.hrovatin/data/pancreas/scRNA/combined/'\n",
    "path_de='/lustre/groups/ml01/workspace/karin.hrovatin/data/pancreas/scRNA/combined/de/'\n",
    "path_de1=path_de+'de_diseased_T1_NODelim_meld/'\n",
    "path_de2=path_de+'de_diseased_T2_VSGSTZ_meld_covarStudy/'\n",
    "path_genes='/lustre/groups/ml01/workspace/karin.hrovatin/data/pancreas/gene_lists/'"
   ]
  },
  {
   "cell_type": "code",
   "execution_count": 3,
   "id": "37c161d4",
   "metadata": {},
   "outputs": [],
   "source": [
    "# Saving figures\n",
    "path_fig='/lustre/groups/ml01/workspace/karin.hrovatin/data/pancreas/figures/paper/'"
   ]
  },
  {
   "cell_type": "code",
   "execution_count": 4,
   "id": "b00b8314",
   "metadata": {},
   "outputs": [],
   "source": [
    "# Load T1 and T2 DE results\n",
    "summary_t1=pd.read_table(path_de1+'deDataClusters.tsv',index_col=0)\n",
    "summary_t2=pd.read_table(path_de2+'deDataClusters.tsv',index_col=0)"
   ]
  },
  {
   "cell_type": "markdown",
   "id": "261c14e3",
   "metadata": {},
   "source": [
    "Overlap between T1D and T2D DE clusters"
   ]
  },
  {
   "cell_type": "code",
   "execution_count": 6,
   "id": "89d00344",
   "metadata": {
    "scrolled": false
   },
   "outputs": [
    {
     "name": "stdout",
     "output_type": "stream",
     "text": [
      "NOD down_1 and db/db+mSTZ down_3\n",
      "['Npy']\n",
      "NOD down_1 and db/db+mSTZ down_6\n",
      "['Dact2']\n",
      "NOD down_1 and db/db+mSTZ down_7\n",
      "['Emid1', 'Gm15234', 'Zim1']\n",
      "NOD down_1 and db/db+mSTZ up_1\n",
      "['Fxyd6', 'Ppy', 'Pyy']\n",
      "NOD down_2 and db/db+mSTZ down_2\n",
      "['Gadd45b', 'Maff', 'Prr7']\n",
      "NOD down_2 and db/db+mSTZ down_3\n",
      "['A230051N06Rik', 'Gipr', 'Hcar2', 'Lmna', 'Mpp7', 'Mpzl1', 'Slc20a1', 'T2', 'Tsc22d3', 'Tuba1a']\n",
      "NOD down_2 and db/db+mSTZ down_5\n",
      "['Mt1', 'Mt2', 'Nnat', 'Tppp3']\n",
      "NOD down_2 and db/db+mSTZ down_6\n",
      "['Cib3', 'Dbp', 'Mpp3', 'Stard4']\n",
      "NOD down_3 and db/db+mSTZ up_2\n",
      "['Krtap17-1']\n",
      "NOD down_4 and db/db+mSTZ down_2\n",
      "['Adora3', 'Arc', 'Arl4d', 'Atf3', 'Btg2', 'C2cd4b', 'Cbx4', 'Ccdc178', 'Chd7', 'Ddit3', 'Dnajb1', 'Dusp1', 'Dusp18', 'Egr1', 'Egr4', 'Fam118a', 'Fos', 'Fosb', 'Hspa1a', 'Hspa1b', 'Ier2', 'Jun', 'Junb', 'Klf4', 'Nr4a1', 'Nr4a2', 'Per1', 'Ppargc1a', 'Rasd1', 'Rfx2', 'Slc5a3', 'Socs3', 'Tnfaip3', 'Usp2']\n",
      "NOD down_4 and db/db+mSTZ down_3\n",
      "['Lonrf1', 'Siah2', 'Usp27x']\n",
      "NOD down_4 and db/db+mSTZ down_4\n",
      "['Irf2bp2', 'Npas4', 'Nr1d2', 'Per2', 'Rimkla', 'Zbtb2', 'Zfp184']\n",
      "NOD down_5 and db/db+mSTZ down_3\n",
      "['Hmgcs1', 'Idi1', 'Midn']\n",
      "NOD down_5 and db/db+mSTZ down_4\n",
      "['Coq10b', 'Csrnp1', 'Dusp10', 'Enc1', 'Errfi1', 'Fosl2', 'Herc4', 'Homer1', 'Kctd20', 'Lrrtm2', 'Mideas', 'Mlf1', 'Noct', 'Prkab2', 'Slc25a25', 'Srf']\n",
      "NOD up_1 and db/db+mSTZ up_1\n",
      "['Apof', 'Phlda3', 'Plaat3']\n",
      "NOD up_1 and db/db+mSTZ up_2\n",
      "['Arhgdig', 'Car8', 'Dapl1', 'Fabp5', 'Gc', 'Gucy2c', 'Lgals3bp', 'Ly6e', 'Morc1', 'Nckap5', 'Rapgef5', 'Retreg1', 'Sel1l3', 'Serpina7', 'Spp1', 'Tmem212', 'Vgf', 'Zfp365']\n",
      "NOD up_2 and db/db+mSTZ down_2\n",
      "['A930015D03Rik']\n",
      "NOD up_2 and db/db+mSTZ down_4\n",
      "['Vwa5a']\n",
      "NOD up_2 and db/db+mSTZ down_5\n",
      "['Cxcl10', 'Ddx60', 'Fhod3', 'Gbp7', 'H2-Q4', 'H2-Q6', 'Herc6', 'Ifit1', 'Irf9', 'Irgm2', 'Oasl2', 'Parp14', 'Psmb9', 'Rab19', 'Rsad2', 'Rtp4', 'Stat2']\n",
      "NOD up_2 and db/db+mSTZ up_1\n",
      "['Gm12216', 'Lmo1']\n",
      "NOD up_3 and db/db+mSTZ down_3\n",
      "['Ust']\n",
      "NOD up_3 and db/db+mSTZ down_5\n",
      "['H2-Q7']\n",
      "NOD up_3 and db/db+mSTZ up_2\n",
      "['Serping1']\n",
      "NOD up_4 and db/db+mSTZ down_2\n",
      "['Ppm1e']\n",
      "NOD up_4 and db/db+mSTZ down_4\n",
      "['Cttnbp2']\n"
     ]
    }
   ],
   "source": [
    "# Obverlap between genes as ratio of the smaller group\n",
    "overlap=pd.DataFrame(index=sorted(summary_t1.hc.dropna().unique()),\n",
    "                     columns=sorted(summary_t2.hc.dropna().unique()))\n",
    "overlap.index.name='NOD'\n",
    "overlap.columns.name='db/db+mSTZ'\n",
    "for cl1 in overlap.index:\n",
    "    for cl2 in overlap.columns:\n",
    "        g1=set(summary_t1.query('hc==@cl1').index)\n",
    "        g2=set(summary_t2.query('hc==@cl2').index)\n",
    "        g1g2=g1&g2\n",
    "        o=len(g1g2)/min([len(g1),len(g2)])\n",
    "        overlap.at[cl1,cl2]=o\n",
    "\n",
    "        # Also print overlap\n",
    "        if len(g1g2)>0:\n",
    "            print('NOD %s and db/db+mSTZ %s'%(cl1,cl2))\n",
    "            print(sorted(summary_t1.loc[g1g2,'gene_symbol'].to_list()))\n",
    "overlap=overlap.astype(float)"
   ]
  },
  {
   "cell_type": "markdown",
   "id": "b0b27e99",
   "metadata": {},
   "source": [
    "Plot overlap"
   ]
  },
  {
   "cell_type": "code",
   "execution_count": 7,
   "id": "fe34743a",
   "metadata": {},
   "outputs": [
    {
     "data": {
      "image/png": "[encoded data removed]",
      "text/plain": [
       "<Figure size 288x280.8 with 4 Axes>"
      ]
     },
     "metadata": {
      "needs_background": "light"
     },
     "output_type": "display_data"
    }
   ],
   "source": [
    "# heatmap size params\n",
    "w_dend=1.3\n",
    "nrow=overlap.shape[0]*0.3\n",
    "ncol=overlap.shape[1]*0.26\n",
    "w=ncol+w_dend\n",
    "h=nrow+w_dend\n",
    "# Heatmap\n",
    "g=sb.clustermap(overlap,cmap='viridis',\n",
    "                col_cluster=False,row_cluster=False,\n",
    "              figsize=(h,w),\n",
    "            dendrogram_ratio=(w_dend/h,w_dend/w),\n",
    "                cbar_pos=(0.1,0.5,0.04,0.2))\n",
    "g.ax_cbar.set_title('overlap',fontsize=10)   \n",
    "\n",
    "#remove dendrogram\n",
    "g.ax_row_dendrogram.set_visible(False)\n",
    "g.ax_col_dendrogram.set_visible(False)\n",
    "\n",
    "\n",
    "# Save\n",
    "plt.savefig(path_fig+'heatmap_beta_DEdiabetesNODelim-VSGSTZ_cloverlap.png',\n",
    "            dpi=300,bbox_inches='tight')"
   ]
  },
  {
   "cell_type": "code",
   "execution_count": null,
   "id": "cd37d46b",
   "metadata": {},
   "outputs": [],
   "source": []
  }
 ],
 "metadata": {
  "jupytext": {
   "formats": "ipynb,py:percent"
  },
  "kernelspec": {
   "display_name": "Python rpy2_3",
   "language": "python",
   "name": "rpy2_3"
  },
  "language_info": {
   "codemirror_mode": {
    "name": "ipython",
    "version": 3
   },
   "file_extension": ".py",
   "mimetype": "text/x-python",
   "name": "python",
   "nbconvert_exporter": "python",
   "pygments_lexer": "ipython3",
   "version": "3.8.5"
  }
 },
 "nbformat": 4,
 "nbformat_minor": 5
}
