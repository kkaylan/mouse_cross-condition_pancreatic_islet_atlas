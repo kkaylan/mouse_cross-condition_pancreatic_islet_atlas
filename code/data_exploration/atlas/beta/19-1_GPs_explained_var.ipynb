{
 "cells": [
  {
   "cell_type": "markdown",
   "id": "73c99a5d",
   "metadata": {},
   "source": [
    "# Explained var by GPs\n",
    "\n",
    "Compute amount of explained variation by GPs using top PCs as baseline. Ideally would compute over all samples from all studies (included in atlas and external) to make sure that variance between all possible conditions is included, but cant really as different preprocessing due to different technologies so expression across studies is not directly comparable - so do per study, except for the atlas, where we made sure that this is comparable."
   ]
  },
  {
   "cell_type": "code",
   "execution_count": 1,
   "id": "60ebffa8",
   "metadata": {},
   "outputs": [],
   "source": [
    "import scanpy as sc\n",
    "import pandas as pd\n",
    "import numpy as np\n",
    "import pickle as pkl\n",
    "\n",
    "from sklearn.preprocessing import minmax_scale,maxabs_scale\n",
    "\n",
    "from matplotlib import rcParams\n",
    "import matplotlib.pyplot as plt\n",
    "import seaborn as sb\n",
    "from matplotlib.lines import Line2D\n",
    "import matplotlib.patches as mpatches\n",
    "\n",
    "from scib import metrics as sm\n",
    "from sklearn.linear_model import LinearRegression"
   ]
  },
  {
   "cell_type": "code",
   "execution_count": 2,
   "id": "7de31112",
   "metadata": {},
   "outputs": [],
   "source": [
    "path_gp='/lustre/groups/ml01/workspace/karin.hrovatin/data/pancreas/scRNA/combined/moransi/sfintegrated/'\n",
    "path_rna='/lustre/groups/ml01/workspace/karin.hrovatin/data/pancreas/scRNA/'\n",
    "path_data=path_rna+'combined/'\n",
    "path_save=path_gp+'explained_var/'\n",
    "path_genes='/lustre/groups/ml01/workspace/karin.hrovatin/data/pancreas/gene_lists/'"
   ]
  },
  {
   "cell_type": "code",
   "execution_count": 3,
   "id": "252bac9d",
   "metadata": {
    "lines_to_next_cell": 2
   },
   "outputs": [],
   "source": [
    "# Saving figures\n",
    "path_fig='/lustre/groups/ml01/workspace/karin.hrovatin/data/pancreas/figures/paper/'"
   ]
  },
  {
   "cell_type": "code",
   "execution_count": 4,
   "id": "9ef34531",
   "metadata": {},
   "outputs": [],
   "source": [
    "# orthologue information\n",
    "orthologues=pd.read_table(path_genes+'orthologues_ORGmus_musculus_ORG2homo_sapiens_V103.tsv'\n",
    "                         ).rename(\n",
    "    {'Gene name':'gs_mm','Human gene name':'gs_hs',\n",
    "     'Gene stable ID':'eid_mm','Human gene stable ID':'eid_hs'},axis=1)"
   ]
  },
  {
   "cell_type": "code",
   "execution_count": 5,
   "id": "e2c670fb",
   "metadata": {},
   "outputs": [],
   "source": [
    "# Load GPs\n",
    "genes_hc=pd.read_table(path_gp+'gene_hc_t'+str(2.4)+'.tsv',sep='\\t',index_col=0)\n",
    "genes_hc['hc']=genes_hc['hc'].astype('category')"
   ]
  },
  {
   "cell_type": "markdown",
   "id": "96c10581",
   "metadata": {},
   "source": [
    "## Compute explained var\n",
    "Compute explained var based on each GP or their combination in top PCs computed on expression data per dataset (using atlas as single dataset). In atlas also compute explained var by study. \n",
    "\n",
    "Use linear regresison to see how well individual PCs are explained (R2) and weight the R2 score by variance explained by each PC, summing explained var from all PCs to get final explained var.\n",
    "\n",
    "Compare explained var of GPs to explained var of random gene groups of matched size. Compute random groups multiple times to get a proxy of random gene groups explained var distn."
   ]
  },
  {
   "cell_type": "code",
   "execution_count": 6,
   "id": "571383d9",
   "metadata": {},
   "outputs": [],
   "source": [
    "# N PCs to use\n",
    "NPC=50"
   ]
  },
  {
   "cell_type": "markdown",
   "id": "93ec2149",
   "metadata": {},
   "source": [
    "Helper functions"
   ]
  },
  {
   "cell_type": "code",
   "execution_count": 7,
   "id": "0460575b",
   "metadata": {},
   "outputs": [],
   "source": [
    "def explained_pca_var(X_pca,covariates,pca_var,n_comps):\n",
    "    \"\"\"\n",
    "    How much variance from PCs is explained.\n",
    "    Adapted from scIB.\n",
    "    :param X_pca: PCA embedding\n",
    "    :param covariates: Design matrix for regression\n",
    "    :param pca_var: Relative var explained by each PC\n",
    "    :param n_comps: N PC components in the embedding\n",
    "    \"\"\"\n",
    "    r2 = []\n",
    "    for i in range(n_comps):\n",
    "        pc = X_pca[:, [i]]\n",
    "        lm = LinearRegression()\n",
    "        lm.fit(covariates, pc)\n",
    "        r2_score = np.maximum(0, lm.score(covariates, pc))\n",
    "        r2.append(r2_score)\n",
    "    Var = pca_var / sum(pca_var) \n",
    "    R2Var = sum(r2 * Var) \n",
    "    return R2Var"
   ]
  },
  {
   "cell_type": "code",
   "execution_count": 8,
   "id": "0af8c656",
   "metadata": {},
   "outputs": [],
   "source": [
    "def explaied_var_helper(gp_study:list,adata,gene_groups_collection:dict,study_cov:np.array):\n",
    "    \"\"\"\n",
    "    Helper to calculate explained var by GPs or studies or both (concatenates both as predictor)\n",
    "    Also computes for individual GPs (without study, not computed if study is True)\n",
    "    :param gp_study: list of tuples giving \n",
    "    (GP name or None (if not used), True/False for using study)\n",
    "    :param adata: Pp adata\n",
    "    :param gene_groups_collection: Dict with keys GP type names and values GP dicts with\n",
    "    keys being gp names and values gene lists matching adata var names:\n",
    "    {gp_type:{gp_name:genes,...}}\n",
    "    :param study_cov: Array of study embedding or None if not used\n",
    "    \"\"\"\n",
    "    # Score for GPs (true or random), study, and true GP+study\n",
    "    # In each GP set compute explained var over all GPs\n",
    "    explained_var=[]\n",
    "    for gp,study in gp_study:\n",
    "        print('GP and study:',gp,study)\n",
    "        cov=[]\n",
    "        # Use GP scores for prediction\n",
    "        scores_gp={}\n",
    "        if gp is not None:\n",
    "            gene_groups=gene_groups_collection[gp]\n",
    "            for gp_component,genes in gene_groups.items():\n",
    "                scores_gp[gp_component]=sc.tl.score_genes(\n",
    "                    adata, gene_list=genes, score_name='score', \n",
    "                    use_raw=False,copy=True,random_state=0\n",
    "                    ).obs['score'].values\n",
    "            cov.append(np.array(list(scores_gp.values())).T)\n",
    "        # Use study cov as prediction\n",
    "        if study:\n",
    "            cov.append(study_cov) # Not full rank but ok?\n",
    "        cov=np.concatenate(cov,axis=1)\n",
    "        print('cov shape:',cov.shape)\n",
    "        explained_var.append({\n",
    "            'GPs':gp,'study':study,\n",
    "            'explained_var_ratio':explained_pca_var(X_pca=adata.obsm['X_pca'],\n",
    "                          covariates=cov,\n",
    "                          pca_var=adata.uns['pca']['variance'],\n",
    "                          n_comps=NPC)})\n",
    "        # Compute also var exmplained by each GP if present\n",
    "        if not study:\n",
    "            for gp_component,score in scores_gp.items():\n",
    "                explained_var.append({\n",
    "                    'GPs':gp+'_GPcomponent'+str(gp_component),'study':False,\n",
    "                    'explained_var_ratio':explained_pca_var(X_pca=adata.obsm['X_pca'],\n",
    "                              covariates=np.array(score).reshape(-1,1),\n",
    "                              pca_var=adata.uns['pca']['variance'],\n",
    "                              n_comps=NPC)})\n",
    "        del cov\n",
    "        del scores_gp\n",
    "    explained_var=pd.DataFrame(explained_var)\n",
    "    return explained_var"
   ]
  },
  {
   "cell_type": "markdown",
   "id": "2d01441f",
   "metadata": {},
   "source": [
    "Store dataset metadata and size infro from all datasets for below plots"
   ]
  },
  {
   "cell_type": "code",
   "execution_count": 41,
   "id": "9e3d4f45",
   "metadata": {},
   "outputs": [],
   "source": [
    "# Store dataset info\n",
    "dataset_info=[]"
   ]
  },
  {
   "cell_type": "markdown",
   "id": "e33cd5c8",
   "metadata": {},
   "source": [
    "Compute explained var for all datasets individually"
   ]
  },
  {
   "cell_type": "markdown",
   "id": "904dbd60",
   "metadata": {},
   "source": [
    "### Atlas per study\n",
    "This is done as sanity check to make sure that GPs look like expected on individual studies within atlas."
   ]
  },
  {
   "cell_type": "code",
   "execution_count": 32,
   "id": "71ec7d98",
   "metadata": {},
   "outputs": [],
   "source": [
    "dataset='mouseAtlas'\n",
    "adata_full=sc.read(path_data+'data_rawnorm_integrated_analysed_beta_v1s1_sfintegrated.h5ad',backed='r')"
   ]
  },
  {
   "cell_type": "code",
   "execution_count": 33,
   "id": "b5e1e342",
   "metadata": {},
   "outputs": [],
   "source": [
    "studies=[s for s in adata_full.obs.study.unique() if s!='embryo']"
   ]
  },
  {
   "cell_type": "code",
   "execution_count": 11,
   "id": "a0b9bc1c",
   "metadata": {},
   "outputs": [
    {
     "name": "stdout",
     "output_type": "stream",
     "text": [
      "Fltp_2y\n",
      "(14317, 30672)\n",
      "After lowly expr filtering: (14317, 12702)\n",
      "N GP genes: 1602\n",
      "GP and study: GPs False\n",
      "cov shape: (14317, 27)\n",
      "GP and study: GPs_random0 False\n",
      "cov shape: (14317, 27)\n",
      "GP and study: GPs_random1 False\n",
      "cov shape: (14317, 27)\n",
      "GP and study: GPs_random3 False\n",
      "cov shape: (14317, 27)\n",
      "GP and study: GPs_random4 False\n",
      "cov shape: (14317, 27)\n",
      "GP and study: GPs_random5 False\n",
      "cov shape: (14317, 27)\n",
      "GP and study: GPs_random6 False\n",
      "cov shape: (14317, 27)\n",
      "GP and study: GPs_random7 False\n",
      "cov shape: (14317, 27)\n",
      "GP and study: GPs_random8 False\n",
      "cov shape: (14317, 27)\n",
      "GP and study: GPs_random9 False\n",
      "cov shape: (14317, 27)\n"
     ]
    },
    {
     "data": {
      "text/html": [
       "<div>\n",
       "<style scoped>\n",
       "    .dataframe tbody tr th:only-of-type {\n",
       "        vertical-align: middle;\n",
       "    }\n",
       "\n",
       "    .dataframe tbody tr th {\n",
       "        vertical-align: top;\n",
       "    }\n",
       "\n",
       "    .dataframe thead th {\n",
       "        text-align: right;\n",
       "    }\n",
       "</style>\n",
       "<table border=\"1\" class=\"dataframe\">\n",
       "  <thead>\n",
       "    <tr style=\"text-align: right;\">\n",
       "      <th></th>\n",
       "      <th>GPs</th>\n",
       "      <th>study</th>\n",
       "      <th>explained_var_ratio</th>\n",
       "    </tr>\n",
       "  </thead>\n",
       "  <tbody>\n",
       "    <tr>\n",
       "      <th>0</th>\n",
       "      <td>GPs</td>\n",
       "      <td>False</td>\n",
       "      <td>0.461627</td>\n",
       "    </tr>\n",
       "    <tr>\n",
       "      <th>1</th>\n",
       "      <td>GPs_GPcomponent1</td>\n",
       "      <td>False</td>\n",
       "      <td>0.026018</td>\n",
       "    </tr>\n",
       "    <tr>\n",
       "      <th>2</th>\n",
       "      <td>GPs_GPcomponent2</td>\n",
       "      <td>False</td>\n",
       "      <td>0.066029</td>\n",
       "    </tr>\n",
       "    <tr>\n",
       "      <th>3</th>\n",
       "      <td>GPs_GPcomponent3</td>\n",
       "      <td>False</td>\n",
       "      <td>0.022747</td>\n",
       "    </tr>\n",
       "    <tr>\n",
       "      <th>4</th>\n",
       "      <td>GPs_GPcomponent4</td>\n",
       "      <td>False</td>\n",
       "      <td>0.041269</td>\n",
       "    </tr>\n",
       "    <tr>\n",
       "      <th>...</th>\n",
       "      <td>...</td>\n",
       "      <td>...</td>\n",
       "      <td>...</td>\n",
       "    </tr>\n",
       "    <tr>\n",
       "      <th>303</th>\n",
       "      <td>GPs_random9_GPcomponent23</td>\n",
       "      <td>False</td>\n",
       "      <td>0.005504</td>\n",
       "    </tr>\n",
       "    <tr>\n",
       "      <th>304</th>\n",
       "      <td>GPs_random9_GPcomponent24</td>\n",
       "      <td>False</td>\n",
       "      <td>0.002187</td>\n",
       "    </tr>\n",
       "    <tr>\n",
       "      <th>305</th>\n",
       "      <td>GPs_random9_GPcomponent25</td>\n",
       "      <td>False</td>\n",
       "      <td>0.031352</td>\n",
       "    </tr>\n",
       "    <tr>\n",
       "      <th>306</th>\n",
       "      <td>GPs_random9_GPcomponent26</td>\n",
       "      <td>False</td>\n",
       "      <td>0.004390</td>\n",
       "    </tr>\n",
       "    <tr>\n",
       "      <th>307</th>\n",
       "      <td>GPs_random9_GPcomponent27</td>\n",
       "      <td>False</td>\n",
       "      <td>0.006177</td>\n",
       "    </tr>\n",
       "  </tbody>\n",
       "</table>\n",
       "<p>308 rows × 3 columns</p>\n",
       "</div>"
      ],
      "text/plain": [
       "                           GPs  study  explained_var_ratio\n",
       "0                          GPs  False             0.461627\n",
       "1             GPs_GPcomponent1  False             0.026018\n",
       "2             GPs_GPcomponent2  False             0.066029\n",
       "3             GPs_GPcomponent3  False             0.022747\n",
       "4             GPs_GPcomponent4  False             0.041269\n",
       "..                         ...    ...                  ...\n",
       "303  GPs_random9_GPcomponent23  False             0.005504\n",
       "304  GPs_random9_GPcomponent24  False             0.002187\n",
       "305  GPs_random9_GPcomponent25  False             0.031352\n",
       "306  GPs_random9_GPcomponent26  False             0.004390\n",
       "307  GPs_random9_GPcomponent27  False             0.006177\n",
       "\n",
       "[308 rows x 3 columns]"
      ]
     },
     "metadata": {},
     "output_type": "display_data"
    },
    {
     "name": "stdout",
     "output_type": "stream",
     "text": [
      "Fltp_adult\n",
      "(13738, 30672)\n",
      "After lowly expr filtering: (13738, 12606)\n",
      "N GP genes: 1592\n",
      "GP and study: GPs False\n",
      "cov shape: (13738, 27)\n",
      "GP and study: GPs_random0 False\n",
      "cov shape: (13738, 27)\n",
      "GP and study: GPs_random1 False\n",
      "cov shape: (13738, 27)\n",
      "GP and study: GPs_random2 False\n",
      "cov shape: (13738, 27)\n",
      "GP and study: GPs_random3 False\n",
      "cov shape: (13738, 27)\n",
      "GP and study: GPs_random4 False\n",
      "cov shape: (13738, 27)\n",
      "GP and study: GPs_random5 False\n",
      "cov shape: (13738, 27)\n",
      "GP and study: GPs_random6 False\n",
      "cov shape: (13738, 27)\n",
      "GP and study: GPs_random7 False\n",
      "cov shape: (13738, 27)\n",
      "GP and study: GPs_random8 False\n",
      "cov shape: (13738, 27)\n",
      "GP and study: GPs_random9 False\n",
      "cov shape: (13738, 27)\n"
     ]
    },
    {
     "data": {
      "text/html": [
       "<div>\n",
       "<style scoped>\n",
       "    .dataframe tbody tr th:only-of-type {\n",
       "        vertical-align: middle;\n",
       "    }\n",
       "\n",
       "    .dataframe tbody tr th {\n",
       "        vertical-align: top;\n",
       "    }\n",
       "\n",
       "    .dataframe thead th {\n",
       "        text-align: right;\n",
       "    }\n",
       "</style>\n",
       "<table border=\"1\" class=\"dataframe\">\n",
       "  <thead>\n",
       "    <tr style=\"text-align: right;\">\n",
       "      <th></th>\n",
       "      <th>GPs</th>\n",
       "      <th>study</th>\n",
       "      <th>explained_var_ratio</th>\n",
       "    </tr>\n",
       "  </thead>\n",
       "  <tbody>\n",
       "    <tr>\n",
       "      <th>0</th>\n",
       "      <td>GPs</td>\n",
       "      <td>False</td>\n",
       "      <td>0.360445</td>\n",
       "    </tr>\n",
       "    <tr>\n",
       "      <th>1</th>\n",
       "      <td>GPs_GPcomponent1</td>\n",
       "      <td>False</td>\n",
       "      <td>0.012645</td>\n",
       "    </tr>\n",
       "    <tr>\n",
       "      <th>2</th>\n",
       "      <td>GPs_GPcomponent2</td>\n",
       "      <td>False</td>\n",
       "      <td>0.027749</td>\n",
       "    </tr>\n",
       "    <tr>\n",
       "      <th>3</th>\n",
       "      <td>GPs_GPcomponent3</td>\n",
       "      <td>False</td>\n",
       "      <td>0.021310</td>\n",
       "    </tr>\n",
       "    <tr>\n",
       "      <th>4</th>\n",
       "      <td>GPs_GPcomponent4</td>\n",
       "      <td>False</td>\n",
       "      <td>0.032069</td>\n",
       "    </tr>\n",
       "    <tr>\n",
       "      <th>...</th>\n",
       "      <td>...</td>\n",
       "      <td>...</td>\n",
       "      <td>...</td>\n",
       "    </tr>\n",
       "    <tr>\n",
       "      <th>303</th>\n",
       "      <td>GPs_random9_GPcomponent23</td>\n",
       "      <td>False</td>\n",
       "      <td>0.000923</td>\n",
       "    </tr>\n",
       "    <tr>\n",
       "      <th>304</th>\n",
       "      <td>GPs_random9_GPcomponent24</td>\n",
       "      <td>False</td>\n",
       "      <td>0.001671</td>\n",
       "    </tr>\n",
       "    <tr>\n",
       "      <th>305</th>\n",
       "      <td>GPs_random9_GPcomponent25</td>\n",
       "      <td>False</td>\n",
       "      <td>0.006344</td>\n",
       "    </tr>\n",
       "    <tr>\n",
       "      <th>306</th>\n",
       "      <td>GPs_random9_GPcomponent26</td>\n",
       "      <td>False</td>\n",
       "      <td>0.001796</td>\n",
       "    </tr>\n",
       "    <tr>\n",
       "      <th>307</th>\n",
       "      <td>GPs_random9_GPcomponent27</td>\n",
       "      <td>False</td>\n",
       "      <td>0.000861</td>\n",
       "    </tr>\n",
       "  </tbody>\n",
       "</table>\n",
       "<p>308 rows × 3 columns</p>\n",
       "</div>"
      ],
      "text/plain": [
       "                           GPs  study  explained_var_ratio\n",
       "0                          GPs  False             0.360445\n",
       "1             GPs_GPcomponent1  False             0.012645\n",
       "2             GPs_GPcomponent2  False             0.027749\n",
       "3             GPs_GPcomponent3  False             0.021310\n",
       "4             GPs_GPcomponent4  False             0.032069\n",
       "..                         ...    ...                  ...\n",
       "303  GPs_random9_GPcomponent23  False             0.000923\n",
       "304  GPs_random9_GPcomponent24  False             0.001671\n",
       "305  GPs_random9_GPcomponent25  False             0.006344\n",
       "306  GPs_random9_GPcomponent26  False             0.001796\n",
       "307  GPs_random9_GPcomponent27  False             0.000861\n",
       "\n",
       "[308 rows x 3 columns]"
      ]
     },
     "metadata": {},
     "output_type": "display_data"
    },
    {
     "name": "stdout",
     "output_type": "stream",
     "text": [
      "Fltp_P16\n",
      "(7410, 30672)\n",
      "After lowly expr filtering: (7410, 12084)\n",
      "N GP genes: 1568\n",
      "GP and study: GPs False\n",
      "cov shape: (7410, 27)\n",
      "GP and study: GPs_random0 False\n",
      "cov shape: (7410, 27)\n",
      "GP and study: GPs_random1 False\n",
      "cov shape: (7410, 27)\n",
      "GP and study: GPs_random2 False\n",
      "cov shape: (7410, 27)\n",
      "GP and study: GPs_random3 False\n",
      "cov shape: (7410, 27)\n",
      "GP and study: GPs_random4 False\n",
      "cov shape: (7410, 27)\n",
      "GP and study: GPs_random5 False\n",
      "cov shape: (7410, 27)\n",
      "GP and study: GPs_random6 False\n",
      "cov shape: (7410, 27)\n",
      "GP and study: GPs_random7 False\n",
      "cov shape: (7410, 27)\n",
      "GP and study: GPs_random8 False\n",
      "cov shape: (7410, 27)\n",
      "GP and study: GPs_random9 False\n",
      "cov shape: (7410, 27)\n"
     ]
    },
    {
     "data": {
      "text/html": [
       "<div>\n",
       "<style scoped>\n",
       "    .dataframe tbody tr th:only-of-type {\n",
       "        vertical-align: middle;\n",
       "    }\n",
       "\n",
       "    .dataframe tbody tr th {\n",
       "        vertical-align: top;\n",
       "    }\n",
       "\n",
       "    .dataframe thead th {\n",
       "        text-align: right;\n",
       "    }\n",
       "</style>\n",
       "<table border=\"1\" class=\"dataframe\">\n",
       "  <thead>\n",
       "    <tr style=\"text-align: right;\">\n",
       "      <th></th>\n",
       "      <th>GPs</th>\n",
       "      <th>study</th>\n",
       "      <th>explained_var_ratio</th>\n",
       "    </tr>\n",
       "  </thead>\n",
       "  <tbody>\n",
       "    <tr>\n",
       "      <th>0</th>\n",
       "      <td>GPs</td>\n",
       "      <td>False</td>\n",
       "      <td>0.362304</td>\n",
       "    </tr>\n",
       "    <tr>\n",
       "      <th>1</th>\n",
       "      <td>GPs_GPcomponent1</td>\n",
       "      <td>False</td>\n",
       "      <td>0.011038</td>\n",
       "    </tr>\n",
       "    <tr>\n",
       "      <th>2</th>\n",
       "      <td>GPs_GPcomponent2</td>\n",
       "      <td>False</td>\n",
       "      <td>0.015623</td>\n",
       "    </tr>\n",
       "    <tr>\n",
       "      <th>3</th>\n",
       "      <td>GPs_GPcomponent3</td>\n",
       "      <td>False</td>\n",
       "      <td>0.027987</td>\n",
       "    </tr>\n",
       "    <tr>\n",
       "      <th>4</th>\n",
       "      <td>GPs_GPcomponent4</td>\n",
       "      <td>False</td>\n",
       "      <td>0.020033</td>\n",
       "    </tr>\n",
       "    <tr>\n",
       "      <th>...</th>\n",
       "      <td>...</td>\n",
       "      <td>...</td>\n",
       "      <td>...</td>\n",
       "    </tr>\n",
       "    <tr>\n",
       "      <th>303</th>\n",
       "      <td>GPs_random9_GPcomponent23</td>\n",
       "      <td>False</td>\n",
       "      <td>0.003864</td>\n",
       "    </tr>\n",
       "    <tr>\n",
       "      <th>304</th>\n",
       "      <td>GPs_random9_GPcomponent24</td>\n",
       "      <td>False</td>\n",
       "      <td>0.001802</td>\n",
       "    </tr>\n",
       "    <tr>\n",
       "      <th>305</th>\n",
       "      <td>GPs_random9_GPcomponent25</td>\n",
       "      <td>False</td>\n",
       "      <td>0.003302</td>\n",
       "    </tr>\n",
       "    <tr>\n",
       "      <th>306</th>\n",
       "      <td>GPs_random9_GPcomponent26</td>\n",
       "      <td>False</td>\n",
       "      <td>0.002046</td>\n",
       "    </tr>\n",
       "    <tr>\n",
       "      <th>307</th>\n",
       "      <td>GPs_random9_GPcomponent27</td>\n",
       "      <td>False</td>\n",
       "      <td>0.002703</td>\n",
       "    </tr>\n",
       "  </tbody>\n",
       "</table>\n",
       "<p>308 rows × 3 columns</p>\n",
       "</div>"
      ],
      "text/plain": [
       "                           GPs  study  explained_var_ratio\n",
       "0                          GPs  False             0.362304\n",
       "1             GPs_GPcomponent1  False             0.011038\n",
       "2             GPs_GPcomponent2  False             0.015623\n",
       "3             GPs_GPcomponent3  False             0.027987\n",
       "4             GPs_GPcomponent4  False             0.020033\n",
       "..                         ...    ...                  ...\n",
       "303  GPs_random9_GPcomponent23  False             0.003864\n",
       "304  GPs_random9_GPcomponent24  False             0.001802\n",
       "305  GPs_random9_GPcomponent25  False             0.003302\n",
       "306  GPs_random9_GPcomponent26  False             0.002046\n",
       "307  GPs_random9_GPcomponent27  False             0.002703\n",
       "\n",
       "[308 rows x 3 columns]"
      ]
     },
     "metadata": {},
     "output_type": "display_data"
    },
    {
     "name": "stdout",
     "output_type": "stream",
     "text": [
      "NOD\n",
      "(1534, 30672)\n",
      "After lowly expr filtering: (1534, 12591)\n",
      "N GP genes: 1595\n",
      "GP and study: GPs False\n",
      "cov shape: (1534, 27)\n",
      "GP and study: GPs_random0 False\n",
      "cov shape: (1534, 27)\n",
      "GP and study: GPs_random1 False\n",
      "cov shape: (1534, 27)\n",
      "GP and study: GPs_random2 False\n",
      "cov shape: (1534, 27)\n",
      "GP and study: GPs_random3 False\n",
      "cov shape: (1534, 27)\n",
      "GP and study: GPs_random4 False\n",
      "cov shape: (1534, 27)\n",
      "GP and study: GPs_random5 False\n",
      "cov shape: (1534, 27)\n",
      "GP and study: GPs_random6 False\n",
      "cov shape: (1534, 27)\n",
      "GP and study: GPs_random7 False\n",
      "cov shape: (1534, 27)\n",
      "GP and study: GPs_random8 False\n",
      "cov shape: (1534, 27)\n",
      "GP and study: GPs_random9 False\n",
      "cov shape: (1534, 27)\n"
     ]
    },
    {
     "data": {
      "text/html": [
       "<div>\n",
       "<style scoped>\n",
       "    .dataframe tbody tr th:only-of-type {\n",
       "        vertical-align: middle;\n",
       "    }\n",
       "\n",
       "    .dataframe tbody tr th {\n",
       "        vertical-align: top;\n",
       "    }\n",
       "\n",
       "    .dataframe thead th {\n",
       "        text-align: right;\n",
       "    }\n",
       "</style>\n",
       "<table border=\"1\" class=\"dataframe\">\n",
       "  <thead>\n",
       "    <tr style=\"text-align: right;\">\n",
       "      <th></th>\n",
       "      <th>GPs</th>\n",
       "      <th>study</th>\n",
       "      <th>explained_var_ratio</th>\n",
       "    </tr>\n",
       "  </thead>\n",
       "  <tbody>\n",
       "    <tr>\n",
       "      <th>0</th>\n",
       "      <td>GPs</td>\n",
       "      <td>False</td>\n",
       "      <td>0.451337</td>\n",
       "    </tr>\n",
       "    <tr>\n",
       "      <th>1</th>\n",
       "      <td>GPs_GPcomponent1</td>\n",
       "      <td>False</td>\n",
       "      <td>0.030001</td>\n",
       "    </tr>\n",
       "    <tr>\n",
       "      <th>2</th>\n",
       "      <td>GPs_GPcomponent2</td>\n",
       "      <td>False</td>\n",
       "      <td>0.043711</td>\n",
       "    </tr>\n",
       "    <tr>\n",
       "      <th>3</th>\n",
       "      <td>GPs_GPcomponent3</td>\n",
       "      <td>False</td>\n",
       "      <td>0.029668</td>\n",
       "    </tr>\n",
       "    <tr>\n",
       "      <th>4</th>\n",
       "      <td>GPs_GPcomponent4</td>\n",
       "      <td>False</td>\n",
       "      <td>0.065832</td>\n",
       "    </tr>\n",
       "    <tr>\n",
       "      <th>...</th>\n",
       "      <td>...</td>\n",
       "      <td>...</td>\n",
       "      <td>...</td>\n",
       "    </tr>\n",
       "    <tr>\n",
       "      <th>303</th>\n",
       "      <td>GPs_random9_GPcomponent23</td>\n",
       "      <td>False</td>\n",
       "      <td>0.003627</td>\n",
       "    </tr>\n",
       "    <tr>\n",
       "      <th>304</th>\n",
       "      <td>GPs_random9_GPcomponent24</td>\n",
       "      <td>False</td>\n",
       "      <td>0.004338</td>\n",
       "    </tr>\n",
       "    <tr>\n",
       "      <th>305</th>\n",
       "      <td>GPs_random9_GPcomponent25</td>\n",
       "      <td>False</td>\n",
       "      <td>0.002005</td>\n",
       "    </tr>\n",
       "    <tr>\n",
       "      <th>306</th>\n",
       "      <td>GPs_random9_GPcomponent26</td>\n",
       "      <td>False</td>\n",
       "      <td>0.002071</td>\n",
       "    </tr>\n",
       "    <tr>\n",
       "      <th>307</th>\n",
       "      <td>GPs_random9_GPcomponent27</td>\n",
       "      <td>False</td>\n",
       "      <td>0.006149</td>\n",
       "    </tr>\n",
       "  </tbody>\n",
       "</table>\n",
       "<p>308 rows × 3 columns</p>\n",
       "</div>"
      ],
      "text/plain": [
       "                           GPs  study  explained_var_ratio\n",
       "0                          GPs  False             0.451337\n",
       "1             GPs_GPcomponent1  False             0.030001\n",
       "2             GPs_GPcomponent2  False             0.043711\n",
       "3             GPs_GPcomponent3  False             0.029668\n",
       "4             GPs_GPcomponent4  False             0.065832\n",
       "..                         ...    ...                  ...\n",
       "303  GPs_random9_GPcomponent23  False             0.003627\n",
       "304  GPs_random9_GPcomponent24  False             0.004338\n",
       "305  GPs_random9_GPcomponent25  False             0.002005\n",
       "306  GPs_random9_GPcomponent26  False             0.002071\n",
       "307  GPs_random9_GPcomponent27  False             0.006149\n",
       "\n",
       "[308 rows x 3 columns]"
      ]
     },
     "metadata": {},
     "output_type": "display_data"
    },
    {
     "name": "stdout",
     "output_type": "stream",
     "text": [
      "NOD_elimination\n",
      "(3739, 30672)\n",
      "After lowly expr filtering: (3739, 12796)\n",
      "N GP genes: 1624\n",
      "GP and study: GPs False\n",
      "cov shape: (3739, 27)\n",
      "GP and study: GPs_random0 False\n",
      "cov shape: (3739, 27)\n",
      "GP and study: GPs_random1 False\n",
      "cov shape: (3739, 27)\n",
      "GP and study: GPs_random2 False\n",
      "cov shape: (3739, 27)\n",
      "GP and study: GPs_random3 False\n",
      "cov shape: (3739, 27)\n",
      "GP and study: GPs_random4 False\n",
      "cov shape: (3739, 27)\n",
      "GP and study: GPs_random5 False\n",
      "cov shape: (3739, 27)\n",
      "GP and study: GPs_random6 False\n",
      "cov shape: (3739, 27)\n",
      "GP and study: GPs_random7 False\n",
      "cov shape: (3739, 27)\n",
      "GP and study: GPs_random8 False\n",
      "cov shape: (3739, 27)\n",
      "GP and study: GPs_random9 False\n",
      "cov shape: (3739, 27)\n"
     ]
    },
    {
     "data": {
      "text/html": [
       "<div>\n",
       "<style scoped>\n",
       "    .dataframe tbody tr th:only-of-type {\n",
       "        vertical-align: middle;\n",
       "    }\n",
       "\n",
       "    .dataframe tbody tr th {\n",
       "        vertical-align: top;\n",
       "    }\n",
       "\n",
       "    .dataframe thead th {\n",
       "        text-align: right;\n",
       "    }\n",
       "</style>\n",
       "<table border=\"1\" class=\"dataframe\">\n",
       "  <thead>\n",
       "    <tr style=\"text-align: right;\">\n",
       "      <th></th>\n",
       "      <th>GPs</th>\n",
       "      <th>study</th>\n",
       "      <th>explained_var_ratio</th>\n",
       "    </tr>\n",
       "  </thead>\n",
       "  <tbody>\n",
       "    <tr>\n",
       "      <th>0</th>\n",
       "      <td>GPs</td>\n",
       "      <td>False</td>\n",
       "      <td>0.513450</td>\n",
       "    </tr>\n",
       "    <tr>\n",
       "      <th>1</th>\n",
       "      <td>GPs_GPcomponent1</td>\n",
       "      <td>False</td>\n",
       "      <td>0.140492</td>\n",
       "    </tr>\n",
       "    <tr>\n",
       "      <th>2</th>\n",
       "      <td>GPs_GPcomponent2</td>\n",
       "      <td>False</td>\n",
       "      <td>0.048862</td>\n",
       "    </tr>\n",
       "    <tr>\n",
       "      <th>3</th>\n",
       "      <td>GPs_GPcomponent3</td>\n",
       "      <td>False</td>\n",
       "      <td>0.025729</td>\n",
       "    </tr>\n",
       "    <tr>\n",
       "      <th>4</th>\n",
       "      <td>GPs_GPcomponent4</td>\n",
       "      <td>False</td>\n",
       "      <td>0.079492</td>\n",
       "    </tr>\n",
       "    <tr>\n",
       "      <th>...</th>\n",
       "      <td>...</td>\n",
       "      <td>...</td>\n",
       "      <td>...</td>\n",
       "    </tr>\n",
       "    <tr>\n",
       "      <th>303</th>\n",
       "      <td>GPs_random9_GPcomponent23</td>\n",
       "      <td>False</td>\n",
       "      <td>0.002197</td>\n",
       "    </tr>\n",
       "    <tr>\n",
       "      <th>304</th>\n",
       "      <td>GPs_random9_GPcomponent24</td>\n",
       "      <td>False</td>\n",
       "      <td>0.008268</td>\n",
       "    </tr>\n",
       "    <tr>\n",
       "      <th>305</th>\n",
       "      <td>GPs_random9_GPcomponent25</td>\n",
       "      <td>False</td>\n",
       "      <td>0.007951</td>\n",
       "    </tr>\n",
       "    <tr>\n",
       "      <th>306</th>\n",
       "      <td>GPs_random9_GPcomponent26</td>\n",
       "      <td>False</td>\n",
       "      <td>0.000862</td>\n",
       "    </tr>\n",
       "    <tr>\n",
       "      <th>307</th>\n",
       "      <td>GPs_random9_GPcomponent27</td>\n",
       "      <td>False</td>\n",
       "      <td>0.003630</td>\n",
       "    </tr>\n",
       "  </tbody>\n",
       "</table>\n",
       "<p>308 rows × 3 columns</p>\n",
       "</div>"
      ],
      "text/plain": [
       "                           GPs  study  explained_var_ratio\n",
       "0                          GPs  False             0.513450\n",
       "1             GPs_GPcomponent1  False             0.140492\n",
       "2             GPs_GPcomponent2  False             0.048862\n",
       "3             GPs_GPcomponent3  False             0.025729\n",
       "4             GPs_GPcomponent4  False             0.079492\n",
       "..                         ...    ...                  ...\n",
       "303  GPs_random9_GPcomponent23  False             0.002197\n",
       "304  GPs_random9_GPcomponent24  False             0.008268\n",
       "305  GPs_random9_GPcomponent25  False             0.007951\n",
       "306  GPs_random9_GPcomponent26  False             0.000862\n",
       "307  GPs_random9_GPcomponent27  False             0.003630\n",
       "\n",
       "[308 rows x 3 columns]"
      ]
     },
     "metadata": {},
     "output_type": "display_data"
    },
    {
     "name": "stdout",
     "output_type": "stream",
     "text": [
      "spikein_drug\n",
      "(15059, 30672)\n",
      "After lowly expr filtering: (15059, 12149)\n",
      "N GP genes: 1546\n",
      "GP and study: GPs False\n",
      "cov shape: (15059, 27)\n",
      "GP and study: GPs_random0 False\n",
      "cov shape: (15059, 27)\n",
      "GP and study: GPs_random1 False\n",
      "cov shape: (15059, 27)\n",
      "GP and study: GPs_random2 False\n",
      "cov shape: (15059, 27)\n",
      "GP and study: GPs_random3 False\n",
      "cov shape: (15059, 27)\n",
      "GP and study: GPs_random4 False\n",
      "cov shape: (15059, 27)\n",
      "GP and study: GPs_random5 False\n",
      "cov shape: (15059, 27)\n",
      "GP and study: GPs_random6 False\n",
      "cov shape: (15059, 27)\n",
      "GP and study: GPs_random7 False\n",
      "cov shape: (15059, 27)\n",
      "GP and study: GPs_random8 False\n",
      "cov shape: (15059, 27)\n",
      "GP and study: GPs_random9 False\n",
      "cov shape: (15059, 27)\n"
     ]
    },
    {
     "data": {
      "text/html": [
       "<div>\n",
       "<style scoped>\n",
       "    .dataframe tbody tr th:only-of-type {\n",
       "        vertical-align: middle;\n",
       "    }\n",
       "\n",
       "    .dataframe tbody tr th {\n",
       "        vertical-align: top;\n",
       "    }\n",
       "\n",
       "    .dataframe thead th {\n",
       "        text-align: right;\n",
       "    }\n",
       "</style>\n",
       "<table border=\"1\" class=\"dataframe\">\n",
       "  <thead>\n",
       "    <tr style=\"text-align: right;\">\n",
       "      <th></th>\n",
       "      <th>GPs</th>\n",
       "      <th>study</th>\n",
       "      <th>explained_var_ratio</th>\n",
       "    </tr>\n",
       "  </thead>\n",
       "  <tbody>\n",
       "    <tr>\n",
       "      <th>0</th>\n",
       "      <td>GPs</td>\n",
       "      <td>False</td>\n",
       "      <td>0.430486</td>\n",
       "    </tr>\n",
       "    <tr>\n",
       "      <th>1</th>\n",
       "      <td>GPs_GPcomponent1</td>\n",
       "      <td>False</td>\n",
       "      <td>0.099568</td>\n",
       "    </tr>\n",
       "    <tr>\n",
       "      <th>2</th>\n",
       "      <td>GPs_GPcomponent2</td>\n",
       "      <td>False</td>\n",
       "      <td>0.034679</td>\n",
       "    </tr>\n",
       "    <tr>\n",
       "      <th>3</th>\n",
       "      <td>GPs_GPcomponent3</td>\n",
       "      <td>False</td>\n",
       "      <td>0.016062</td>\n",
       "    </tr>\n",
       "    <tr>\n",
       "      <th>4</th>\n",
       "      <td>GPs_GPcomponent4</td>\n",
       "      <td>False</td>\n",
       "      <td>0.063577</td>\n",
       "    </tr>\n",
       "    <tr>\n",
       "      <th>...</th>\n",
       "      <td>...</td>\n",
       "      <td>...</td>\n",
       "      <td>...</td>\n",
       "    </tr>\n",
       "    <tr>\n",
       "      <th>303</th>\n",
       "      <td>GPs_random9_GPcomponent23</td>\n",
       "      <td>False</td>\n",
       "      <td>0.004405</td>\n",
       "    </tr>\n",
       "    <tr>\n",
       "      <th>304</th>\n",
       "      <td>GPs_random9_GPcomponent24</td>\n",
       "      <td>False</td>\n",
       "      <td>0.005066</td>\n",
       "    </tr>\n",
       "    <tr>\n",
       "      <th>305</th>\n",
       "      <td>GPs_random9_GPcomponent25</td>\n",
       "      <td>False</td>\n",
       "      <td>0.001549</td>\n",
       "    </tr>\n",
       "    <tr>\n",
       "      <th>306</th>\n",
       "      <td>GPs_random9_GPcomponent26</td>\n",
       "      <td>False</td>\n",
       "      <td>0.002217</td>\n",
       "    </tr>\n",
       "    <tr>\n",
       "      <th>307</th>\n",
       "      <td>GPs_random9_GPcomponent27</td>\n",
       "      <td>False</td>\n",
       "      <td>0.003119</td>\n",
       "    </tr>\n",
       "  </tbody>\n",
       "</table>\n",
       "<p>308 rows × 3 columns</p>\n",
       "</div>"
      ],
      "text/plain": [
       "                           GPs  study  explained_var_ratio\n",
       "0                          GPs  False             0.430486\n",
       "1             GPs_GPcomponent1  False             0.099568\n",
       "2             GPs_GPcomponent2  False             0.034679\n",
       "3             GPs_GPcomponent3  False             0.016062\n",
       "4             GPs_GPcomponent4  False             0.063577\n",
       "..                         ...    ...                  ...\n",
       "303  GPs_random9_GPcomponent23  False             0.004405\n",
       "304  GPs_random9_GPcomponent24  False             0.005066\n",
       "305  GPs_random9_GPcomponent25  False             0.001549\n",
       "306  GPs_random9_GPcomponent26  False             0.002217\n",
       "307  GPs_random9_GPcomponent27  False             0.003119\n",
       "\n",
       "[308 rows x 3 columns]"
      ]
     },
     "metadata": {},
     "output_type": "display_data"
    },
    {
     "name": "stdout",
     "output_type": "stream",
     "text": [
      "VSG\n",
      "(31983, 30672)\n",
      "After lowly expr filtering: (31983, 13005)\n",
      "N GP genes: 1615\n",
      "GP and study: GPs False\n",
      "cov shape: (31983, 27)\n",
      "GP and study: GPs_random0 False\n",
      "cov shape: (31983, 27)\n",
      "GP and study: GPs_random1 False\n",
      "cov shape: (31983, 27)\n",
      "GP and study: GPs_random2 False\n",
      "cov shape: (31983, 27)\n",
      "GP and study: GPs_random3 False\n",
      "cov shape: (31983, 27)\n",
      "GP and study: GPs_random4 False\n",
      "cov shape: (31983, 27)\n",
      "GP and study: GPs_random5 False\n",
      "cov shape: (31983, 27)\n",
      "GP and study: GPs_random6 False\n",
      "cov shape: (31983, 27)\n",
      "GP and study: GPs_random7 False\n",
      "cov shape: (31983, 27)\n",
      "GP and study: GPs_random8 False\n",
      "cov shape: (31983, 27)\n",
      "GP and study: GPs_random9 False\n",
      "cov shape: (31983, 27)\n"
     ]
    },
    {
     "data": {
      "text/html": [
       "<div>\n",
       "<style scoped>\n",
       "    .dataframe tbody tr th:only-of-type {\n",
       "        vertical-align: middle;\n",
       "    }\n",
       "\n",
       "    .dataframe tbody tr th {\n",
       "        vertical-align: top;\n",
       "    }\n",
       "\n",
       "    .dataframe thead th {\n",
       "        text-align: right;\n",
       "    }\n",
       "</style>\n",
       "<table border=\"1\" class=\"dataframe\">\n",
       "  <thead>\n",
       "    <tr style=\"text-align: right;\">\n",
       "      <th></th>\n",
       "      <th>GPs</th>\n",
       "      <th>study</th>\n",
       "      <th>explained_var_ratio</th>\n",
       "    </tr>\n",
       "  </thead>\n",
       "  <tbody>\n",
       "    <tr>\n",
       "      <th>0</th>\n",
       "      <td>GPs</td>\n",
       "      <td>False</td>\n",
       "      <td>0.552104</td>\n",
       "    </tr>\n",
       "    <tr>\n",
       "      <th>1</th>\n",
       "      <td>GPs_GPcomponent1</td>\n",
       "      <td>False</td>\n",
       "      <td>0.022030</td>\n",
       "    </tr>\n",
       "    <tr>\n",
       "      <th>2</th>\n",
       "      <td>GPs_GPcomponent2</td>\n",
       "      <td>False</td>\n",
       "      <td>0.161155</td>\n",
       "    </tr>\n",
       "    <tr>\n",
       "      <th>3</th>\n",
       "      <td>GPs_GPcomponent3</td>\n",
       "      <td>False</td>\n",
       "      <td>0.323840</td>\n",
       "    </tr>\n",
       "    <tr>\n",
       "      <th>4</th>\n",
       "      <td>GPs_GPcomponent4</td>\n",
       "      <td>False</td>\n",
       "      <td>0.243291</td>\n",
       "    </tr>\n",
       "    <tr>\n",
       "      <th>...</th>\n",
       "      <td>...</td>\n",
       "      <td>...</td>\n",
       "      <td>...</td>\n",
       "    </tr>\n",
       "    <tr>\n",
       "      <th>303</th>\n",
       "      <td>GPs_random9_GPcomponent23</td>\n",
       "      <td>False</td>\n",
       "      <td>0.001767</td>\n",
       "    </tr>\n",
       "    <tr>\n",
       "      <th>304</th>\n",
       "      <td>GPs_random9_GPcomponent24</td>\n",
       "      <td>False</td>\n",
       "      <td>0.000791</td>\n",
       "    </tr>\n",
       "    <tr>\n",
       "      <th>305</th>\n",
       "      <td>GPs_random9_GPcomponent25</td>\n",
       "      <td>False</td>\n",
       "      <td>0.006882</td>\n",
       "    </tr>\n",
       "    <tr>\n",
       "      <th>306</th>\n",
       "      <td>GPs_random9_GPcomponent26</td>\n",
       "      <td>False</td>\n",
       "      <td>0.006206</td>\n",
       "    </tr>\n",
       "    <tr>\n",
       "      <th>307</th>\n",
       "      <td>GPs_random9_GPcomponent27</td>\n",
       "      <td>False</td>\n",
       "      <td>0.049902</td>\n",
       "    </tr>\n",
       "  </tbody>\n",
       "</table>\n",
       "<p>308 rows × 3 columns</p>\n",
       "</div>"
      ],
      "text/plain": [
       "                           GPs  study  explained_var_ratio\n",
       "0                          GPs  False             0.552104\n",
       "1             GPs_GPcomponent1  False             0.022030\n",
       "2             GPs_GPcomponent2  False             0.161155\n",
       "3             GPs_GPcomponent3  False             0.323840\n",
       "4             GPs_GPcomponent4  False             0.243291\n",
       "..                         ...    ...                  ...\n",
       "303  GPs_random9_GPcomponent23  False             0.001767\n",
       "304  GPs_random9_GPcomponent24  False             0.000791\n",
       "305  GPs_random9_GPcomponent25  False             0.006882\n",
       "306  GPs_random9_GPcomponent26  False             0.006206\n",
       "307  GPs_random9_GPcomponent27  False             0.049902\n",
       "\n",
       "[308 rows x 3 columns]"
      ]
     },
     "metadata": {},
     "output_type": "display_data"
    },
    {
     "name": "stdout",
     "output_type": "stream",
     "text": [
      "STZ\n",
      "(14329, 30672)\n",
      "After lowly expr filtering: (14329, 12336)\n",
      "N GP genes: 1583\n",
      "GP and study: GPs False\n",
      "cov shape: (14329, 27)\n",
      "GP and study: GPs_random0 False\n",
      "cov shape: (14329, 27)\n",
      "GP and study: GPs_random1 False\n",
      "cov shape: (14329, 27)\n",
      "GP and study: GPs_random2 False\n",
      "cov shape: (14329, 27)\n",
      "GP and study: GPs_random3 False\n",
      "cov shape: (14329, 27)\n",
      "GP and study: GPs_random4 False\n",
      "cov shape: (14329, 27)\n",
      "GP and study: GPs_random5 False\n",
      "cov shape: (14329, 27)\n",
      "GP and study: GPs_random6 False\n",
      "cov shape: (14329, 27)\n",
      "GP and study: GPs_random7 False\n",
      "cov shape: (14329, 27)\n",
      "GP and study: GPs_random8 False\n",
      "cov shape: (14329, 27)\n",
      "GP and study: GPs_random9 False\n",
      "cov shape: (14329, 27)\n"
     ]
    },
    {
     "data": {
      "text/html": [
       "<div>\n",
       "<style scoped>\n",
       "    .dataframe tbody tr th:only-of-type {\n",
       "        vertical-align: middle;\n",
       "    }\n",
       "\n",
       "    .dataframe tbody tr th {\n",
       "        vertical-align: top;\n",
       "    }\n",
       "\n",
       "    .dataframe thead th {\n",
       "        text-align: right;\n",
       "    }\n",
       "</style>\n",
       "<table border=\"1\" class=\"dataframe\">\n",
       "  <thead>\n",
       "    <tr style=\"text-align: right;\">\n",
       "      <th></th>\n",
       "      <th>GPs</th>\n",
       "      <th>study</th>\n",
       "      <th>explained_var_ratio</th>\n",
       "    </tr>\n",
       "  </thead>\n",
       "  <tbody>\n",
       "    <tr>\n",
       "      <th>0</th>\n",
       "      <td>GPs</td>\n",
       "      <td>False</td>\n",
       "      <td>0.521043</td>\n",
       "    </tr>\n",
       "    <tr>\n",
       "      <th>1</th>\n",
       "      <td>GPs_GPcomponent1</td>\n",
       "      <td>False</td>\n",
       "      <td>0.017231</td>\n",
       "    </tr>\n",
       "    <tr>\n",
       "      <th>2</th>\n",
       "      <td>GPs_GPcomponent2</td>\n",
       "      <td>False</td>\n",
       "      <td>0.077427</td>\n",
       "    </tr>\n",
       "    <tr>\n",
       "      <th>3</th>\n",
       "      <td>GPs_GPcomponent3</td>\n",
       "      <td>False</td>\n",
       "      <td>0.251007</td>\n",
       "    </tr>\n",
       "    <tr>\n",
       "      <th>4</th>\n",
       "      <td>GPs_GPcomponent4</td>\n",
       "      <td>False</td>\n",
       "      <td>0.145336</td>\n",
       "    </tr>\n",
       "    <tr>\n",
       "      <th>...</th>\n",
       "      <td>...</td>\n",
       "      <td>...</td>\n",
       "      <td>...</td>\n",
       "    </tr>\n",
       "    <tr>\n",
       "      <th>303</th>\n",
       "      <td>GPs_random9_GPcomponent23</td>\n",
       "      <td>False</td>\n",
       "      <td>0.003769</td>\n",
       "    </tr>\n",
       "    <tr>\n",
       "      <th>304</th>\n",
       "      <td>GPs_random9_GPcomponent24</td>\n",
       "      <td>False</td>\n",
       "      <td>0.032879</td>\n",
       "    </tr>\n",
       "    <tr>\n",
       "      <th>305</th>\n",
       "      <td>GPs_random9_GPcomponent25</td>\n",
       "      <td>False</td>\n",
       "      <td>0.006366</td>\n",
       "    </tr>\n",
       "    <tr>\n",
       "      <th>306</th>\n",
       "      <td>GPs_random9_GPcomponent26</td>\n",
       "      <td>False</td>\n",
       "      <td>0.002255</td>\n",
       "    </tr>\n",
       "    <tr>\n",
       "      <th>307</th>\n",
       "      <td>GPs_random9_GPcomponent27</td>\n",
       "      <td>False</td>\n",
       "      <td>0.005198</td>\n",
       "    </tr>\n",
       "  </tbody>\n",
       "</table>\n",
       "<p>308 rows × 3 columns</p>\n",
       "</div>"
      ],
      "text/plain": [
       "                           GPs  study  explained_var_ratio\n",
       "0                          GPs  False             0.521043\n",
       "1             GPs_GPcomponent1  False             0.017231\n",
       "2             GPs_GPcomponent2  False             0.077427\n",
       "3             GPs_GPcomponent3  False             0.251007\n",
       "4             GPs_GPcomponent4  False             0.145336\n",
       "..                         ...    ...                  ...\n",
       "303  GPs_random9_GPcomponent23  False             0.003769\n",
       "304  GPs_random9_GPcomponent24  False             0.032879\n",
       "305  GPs_random9_GPcomponent25  False             0.006366\n",
       "306  GPs_random9_GPcomponent26  False             0.002255\n",
       "307  GPs_random9_GPcomponent27  False             0.005198\n",
       "\n",
       "[308 rows x 3 columns]"
      ]
     },
     "metadata": {},
     "output_type": "display_data"
    }
   ],
   "source": [
    "for study in studies:\n",
    "    print(study)\n",
    "    adata=adata_full[adata_full.obs.study==study,:].copy()\n",
    "    print(adata.shape)\n",
    "    \n",
    "    # PP\n",
    "    \n",
    "    # Remove lowly expressed genes\n",
    "    sc.pp.filter_genes(adata,min_cells=adata.shape[0]*0.01)\n",
    "    print('After lowly expr filtering:',adata.shape)\n",
    "    # Compute HVG and PCA\n",
    "    sc.pp.highly_variable_genes(adata, flavor='cell_ranger', n_top_genes =2000)\n",
    "    sc.tl.pca(adata, n_comps=NPC, use_highly_variable=True)\n",
    "    \n",
    "    # GP selection\n",
    "    \n",
    "    # Subset GPs to only genes in data\n",
    "    genes_hc_sub=genes_hc.loc[[g for g in adata.var_names if g in genes_hc.index],:]\n",
    "    print('N GP genes:',genes_hc_sub.shape[0])\n",
    "    # Make sizes of GPs for random creation\n",
    "    # Splits for np split\n",
    "    splits=[]\n",
    "    n_curr=0\n",
    "    # MAke sure this is ordered as gps\n",
    "    for n in genes_hc_sub['hc'].value_counts(sort=False).values:\n",
    "        splits.append(n_curr+n)\n",
    "        n_curr+=n\n",
    "    # Do not use last one as automatically createcd\n",
    "    splits=splits[:-1]   \n",
    "    \n",
    "    # Gene groups - GP and random\n",
    "    gene_groups_collection={}\n",
    "    # Add true GPs\n",
    "    gene_groups_collection['GPs']={hc:list(g) \n",
    "                                   for hc,g in genes_hc_sub.groupby('hc').groups.items()}\n",
    "    # Add random gene groups of GP sizes\n",
    "    np.random.seed(0)\n",
    "    for i in range(10):\n",
    "        # Random idx groups of GP sizes\n",
    "        random_indices=np.split(np.random.permutation(list(range(adata.shape[1]))\n",
    "                                                 )[:genes_hc_sub.shape[0]],splits)\n",
    "        # Map idx to genes\n",
    "        gene_groups_collection['GPs_random'+str(i)]={\n",
    "            genes_hc_sub.hc.cat.categories[gp_idx]:adata.var_names[idxs] \n",
    "            for gp_idx,idxs in enumerate(random_indices)}\n",
    "        \n",
    "        \n",
    "    # Explained var\n",
    "    explained_var=explaied_var_helper(\n",
    "        gp_study=[(gp,False) for gp in gene_groups_collection.keys()],\n",
    "        adata=adata,gene_groups_collection=gene_groups_collection,study_cov=None)\n",
    "    display(explained_var)\n",
    "    explained_var.to_csv(path_save+dataset+'-study_'+study+'.tsv',sep='\\t',index=False)"
   ]
  },
  {
   "cell_type": "code",
   "execution_count": null,
   "id": "3711b5e9",
   "metadata": {},
   "outputs": [],
   "source": [
    "del adata_full\n",
    "del adata"
   ]
  },
  {
   "cell_type": "markdown",
   "id": "04045cf3",
   "metadata": {},
   "source": [
    "#### Analyse"
   ]
  },
  {
   "cell_type": "code",
   "execution_count": 51,
   "id": "99702c50",
   "metadata": {},
   "outputs": [],
   "source": [
    "# Load and parse all results into shared table\n",
    "explained_var_all=[]\n",
    "for study in studies:\n",
    "    explained_var=pd.read_table(path_save+dataset+'-study_'+study+'.tsv')\n",
    "    explained_var['component']=explained_var['GPs'].fillna('NA').apply(\n",
    "        lambda x: np.nan if x =='NA' else \n",
    "        ('GPs' if 'component' not in x else x.split('component')[1]))\n",
    "    explained_var['random']=explained_var['GPs'].str.contains('random')\n",
    "    explained_var['dataset']=study\n",
    "    explained_var_all.append(explained_var)\n",
    "explained_var_all=pd.concat(explained_var_all)    "
   ]
  },
  {
   "cell_type": "markdown",
   "id": "6ce0113d",
   "metadata": {},
   "source": [
    "Explained var in each study by all GPs"
   ]
  },
  {
   "cell_type": "code",
   "execution_count": 52,
   "id": "82be3c9f",
   "metadata": {},
   "outputs": [
    {
     "name": "stderr",
     "output_type": "stream",
     "text": [
      "/home/icb/karin.hrovatin/miniconda3/envs/rpy2_3/lib/python3.8/site-packages/seaborn/categorical.py:1296: UserWarning: 36.4% of the points cannot be placed; you may want to decrease the size of the markers or use stripplot.\n",
      "  warnings.warn(msg, UserWarning)\n",
      "/home/icb/karin.hrovatin/miniconda3/envs/rpy2_3/lib/python3.8/site-packages/seaborn/categorical.py:1296: UserWarning: 18.2% of the points cannot be placed; you may want to decrease the size of the markers or use stripplot.\n",
      "  warnings.warn(msg, UserWarning)\n"
     ]
    },
    {
     "data": {
      "text/plain": [
       "<matplotlib.legend.Legend at 0x7f930ed32340>"
      ]
     },
     "execution_count": 52,
     "metadata": {},
     "output_type": "execute_result"
    },
    {
     "data": {
      "image/png": "[encoded data removed]",
      "text/plain": [
       "<Figure size 360x180 with 1 Axes>"
      ]
     },
     "metadata": {
      "needs_background": "light"
     },
     "output_type": "display_data"
    }
   ],
   "source": [
    "# Plot explained var vs random explained var for each dataset\n",
    "rcParams['figure.figsize']=(5,2.5)\n",
    "sb.swarmplot(x='dataset',y='explained_var_ratio',hue='random',s=5,\n",
    "            data=explained_var_all.query('~GPs.str.contains(\"component\")',engine='python'))\n",
    "\n",
    "a=plt.xticks(rotation=90)\n",
    "plt.legend(bbox_to_anchor=(1.01,1.03))"
   ]
  },
  {
   "cell_type": "markdown",
   "id": "1e0c3b2d",
   "metadata": {},
   "source": [
    "Explained var in each study by individual GPs. How much var is explained and how many stds is this from mean on random gene groups."
   ]
  },
  {
   "cell_type": "code",
   "execution_count": 54,
   "id": "221431a6",
   "metadata": {},
   "outputs": [],
   "source": [
    "# Get explained var for each component in each dataset and compare to random var\n",
    "explained_component=[]\n",
    "for (dataset, component),data in explained_var_all.query(\n",
    "    'study==False & component!=\"GPs\"').groupby(['dataset','component']):\n",
    "    explained=data[~data.random.astype(bool)]['explained_var_ratio'].values[0]\n",
    "    explained_random=data[data.random.astype(bool)]['explained_var_ratio']\n",
    "    explained_n_std=(explained-explained_random.mean())/explained_random.std()\n",
    "    explained_component.append(\n",
    "        {'dataset':dataset,'component':component,\n",
    "        'explained_var':explained,'explained_var_n_std':explained_n_std})\n",
    "explained_component=pd.DataFrame(explained_component)  \n",
    "# Sort components for plotting\n",
    "explained_component['component']=pd.Categorical(\n",
    "    explained_component['component'],\n",
    "    [str(c) for c in sorted(explained_component['component'].astype(int).unique())],\n",
    "    True)\n",
    "explained_component['dataset']=pd.Categorical(\n",
    "    explained_component['dataset'],sorted(explained_component['dataset'].unique()),True)"
   ]
  },
  {
   "cell_type": "code",
   "execution_count": 55,
   "id": "459e8bb1",
   "metadata": {},
   "outputs": [
    {
     "data": {
      "image/png": "[encoded data removed]",
      "text/plain": [
       "<Figure size 184.32x622.08 with 1 Axes>"
      ]
     },
     "metadata": {
      "needs_background": "light"
     },
     "output_type": "display_data"
    }
   ],
   "source": [
    "# Explained var by component\n",
    "rcParams['figure.figsize']=(explained_component.dataset.nunique()*0.32,\n",
    "                            explained_component.component.nunique()*0.32)\n",
    "sb.scatterplot(x='dataset',y='component',hue='explained_var',size='explained_var_n_std',\n",
    "               data=explained_component,palette='magma')\n",
    "plt.legend(bbox_to_anchor=(1.05, 1))\n",
    "a=plt.xticks(rotation=90)"
   ]
  },
  {
   "cell_type": "markdown",
   "id": "c8692d1f",
   "metadata": {},
   "source": [
    "Contribution of GP components for each dataset, scaled (maxabs) across GPs"
   ]
  },
  {
   "cell_type": "code",
   "execution_count": 56,
   "id": "5b4cb29a",
   "metadata": {},
   "outputs": [
    {
     "data": {
      "text/plain": [
       "<AxesSubplot:xlabel='dataset', ylabel='component'>"
      ]
     },
     "execution_count": 56,
     "metadata": {},
     "output_type": "execute_result"
    },
    {
     "data": {
      "image/png": "[encoded data removed]",
      "text/plain": [
       "<Figure size 230.4x622.08 with 2 Axes>"
      ]
     },
     "metadata": {
      "needs_background": "light"
     },
     "output_type": "display_data"
    }
   ],
   "source": [
    "# Scaling contibution across components\n",
    "figsize=(explained_component.dataset.nunique()*0.4,\n",
    "         explained_component.component.nunique()*0.32)\n",
    "rcParams['figure.figsize']=figsize\n",
    "scaled=pd.crosstab(columns=explained_component['dataset'],index=explained_component['component'],\n",
    "            values=explained_component['explained_var'],aggfunc='mean')\n",
    "scaled=pd.DataFrame(maxabs_scale(scaled),index=scaled.index,columns=scaled.columns)\n",
    "sb.heatmap(scaled,xticklabels=True,yticklabels=True)"
   ]
  },
  {
   "cell_type": "markdown",
   "id": "129e54bf",
   "metadata": {},
   "source": [
    "C: Expected GPs are most explanatory in studies of atlas. E.g. GPs connected to diabetes for datasets containing healthy and diabetic samples; GPs separating aged sexes in 2y datasets, ..."
   ]
  },
  {
   "cell_type": "markdown",
   "id": "15d7c6a7",
   "metadata": {},
   "source": [
    "### Atlas - using as single study"
   ]
  },
  {
   "cell_type": "code",
   "execution_count": 43,
   "id": "1d043eda",
   "metadata": {},
   "outputs": [],
   "source": [
    "dataset='mouseAtlas'\n",
    "info={}\n",
    "info['dataset']=dataset\n",
    "info['organism']='mouse'\n",
    "info['technology']='10X'"
   ]
  },
  {
   "cell_type": "code",
   "execution_count": 44,
   "id": "7a6e7630",
   "metadata": {},
   "outputs": [
    {
     "data": {
      "text/plain": [
       "(102143, 30672)"
      ]
     },
     "execution_count": 44,
     "metadata": {},
     "output_type": "execute_result"
    }
   ],
   "source": [
    "adata=sc.read(path_data+'data_rawnorm_integrated_analysed_beta_v1s1_sfintegrated.h5ad')\n",
    "info['n_cells']=adata.shape[0]\n",
    "adata.shape"
   ]
  },
  {
   "cell_type": "code",
   "execution_count": 45,
   "id": "4ebdffdd",
   "metadata": {},
   "outputs": [
    {
     "name": "stdout",
     "output_type": "stream",
     "text": [
      "(102143, 12890)\n"
     ]
    }
   ],
   "source": [
    "# Remove lowly expressed genes\n",
    "sc.pp.filter_genes(adata,min_cells=adata.shape[0]*0.01)\n",
    "print(adata.shape)"
   ]
  },
  {
   "cell_type": "code",
   "execution_count": 46,
   "id": "076c636d",
   "metadata": {},
   "outputs": [],
   "source": [
    "# Compute HVG and PCA\n",
    "sc.pp.highly_variable_genes(adata, flavor='cell_ranger', n_top_genes =2000)\n",
    "sc.tl.pca(adata, n_comps=NPC, use_highly_variable=True)"
   ]
  },
  {
   "cell_type": "code",
   "execution_count": 47,
   "id": "7b3ff380",
   "metadata": {},
   "outputs": [
    {
     "name": "stdout",
     "output_type": "stream",
     "text": [
      "1659\n"
     ]
    }
   ],
   "source": [
    "# Subset GPs to only genes in data\n",
    "genes_hc_sub=genes_hc.loc[[g for g in adata.var_names if g in genes_hc.index],:]\n",
    "print(genes_hc_sub.shape[0])\n",
    "info['n_gp_genes']=genes_hc_sub.shape[0]\n",
    "# Make sizes of GPs for random creation\n",
    "# Splits for np split\n",
    "splits=[]\n",
    "n_curr=0\n",
    "# MAke sure this is ordered as gps\n",
    "for n in genes_hc_sub['hc'].value_counts(sort=False).values:\n",
    "    splits.append(n_curr+n)\n",
    "    n_curr+=n\n",
    "# Do not use last one as automatically createcd\n",
    "splits=splits[:-1]    "
   ]
  },
  {
   "cell_type": "code",
   "execution_count": 48,
   "id": "aa0b3782",
   "metadata": {},
   "outputs": [],
   "source": [
    "# Gene groups - GP and random\n",
    "gene_groups_collection={}\n",
    "# Add true GPs\n",
    "gene_groups_collection['GPs']={hc:list(g) \n",
    "                               for hc,g in genes_hc_sub.groupby('hc').groups.items()}\n",
    "# Add random gene groups of GP sizes\n",
    "np.random.seed(0)\n",
    "for i in range(10):\n",
    "    # Random idx groups of GP sizes\n",
    "    random_indices=np.split(np.random.permutation(list(range(adata.shape[1]))\n",
    "                                             )[:genes_hc_sub.shape[0]],splits)\n",
    "    # Map idx to genes\n",
    "    gene_groups_collection['GPs_random'+str(i)]={\n",
    "        genes_hc_sub.hc.cat.categories[gp_idx]:adata.var_names[idxs] \n",
    "        for gp_idx,idxs in enumerate(random_indices)}"
   ]
  },
  {
   "cell_type": "code",
   "execution_count": 49,
   "id": "a2879a66",
   "metadata": {},
   "outputs": [],
   "source": [
    "# Study dimmies\n",
    "study_cov = pd.get_dummies(adata.obs['study'])"
   ]
  },
  {
   "cell_type": "code",
   "execution_count": 54,
   "id": "80caf51f",
   "metadata": {},
   "outputs": [
    {
     "name": "stdout",
     "output_type": "stream",
     "text": [
      "GP and study: GPs False\n",
      "cov shape: (102143, 27)\n",
      "GP and study: GPs_random0 False\n",
      "cov shape: (102143, 27)\n",
      "GP and study: GPs_random1 False\n",
      "cov shape: (102143, 27)\n",
      "GP and study: GPs_random2 False\n",
      "cov shape: (102143, 27)\n",
      "GP and study: GPs_random3 False\n",
      "cov shape: (102143, 27)\n",
      "GP and study: GPs_random4 False\n",
      "cov shape: (102143, 27)\n",
      "GP and study: GPs_random5 False\n",
      "cov shape: (102143, 27)\n",
      "GP and study: GPs_random6 False\n",
      "cov shape: (102143, 27)\n",
      "GP and study: GPs_random7 False\n",
      "cov shape: (102143, 27)\n",
      "GP and study: GPs_random8 False\n",
      "cov shape: (102143, 27)\n",
      "GP and study: GPs_random9 False\n",
      "cov shape: (102143, 27)\n",
      "GP and study: None True\n",
      "cov shape: (102143, 9)\n",
      "GP and study: GPs True\n",
      "cov shape: (102143, 36)\n"
     ]
    },
    {
     "data": {
      "text/html": [
       "<div>\n",
       "<style scoped>\n",
       "    .dataframe tbody tr th:only-of-type {\n",
       "        vertical-align: middle;\n",
       "    }\n",
       "\n",
       "    .dataframe tbody tr th {\n",
       "        vertical-align: top;\n",
       "    }\n",
       "\n",
       "    .dataframe thead th {\n",
       "        text-align: right;\n",
       "    }\n",
       "</style>\n",
       "<table border=\"1\" class=\"dataframe\">\n",
       "  <thead>\n",
       "    <tr style=\"text-align: right;\">\n",
       "      <th></th>\n",
       "      <th>GPs</th>\n",
       "      <th>study</th>\n",
       "      <th>explained_var_ratio</th>\n",
       "    </tr>\n",
       "  </thead>\n",
       "  <tbody>\n",
       "    <tr>\n",
       "      <th>0</th>\n",
       "      <td>GPs</td>\n",
       "      <td>False</td>\n",
       "      <td>0.680508</td>\n",
       "    </tr>\n",
       "    <tr>\n",
       "      <th>1</th>\n",
       "      <td>GPs_GPcomponent1</td>\n",
       "      <td>False</td>\n",
       "      <td>0.106980</td>\n",
       "    </tr>\n",
       "    <tr>\n",
       "      <th>2</th>\n",
       "      <td>GPs_GPcomponent2</td>\n",
       "      <td>False</td>\n",
       "      <td>0.165289</td>\n",
       "    </tr>\n",
       "    <tr>\n",
       "      <th>3</th>\n",
       "      <td>GPs_GPcomponent3</td>\n",
       "      <td>False</td>\n",
       "      <td>0.196279</td>\n",
       "    </tr>\n",
       "    <tr>\n",
       "      <th>4</th>\n",
       "      <td>GPs_GPcomponent4</td>\n",
       "      <td>False</td>\n",
       "      <td>0.149756</td>\n",
       "    </tr>\n",
       "    <tr>\n",
       "      <th>...</th>\n",
       "      <td>...</td>\n",
       "      <td>...</td>\n",
       "      <td>...</td>\n",
       "    </tr>\n",
       "    <tr>\n",
       "      <th>305</th>\n",
       "      <td>GPs_random9_GPcomponent25</td>\n",
       "      <td>False</td>\n",
       "      <td>0.009393</td>\n",
       "    </tr>\n",
       "    <tr>\n",
       "      <th>306</th>\n",
       "      <td>GPs_random9_GPcomponent26</td>\n",
       "      <td>False</td>\n",
       "      <td>0.012658</td>\n",
       "    </tr>\n",
       "    <tr>\n",
       "      <th>307</th>\n",
       "      <td>GPs_random9_GPcomponent27</td>\n",
       "      <td>False</td>\n",
       "      <td>0.005016</td>\n",
       "    </tr>\n",
       "    <tr>\n",
       "      <th>308</th>\n",
       "      <td>None</td>\n",
       "      <td>True</td>\n",
       "      <td>0.459854</td>\n",
       "    </tr>\n",
       "    <tr>\n",
       "      <th>309</th>\n",
       "      <td>GPs</td>\n",
       "      <td>True</td>\n",
       "      <td>0.714646</td>\n",
       "    </tr>\n",
       "  </tbody>\n",
       "</table>\n",
       "<p>310 rows × 3 columns</p>\n",
       "</div>"
      ],
      "text/plain": [
       "                           GPs  study  explained_var_ratio\n",
       "0                          GPs  False             0.680508\n",
       "1             GPs_GPcomponent1  False             0.106980\n",
       "2             GPs_GPcomponent2  False             0.165289\n",
       "3             GPs_GPcomponent3  False             0.196279\n",
       "4             GPs_GPcomponent4  False             0.149756\n",
       "..                         ...    ...                  ...\n",
       "305  GPs_random9_GPcomponent25  False             0.009393\n",
       "306  GPs_random9_GPcomponent26  False             0.012658\n",
       "307  GPs_random9_GPcomponent27  False             0.005016\n",
       "308                       None   True             0.459854\n",
       "309                        GPs   True             0.714646\n",
       "\n",
       "[310 rows x 3 columns]"
      ]
     },
     "metadata": {},
     "output_type": "display_data"
    }
   ],
   "source": [
    "# Explained var\n",
    "explained_var=explaied_var_helper(\n",
    "    gp_study=[(gp,False) for gp in gene_groups_collection.keys()]+[(None,True),('GPs',True)],\n",
    "    adata=adata,gene_groups_collection=gene_groups_collection,study_cov=study_cov)\n",
    "display(explained_var)"
   ]
  },
  {
   "cell_type": "code",
   "execution_count": 55,
   "id": "8b0b728b",
   "metadata": {},
   "outputs": [],
   "source": [
    "explained_var.to_csv(path_save+dataset+'.tsv',sep='\\t',index=False)"
   ]
  },
  {
   "cell_type": "code",
   "execution_count": 56,
   "id": "64891949",
   "metadata": {},
   "outputs": [
    {
     "data": {
      "text/plain": [
       "{'dataset': 'mouseAtlas',\n",
       " 'organism': 'mouse',\n",
       " 'technology': '10X',\n",
       " 'n_cells': 102143,\n",
       " 'n_gp_genes': 1659}"
      ]
     },
     "execution_count": 56,
     "metadata": {},
     "output_type": "execute_result"
    }
   ],
   "source": [
    "info"
   ]
  },
  {
   "cell_type": "code",
   "execution_count": 57,
   "id": "c9d7472a",
   "metadata": {},
   "outputs": [],
   "source": [
    "dataset_info.append(info)"
   ]
  },
  {
   "cell_type": "markdown",
   "id": "7de614c8",
   "metadata": {},
   "source": [
    "### GSE137909"
   ]
  },
  {
   "cell_type": "code",
   "execution_count": 69,
   "id": "df019337",
   "metadata": {},
   "outputs": [],
   "source": [
    "dataset='GSE137909'\n",
    "info={}\n",
    "info['dataset']=dataset\n",
    "info['organism']='mouse'\n",
    "info['technology']='STRT-seq'"
   ]
  },
  {
   "cell_type": "code",
   "execution_count": 70,
   "id": "1325dc54",
   "metadata": {},
   "outputs": [
    {
     "data": {
      "text/plain": [
       "(1005, 40824)"
      ]
     },
     "execution_count": 70,
     "metadata": {},
     "output_type": "execute_result"
    }
   ],
   "source": [
    "ddir=dataset+'/GEO/'\n",
    "adata=sc.read(path_rna+ddir+'adata.h5ad')\n",
    "adata=adata[(adata.obs.cell_type=='beta').values ]\n",
    "info['n_cells']=adata.shape[0]\n",
    "adata.shape"
   ]
  },
  {
   "cell_type": "code",
   "execution_count": 71,
   "id": "8d3bdf2c",
   "metadata": {},
   "outputs": [
    {
     "name": "stderr",
     "output_type": "stream",
     "text": [
      "Trying to set attribute `.var` of view, copying.\n"
     ]
    },
    {
     "name": "stdout",
     "output_type": "stream",
     "text": [
      "(1005, 14863)\n"
     ]
    }
   ],
   "source": [
    "# Remove lowly expressed genes\n",
    "sc.pp.filter_genes(adata,min_cells=adata.shape[0]*0.01)\n",
    "print(adata.shape)"
   ]
  },
  {
   "cell_type": "code",
   "execution_count": 72,
   "id": "00e9c543",
   "metadata": {},
   "outputs": [],
   "source": [
    "# Compute HVG and PCA\n",
    "sc.pp.highly_variable_genes(adata, flavor='cell_ranger', n_top_genes =2000)\n",
    "sc.tl.pca(adata, n_comps=NPC, use_highly_variable=True)"
   ]
  },
  {
   "cell_type": "code",
   "execution_count": 73,
   "id": "32833919",
   "metadata": {},
   "outputs": [
    {
     "data": {
      "text/plain": [
       "Index(['ENSMUSG00000000001', 'ENSMUSG00000000028', 'ENSMUSG00000000037'], dtype='object', name='ID')"
      ]
     },
     "execution_count": 73,
     "metadata": {},
     "output_type": "execute_result"
    }
   ],
   "source": [
    "adata.var_names[:3]"
   ]
  },
  {
   "cell_type": "code",
   "execution_count": 74,
   "id": "84598c52",
   "metadata": {},
   "outputs": [
    {
     "name": "stdout",
     "output_type": "stream",
     "text": [
      "1570\n"
     ]
    }
   ],
   "source": [
    "# Subset GPs to only genes in data\n",
    "genes_hc_sub=genes_hc.loc[[g for g in adata.var_names if g in genes_hc.index],:]\n",
    "print(genes_hc_sub.shape[0])\n",
    "info['n_gp_genes']=genes_hc_sub.shape[0]\n",
    "# Make sizes of GPs for random creation\n",
    "# Splits for np split\n",
    "splits=[]\n",
    "n_curr=0\n",
    "# Make sure this is ordered as gps\n",
    "for n in genes_hc_sub['hc'].value_counts(sort=False).values:\n",
    "    splits.append(n_curr+n)\n",
    "    n_curr+=n\n",
    "# Do not use last one as automatically createcd\n",
    "splits=splits[:-1]    "
   ]
  },
  {
   "cell_type": "code",
   "execution_count": 75,
   "id": "dc346306",
   "metadata": {},
   "outputs": [],
   "source": [
    "# Gene groups - GP and random\n",
    "gene_groups_collection={}\n",
    "# Add true GPs\n",
    "gene_groups_collection['GPs']={hc:list(g) \n",
    "                               for hc,g in genes_hc_sub.groupby('hc').groups.items()}\n",
    "# Add random gene groups of GP sizes\n",
    "np.random.seed(0)\n",
    "for i in range(10):\n",
    "    # Random idx groups of GP sizes\n",
    "    random_indices=np.split(np.random.permutation(list(range(adata.shape[1]))\n",
    "                                             )[:genes_hc_sub.shape[0]],splits)\n",
    "    # Map idx to genes\n",
    "    gene_groups_collection['GPs_random'+str(i)]={\n",
    "        genes_hc_sub.hc.cat.categories[gp_idx]:adata.var_names[idxs] \n",
    "        for gp_idx,idxs in enumerate(random_indices)}"
   ]
  },
  {
   "cell_type": "code",
   "execution_count": 76,
   "id": "52e5927c",
   "metadata": {},
   "outputs": [
    {
     "name": "stdout",
     "output_type": "stream",
     "text": [
      "GP and study: GPs False\n",
      "cov shape: (1005, 27)\n",
      "GP and study: GPs_random0 False\n",
      "cov shape: (1005, 27)\n",
      "GP and study: GPs_random1 False\n",
      "cov shape: (1005, 27)\n",
      "GP and study: GPs_random2 False\n",
      "cov shape: (1005, 27)\n",
      "GP and study: GPs_random3 False\n",
      "cov shape: (1005, 27)\n",
      "GP and study: GPs_random4 False\n",
      "cov shape: (1005, 27)\n",
      "GP and study: GPs_random5 False\n",
      "cov shape: (1005, 27)\n",
      "GP and study: GPs_random6 False\n",
      "cov shape: (1005, 27)\n",
      "GP and study: GPs_random7 False\n",
      "cov shape: (1005, 27)\n",
      "GP and study: GPs_random8 False\n",
      "cov shape: (1005, 27)\n",
      "GP and study: GPs_random9 False\n",
      "cov shape: (1005, 27)\n"
     ]
    },
    {
     "data": {
      "text/html": [
       "<div>\n",
       "<style scoped>\n",
       "    .dataframe tbody tr th:only-of-type {\n",
       "        vertical-align: middle;\n",
       "    }\n",
       "\n",
       "    .dataframe tbody tr th {\n",
       "        vertical-align: top;\n",
       "    }\n",
       "\n",
       "    .dataframe thead th {\n",
       "        text-align: right;\n",
       "    }\n",
       "</style>\n",
       "<table border=\"1\" class=\"dataframe\">\n",
       "  <thead>\n",
       "    <tr style=\"text-align: right;\">\n",
       "      <th></th>\n",
       "      <th>GPs</th>\n",
       "      <th>study</th>\n",
       "      <th>explained_var_ratio</th>\n",
       "    </tr>\n",
       "  </thead>\n",
       "  <tbody>\n",
       "    <tr>\n",
       "      <th>0</th>\n",
       "      <td>GPs</td>\n",
       "      <td>False</td>\n",
       "      <td>0.477245</td>\n",
       "    </tr>\n",
       "    <tr>\n",
       "      <th>1</th>\n",
       "      <td>GPs_GPcomponent1</td>\n",
       "      <td>False</td>\n",
       "      <td>0.045073</td>\n",
       "    </tr>\n",
       "    <tr>\n",
       "      <th>2</th>\n",
       "      <td>GPs_GPcomponent2</td>\n",
       "      <td>False</td>\n",
       "      <td>0.042624</td>\n",
       "    </tr>\n",
       "    <tr>\n",
       "      <th>3</th>\n",
       "      <td>GPs_GPcomponent3</td>\n",
       "      <td>False</td>\n",
       "      <td>0.129843</td>\n",
       "    </tr>\n",
       "    <tr>\n",
       "      <th>4</th>\n",
       "      <td>GPs_GPcomponent4</td>\n",
       "      <td>False</td>\n",
       "      <td>0.057197</td>\n",
       "    </tr>\n",
       "    <tr>\n",
       "      <th>...</th>\n",
       "      <td>...</td>\n",
       "      <td>...</td>\n",
       "      <td>...</td>\n",
       "    </tr>\n",
       "    <tr>\n",
       "      <th>303</th>\n",
       "      <td>GPs_random9_GPcomponent23</td>\n",
       "      <td>False</td>\n",
       "      <td>0.011471</td>\n",
       "    </tr>\n",
       "    <tr>\n",
       "      <th>304</th>\n",
       "      <td>GPs_random9_GPcomponent24</td>\n",
       "      <td>False</td>\n",
       "      <td>0.013194</td>\n",
       "    </tr>\n",
       "    <tr>\n",
       "      <th>305</th>\n",
       "      <td>GPs_random9_GPcomponent25</td>\n",
       "      <td>False</td>\n",
       "      <td>0.018215</td>\n",
       "    </tr>\n",
       "    <tr>\n",
       "      <th>306</th>\n",
       "      <td>GPs_random9_GPcomponent26</td>\n",
       "      <td>False</td>\n",
       "      <td>0.012895</td>\n",
       "    </tr>\n",
       "    <tr>\n",
       "      <th>307</th>\n",
       "      <td>GPs_random9_GPcomponent27</td>\n",
       "      <td>False</td>\n",
       "      <td>0.003495</td>\n",
       "    </tr>\n",
       "  </tbody>\n",
       "</table>\n",
       "<p>308 rows × 3 columns</p>\n",
       "</div>"
      ],
      "text/plain": [
       "                           GPs  study  explained_var_ratio\n",
       "0                          GPs  False             0.477245\n",
       "1             GPs_GPcomponent1  False             0.045073\n",
       "2             GPs_GPcomponent2  False             0.042624\n",
       "3             GPs_GPcomponent3  False             0.129843\n",
       "4             GPs_GPcomponent4  False             0.057197\n",
       "..                         ...    ...                  ...\n",
       "303  GPs_random9_GPcomponent23  False             0.011471\n",
       "304  GPs_random9_GPcomponent24  False             0.013194\n",
       "305  GPs_random9_GPcomponent25  False             0.018215\n",
       "306  GPs_random9_GPcomponent26  False             0.012895\n",
       "307  GPs_random9_GPcomponent27  False             0.003495\n",
       "\n",
       "[308 rows x 3 columns]"
      ]
     },
     "metadata": {},
     "output_type": "display_data"
    }
   ],
   "source": [
    "# Explained var\n",
    "explained_var=explaied_var_helper(\n",
    "    gp_study=[(gp,False) for gp in gene_groups_collection.keys()],\n",
    "    adata=adata,gene_groups_collection=gene_groups_collection,study_cov=None)\n",
    "display(explained_var)"
   ]
  },
  {
   "cell_type": "code",
   "execution_count": 77,
   "id": "2e5100e0",
   "metadata": {},
   "outputs": [],
   "source": [
    "explained_var.to_csv(path_save+dataset+'.tsv',sep='\\t',index=False)"
   ]
  },
  {
   "cell_type": "code",
   "execution_count": 78,
   "id": "a04e3c5b",
   "metadata": {},
   "outputs": [
    {
     "data": {
      "text/plain": [
       "{'dataset': 'GSE137909',\n",
       " 'organism': 'mouse',\n",
       " 'technology': 'STRT-seq',\n",
       " 'n_cells': 1005,\n",
       " 'n_gp_genes': 1570}"
      ]
     },
     "execution_count": 78,
     "metadata": {},
     "output_type": "execute_result"
    }
   ],
   "source": [
    "info"
   ]
  },
  {
   "cell_type": "code",
   "execution_count": 79,
   "id": "7048c69f",
   "metadata": {},
   "outputs": [],
   "source": [
    "dataset_info.append(info)"
   ]
  },
  {
   "cell_type": "markdown",
   "id": "2d7de32a",
   "metadata": {},
   "source": [
    "### GSE83146"
   ]
  },
  {
   "cell_type": "code",
   "execution_count": 80,
   "id": "7122bd5a",
   "metadata": {},
   "outputs": [],
   "source": [
    "dataset='GSE83146'\n",
    "info={}\n",
    "info['dataset']=dataset\n",
    "info['organism']='mouse'\n",
    "info['technology']='FluidigmC1_SMARTer'"
   ]
  },
  {
   "cell_type": "code",
   "execution_count": 81,
   "id": "2ce1bf13",
   "metadata": {},
   "outputs": [
    {
     "data": {
      "text/plain": [
       "(207, 44448)"
      ]
     },
     "execution_count": 81,
     "metadata": {},
     "output_type": "execute_result"
    }
   ],
   "source": [
    "ddir=dataset+'/GEO/'\n",
    "adata=sc.read(path_rna+ddir+'adata.h5ad')\n",
    "adata=adata[(adata.obs.cell_type=='beta').values ]\n",
    "info['n_cells']=adata.shape[0]\n",
    "adata.shape"
   ]
  },
  {
   "cell_type": "code",
   "execution_count": 82,
   "id": "5aa8076a",
   "metadata": {},
   "outputs": [
    {
     "name": "stderr",
     "output_type": "stream",
     "text": [
      "Trying to set attribute `.var` of view, copying.\n"
     ]
    },
    {
     "name": "stdout",
     "output_type": "stream",
     "text": [
      "(207, 21232)\n"
     ]
    }
   ],
   "source": [
    "# Remove lowly expressed genes\n",
    "sc.pp.filter_genes(adata,min_cells=adata.shape[0]*0.01)\n",
    "print(adata.shape)"
   ]
  },
  {
   "cell_type": "code",
   "execution_count": 83,
   "id": "90b9e9b2",
   "metadata": {},
   "outputs": [],
   "source": [
    "# Compute HVG and PCA\n",
    "sc.pp.highly_variable_genes(adata, flavor='cell_ranger', n_top_genes =2000)\n",
    "sc.tl.pca(adata, n_comps=NPC, use_highly_variable=True)"
   ]
  },
  {
   "cell_type": "code",
   "execution_count": 84,
   "id": "ab273c81",
   "metadata": {},
   "outputs": [
    {
     "data": {
      "text/plain": [
       "Index(['11302', '11303', '11304'], dtype='object', name='gene.id')"
      ]
     },
     "execution_count": 84,
     "metadata": {},
     "output_type": "execute_result"
    }
   ],
   "source": [
    "adata.var_names[:3]"
   ]
  },
  {
   "cell_type": "code",
   "execution_count": 87,
   "id": "5fc8a458",
   "metadata": {},
   "outputs": [
    {
     "name": "stdout",
     "output_type": "stream",
     "text": [
      "1554\n"
     ]
    }
   ],
   "source": [
    "# Subset GPs to only genes in data\n",
    "# Map to gene ids in data before making GP sub\n",
    "hcs=[]\n",
    "gids=[]\n",
    "for eid,hc in genes_hc['hc'].iteritems():\n",
    "    for gid in adata.var.query('EID==@eid').index:\n",
    "        hcs.append(hc)\n",
    "        gids.append(gid)\n",
    "genes_hc_sub=pd.DataFrame({'hc':hcs},index=gids,dtype='category')\n",
    "print(genes_hc_sub.shape[0])\n",
    "info['n_gp_genes']=genes_hc_sub.shape[0]\n",
    "# Make sizes of GPs for random creation\n",
    "# Splits for np split\n",
    "splits=[]\n",
    "n_curr=0\n",
    "# Make sure this is ordered as gps\n",
    "for n in genes_hc_sub['hc'].value_counts(sort=False).values:\n",
    "    splits.append(n_curr+n)\n",
    "    n_curr+=n\n",
    "# Do not use last one as automatically createcd\n",
    "splits=splits[:-1]    "
   ]
  },
  {
   "cell_type": "code",
   "execution_count": 88,
   "id": "1b31e735",
   "metadata": {},
   "outputs": [],
   "source": [
    "# Gene groups - GP and random\n",
    "gene_groups_collection={}\n",
    "# Add true GPs\n",
    "gene_groups_collection['GPs']={hc:list(g) \n",
    "                               for hc,g in genes_hc_sub.groupby('hc').groups.items()}\n",
    "# Add random gene groups of GP sizes\n",
    "np.random.seed(0)\n",
    "for i in range(10):\n",
    "    # Random idx groups of GP sizes\n",
    "    random_indices=np.split(np.random.permutation(list(range(adata.shape[1]))\n",
    "                                             )[:genes_hc_sub.shape[0]],splits)\n",
    "    # Map idx to genes\n",
    "    gene_groups_collection['GPs_random'+str(i)]={\n",
    "        genes_hc_sub.hc.cat.categories[gp_idx]:adata.var_names[idxs] \n",
    "        for gp_idx,idxs in enumerate(random_indices)}"
   ]
  },
  {
   "cell_type": "code",
   "execution_count": 89,
   "id": "51fe39db",
   "metadata": {},
   "outputs": [
    {
     "name": "stdout",
     "output_type": "stream",
     "text": [
      "GP and study: GPs False\n",
      "cov shape: (207, 27)\n",
      "GP and study: GPs_random0 False\n",
      "cov shape: (207, 27)\n",
      "GP and study: GPs_random1 False\n",
      "cov shape: (207, 27)\n",
      "GP and study: GPs_random2 False\n",
      "cov shape: (207, 27)\n",
      "GP and study: GPs_random3 False\n",
      "cov shape: (207, 27)\n",
      "GP and study: GPs_random4 False\n",
      "cov shape: (207, 27)\n",
      "GP and study: GPs_random5 False\n",
      "cov shape: (207, 27)\n",
      "GP and study: GPs_random6 False\n",
      "cov shape: (207, 27)\n",
      "GP and study: GPs_random7 False\n",
      "cov shape: (207, 27)\n",
      "GP and study: GPs_random8 False\n",
      "cov shape: (207, 27)\n",
      "GP and study: GPs_random9 False\n",
      "cov shape: (207, 27)\n"
     ]
    },
    {
     "data": {
      "text/html": [
       "<div>\n",
       "<style scoped>\n",
       "    .dataframe tbody tr th:only-of-type {\n",
       "        vertical-align: middle;\n",
       "    }\n",
       "\n",
       "    .dataframe tbody tr th {\n",
       "        vertical-align: top;\n",
       "    }\n",
       "\n",
       "    .dataframe thead th {\n",
       "        text-align: right;\n",
       "    }\n",
       "</style>\n",
       "<table border=\"1\" class=\"dataframe\">\n",
       "  <thead>\n",
       "    <tr style=\"text-align: right;\">\n",
       "      <th></th>\n",
       "      <th>GPs</th>\n",
       "      <th>study</th>\n",
       "      <th>explained_var_ratio</th>\n",
       "    </tr>\n",
       "  </thead>\n",
       "  <tbody>\n",
       "    <tr>\n",
       "      <th>0</th>\n",
       "      <td>GPs</td>\n",
       "      <td>False</td>\n",
       "      <td>0.315095</td>\n",
       "    </tr>\n",
       "    <tr>\n",
       "      <th>1</th>\n",
       "      <td>GPs_GPcomponent1</td>\n",
       "      <td>False</td>\n",
       "      <td>0.025416</td>\n",
       "    </tr>\n",
       "    <tr>\n",
       "      <th>2</th>\n",
       "      <td>GPs_GPcomponent2</td>\n",
       "      <td>False</td>\n",
       "      <td>0.072480</td>\n",
       "    </tr>\n",
       "    <tr>\n",
       "      <th>3</th>\n",
       "      <td>GPs_GPcomponent3</td>\n",
       "      <td>False</td>\n",
       "      <td>0.044339</td>\n",
       "    </tr>\n",
       "    <tr>\n",
       "      <th>4</th>\n",
       "      <td>GPs_GPcomponent4</td>\n",
       "      <td>False</td>\n",
       "      <td>0.094984</td>\n",
       "    </tr>\n",
       "    <tr>\n",
       "      <th>...</th>\n",
       "      <td>...</td>\n",
       "      <td>...</td>\n",
       "      <td>...</td>\n",
       "    </tr>\n",
       "    <tr>\n",
       "      <th>303</th>\n",
       "      <td>GPs_random9_GPcomponent23</td>\n",
       "      <td>False</td>\n",
       "      <td>0.004928</td>\n",
       "    </tr>\n",
       "    <tr>\n",
       "      <th>304</th>\n",
       "      <td>GPs_random9_GPcomponent24</td>\n",
       "      <td>False</td>\n",
       "      <td>0.009009</td>\n",
       "    </tr>\n",
       "    <tr>\n",
       "      <th>305</th>\n",
       "      <td>GPs_random9_GPcomponent25</td>\n",
       "      <td>False</td>\n",
       "      <td>0.005308</td>\n",
       "    </tr>\n",
       "    <tr>\n",
       "      <th>306</th>\n",
       "      <td>GPs_random9_GPcomponent26</td>\n",
       "      <td>False</td>\n",
       "      <td>0.008047</td>\n",
       "    </tr>\n",
       "    <tr>\n",
       "      <th>307</th>\n",
       "      <td>GPs_random9_GPcomponent27</td>\n",
       "      <td>False</td>\n",
       "      <td>0.006847</td>\n",
       "    </tr>\n",
       "  </tbody>\n",
       "</table>\n",
       "<p>308 rows × 3 columns</p>\n",
       "</div>"
      ],
      "text/plain": [
       "                           GPs  study  explained_var_ratio\n",
       "0                          GPs  False             0.315095\n",
       "1             GPs_GPcomponent1  False             0.025416\n",
       "2             GPs_GPcomponent2  False             0.072480\n",
       "3             GPs_GPcomponent3  False             0.044339\n",
       "4             GPs_GPcomponent4  False             0.094984\n",
       "..                         ...    ...                  ...\n",
       "303  GPs_random9_GPcomponent23  False             0.004928\n",
       "304  GPs_random9_GPcomponent24  False             0.009009\n",
       "305  GPs_random9_GPcomponent25  False             0.005308\n",
       "306  GPs_random9_GPcomponent26  False             0.008047\n",
       "307  GPs_random9_GPcomponent27  False             0.006847\n",
       "\n",
       "[308 rows x 3 columns]"
      ]
     },
     "metadata": {},
     "output_type": "display_data"
    }
   ],
   "source": [
    "# Explained var\n",
    "explained_var=explaied_var_helper(\n",
    "    gp_study=[(gp,False) for gp in gene_groups_collection.keys()],\n",
    "    adata=adata,gene_groups_collection=gene_groups_collection,study_cov=None)\n",
    "display(explained_var)"
   ]
  },
  {
   "cell_type": "code",
   "execution_count": 90,
   "id": "5e7a3fbd",
   "metadata": {},
   "outputs": [],
   "source": [
    "explained_var.to_csv(path_save+dataset+'.tsv',sep='\\t',index=False)"
   ]
  },
  {
   "cell_type": "code",
   "execution_count": 91,
   "id": "07568691",
   "metadata": {},
   "outputs": [
    {
     "data": {
      "text/plain": [
       "{'dataset': 'GSE83146',\n",
       " 'organism': 'mouse',\n",
       " 'technology': 'FluidigmC1_SMARTer',\n",
       " 'n_cells': 207,\n",
       " 'n_gp_genes': 1554}"
      ]
     },
     "execution_count": 91,
     "metadata": {},
     "output_type": "execute_result"
    }
   ],
   "source": [
    "info"
   ]
  },
  {
   "cell_type": "code",
   "execution_count": 92,
   "id": "59115d5f",
   "metadata": {},
   "outputs": [],
   "source": [
    "dataset_info.append(info)"
   ]
  },
  {
   "cell_type": "markdown",
   "id": "eecbe20e",
   "metadata": {},
   "source": [
    "### GSE83139"
   ]
  },
  {
   "cell_type": "code",
   "execution_count": 93,
   "id": "b8bc30e2",
   "metadata": {},
   "outputs": [],
   "source": [
    "dataset='GSE83139'\n",
    "info={}\n",
    "info['dataset']=dataset\n",
    "info['organism']='human'\n",
    "info['technology']='Fluidigm_SMART-seq'"
   ]
  },
  {
   "cell_type": "code",
   "execution_count": 94,
   "id": "dad61185",
   "metadata": {},
   "outputs": [
    {
     "data": {
      "text/plain": [
       "(111, 19950)"
      ]
     },
     "execution_count": 94,
     "metadata": {},
     "output_type": "execute_result"
    }
   ],
   "source": [
    "ddir=dataset+'/GEO/'\n",
    "adata=sc.read(path_rna+ddir+'adata_filtered.h5ad')\n",
    "adata=adata[(adata.obs.cell_type=='beta').values ]\n",
    "info['n_cells']=adata.shape[0]\n",
    "adata.shape"
   ]
  },
  {
   "cell_type": "code",
   "execution_count": 95,
   "id": "e9f0e3c5",
   "metadata": {},
   "outputs": [
    {
     "name": "stderr",
     "output_type": "stream",
     "text": [
      "Trying to set attribute `.var` of view, copying.\n"
     ]
    },
    {
     "name": "stdout",
     "output_type": "stream",
     "text": [
      "(111, 19950)\n"
     ]
    }
   ],
   "source": [
    "# Remove lowly expressed genes\n",
    "sc.pp.filter_genes(adata,min_cells=adata.shape[0]*0.01)\n",
    "print(adata.shape)"
   ]
  },
  {
   "cell_type": "code",
   "execution_count": 96,
   "id": "2008039c",
   "metadata": {},
   "outputs": [],
   "source": [
    "# Compute HVG and PCA\n",
    "sc.pp.highly_variable_genes(adata, flavor='cell_ranger', n_top_genes =2000)\n",
    "sc.tl.pca(adata, n_comps=NPC, use_highly_variable=True)"
   ]
  },
  {
   "cell_type": "code",
   "execution_count": 97,
   "id": "31ddc19f",
   "metadata": {},
   "outputs": [
    {
     "data": {
      "text/html": [
       "<div>\n",
       "<style scoped>\n",
       "    .dataframe tbody tr th:only-of-type {\n",
       "        vertical-align: middle;\n",
       "    }\n",
       "\n",
       "    .dataframe tbody tr th {\n",
       "        vertical-align: top;\n",
       "    }\n",
       "\n",
       "    .dataframe thead th {\n",
       "        text-align: right;\n",
       "    }\n",
       "</style>\n",
       "<table border=\"1\" class=\"dataframe\">\n",
       "  <thead>\n",
       "    <tr style=\"text-align: right;\">\n",
       "      <th></th>\n",
       "      <th>n_cells</th>\n",
       "      <th>highly_variable</th>\n",
       "      <th>means</th>\n",
       "      <th>dispersions</th>\n",
       "      <th>dispersions_norm</th>\n",
       "    </tr>\n",
       "    <tr>\n",
       "      <th>gene</th>\n",
       "      <th></th>\n",
       "      <th></th>\n",
       "      <th></th>\n",
       "      <th></th>\n",
       "      <th></th>\n",
       "    </tr>\n",
       "  </thead>\n",
       "  <tbody>\n",
       "    <tr>\n",
       "      <th>GCG</th>\n",
       "      <td>111</td>\n",
       "      <td>False</td>\n",
       "      <td>5.708737</td>\n",
       "      <td>0.435312</td>\n",
       "      <td>-0.721017</td>\n",
       "    </tr>\n",
       "  </tbody>\n",
       "</table>\n",
       "</div>"
      ],
      "text/plain": [
       "      n_cells  highly_variable     means  dispersions  dispersions_norm\n",
       "gene                                                                   \n",
       "GCG       111            False  5.708737     0.435312         -0.721017"
      ]
     },
     "execution_count": 97,
     "metadata": {},
     "output_type": "execute_result"
    }
   ],
   "source": [
    "adata.var.iloc[:1]"
   ]
  },
  {
   "cell_type": "code",
   "execution_count": 98,
   "id": "3401e972",
   "metadata": {},
   "outputs": [
    {
     "name": "stdout",
     "output_type": "stream",
     "text": [
      "1423\n"
     ]
    }
   ],
   "source": [
    "# Subset GPs to only genes in data\n",
    "# Map to gene ids and orthologues in data before making GP sub\n",
    "hcs=[]\n",
    "gids=[]\n",
    "for eid,hc in genes_hc['hc'].iteritems():\n",
    "    for gid in [gid for gid in orthologues.query('eid_mm==@eid').gs_hs \n",
    "                if gid in adata.var_names]:\n",
    "        hcs.append(hc)\n",
    "        gids.append(gid)\n",
    "genes_hc_sub=pd.DataFrame({'hc':hcs},index=gids,dtype='category')\n",
    "print(genes_hc_sub.shape[0])\n",
    "info['n_gp_genes']=genes_hc_sub.shape[0]\n",
    "# Make sizes of GPs for random creation\n",
    "# Splits for np split\n",
    "splits=[]\n",
    "n_curr=0\n",
    "# Make sure this is ordered as gps\n",
    "for n in genes_hc_sub['hc'].value_counts(sort=False).values:\n",
    "    splits.append(n_curr+n)\n",
    "    n_curr+=n\n",
    "# Do not use last one as automatically createcd\n",
    "splits=splits[:-1]    "
   ]
  },
  {
   "cell_type": "code",
   "execution_count": 99,
   "id": "b7f2e71f",
   "metadata": {},
   "outputs": [],
   "source": [
    "# Gene groups - GP and random\n",
    "gene_groups_collection={}\n",
    "# Add true GPs\n",
    "gene_groups_collection['GPs']={hc:list(g) \n",
    "                               for hc,g in genes_hc_sub.groupby('hc').groups.items()}\n",
    "# Add random gene groups of GP sizes\n",
    "np.random.seed(0)\n",
    "for i in range(10):\n",
    "    # Random idx groups of GP sizes\n",
    "    random_indices=np.split(np.random.permutation(list(range(adata.shape[1]))\n",
    "                                             )[:genes_hc_sub.shape[0]],splits)\n",
    "    # Map idx to genes\n",
    "    gene_groups_collection['GPs_random'+str(i)]={\n",
    "        genes_hc_sub.hc.cat.categories[gp_idx]:adata.var_names[idxs] \n",
    "        for gp_idx,idxs in enumerate(random_indices)}"
   ]
  },
  {
   "cell_type": "code",
   "execution_count": 100,
   "id": "cab84a66",
   "metadata": {},
   "outputs": [
    {
     "name": "stdout",
     "output_type": "stream",
     "text": [
      "GP and study: GPs False\n",
      "cov shape: (111, 27)\n",
      "GP and study: GPs_random0 False\n",
      "cov shape: (111, 27)\n",
      "GP and study: GPs_random1 False\n",
      "cov shape: (111, 27)\n",
      "GP and study: GPs_random2 False\n",
      "cov shape: (111, 27)\n",
      "GP and study: GPs_random3 False\n",
      "cov shape: (111, 27)\n",
      "GP and study: GPs_random4 False\n",
      "cov shape: (111, 27)\n",
      "GP and study: GPs_random5 False\n",
      "cov shape: (111, 27)\n",
      "GP and study: GPs_random6 False\n",
      "cov shape: (111, 27)\n",
      "GP and study: GPs_random7 False\n",
      "cov shape: (111, 27)\n",
      "GP and study: GPs_random8 False\n",
      "cov shape: (111, 27)\n",
      "GP and study: GPs_random9 False\n",
      "cov shape: (111, 27)\n"
     ]
    },
    {
     "data": {
      "text/html": [
       "<div>\n",
       "<style scoped>\n",
       "    .dataframe tbody tr th:only-of-type {\n",
       "        vertical-align: middle;\n",
       "    }\n",
       "\n",
       "    .dataframe tbody tr th {\n",
       "        vertical-align: top;\n",
       "    }\n",
       "\n",
       "    .dataframe thead th {\n",
       "        text-align: right;\n",
       "    }\n",
       "</style>\n",
       "<table border=\"1\" class=\"dataframe\">\n",
       "  <thead>\n",
       "    <tr style=\"text-align: right;\">\n",
       "      <th></th>\n",
       "      <th>GPs</th>\n",
       "      <th>study</th>\n",
       "      <th>explained_var_ratio</th>\n",
       "    </tr>\n",
       "  </thead>\n",
       "  <tbody>\n",
       "    <tr>\n",
       "      <th>0</th>\n",
       "      <td>GPs</td>\n",
       "      <td>False</td>\n",
       "      <td>0.350042</td>\n",
       "    </tr>\n",
       "    <tr>\n",
       "      <th>1</th>\n",
       "      <td>GPs_GPcomponent1</td>\n",
       "      <td>False</td>\n",
       "      <td>0.027861</td>\n",
       "    </tr>\n",
       "    <tr>\n",
       "      <th>2</th>\n",
       "      <td>GPs_GPcomponent2</td>\n",
       "      <td>False</td>\n",
       "      <td>0.062309</td>\n",
       "    </tr>\n",
       "    <tr>\n",
       "      <th>3</th>\n",
       "      <td>GPs_GPcomponent3</td>\n",
       "      <td>False</td>\n",
       "      <td>0.022105</td>\n",
       "    </tr>\n",
       "    <tr>\n",
       "      <th>4</th>\n",
       "      <td>GPs_GPcomponent4</td>\n",
       "      <td>False</td>\n",
       "      <td>0.060681</td>\n",
       "    </tr>\n",
       "    <tr>\n",
       "      <th>...</th>\n",
       "      <td>...</td>\n",
       "      <td>...</td>\n",
       "      <td>...</td>\n",
       "    </tr>\n",
       "    <tr>\n",
       "      <th>303</th>\n",
       "      <td>GPs_random9_GPcomponent23</td>\n",
       "      <td>False</td>\n",
       "      <td>0.008890</td>\n",
       "    </tr>\n",
       "    <tr>\n",
       "      <th>304</th>\n",
       "      <td>GPs_random9_GPcomponent24</td>\n",
       "      <td>False</td>\n",
       "      <td>0.010682</td>\n",
       "    </tr>\n",
       "    <tr>\n",
       "      <th>305</th>\n",
       "      <td>GPs_random9_GPcomponent25</td>\n",
       "      <td>False</td>\n",
       "      <td>0.025016</td>\n",
       "    </tr>\n",
       "    <tr>\n",
       "      <th>306</th>\n",
       "      <td>GPs_random9_GPcomponent26</td>\n",
       "      <td>False</td>\n",
       "      <td>0.017071</td>\n",
       "    </tr>\n",
       "    <tr>\n",
       "      <th>307</th>\n",
       "      <td>GPs_random9_GPcomponent27</td>\n",
       "      <td>False</td>\n",
       "      <td>0.012786</td>\n",
       "    </tr>\n",
       "  </tbody>\n",
       "</table>\n",
       "<p>308 rows × 3 columns</p>\n",
       "</div>"
      ],
      "text/plain": [
       "                           GPs  study  explained_var_ratio\n",
       "0                          GPs  False             0.350042\n",
       "1             GPs_GPcomponent1  False             0.027861\n",
       "2             GPs_GPcomponent2  False             0.062309\n",
       "3             GPs_GPcomponent3  False             0.022105\n",
       "4             GPs_GPcomponent4  False             0.060681\n",
       "..                         ...    ...                  ...\n",
       "303  GPs_random9_GPcomponent23  False             0.008890\n",
       "304  GPs_random9_GPcomponent24  False             0.010682\n",
       "305  GPs_random9_GPcomponent25  False             0.025016\n",
       "306  GPs_random9_GPcomponent26  False             0.017071\n",
       "307  GPs_random9_GPcomponent27  False             0.012786\n",
       "\n",
       "[308 rows x 3 columns]"
      ]
     },
     "metadata": {},
     "output_type": "display_data"
    }
   ],
   "source": [
    "# Explained var\n",
    "explained_var=explaied_var_helper(\n",
    "    gp_study=[(gp,False) for gp in gene_groups_collection.keys()],\n",
    "    adata=adata,gene_groups_collection=gene_groups_collection,study_cov=None)\n",
    "display(explained_var)"
   ]
  },
  {
   "cell_type": "code",
   "execution_count": 101,
   "id": "2457b1e7",
   "metadata": {},
   "outputs": [],
   "source": [
    "explained_var.to_csv(path_save+dataset+'.tsv',sep='\\t',index=False)"
   ]
  },
  {
   "cell_type": "code",
   "execution_count": 102,
   "id": "fc69a6db",
   "metadata": {},
   "outputs": [
    {
     "data": {
      "text/plain": [
       "{'dataset': 'GSE83139',\n",
       " 'organism': 'human',\n",
       " 'technology': 'Fluidigm_SMART-seq',\n",
       " 'n_cells': 111,\n",
       " 'n_gp_genes': 1423}"
      ]
     },
     "execution_count": 102,
     "metadata": {},
     "output_type": "execute_result"
    }
   ],
   "source": [
    "info"
   ]
  },
  {
   "cell_type": "code",
   "execution_count": 103,
   "id": "62271519",
   "metadata": {},
   "outputs": [],
   "source": [
    "dataset_info.append(info)"
   ]
  },
  {
   "cell_type": "markdown",
   "id": "f0af68f1",
   "metadata": {},
   "source": [
    "### GSE154126"
   ]
  },
  {
   "cell_type": "code",
   "execution_count": 104,
   "id": "31e7aef0",
   "metadata": {},
   "outputs": [],
   "source": [
    "dataset='GSE154126'\n",
    "info={}\n",
    "info['dataset']=dataset\n",
    "info['organism']='human'\n",
    "info['technology']='SMART-seq'"
   ]
  },
  {
   "cell_type": "code",
   "execution_count": 105,
   "id": "1317e63b",
   "metadata": {},
   "outputs": [
    {
     "data": {
      "text/plain": [
       "(182, 21152)"
      ]
     },
     "execution_count": 105,
     "metadata": {},
     "output_type": "execute_result"
    }
   ],
   "source": [
    "ddir=dataset+'/GEO/'\n",
    "adata=sc.read(path_rna+ddir+'adata_filtered.h5ad')\n",
    "adata=adata[(adata.obs.cell_type=='beta').values ]\n",
    "info['n_cells']=adata.shape[0]\n",
    "adata.shape"
   ]
  },
  {
   "cell_type": "code",
   "execution_count": 106,
   "id": "cfb7fcbc",
   "metadata": {},
   "outputs": [
    {
     "name": "stderr",
     "output_type": "stream",
     "text": [
      "Trying to set attribute `.var` of view, copying.\n"
     ]
    },
    {
     "name": "stdout",
     "output_type": "stream",
     "text": [
      "(182, 16724)\n"
     ]
    }
   ],
   "source": [
    "# Remove lowly expressed genes\n",
    "sc.pp.filter_genes(adata,min_cells=adata.shape[0]*0.01)\n",
    "print(adata.shape)"
   ]
  },
  {
   "cell_type": "code",
   "execution_count": 107,
   "id": "e724c511",
   "metadata": {},
   "outputs": [],
   "source": [
    "# Compute HVG and PCA\n",
    "sc.pp.highly_variable_genes(adata, flavor='cell_ranger', n_top_genes =2000)\n",
    "sc.tl.pca(adata, n_comps=NPC, use_highly_variable=True)"
   ]
  },
  {
   "cell_type": "code",
   "execution_count": 108,
   "id": "cb8744f2",
   "metadata": {},
   "outputs": [
    {
     "data": {
      "text/html": [
       "<div>\n",
       "<style scoped>\n",
       "    .dataframe tbody tr th:only-of-type {\n",
       "        vertical-align: middle;\n",
       "    }\n",
       "\n",
       "    .dataframe tbody tr th {\n",
       "        vertical-align: top;\n",
       "    }\n",
       "\n",
       "    .dataframe thead th {\n",
       "        text-align: right;\n",
       "    }\n",
       "</style>\n",
       "<table border=\"1\" class=\"dataframe\">\n",
       "  <thead>\n",
       "    <tr style=\"text-align: right;\">\n",
       "      <th></th>\n",
       "      <th>n_cells</th>\n",
       "      <th>highly_variable</th>\n",
       "      <th>means</th>\n",
       "      <th>dispersions</th>\n",
       "      <th>dispersions_norm</th>\n",
       "    </tr>\n",
       "    <tr>\n",
       "      <th>gene|cell_id</th>\n",
       "      <th></th>\n",
       "      <th></th>\n",
       "      <th></th>\n",
       "      <th></th>\n",
       "      <th></th>\n",
       "    </tr>\n",
       "  </thead>\n",
       "  <tbody>\n",
       "    <tr>\n",
       "      <th>GCG</th>\n",
       "      <td>182</td>\n",
       "      <td>False</td>\n",
       "      <td>5.877211</td>\n",
       "      <td>0.2398</td>\n",
       "      <td>-0.654617</td>\n",
       "    </tr>\n",
       "  </tbody>\n",
       "</table>\n",
       "</div>"
      ],
      "text/plain": [
       "              n_cells  highly_variable     means  dispersions  \\\n",
       "gene|cell_id                                                    \n",
       "GCG               182            False  5.877211       0.2398   \n",
       "\n",
       "              dispersions_norm  \n",
       "gene|cell_id                    \n",
       "GCG                  -0.654617  "
      ]
     },
     "execution_count": 108,
     "metadata": {},
     "output_type": "execute_result"
    }
   ],
   "source": [
    "adata.var.iloc[:1]"
   ]
  },
  {
   "cell_type": "code",
   "execution_count": 109,
   "id": "4ca6c851",
   "metadata": {},
   "outputs": [
    {
     "name": "stdout",
     "output_type": "stream",
     "text": [
      "1360\n"
     ]
    }
   ],
   "source": [
    "# Subset GPs to only genes in data\n",
    "# Map to gene ids and orthologues in data before making GP sub\n",
    "hcs=[]\n",
    "gids=[]\n",
    "for eid,hc in genes_hc['hc'].iteritems():\n",
    "    for gid in [gid for gid in orthologues.query('eid_mm==@eid').gs_hs \n",
    "                if gid in adata.var_names]:\n",
    "        hcs.append(hc)\n",
    "        gids.append(gid)\n",
    "genes_hc_sub=pd.DataFrame({'hc':hcs},index=gids,dtype='category')\n",
    "print(genes_hc_sub.shape[0])\n",
    "info['n_gp_genes']=genes_hc_sub.shape[0]\n",
    "# Make sizes of GPs for random creation\n",
    "# Splits for np split\n",
    "splits=[]\n",
    "n_curr=0\n",
    "# Make sure this is ordered as gps\n",
    "for n in genes_hc_sub['hc'].value_counts(sort=False).values:\n",
    "    splits.append(n_curr+n)\n",
    "    n_curr+=n\n",
    "# Do not use last one as automatically createcd\n",
    "splits=splits[:-1]    "
   ]
  },
  {
   "cell_type": "code",
   "execution_count": 110,
   "id": "7b117fa5",
   "metadata": {},
   "outputs": [],
   "source": [
    "# Gene groups - GP and random\n",
    "gene_groups_collection={}\n",
    "# Add true GPs\n",
    "gene_groups_collection['GPs']={hc:list(g) \n",
    "                               for hc,g in genes_hc_sub.groupby('hc').groups.items()}\n",
    "# Add random gene groups of GP sizes\n",
    "np.random.seed(0)\n",
    "for i in range(10):\n",
    "    # Random idx groups of GP sizes\n",
    "    random_indices=np.split(np.random.permutation(list(range(adata.shape[1]))\n",
    "                                             )[:genes_hc_sub.shape[0]],splits)\n",
    "    # Map idx to genes\n",
    "    gene_groups_collection['GPs_random'+str(i)]={\n",
    "        genes_hc_sub.hc.cat.categories[gp_idx]:adata.var_names[idxs] \n",
    "        for gp_idx,idxs in enumerate(random_indices)}"
   ]
  },
  {
   "cell_type": "code",
   "execution_count": 111,
   "id": "9bbf72ba",
   "metadata": {},
   "outputs": [
    {
     "name": "stdout",
     "output_type": "stream",
     "text": [
      "GP and study: GPs False\n",
      "cov shape: (182, 27)\n",
      "GP and study: GPs_random0 False\n",
      "cov shape: (182, 27)\n",
      "GP and study: GPs_random1 False\n",
      "cov shape: (182, 27)\n",
      "GP and study: GPs_random2 False\n",
      "cov shape: (182, 27)\n",
      "GP and study: GPs_random3 False\n",
      "cov shape: (182, 27)\n",
      "GP and study: GPs_random4 False\n",
      "cov shape: (182, 27)\n",
      "GP and study: GPs_random5 False\n",
      "cov shape: (182, 27)\n",
      "GP and study: GPs_random6 False\n",
      "cov shape: (182, 27)\n",
      "GP and study: GPs_random7 False\n",
      "cov shape: (182, 27)\n",
      "GP and study: GPs_random8 False\n",
      "cov shape: (182, 27)\n",
      "GP and study: GPs_random9 False\n",
      "cov shape: (182, 27)\n"
     ]
    },
    {
     "data": {
      "text/html": [
       "<div>\n",
       "<style scoped>\n",
       "    .dataframe tbody tr th:only-of-type {\n",
       "        vertical-align: middle;\n",
       "    }\n",
       "\n",
       "    .dataframe tbody tr th {\n",
       "        vertical-align: top;\n",
       "    }\n",
       "\n",
       "    .dataframe thead th {\n",
       "        text-align: right;\n",
       "    }\n",
       "</style>\n",
       "<table border=\"1\" class=\"dataframe\">\n",
       "  <thead>\n",
       "    <tr style=\"text-align: right;\">\n",
       "      <th></th>\n",
       "      <th>GPs</th>\n",
       "      <th>study</th>\n",
       "      <th>explained_var_ratio</th>\n",
       "    </tr>\n",
       "  </thead>\n",
       "  <tbody>\n",
       "    <tr>\n",
       "      <th>0</th>\n",
       "      <td>GPs</td>\n",
       "      <td>False</td>\n",
       "      <td>0.265033</td>\n",
       "    </tr>\n",
       "    <tr>\n",
       "      <th>1</th>\n",
       "      <td>GPs_GPcomponent1</td>\n",
       "      <td>False</td>\n",
       "      <td>0.012218</td>\n",
       "    </tr>\n",
       "    <tr>\n",
       "      <th>2</th>\n",
       "      <td>GPs_GPcomponent2</td>\n",
       "      <td>False</td>\n",
       "      <td>0.029607</td>\n",
       "    </tr>\n",
       "    <tr>\n",
       "      <th>3</th>\n",
       "      <td>GPs_GPcomponent3</td>\n",
       "      <td>False</td>\n",
       "      <td>0.018325</td>\n",
       "    </tr>\n",
       "    <tr>\n",
       "      <th>4</th>\n",
       "      <td>GPs_GPcomponent4</td>\n",
       "      <td>False</td>\n",
       "      <td>0.043016</td>\n",
       "    </tr>\n",
       "    <tr>\n",
       "      <th>...</th>\n",
       "      <td>...</td>\n",
       "      <td>...</td>\n",
       "      <td>...</td>\n",
       "    </tr>\n",
       "    <tr>\n",
       "      <th>303</th>\n",
       "      <td>GPs_random9_GPcomponent23</td>\n",
       "      <td>False</td>\n",
       "      <td>0.011540</td>\n",
       "    </tr>\n",
       "    <tr>\n",
       "      <th>304</th>\n",
       "      <td>GPs_random9_GPcomponent24</td>\n",
       "      <td>False</td>\n",
       "      <td>0.009755</td>\n",
       "    </tr>\n",
       "    <tr>\n",
       "      <th>305</th>\n",
       "      <td>GPs_random9_GPcomponent25</td>\n",
       "      <td>False</td>\n",
       "      <td>0.007137</td>\n",
       "    </tr>\n",
       "    <tr>\n",
       "      <th>306</th>\n",
       "      <td>GPs_random9_GPcomponent26</td>\n",
       "      <td>False</td>\n",
       "      <td>0.017017</td>\n",
       "    </tr>\n",
       "    <tr>\n",
       "      <th>307</th>\n",
       "      <td>GPs_random9_GPcomponent27</td>\n",
       "      <td>False</td>\n",
       "      <td>0.008773</td>\n",
       "    </tr>\n",
       "  </tbody>\n",
       "</table>\n",
       "<p>308 rows × 3 columns</p>\n",
       "</div>"
      ],
      "text/plain": [
       "                           GPs  study  explained_var_ratio\n",
       "0                          GPs  False             0.265033\n",
       "1             GPs_GPcomponent1  False             0.012218\n",
       "2             GPs_GPcomponent2  False             0.029607\n",
       "3             GPs_GPcomponent3  False             0.018325\n",
       "4             GPs_GPcomponent4  False             0.043016\n",
       "..                         ...    ...                  ...\n",
       "303  GPs_random9_GPcomponent23  False             0.011540\n",
       "304  GPs_random9_GPcomponent24  False             0.009755\n",
       "305  GPs_random9_GPcomponent25  False             0.007137\n",
       "306  GPs_random9_GPcomponent26  False             0.017017\n",
       "307  GPs_random9_GPcomponent27  False             0.008773\n",
       "\n",
       "[308 rows x 3 columns]"
      ]
     },
     "metadata": {},
     "output_type": "display_data"
    }
   ],
   "source": [
    "# Explained var\n",
    "explained_var=explaied_var_helper(\n",
    "    gp_study=[(gp,False) for gp in gene_groups_collection.keys()],\n",
    "    adata=adata,gene_groups_collection=gene_groups_collection,study_cov=None)\n",
    "display(explained_var)"
   ]
  },
  {
   "cell_type": "code",
   "execution_count": 112,
   "id": "6a6b409e",
   "metadata": {},
   "outputs": [],
   "source": [
    "explained_var.to_csv(path_save+dataset+'.tsv',sep='\\t',index=False)"
   ]
  },
  {
   "cell_type": "code",
   "execution_count": 113,
   "id": "16c5175c",
   "metadata": {},
   "outputs": [
    {
     "data": {
      "text/plain": [
       "{'dataset': 'GSE154126',\n",
       " 'organism': 'human',\n",
       " 'technology': 'SMART-seq',\n",
       " 'n_cells': 182,\n",
       " 'n_gp_genes': 1360}"
      ]
     },
     "execution_count": 113,
     "metadata": {},
     "output_type": "execute_result"
    }
   ],
   "source": [
    "info"
   ]
  },
  {
   "cell_type": "code",
   "execution_count": 114,
   "id": "41feb6e5",
   "metadata": {},
   "outputs": [],
   "source": [
    "dataset_info.append(info)"
   ]
  },
  {
   "cell_type": "markdown",
   "id": "859c0b3a",
   "metadata": {},
   "source": [
    "### GSE101207"
   ]
  },
  {
   "cell_type": "code",
   "execution_count": 115,
   "id": "baf5bd60",
   "metadata": {},
   "outputs": [],
   "source": [
    "dataset='GSE101207'\n",
    "info={}\n",
    "info['dataset']=dataset\n",
    "info['organism']='human'\n",
    "info['technology']='Drop-seq'"
   ]
  },
  {
   "cell_type": "code",
   "execution_count": 116,
   "id": "cc602d55",
   "metadata": {},
   "outputs": [
    {
     "data": {
      "text/plain": [
       "(9958, 20485)"
      ]
     },
     "execution_count": 116,
     "metadata": {},
     "output_type": "execute_result"
    }
   ],
   "source": [
    "ddir=dataset+'/GEO/'\n",
    "adata=sc.read(path_rna+ddir+'adata_filtered.h5ad')\n",
    "adata=adata[(adata.obs.cell_type=='beta').values ]\n",
    "info['n_cells']=adata.shape[0]\n",
    "adata.shape"
   ]
  },
  {
   "cell_type": "code",
   "execution_count": 117,
   "id": "f876f926",
   "metadata": {},
   "outputs": [
    {
     "name": "stderr",
     "output_type": "stream",
     "text": [
      "Trying to set attribute `.var` of view, copying.\n"
     ]
    },
    {
     "name": "stdout",
     "output_type": "stream",
     "text": [
      "(9958, 8305)\n"
     ]
    }
   ],
   "source": [
    "# Remove lowly expressed genes\n",
    "sc.pp.filter_genes(adata,min_cells=adata.shape[0]*0.01)\n",
    "print(adata.shape)"
   ]
  },
  {
   "cell_type": "code",
   "execution_count": 118,
   "id": "fcf18738",
   "metadata": {},
   "outputs": [],
   "source": [
    "# Compute HVG and PCA\n",
    "sc.pp.highly_variable_genes(adata, flavor='cell_ranger', n_top_genes =2000)\n",
    "sc.tl.pca(adata, n_comps=NPC, use_highly_variable=True)"
   ]
  },
  {
   "cell_type": "code",
   "execution_count": 119,
   "id": "c9038b4d",
   "metadata": {},
   "outputs": [
    {
     "data": {
      "text/html": [
       "<div>\n",
       "<style scoped>\n",
       "    .dataframe tbody tr th:only-of-type {\n",
       "        vertical-align: middle;\n",
       "    }\n",
       "\n",
       "    .dataframe tbody tr th {\n",
       "        vertical-align: top;\n",
       "    }\n",
       "\n",
       "    .dataframe thead th {\n",
       "        text-align: right;\n",
       "    }\n",
       "</style>\n",
       "<table border=\"1\" class=\"dataframe\">\n",
       "  <thead>\n",
       "    <tr style=\"text-align: right;\">\n",
       "      <th></th>\n",
       "      <th>n_cells</th>\n",
       "      <th>highly_variable</th>\n",
       "      <th>means</th>\n",
       "      <th>dispersions</th>\n",
       "      <th>dispersions_norm</th>\n",
       "    </tr>\n",
       "    <tr>\n",
       "      <th>GENE</th>\n",
       "      <th></th>\n",
       "      <th></th>\n",
       "      <th></th>\n",
       "      <th></th>\n",
       "      <th></th>\n",
       "    </tr>\n",
       "  </thead>\n",
       "  <tbody>\n",
       "    <tr>\n",
       "      <th>A1BG</th>\n",
       "      <td>546</td>\n",
       "      <td>False</td>\n",
       "      <td>0.002099</td>\n",
       "      <td>0.107476</td>\n",
       "      <td>-0.643016</td>\n",
       "    </tr>\n",
       "  </tbody>\n",
       "</table>\n",
       "</div>"
      ],
      "text/plain": [
       "      n_cells  highly_variable     means  dispersions  dispersions_norm\n",
       "GENE                                                                   \n",
       "A1BG      546            False  0.002099     0.107476         -0.643016"
      ]
     },
     "execution_count": 119,
     "metadata": {},
     "output_type": "execute_result"
    }
   ],
   "source": [
    "adata.var.iloc[:1]"
   ]
  },
  {
   "cell_type": "code",
   "execution_count": 120,
   "id": "cc581d19",
   "metadata": {},
   "outputs": [
    {
     "name": "stdout",
     "output_type": "stream",
     "text": [
      "1029\n"
     ]
    }
   ],
   "source": [
    "# Subset GPs to only genes in data\n",
    "# Map to gene ids and orthologues in data before making GP sub\n",
    "hcs=[]\n",
    "gids=[]\n",
    "for eid,hc in genes_hc['hc'].iteritems():\n",
    "    for gid in [gid for gid in orthologues.query('eid_mm==@eid').gs_hs \n",
    "                if gid in adata.var_names]:\n",
    "        hcs.append(hc)\n",
    "        gids.append(gid)\n",
    "genes_hc_sub=pd.DataFrame({'hc':hcs},index=gids,dtype='category')\n",
    "print(genes_hc_sub.shape[0])\n",
    "info['n_gp_genes']=genes_hc_sub.shape[0]\n",
    "# Make sizes of GPs for random creation\n",
    "# Splits for np split\n",
    "splits=[]\n",
    "n_curr=0\n",
    "# Make sure this is ordered as gps\n",
    "for n in genes_hc_sub['hc'].value_counts(sort=False).values:\n",
    "    splits.append(n_curr+n)\n",
    "    n_curr+=n\n",
    "# Do not use last one as automatically createcd\n",
    "splits=splits[:-1]    "
   ]
  },
  {
   "cell_type": "code",
   "execution_count": 121,
   "id": "5b1752ac",
   "metadata": {},
   "outputs": [],
   "source": [
    "# Gene groups - GP and random\n",
    "gene_groups_collection={}\n",
    "# Add true GPs\n",
    "gene_groups_collection['GPs']={hc:list(g) \n",
    "                               for hc,g in genes_hc_sub.groupby('hc').groups.items()}\n",
    "# Add random gene groups of GP sizes\n",
    "np.random.seed(0)\n",
    "for i in range(10):\n",
    "    # Random idx groups of GP sizes\n",
    "    random_indices=np.split(np.random.permutation(list(range(adata.shape[1]))\n",
    "                                             )[:genes_hc_sub.shape[0]],splits)\n",
    "    # Map idx to genes\n",
    "    gene_groups_collection['GPs_random'+str(i)]={\n",
    "        genes_hc_sub.hc.cat.categories[gp_idx]:adata.var_names[idxs] \n",
    "        for gp_idx,idxs in enumerate(random_indices)}"
   ]
  },
  {
   "cell_type": "code",
   "execution_count": 122,
   "id": "ba4de77f",
   "metadata": {},
   "outputs": [
    {
     "name": "stdout",
     "output_type": "stream",
     "text": [
      "GP and study: GPs False\n",
      "cov shape: (9958, 27)\n",
      "GP and study: GPs_random0 False\n",
      "cov shape: (9958, 27)\n",
      "GP and study: GPs_random1 False\n",
      "cov shape: (9958, 27)\n",
      "GP and study: GPs_random2 False\n",
      "cov shape: (9958, 27)\n",
      "GP and study: GPs_random3 False\n",
      "cov shape: (9958, 27)\n",
      "GP and study: GPs_random4 False\n",
      "cov shape: (9958, 27)\n",
      "GP and study: GPs_random5 False\n",
      "cov shape: (9958, 27)\n",
      "GP and study: GPs_random6 False\n",
      "cov shape: (9958, 27)\n",
      "GP and study: GPs_random7 False\n",
      "cov shape: (9958, 27)\n",
      "GP and study: GPs_random8 False\n",
      "cov shape: (9958, 27)\n",
      "GP and study: GPs_random9 False\n",
      "cov shape: (9958, 27)\n"
     ]
    },
    {
     "data": {
      "text/html": [
       "<div>\n",
       "<style scoped>\n",
       "    .dataframe tbody tr th:only-of-type {\n",
       "        vertical-align: middle;\n",
       "    }\n",
       "\n",
       "    .dataframe tbody tr th {\n",
       "        vertical-align: top;\n",
       "    }\n",
       "\n",
       "    .dataframe thead th {\n",
       "        text-align: right;\n",
       "    }\n",
       "</style>\n",
       "<table border=\"1\" class=\"dataframe\">\n",
       "  <thead>\n",
       "    <tr style=\"text-align: right;\">\n",
       "      <th></th>\n",
       "      <th>GPs</th>\n",
       "      <th>study</th>\n",
       "      <th>explained_var_ratio</th>\n",
       "    </tr>\n",
       "  </thead>\n",
       "  <tbody>\n",
       "    <tr>\n",
       "      <th>0</th>\n",
       "      <td>GPs</td>\n",
       "      <td>False</td>\n",
       "      <td>0.514281</td>\n",
       "    </tr>\n",
       "    <tr>\n",
       "      <th>1</th>\n",
       "      <td>GPs_GPcomponent1</td>\n",
       "      <td>False</td>\n",
       "      <td>0.080064</td>\n",
       "    </tr>\n",
       "    <tr>\n",
       "      <th>2</th>\n",
       "      <td>GPs_GPcomponent2</td>\n",
       "      <td>False</td>\n",
       "      <td>0.015617</td>\n",
       "    </tr>\n",
       "    <tr>\n",
       "      <th>3</th>\n",
       "      <td>GPs_GPcomponent3</td>\n",
       "      <td>False</td>\n",
       "      <td>0.014927</td>\n",
       "    </tr>\n",
       "    <tr>\n",
       "      <th>4</th>\n",
       "      <td>GPs_GPcomponent4</td>\n",
       "      <td>False</td>\n",
       "      <td>0.099223</td>\n",
       "    </tr>\n",
       "    <tr>\n",
       "      <th>...</th>\n",
       "      <td>...</td>\n",
       "      <td>...</td>\n",
       "      <td>...</td>\n",
       "    </tr>\n",
       "    <tr>\n",
       "      <th>303</th>\n",
       "      <td>GPs_random9_GPcomponent23</td>\n",
       "      <td>False</td>\n",
       "      <td>0.015270</td>\n",
       "    </tr>\n",
       "    <tr>\n",
       "      <th>304</th>\n",
       "      <td>GPs_random9_GPcomponent24</td>\n",
       "      <td>False</td>\n",
       "      <td>0.002493</td>\n",
       "    </tr>\n",
       "    <tr>\n",
       "      <th>305</th>\n",
       "      <td>GPs_random9_GPcomponent25</td>\n",
       "      <td>False</td>\n",
       "      <td>0.000446</td>\n",
       "    </tr>\n",
       "    <tr>\n",
       "      <th>306</th>\n",
       "      <td>GPs_random9_GPcomponent26</td>\n",
       "      <td>False</td>\n",
       "      <td>0.000254</td>\n",
       "    </tr>\n",
       "    <tr>\n",
       "      <th>307</th>\n",
       "      <td>GPs_random9_GPcomponent27</td>\n",
       "      <td>False</td>\n",
       "      <td>0.000671</td>\n",
       "    </tr>\n",
       "  </tbody>\n",
       "</table>\n",
       "<p>308 rows × 3 columns</p>\n",
       "</div>"
      ],
      "text/plain": [
       "                           GPs  study  explained_var_ratio\n",
       "0                          GPs  False             0.514281\n",
       "1             GPs_GPcomponent1  False             0.080064\n",
       "2             GPs_GPcomponent2  False             0.015617\n",
       "3             GPs_GPcomponent3  False             0.014927\n",
       "4             GPs_GPcomponent4  False             0.099223\n",
       "..                         ...    ...                  ...\n",
       "303  GPs_random9_GPcomponent23  False             0.015270\n",
       "304  GPs_random9_GPcomponent24  False             0.002493\n",
       "305  GPs_random9_GPcomponent25  False             0.000446\n",
       "306  GPs_random9_GPcomponent26  False             0.000254\n",
       "307  GPs_random9_GPcomponent27  False             0.000671\n",
       "\n",
       "[308 rows x 3 columns]"
      ]
     },
     "metadata": {},
     "output_type": "display_data"
    }
   ],
   "source": [
    "# Explained var\n",
    "explained_var=explaied_var_helper(\n",
    "    gp_study=[(gp,False) for gp in gene_groups_collection.keys()],\n",
    "    adata=adata,gene_groups_collection=gene_groups_collection,study_cov=None)\n",
    "display(explained_var)"
   ]
  },
  {
   "cell_type": "code",
   "execution_count": 123,
   "id": "83d25575",
   "metadata": {},
   "outputs": [],
   "source": [
    "explained_var.to_csv(path_save+dataset+'.tsv',sep='\\t',index=False)"
   ]
  },
  {
   "cell_type": "code",
   "execution_count": 124,
   "id": "ef57ef55",
   "metadata": {},
   "outputs": [
    {
     "data": {
      "text/plain": [
       "{'dataset': 'GSE101207',\n",
       " 'organism': 'human',\n",
       " 'technology': 'Drop-seq',\n",
       " 'n_cells': 9958,\n",
       " 'n_gp_genes': 1029}"
      ]
     },
     "execution_count": 124,
     "metadata": {},
     "output_type": "execute_result"
    }
   ],
   "source": [
    "info"
   ]
  },
  {
   "cell_type": "code",
   "execution_count": 125,
   "id": "45ead95b",
   "metadata": {},
   "outputs": [],
   "source": [
    "dataset_info.append(info)"
   ]
  },
  {
   "cell_type": "markdown",
   "id": "8e36422e",
   "metadata": {},
   "source": [
    "### GSE124742 and GSE164875 - patch "
   ]
  },
  {
   "cell_type": "code",
   "execution_count": 126,
   "id": "e17e94b8",
   "metadata": {},
   "outputs": [],
   "source": [
    "dataset='GSE124742_GSE164875-patch'\n",
    "info={}\n",
    "info['dataset']=dataset\n",
    "info['organism']='human'\n",
    "info['technology']='SMART-seq2'"
   ]
  },
  {
   "cell_type": "code",
   "execution_count": 127,
   "id": "4e69db70",
   "metadata": {},
   "outputs": [
    {
     "data": {
      "text/plain": [
       "(496, 45305)"
      ]
     },
     "execution_count": 127,
     "metadata": {},
     "output_type": "execute_result"
    }
   ],
   "source": [
    "ddir='/GSE124742_GSE164875/GEO/patch/'\n",
    "adata=sc.read(path_rna+ddir+'adata_filtered.h5ad')\n",
    "adata=adata[(adata.obs.cell_type=='beta').values ]\n",
    "info['n_cells']=adata.shape[0]\n",
    "adata.shape"
   ]
  },
  {
   "cell_type": "code",
   "execution_count": 128,
   "id": "8f1a5494",
   "metadata": {},
   "outputs": [
    {
     "name": "stderr",
     "output_type": "stream",
     "text": [
      "Trying to set attribute `.var` of view, copying.\n"
     ]
    },
    {
     "name": "stdout",
     "output_type": "stream",
     "text": [
      "(496, 23471)\n"
     ]
    }
   ],
   "source": [
    "# Remove lowly expressed genes\n",
    "sc.pp.filter_genes(adata,min_cells=adata.shape[0]*0.01)\n",
    "print(adata.shape)"
   ]
  },
  {
   "cell_type": "code",
   "execution_count": 129,
   "id": "969d386f",
   "metadata": {},
   "outputs": [],
   "source": [
    "# Compute HVG and PCA\n",
    "sc.pp.highly_variable_genes(adata, flavor='cell_ranger', n_top_genes =2000)\n",
    "sc.tl.pca(adata, n_comps=NPC, use_highly_variable=True)"
   ]
  },
  {
   "cell_type": "code",
   "execution_count": 130,
   "id": "02586881",
   "metadata": {},
   "outputs": [
    {
     "data": {
      "text/html": [
       "<div>\n",
       "<style scoped>\n",
       "    .dataframe tbody tr th:only-of-type {\n",
       "        vertical-align: middle;\n",
       "    }\n",
       "\n",
       "    .dataframe tbody tr th {\n",
       "        vertical-align: top;\n",
       "    }\n",
       "\n",
       "    .dataframe thead th {\n",
       "        text-align: right;\n",
       "    }\n",
       "</style>\n",
       "<table border=\"1\" class=\"dataframe\">\n",
       "  <thead>\n",
       "    <tr style=\"text-align: right;\">\n",
       "      <th></th>\n",
       "      <th>n_cells</th>\n",
       "      <th>highly_variable</th>\n",
       "      <th>means</th>\n",
       "      <th>dispersions</th>\n",
       "      <th>dispersions_norm</th>\n",
       "    </tr>\n",
       "    <tr>\n",
       "      <th>Cell ID</th>\n",
       "      <th></th>\n",
       "      <th></th>\n",
       "      <th></th>\n",
       "      <th></th>\n",
       "      <th></th>\n",
       "    </tr>\n",
       "  </thead>\n",
       "  <tbody>\n",
       "    <tr>\n",
       "      <th>TSPAN6</th>\n",
       "      <td>38</td>\n",
       "      <td>True</td>\n",
       "      <td>0.256759</td>\n",
       "      <td>3.465943</td>\n",
       "      <td>1.593101</td>\n",
       "    </tr>\n",
       "  </tbody>\n",
       "</table>\n",
       "</div>"
      ],
      "text/plain": [
       "         n_cells  highly_variable     means  dispersions  dispersions_norm\n",
       "Cell ID                                                                   \n",
       "TSPAN6        38             True  0.256759     3.465943          1.593101"
      ]
     },
     "execution_count": 130,
     "metadata": {},
     "output_type": "execute_result"
    }
   ],
   "source": [
    "adata.var.iloc[:1]"
   ]
  },
  {
   "cell_type": "code",
   "execution_count": 131,
   "id": "a47b6534",
   "metadata": {},
   "outputs": [
    {
     "name": "stdout",
     "output_type": "stream",
     "text": [
      "1461\n"
     ]
    }
   ],
   "source": [
    "# Subset GPs to only genes in data\n",
    "# Map to gene ids and orthologues in data before making GP sub\n",
    "hcs=[]\n",
    "gids=[]\n",
    "for eid,hc in genes_hc['hc'].iteritems():\n",
    "    for gid in [gid for gid in orthologues.query('eid_mm==@eid').gs_hs \n",
    "                if gid in adata.var_names]:\n",
    "        hcs.append(hc)\n",
    "        gids.append(gid)\n",
    "genes_hc_sub=pd.DataFrame({'hc':hcs},index=gids,dtype='category')\n",
    "print(genes_hc_sub.shape[0])\n",
    "info['n_gp_genes']=genes_hc_sub.shape[0]\n",
    "# Make sizes of GPs for random creation\n",
    "# Splits for np split\n",
    "splits=[]\n",
    "n_curr=0\n",
    "# Make sure this is ordered as gps\n",
    "for n in genes_hc_sub['hc'].value_counts(sort=False).values:\n",
    "    splits.append(n_curr+n)\n",
    "    n_curr+=n\n",
    "# Do not use last one as automatically createcd\n",
    "splits=splits[:-1]    "
   ]
  },
  {
   "cell_type": "code",
   "execution_count": 132,
   "id": "b4689bfd",
   "metadata": {},
   "outputs": [],
   "source": [
    "# Gene groups - GP and random\n",
    "gene_groups_collection={}\n",
    "# Add true GPs\n",
    "gene_groups_collection['GPs']={hc:list(g) \n",
    "                               for hc,g in genes_hc_sub.groupby('hc').groups.items()}\n",
    "# Add random gene groups of GP sizes\n",
    "np.random.seed(0)\n",
    "for i in range(10):\n",
    "    # Random idx groups of GP sizes\n",
    "    random_indices=np.split(np.random.permutation(list(range(adata.shape[1]))\n",
    "                                             )[:genes_hc_sub.shape[0]],splits)\n",
    "    # Map idx to genes\n",
    "    gene_groups_collection['GPs_random'+str(i)]={\n",
    "        genes_hc_sub.hc.cat.categories[gp_idx]:adata.var_names[idxs] \n",
    "        for gp_idx,idxs in enumerate(random_indices)}"
   ]
  },
  {
   "cell_type": "code",
   "execution_count": 133,
   "id": "688de0ae",
   "metadata": {},
   "outputs": [
    {
     "name": "stdout",
     "output_type": "stream",
     "text": [
      "GP and study: GPs False\n",
      "cov shape: (496, 27)\n",
      "GP and study: GPs_random0 False\n",
      "cov shape: (496, 27)\n",
      "GP and study: GPs_random1 False\n",
      "cov shape: (496, 27)\n",
      "GP and study: GPs_random2 False\n",
      "cov shape: (496, 27)\n",
      "GP and study: GPs_random3 False\n",
      "cov shape: (496, 27)\n",
      "GP and study: GPs_random4 False\n",
      "cov shape: (496, 27)\n",
      "GP and study: GPs_random5 False\n",
      "cov shape: (496, 27)\n",
      "GP and study: GPs_random6 False\n",
      "cov shape: (496, 27)\n",
      "GP and study: GPs_random7 False\n",
      "cov shape: (496, 27)\n",
      "GP and study: GPs_random8 False\n",
      "cov shape: (496, 27)\n",
      "GP and study: GPs_random9 False\n",
      "cov shape: (496, 27)\n"
     ]
    },
    {
     "data": {
      "text/html": [
       "<div>\n",
       "<style scoped>\n",
       "    .dataframe tbody tr th:only-of-type {\n",
       "        vertical-align: middle;\n",
       "    }\n",
       "\n",
       "    .dataframe tbody tr th {\n",
       "        vertical-align: top;\n",
       "    }\n",
       "\n",
       "    .dataframe thead th {\n",
       "        text-align: right;\n",
       "    }\n",
       "</style>\n",
       "<table border=\"1\" class=\"dataframe\">\n",
       "  <thead>\n",
       "    <tr style=\"text-align: right;\">\n",
       "      <th></th>\n",
       "      <th>GPs</th>\n",
       "      <th>study</th>\n",
       "      <th>explained_var_ratio</th>\n",
       "    </tr>\n",
       "  </thead>\n",
       "  <tbody>\n",
       "    <tr>\n",
       "      <th>0</th>\n",
       "      <td>GPs</td>\n",
       "      <td>False</td>\n",
       "      <td>0.295505</td>\n",
       "    </tr>\n",
       "    <tr>\n",
       "      <th>1</th>\n",
       "      <td>GPs_GPcomponent1</td>\n",
       "      <td>False</td>\n",
       "      <td>0.017391</td>\n",
       "    </tr>\n",
       "    <tr>\n",
       "      <th>2</th>\n",
       "      <td>GPs_GPcomponent2</td>\n",
       "      <td>False</td>\n",
       "      <td>0.065206</td>\n",
       "    </tr>\n",
       "    <tr>\n",
       "      <th>3</th>\n",
       "      <td>GPs_GPcomponent3</td>\n",
       "      <td>False</td>\n",
       "      <td>0.085647</td>\n",
       "    </tr>\n",
       "    <tr>\n",
       "      <th>4</th>\n",
       "      <td>GPs_GPcomponent4</td>\n",
       "      <td>False</td>\n",
       "      <td>0.083250</td>\n",
       "    </tr>\n",
       "    <tr>\n",
       "      <th>...</th>\n",
       "      <td>...</td>\n",
       "      <td>...</td>\n",
       "      <td>...</td>\n",
       "    </tr>\n",
       "    <tr>\n",
       "      <th>303</th>\n",
       "      <td>GPs_random9_GPcomponent23</td>\n",
       "      <td>False</td>\n",
       "      <td>0.006969</td>\n",
       "    </tr>\n",
       "    <tr>\n",
       "      <th>304</th>\n",
       "      <td>GPs_random9_GPcomponent24</td>\n",
       "      <td>False</td>\n",
       "      <td>0.006905</td>\n",
       "    </tr>\n",
       "    <tr>\n",
       "      <th>305</th>\n",
       "      <td>GPs_random9_GPcomponent25</td>\n",
       "      <td>False</td>\n",
       "      <td>0.009592</td>\n",
       "    </tr>\n",
       "    <tr>\n",
       "      <th>306</th>\n",
       "      <td>GPs_random9_GPcomponent26</td>\n",
       "      <td>False</td>\n",
       "      <td>0.009811</td>\n",
       "    </tr>\n",
       "    <tr>\n",
       "      <th>307</th>\n",
       "      <td>GPs_random9_GPcomponent27</td>\n",
       "      <td>False</td>\n",
       "      <td>0.002508</td>\n",
       "    </tr>\n",
       "  </tbody>\n",
       "</table>\n",
       "<p>308 rows × 3 columns</p>\n",
       "</div>"
      ],
      "text/plain": [
       "                           GPs  study  explained_var_ratio\n",
       "0                          GPs  False             0.295505\n",
       "1             GPs_GPcomponent1  False             0.017391\n",
       "2             GPs_GPcomponent2  False             0.065206\n",
       "3             GPs_GPcomponent3  False             0.085647\n",
       "4             GPs_GPcomponent4  False             0.083250\n",
       "..                         ...    ...                  ...\n",
       "303  GPs_random9_GPcomponent23  False             0.006969\n",
       "304  GPs_random9_GPcomponent24  False             0.006905\n",
       "305  GPs_random9_GPcomponent25  False             0.009592\n",
       "306  GPs_random9_GPcomponent26  False             0.009811\n",
       "307  GPs_random9_GPcomponent27  False             0.002508\n",
       "\n",
       "[308 rows x 3 columns]"
      ]
     },
     "metadata": {},
     "output_type": "display_data"
    }
   ],
   "source": [
    "# Explained var\n",
    "explained_var=explaied_var_helper(\n",
    "    gp_study=[(gp,False) for gp in gene_groups_collection.keys()],\n",
    "    adata=adata,gene_groups_collection=gene_groups_collection,study_cov=None)\n",
    "display(explained_var)"
   ]
  },
  {
   "cell_type": "code",
   "execution_count": 134,
   "id": "f9f98bbe",
   "metadata": {},
   "outputs": [],
   "source": [
    "explained_var.to_csv(path_save+dataset+'.tsv',sep='\\t',index=False)"
   ]
  },
  {
   "cell_type": "code",
   "execution_count": 135,
   "id": "faa74b76",
   "metadata": {},
   "outputs": [
    {
     "data": {
      "text/plain": [
       "{'dataset': 'GSE124742_GSE164875-patch',\n",
       " 'organism': 'human',\n",
       " 'technology': 'SMART-seq2',\n",
       " 'n_cells': 496,\n",
       " 'n_gp_genes': 1461}"
      ]
     },
     "execution_count": 135,
     "metadata": {},
     "output_type": "execute_result"
    }
   ],
   "source": [
    "info"
   ]
  },
  {
   "cell_type": "code",
   "execution_count": 136,
   "id": "80103e1c",
   "metadata": {},
   "outputs": [],
   "source": [
    "dataset_info.append(info)"
   ]
  },
  {
   "cell_type": "markdown",
   "id": "3383cd18",
   "metadata": {},
   "source": [
    "### GSE124742 and GSE164875 - FACS "
   ]
  },
  {
   "cell_type": "code",
   "execution_count": 137,
   "id": "39dbbe01",
   "metadata": {},
   "outputs": [],
   "source": [
    "dataset='GSE124742_GSE164875-facs'\n",
    "info={}\n",
    "info['dataset']=dataset\n",
    "info['organism']='human'\n",
    "info['technology']='SMART-seq2'"
   ]
  },
  {
   "cell_type": "code",
   "execution_count": 138,
   "id": "3272c7fc",
   "metadata": {},
   "outputs": [
    {
     "data": {
      "text/plain": [
       "(674, 48925)"
      ]
     },
     "execution_count": 138,
     "metadata": {},
     "output_type": "execute_result"
    }
   ],
   "source": [
    "ddir='/GSE124742_GSE164875/GEO/FACS/'\n",
    "adata=sc.read(path_rna+ddir+'adata_filtered.h5ad')\n",
    "adata=adata[(adata.obs.cell_type=='beta').values ]\n",
    "info['n_cells']=adata.shape[0]\n",
    "adata.shape"
   ]
  },
  {
   "cell_type": "code",
   "execution_count": 139,
   "id": "cf3b485b",
   "metadata": {},
   "outputs": [
    {
     "name": "stderr",
     "output_type": "stream",
     "text": [
      "Trying to set attribute `.var` of view, copying.\n"
     ]
    },
    {
     "name": "stdout",
     "output_type": "stream",
     "text": [
      "(674, 20451)\n"
     ]
    }
   ],
   "source": [
    "# Remove lowly expressed genes\n",
    "sc.pp.filter_genes(adata,min_cells=adata.shape[0]*0.01)\n",
    "print(adata.shape)"
   ]
  },
  {
   "cell_type": "code",
   "execution_count": 140,
   "id": "7edf18d4",
   "metadata": {},
   "outputs": [],
   "source": [
    "# Compute HVG and PCA\n",
    "sc.pp.highly_variable_genes(adata, flavor='cell_ranger', n_top_genes =2000)\n",
    "sc.tl.pca(adata, n_comps=NPC, use_highly_variable=True)"
   ]
  },
  {
   "cell_type": "code",
   "execution_count": 141,
   "id": "630b7315",
   "metadata": {},
   "outputs": [
    {
     "data": {
      "text/html": [
       "<div>\n",
       "<style scoped>\n",
       "    .dataframe tbody tr th:only-of-type {\n",
       "        vertical-align: middle;\n",
       "    }\n",
       "\n",
       "    .dataframe tbody tr th {\n",
       "        vertical-align: top;\n",
       "    }\n",
       "\n",
       "    .dataframe thead th {\n",
       "        text-align: right;\n",
       "    }\n",
       "</style>\n",
       "<table border=\"1\" class=\"dataframe\">\n",
       "  <thead>\n",
       "    <tr style=\"text-align: right;\">\n",
       "      <th></th>\n",
       "      <th>n_cells</th>\n",
       "      <th>highly_variable</th>\n",
       "      <th>means</th>\n",
       "      <th>dispersions</th>\n",
       "      <th>dispersions_norm</th>\n",
       "    </tr>\n",
       "  </thead>\n",
       "  <tbody>\n",
       "    <tr>\n",
       "      <th>TSPAN6</th>\n",
       "      <td>34</td>\n",
       "      <td>True</td>\n",
       "      <td>0.123827</td>\n",
       "      <td>3.331468</td>\n",
       "      <td>1.337467</td>\n",
       "    </tr>\n",
       "  </tbody>\n",
       "</table>\n",
       "</div>"
      ],
      "text/plain": [
       "        n_cells  highly_variable     means  dispersions  dispersions_norm\n",
       "TSPAN6       34             True  0.123827     3.331468          1.337467"
      ]
     },
     "execution_count": 141,
     "metadata": {},
     "output_type": "execute_result"
    }
   ],
   "source": [
    "adata.var.iloc[:1]"
   ]
  },
  {
   "cell_type": "code",
   "execution_count": 142,
   "id": "9358ab27",
   "metadata": {},
   "outputs": [
    {
     "name": "stdout",
     "output_type": "stream",
     "text": [
      "1418\n"
     ]
    }
   ],
   "source": [
    "# Subset GPs to only genes in data\n",
    "# Map to gene ids and orthologues in data before making GP sub\n",
    "hcs=[]\n",
    "gids=[]\n",
    "for eid,hc in genes_hc['hc'].iteritems():\n",
    "    for gid in [gid for gid in orthologues.query('eid_mm==@eid').gs_hs \n",
    "                if gid in adata.var_names]:\n",
    "        hcs.append(hc)\n",
    "        gids.append(gid)\n",
    "genes_hc_sub=pd.DataFrame({'hc':hcs},index=gids,dtype='category')\n",
    "print(genes_hc_sub.shape[0])\n",
    "info['n_gp_genes']=genes_hc_sub.shape[0]\n",
    "# Make sizes of GPs for random creation\n",
    "# Splits for np split\n",
    "splits=[]\n",
    "n_curr=0\n",
    "# Make sure this is ordered as gps\n",
    "for n in genes_hc_sub['hc'].value_counts(sort=False).values:\n",
    "    splits.append(n_curr+n)\n",
    "    n_curr+=n\n",
    "# Do not use last one as automatically createcd\n",
    "splits=splits[:-1]    "
   ]
  },
  {
   "cell_type": "code",
   "execution_count": 144,
   "id": "3661cd9e",
   "metadata": {},
   "outputs": [],
   "source": [
    "# Gene groups - GP and random\n",
    "gene_groups_collection={}\n",
    "# Add true GPs\n",
    "gene_groups_collection['GPs']={hc:list(g) \n",
    "                               for hc,g in genes_hc_sub.groupby('hc').groups.items()}\n",
    "# Add random gene groups of GP sizes\n",
    "np.random.seed(0)\n",
    "for i in range(10):\n",
    "    # Random idx groups of GP sizes\n",
    "    random_indices=np.split(np.random.permutation(list(range(adata.shape[1]))\n",
    "                                             )[:genes_hc_sub.shape[0]],splits)\n",
    "    # Map idx to genes\n",
    "    gene_groups_collection['GPs_random'+str(i)]={\n",
    "        genes_hc_sub.hc.cat.categories[gp_idx]:adata.var_names[idxs] \n",
    "        for gp_idx,idxs in enumerate(random_indices)}"
   ]
  },
  {
   "cell_type": "code",
   "execution_count": 145,
   "id": "3cbf2041",
   "metadata": {},
   "outputs": [
    {
     "name": "stdout",
     "output_type": "stream",
     "text": [
      "GP and study: GPs False\n",
      "cov shape: (674, 27)\n",
      "GP and study: GPs_random0 False\n",
      "cov shape: (674, 27)\n",
      "GP and study: GPs_random1 False\n",
      "cov shape: (674, 27)\n",
      "GP and study: GPs_random2 False\n",
      "cov shape: (674, 27)\n",
      "GP and study: GPs_random3 False\n",
      "cov shape: (674, 27)\n",
      "GP and study: GPs_random4 False\n",
      "cov shape: (674, 27)\n",
      "GP and study: GPs_random5 False\n",
      "cov shape: (674, 27)\n",
      "GP and study: GPs_random6 False\n",
      "cov shape: (674, 27)\n",
      "GP and study: GPs_random7 False\n",
      "cov shape: (674, 27)\n",
      "GP and study: GPs_random8 False\n",
      "cov shape: (674, 27)\n",
      "GP and study: GPs_random9 False\n",
      "cov shape: (674, 27)\n"
     ]
    },
    {
     "data": {
      "text/html": [
       "<div>\n",
       "<style scoped>\n",
       "    .dataframe tbody tr th:only-of-type {\n",
       "        vertical-align: middle;\n",
       "    }\n",
       "\n",
       "    .dataframe tbody tr th {\n",
       "        vertical-align: top;\n",
       "    }\n",
       "\n",
       "    .dataframe thead th {\n",
       "        text-align: right;\n",
       "    }\n",
       "</style>\n",
       "<table border=\"1\" class=\"dataframe\">\n",
       "  <thead>\n",
       "    <tr style=\"text-align: right;\">\n",
       "      <th></th>\n",
       "      <th>GPs</th>\n",
       "      <th>study</th>\n",
       "      <th>explained_var_ratio</th>\n",
       "    </tr>\n",
       "  </thead>\n",
       "  <tbody>\n",
       "    <tr>\n",
       "      <th>0</th>\n",
       "      <td>GPs</td>\n",
       "      <td>False</td>\n",
       "      <td>0.320157</td>\n",
       "    </tr>\n",
       "    <tr>\n",
       "      <th>1</th>\n",
       "      <td>GPs_GPcomponent1</td>\n",
       "      <td>False</td>\n",
       "      <td>0.067517</td>\n",
       "    </tr>\n",
       "    <tr>\n",
       "      <th>2</th>\n",
       "      <td>GPs_GPcomponent2</td>\n",
       "      <td>False</td>\n",
       "      <td>0.133600</td>\n",
       "    </tr>\n",
       "    <tr>\n",
       "      <th>3</th>\n",
       "      <td>GPs_GPcomponent3</td>\n",
       "      <td>False</td>\n",
       "      <td>0.124049</td>\n",
       "    </tr>\n",
       "    <tr>\n",
       "      <th>4</th>\n",
       "      <td>GPs_GPcomponent4</td>\n",
       "      <td>False</td>\n",
       "      <td>0.112834</td>\n",
       "    </tr>\n",
       "    <tr>\n",
       "      <th>...</th>\n",
       "      <td>...</td>\n",
       "      <td>...</td>\n",
       "      <td>...</td>\n",
       "    </tr>\n",
       "    <tr>\n",
       "      <th>303</th>\n",
       "      <td>GPs_random9_GPcomponent23</td>\n",
       "      <td>False</td>\n",
       "      <td>0.003197</td>\n",
       "    </tr>\n",
       "    <tr>\n",
       "      <th>304</th>\n",
       "      <td>GPs_random9_GPcomponent24</td>\n",
       "      <td>False</td>\n",
       "      <td>0.030605</td>\n",
       "    </tr>\n",
       "    <tr>\n",
       "      <th>305</th>\n",
       "      <td>GPs_random9_GPcomponent25</td>\n",
       "      <td>False</td>\n",
       "      <td>0.004713</td>\n",
       "    </tr>\n",
       "    <tr>\n",
       "      <th>306</th>\n",
       "      <td>GPs_random9_GPcomponent26</td>\n",
       "      <td>False</td>\n",
       "      <td>0.004321</td>\n",
       "    </tr>\n",
       "    <tr>\n",
       "      <th>307</th>\n",
       "      <td>GPs_random9_GPcomponent27</td>\n",
       "      <td>False</td>\n",
       "      <td>0.002760</td>\n",
       "    </tr>\n",
       "  </tbody>\n",
       "</table>\n",
       "<p>308 rows × 3 columns</p>\n",
       "</div>"
      ],
      "text/plain": [
       "                           GPs  study  explained_var_ratio\n",
       "0                          GPs  False             0.320157\n",
       "1             GPs_GPcomponent1  False             0.067517\n",
       "2             GPs_GPcomponent2  False             0.133600\n",
       "3             GPs_GPcomponent3  False             0.124049\n",
       "4             GPs_GPcomponent4  False             0.112834\n",
       "..                         ...    ...                  ...\n",
       "303  GPs_random9_GPcomponent23  False             0.003197\n",
       "304  GPs_random9_GPcomponent24  False             0.030605\n",
       "305  GPs_random9_GPcomponent25  False             0.004713\n",
       "306  GPs_random9_GPcomponent26  False             0.004321\n",
       "307  GPs_random9_GPcomponent27  False             0.002760\n",
       "\n",
       "[308 rows x 3 columns]"
      ]
     },
     "metadata": {},
     "output_type": "display_data"
    }
   ],
   "source": [
    "# Explained var\n",
    "explained_var=explaied_var_helper(\n",
    "    gp_study=[(gp,False) for gp in gene_groups_collection.keys()],\n",
    "    adata=adata,gene_groups_collection=gene_groups_collection,study_cov=None)\n",
    "display(explained_var)"
   ]
  },
  {
   "cell_type": "code",
   "execution_count": 146,
   "id": "2370ee3b",
   "metadata": {},
   "outputs": [],
   "source": [
    "explained_var.to_csv(path_save+dataset+'.tsv',sep='\\t',index=False)"
   ]
  },
  {
   "cell_type": "code",
   "execution_count": 147,
   "id": "b51b0407",
   "metadata": {},
   "outputs": [
    {
     "data": {
      "text/plain": [
       "{'dataset': 'GSE124742_GSE164875-facs',\n",
       " 'organism': 'human',\n",
       " 'technology': 'SMART-seq2',\n",
       " 'n_cells': 674,\n",
       " 'n_gp_genes': 1418}"
      ]
     },
     "execution_count": 147,
     "metadata": {},
     "output_type": "execute_result"
    }
   ],
   "source": [
    "info"
   ]
  },
  {
   "cell_type": "code",
   "execution_count": 148,
   "id": "e82a54dc",
   "metadata": {},
   "outputs": [],
   "source": [
    "dataset_info.append(info)"
   ]
  },
  {
   "cell_type": "markdown",
   "id": "0992e150",
   "metadata": {},
   "source": [
    "### GSE86469"
   ]
  },
  {
   "cell_type": "code",
   "execution_count": 149,
   "id": "32f203a8",
   "metadata": {},
   "outputs": [],
   "source": [
    "dataset='GSE86469'\n",
    "info={}\n",
    "info['dataset']=dataset\n",
    "info['organism']='human'\n",
    "info['technology']='FluidigmC1_SMARTer'"
   ]
  },
  {
   "cell_type": "code",
   "execution_count": 150,
   "id": "38ecd594",
   "metadata": {},
   "outputs": [
    {
     "name": "stderr",
     "output_type": "stream",
     "text": [
      "Variable names are not unique. To make them unique, call `.var_names_make_unique`.\n"
     ]
    },
    {
     "data": {
      "text/plain": [
       "(264, 26616)"
      ]
     },
     "execution_count": 150,
     "metadata": {},
     "output_type": "execute_result"
    }
   ],
   "source": [
    "ddir=dataset+'/GEO/'\n",
    "adata=sc.read(path_rna+ddir+'adata_filtered.h5ad')\n",
    "adata=adata[(adata.obs.cell_type=='beta').values ]\n",
    "info['n_cells']=adata.shape[0]\n",
    "adata.shape"
   ]
  },
  {
   "cell_type": "code",
   "execution_count": 151,
   "id": "5294c72c",
   "metadata": {},
   "outputs": [
    {
     "name": "stderr",
     "output_type": "stream",
     "text": [
      "Variable names are not unique. To make them unique, call `.var_names_make_unique`.\n",
      "Variable names are not unique. To make them unique, call `.var_names_make_unique`.\n"
     ]
    }
   ],
   "source": [
    "adata.var_names=adata.var.EID"
   ]
  },
  {
   "cell_type": "code",
   "execution_count": 152,
   "id": "b8618aed",
   "metadata": {},
   "outputs": [
    {
     "data": {
      "text/plain": [
       "ENSG00000229483    1\n",
       "ENSG00000135763    1\n",
       "ENSG00000264080    1\n",
       "ENSG00000266450    1\n",
       "ENSG00000152219    1\n",
       "                  ..\n",
       "ENSG00000251628    1\n",
       "ENSG00000119547    1\n",
       "ENSG00000064545    1\n",
       "ENSG00000196793    1\n",
       "ENSG00000082898    1\n",
       "Name: EID, Length: 26616, dtype: int64"
      ]
     },
     "execution_count": 152,
     "metadata": {},
     "output_type": "execute_result"
    }
   ],
   "source": [
    "# Check that now var names are unique\n",
    "adata.var_names.value_counts()"
   ]
  },
  {
   "cell_type": "code",
   "execution_count": 153,
   "id": "9c98eb11",
   "metadata": {},
   "outputs": [
    {
     "name": "stdout",
     "output_type": "stream",
     "text": [
      "(264, 17982)\n"
     ]
    }
   ],
   "source": [
    "# Remove lowly expressed genes\n",
    "sc.pp.filter_genes(adata,min_cells=adata.shape[0]*0.01)\n",
    "print(adata.shape)"
   ]
  },
  {
   "cell_type": "code",
   "execution_count": 154,
   "id": "5d56526c",
   "metadata": {},
   "outputs": [],
   "source": [
    "# Compute HVG and PCA\n",
    "sc.pp.highly_variable_genes(adata, flavor='cell_ranger', n_top_genes =2000)\n",
    "sc.tl.pca(adata, n_comps=NPC, use_highly_variable=True)"
   ]
  },
  {
   "cell_type": "code",
   "execution_count": 155,
   "id": "1ea459be",
   "metadata": {},
   "outputs": [
    {
     "data": {
      "text/html": [
       "<div>\n",
       "<style scoped>\n",
       "    .dataframe tbody tr th:only-of-type {\n",
       "        vertical-align: middle;\n",
       "    }\n",
       "\n",
       "    .dataframe tbody tr th {\n",
       "        vertical-align: top;\n",
       "    }\n",
       "\n",
       "    .dataframe thead th {\n",
       "        text-align: right;\n",
       "    }\n",
       "</style>\n",
       "<table border=\"1\" class=\"dataframe\">\n",
       "  <thead>\n",
       "    <tr style=\"text-align: right;\">\n",
       "      <th></th>\n",
       "      <th>EID</th>\n",
       "      <th>n_cells</th>\n",
       "      <th>highly_variable</th>\n",
       "      <th>means</th>\n",
       "      <th>dispersions</th>\n",
       "      <th>dispersions_norm</th>\n",
       "    </tr>\n",
       "    <tr>\n",
       "      <th>EID</th>\n",
       "      <th></th>\n",
       "      <th></th>\n",
       "      <th></th>\n",
       "      <th></th>\n",
       "      <th></th>\n",
       "      <th></th>\n",
       "    </tr>\n",
       "  </thead>\n",
       "  <tbody>\n",
       "    <tr>\n",
       "      <th>ENSG00000232977</th>\n",
       "      <td>ENSG00000232977</td>\n",
       "      <td>163</td>\n",
       "      <td>False</td>\n",
       "      <td>0.893639</td>\n",
       "      <td>0.84763</td>\n",
       "      <td>-1.547857</td>\n",
       "    </tr>\n",
       "  </tbody>\n",
       "</table>\n",
       "</div>"
      ],
      "text/plain": [
       "                             EID  n_cells  highly_variable     means  \\\n",
       "EID                                                                    \n",
       "ENSG00000232977  ENSG00000232977      163            False  0.893639   \n",
       "\n",
       "                 dispersions  dispersions_norm  \n",
       "EID                                             \n",
       "ENSG00000232977      0.84763         -1.547857  "
      ]
     },
     "execution_count": 155,
     "metadata": {},
     "output_type": "execute_result"
    }
   ],
   "source": [
    "adata.var.iloc[:1]"
   ]
  },
  {
   "cell_type": "code",
   "execution_count": 156,
   "id": "cb9f2853",
   "metadata": {},
   "outputs": [
    {
     "name": "stdout",
     "output_type": "stream",
     "text": [
      "1482\n"
     ]
    }
   ],
   "source": [
    "# Subset GPs to only genes in data\n",
    "# Map to gene ids and orthologues in data before making GP sub\n",
    "hcs=[]\n",
    "gids=[]\n",
    "for eid,hc in genes_hc['hc'].iteritems():\n",
    "    for gid in [gid for gid in orthologues.query('eid_mm==@eid').eid_hs \n",
    "                if gid in adata.var_names]:\n",
    "        hcs.append(hc)\n",
    "        gids.append(gid)\n",
    "genes_hc_sub=pd.DataFrame({'hc':hcs},index=gids,dtype='category')\n",
    "print(genes_hc_sub.shape[0])\n",
    "info['n_gp_genes']=genes_hc_sub.shape[0]\n",
    "# Make sizes of GPs for random creation\n",
    "# Splits for np split\n",
    "splits=[]\n",
    "n_curr=0\n",
    "# Make sure this is ordered as gps\n",
    "for n in genes_hc_sub['hc'].value_counts(sort=False).values:\n",
    "    splits.append(n_curr+n)\n",
    "    n_curr+=n\n",
    "# Do not use last one as automatically createcd\n",
    "splits=splits[:-1]    "
   ]
  },
  {
   "cell_type": "code",
   "execution_count": 157,
   "id": "4250212f",
   "metadata": {},
   "outputs": [],
   "source": [
    "# Gene groups - GP and random\n",
    "gene_groups_collection={}\n",
    "# Add true GPs\n",
    "gene_groups_collection['GPs']={hc:list(g) \n",
    "                               for hc,g in genes_hc_sub.groupby('hc').groups.items()}\n",
    "# Add random gene groups of GP sizes\n",
    "np.random.seed(0)\n",
    "for i in range(10):\n",
    "    # Random idx groups of GP sizes\n",
    "    random_indices=np.split(np.random.permutation(list(range(adata.shape[1]))\n",
    "                                             )[:genes_hc_sub.shape[0]],splits)\n",
    "    # Map idx to genes\n",
    "    gene_groups_collection['GPs_random'+str(i)]={\n",
    "        genes_hc_sub.hc.cat.categories[gp_idx]:adata.var_names[idxs] \n",
    "        for gp_idx,idxs in enumerate(random_indices)}"
   ]
  },
  {
   "cell_type": "code",
   "execution_count": 158,
   "id": "0b1e2c62",
   "metadata": {},
   "outputs": [
    {
     "name": "stdout",
     "output_type": "stream",
     "text": [
      "GP and study: GPs False\n",
      "cov shape: (264, 27)\n",
      "GP and study: GPs_random0 False\n",
      "cov shape: (264, 27)\n",
      "GP and study: GPs_random1 False\n",
      "cov shape: (264, 27)\n",
      "GP and study: GPs_random2 False\n",
      "cov shape: (264, 27)\n",
      "GP and study: GPs_random3 False\n",
      "cov shape: (264, 27)\n",
      "GP and study: GPs_random4 False\n",
      "cov shape: (264, 27)\n",
      "GP and study: GPs_random5 False\n",
      "cov shape: (264, 27)\n",
      "GP and study: GPs_random6 False\n",
      "cov shape: (264, 27)\n",
      "GP and study: GPs_random7 False\n",
      "cov shape: (264, 27)\n",
      "GP and study: GPs_random8 False\n",
      "cov shape: (264, 27)\n",
      "GP and study: GPs_random9 False\n",
      "cov shape: (264, 27)\n"
     ]
    },
    {
     "data": {
      "text/html": [
       "<div>\n",
       "<style scoped>\n",
       "    .dataframe tbody tr th:only-of-type {\n",
       "        vertical-align: middle;\n",
       "    }\n",
       "\n",
       "    .dataframe tbody tr th {\n",
       "        vertical-align: top;\n",
       "    }\n",
       "\n",
       "    .dataframe thead th {\n",
       "        text-align: right;\n",
       "    }\n",
       "</style>\n",
       "<table border=\"1\" class=\"dataframe\">\n",
       "  <thead>\n",
       "    <tr style=\"text-align: right;\">\n",
       "      <th></th>\n",
       "      <th>GPs</th>\n",
       "      <th>study</th>\n",
       "      <th>explained_var_ratio</th>\n",
       "    </tr>\n",
       "  </thead>\n",
       "  <tbody>\n",
       "    <tr>\n",
       "      <th>0</th>\n",
       "      <td>GPs</td>\n",
       "      <td>False</td>\n",
       "      <td>0.230156</td>\n",
       "    </tr>\n",
       "    <tr>\n",
       "      <th>1</th>\n",
       "      <td>GPs_GPcomponent1</td>\n",
       "      <td>False</td>\n",
       "      <td>0.005738</td>\n",
       "    </tr>\n",
       "    <tr>\n",
       "      <th>2</th>\n",
       "      <td>GPs_GPcomponent2</td>\n",
       "      <td>False</td>\n",
       "      <td>0.044013</td>\n",
       "    </tr>\n",
       "    <tr>\n",
       "      <th>3</th>\n",
       "      <td>GPs_GPcomponent3</td>\n",
       "      <td>False</td>\n",
       "      <td>0.016757</td>\n",
       "    </tr>\n",
       "    <tr>\n",
       "      <th>4</th>\n",
       "      <td>GPs_GPcomponent4</td>\n",
       "      <td>False</td>\n",
       "      <td>0.044054</td>\n",
       "    </tr>\n",
       "    <tr>\n",
       "      <th>...</th>\n",
       "      <td>...</td>\n",
       "      <td>...</td>\n",
       "      <td>...</td>\n",
       "    </tr>\n",
       "    <tr>\n",
       "      <th>303</th>\n",
       "      <td>GPs_random9_GPcomponent23</td>\n",
       "      <td>False</td>\n",
       "      <td>0.005820</td>\n",
       "    </tr>\n",
       "    <tr>\n",
       "      <th>304</th>\n",
       "      <td>GPs_random9_GPcomponent24</td>\n",
       "      <td>False</td>\n",
       "      <td>0.007511</td>\n",
       "    </tr>\n",
       "    <tr>\n",
       "      <th>305</th>\n",
       "      <td>GPs_random9_GPcomponent25</td>\n",
       "      <td>False</td>\n",
       "      <td>0.005938</td>\n",
       "    </tr>\n",
       "    <tr>\n",
       "      <th>306</th>\n",
       "      <td>GPs_random9_GPcomponent26</td>\n",
       "      <td>False</td>\n",
       "      <td>0.003928</td>\n",
       "    </tr>\n",
       "    <tr>\n",
       "      <th>307</th>\n",
       "      <td>GPs_random9_GPcomponent27</td>\n",
       "      <td>False</td>\n",
       "      <td>0.004707</td>\n",
       "    </tr>\n",
       "  </tbody>\n",
       "</table>\n",
       "<p>308 rows × 3 columns</p>\n",
       "</div>"
      ],
      "text/plain": [
       "                           GPs  study  explained_var_ratio\n",
       "0                          GPs  False             0.230156\n",
       "1             GPs_GPcomponent1  False             0.005738\n",
       "2             GPs_GPcomponent2  False             0.044013\n",
       "3             GPs_GPcomponent3  False             0.016757\n",
       "4             GPs_GPcomponent4  False             0.044054\n",
       "..                         ...    ...                  ...\n",
       "303  GPs_random9_GPcomponent23  False             0.005820\n",
       "304  GPs_random9_GPcomponent24  False             0.007511\n",
       "305  GPs_random9_GPcomponent25  False             0.005938\n",
       "306  GPs_random9_GPcomponent26  False             0.003928\n",
       "307  GPs_random9_GPcomponent27  False             0.004707\n",
       "\n",
       "[308 rows x 3 columns]"
      ]
     },
     "metadata": {},
     "output_type": "display_data"
    }
   ],
   "source": [
    "# Explained var\n",
    "explained_var=explaied_var_helper(\n",
    "    gp_study=[(gp,False) for gp in gene_groups_collection.keys()],\n",
    "    adata=adata,gene_groups_collection=gene_groups_collection,study_cov=None)\n",
    "display(explained_var)"
   ]
  },
  {
   "cell_type": "code",
   "execution_count": 159,
   "id": "2815ee84",
   "metadata": {},
   "outputs": [],
   "source": [
    "explained_var.to_csv(path_save+dataset+'.tsv',sep='\\t',index=False)"
   ]
  },
  {
   "cell_type": "code",
   "execution_count": 160,
   "id": "471582c0",
   "metadata": {},
   "outputs": [
    {
     "data": {
      "text/plain": [
       "{'dataset': 'GSE86469',\n",
       " 'organism': 'human',\n",
       " 'technology': 'FluidigmC1_SMARTer',\n",
       " 'n_cells': 264,\n",
       " 'n_gp_genes': 1482}"
      ]
     },
     "execution_count": 160,
     "metadata": {},
     "output_type": "execute_result"
    }
   ],
   "source": [
    "info"
   ]
  },
  {
   "cell_type": "code",
   "execution_count": 161,
   "id": "201e874b",
   "metadata": {},
   "outputs": [],
   "source": [
    "dataset_info.append(info)"
   ]
  },
  {
   "cell_type": "markdown",
   "id": "837229b2",
   "metadata": {},
   "source": [
    "### GSE81547"
   ]
  },
  {
   "cell_type": "code",
   "execution_count": 162,
   "id": "940ffd18",
   "metadata": {},
   "outputs": [],
   "source": [
    "dataset='GSE81547'\n",
    "info={}\n",
    "info['dataset']=dataset\n",
    "info['organism']='human'\n",
    "info['technology']='SMART-seq2'"
   ]
  },
  {
   "cell_type": "code",
   "execution_count": 163,
   "id": "52a7fc18",
   "metadata": {},
   "outputs": [
    {
     "data": {
      "text/plain": [
       "(348, 23459)"
      ]
     },
     "execution_count": 163,
     "metadata": {},
     "output_type": "execute_result"
    }
   ],
   "source": [
    "ddir=dataset+'/GEO/'\n",
    "adata=sc.read(path_rna+ddir+'adata_filtered.h5ad')\n",
    "adata=adata[(adata.obs.cell_type=='beta').values ]\n",
    "info['n_cells']=adata.shape[0]\n",
    "adata.shape"
   ]
  },
  {
   "cell_type": "code",
   "execution_count": 164,
   "id": "cf394c90",
   "metadata": {},
   "outputs": [
    {
     "name": "stderr",
     "output_type": "stream",
     "text": [
      "Trying to set attribute `.var` of view, copying.\n"
     ]
    },
    {
     "name": "stdout",
     "output_type": "stream",
     "text": [
      "(348, 14206)\n"
     ]
    }
   ],
   "source": [
    "# Remove lowly expressed genes\n",
    "sc.pp.filter_genes(adata,min_cells=adata.shape[0]*0.01)\n",
    "print(adata.shape)"
   ]
  },
  {
   "cell_type": "code",
   "execution_count": 165,
   "id": "c4516350",
   "metadata": {},
   "outputs": [],
   "source": [
    "# Compute HVG and PCA\n",
    "sc.pp.highly_variable_genes(adata, flavor='cell_ranger', n_top_genes =2000)\n",
    "sc.tl.pca(adata, n_comps=NPC, use_highly_variable=True)"
   ]
  },
  {
   "cell_type": "code",
   "execution_count": 166,
   "id": "4fa80dd8",
   "metadata": {},
   "outputs": [
    {
     "data": {
      "text/html": [
       "<div>\n",
       "<style scoped>\n",
       "    .dataframe tbody tr th:only-of-type {\n",
       "        vertical-align: middle;\n",
       "    }\n",
       "\n",
       "    .dataframe tbody tr th {\n",
       "        vertical-align: top;\n",
       "    }\n",
       "\n",
       "    .dataframe thead th {\n",
       "        text-align: right;\n",
       "    }\n",
       "</style>\n",
       "<table border=\"1\" class=\"dataframe\">\n",
       "  <thead>\n",
       "    <tr style=\"text-align: right;\">\n",
       "      <th></th>\n",
       "      <th>n_cells</th>\n",
       "      <th>highly_variable</th>\n",
       "      <th>means</th>\n",
       "      <th>dispersions</th>\n",
       "      <th>dispersions_norm</th>\n",
       "    </tr>\n",
       "  </thead>\n",
       "  <tbody>\n",
       "    <tr>\n",
       "      <th>1/2-SBSRNA4</th>\n",
       "      <td>10</td>\n",
       "      <td>False</td>\n",
       "      <td>0.072943</td>\n",
       "      <td>3.20505</td>\n",
       "      <td>-0.54427</td>\n",
       "    </tr>\n",
       "  </tbody>\n",
       "</table>\n",
       "</div>"
      ],
      "text/plain": [
       "             n_cells  highly_variable     means  dispersions  dispersions_norm\n",
       "1/2-SBSRNA4       10            False  0.072943      3.20505          -0.54427"
      ]
     },
     "execution_count": 166,
     "metadata": {},
     "output_type": "execute_result"
    }
   ],
   "source": [
    "adata.var.iloc[:1]"
   ]
  },
  {
   "cell_type": "code",
   "execution_count": 167,
   "id": "e17c2fdd",
   "metadata": {},
   "outputs": [
    {
     "name": "stdout",
     "output_type": "stream",
     "text": [
      "1267\n"
     ]
    }
   ],
   "source": [
    "# Subset GPs to only genes in data\n",
    "# Map to gene ids and orthologues in data before making GP sub\n",
    "hcs=[]\n",
    "gids=[]\n",
    "for eid,hc in genes_hc['hc'].iteritems():\n",
    "    for gid in [gid for gid in orthologues.query('eid_mm==@eid').gs_hs \n",
    "                if gid in adata.var_names]:\n",
    "        hcs.append(hc)\n",
    "        gids.append(gid)\n",
    "genes_hc_sub=pd.DataFrame({'hc':hcs},index=gids,dtype='category')\n",
    "print(genes_hc_sub.shape[0])\n",
    "info['n_gp_genes']=genes_hc_sub.shape[0]\n",
    "# Make sizes of GPs for random creation\n",
    "# Splits for np split\n",
    "splits=[]\n",
    "n_curr=0\n",
    "# Make sure this is ordered as gps\n",
    "for n in genes_hc_sub['hc'].value_counts(sort=False).values:\n",
    "    splits.append(n_curr+n)\n",
    "    n_curr+=n\n",
    "# Do not use last one as automatically createcd\n",
    "splits=splits[:-1]    "
   ]
  },
  {
   "cell_type": "code",
   "execution_count": 168,
   "id": "5bb12fbf",
   "metadata": {},
   "outputs": [],
   "source": [
    "# Gene groups - GP and random\n",
    "gene_groups_collection={}\n",
    "# Add true GPs\n",
    "gene_groups_collection['GPs']={hc:list(g) \n",
    "                               for hc,g in genes_hc_sub.groupby('hc').groups.items()}\n",
    "# Add random gene groups of GP sizes\n",
    "np.random.seed(0)\n",
    "for i in range(10):\n",
    "    # Random idx groups of GP sizes\n",
    "    random_indices=np.split(np.random.permutation(list(range(adata.shape[1]))\n",
    "                                             )[:genes_hc_sub.shape[0]],splits)\n",
    "    # Map idx to genes\n",
    "    gene_groups_collection['GPs_random'+str(i)]={\n",
    "        genes_hc_sub.hc.cat.categories[gp_idx]:adata.var_names[idxs] \n",
    "        for gp_idx,idxs in enumerate(random_indices)}"
   ]
  },
  {
   "cell_type": "code",
   "execution_count": 169,
   "id": "d9416b89",
   "metadata": {},
   "outputs": [
    {
     "name": "stdout",
     "output_type": "stream",
     "text": [
      "GP and study: GPs False\n",
      "cov shape: (348, 27)\n",
      "GP and study: GPs_random0 False\n",
      "cov shape: (348, 27)\n",
      "GP and study: GPs_random1 False\n",
      "cov shape: (348, 27)\n",
      "GP and study: GPs_random2 False\n",
      "cov shape: (348, 27)\n",
      "GP and study: GPs_random3 False\n",
      "cov shape: (348, 27)\n",
      "GP and study: GPs_random4 False\n",
      "cov shape: (348, 27)\n",
      "GP and study: GPs_random5 False\n",
      "cov shape: (348, 27)\n",
      "GP and study: GPs_random6 False\n",
      "cov shape: (348, 27)\n",
      "GP and study: GPs_random7 False\n",
      "cov shape: (348, 27)\n",
      "GP and study: GPs_random8 False\n",
      "cov shape: (348, 27)\n",
      "GP and study: GPs_random9 False\n",
      "cov shape: (348, 27)\n"
     ]
    },
    {
     "data": {
      "text/html": [
       "<div>\n",
       "<style scoped>\n",
       "    .dataframe tbody tr th:only-of-type {\n",
       "        vertical-align: middle;\n",
       "    }\n",
       "\n",
       "    .dataframe tbody tr th {\n",
       "        vertical-align: top;\n",
       "    }\n",
       "\n",
       "    .dataframe thead th {\n",
       "        text-align: right;\n",
       "    }\n",
       "</style>\n",
       "<table border=\"1\" class=\"dataframe\">\n",
       "  <thead>\n",
       "    <tr style=\"text-align: right;\">\n",
       "      <th></th>\n",
       "      <th>GPs</th>\n",
       "      <th>study</th>\n",
       "      <th>explained_var_ratio</th>\n",
       "    </tr>\n",
       "  </thead>\n",
       "  <tbody>\n",
       "    <tr>\n",
       "      <th>0</th>\n",
       "      <td>GPs</td>\n",
       "      <td>False</td>\n",
       "      <td>0.346704</td>\n",
       "    </tr>\n",
       "    <tr>\n",
       "      <th>1</th>\n",
       "      <td>GPs_GPcomponent1</td>\n",
       "      <td>False</td>\n",
       "      <td>0.026774</td>\n",
       "    </tr>\n",
       "    <tr>\n",
       "      <th>2</th>\n",
       "      <td>GPs_GPcomponent2</td>\n",
       "      <td>False</td>\n",
       "      <td>0.087136</td>\n",
       "    </tr>\n",
       "    <tr>\n",
       "      <th>3</th>\n",
       "      <td>GPs_GPcomponent3</td>\n",
       "      <td>False</td>\n",
       "      <td>0.076694</td>\n",
       "    </tr>\n",
       "    <tr>\n",
       "      <th>4</th>\n",
       "      <td>GPs_GPcomponent4</td>\n",
       "      <td>False</td>\n",
       "      <td>0.120295</td>\n",
       "    </tr>\n",
       "    <tr>\n",
       "      <th>...</th>\n",
       "      <td>...</td>\n",
       "      <td>...</td>\n",
       "      <td>...</td>\n",
       "    </tr>\n",
       "    <tr>\n",
       "      <th>303</th>\n",
       "      <td>GPs_random9_GPcomponent23</td>\n",
       "      <td>False</td>\n",
       "      <td>0.011476</td>\n",
       "    </tr>\n",
       "    <tr>\n",
       "      <th>304</th>\n",
       "      <td>GPs_random9_GPcomponent24</td>\n",
       "      <td>False</td>\n",
       "      <td>0.017557</td>\n",
       "    </tr>\n",
       "    <tr>\n",
       "      <th>305</th>\n",
       "      <td>GPs_random9_GPcomponent25</td>\n",
       "      <td>False</td>\n",
       "      <td>0.005090</td>\n",
       "    </tr>\n",
       "    <tr>\n",
       "      <th>306</th>\n",
       "      <td>GPs_random9_GPcomponent26</td>\n",
       "      <td>False</td>\n",
       "      <td>0.005003</td>\n",
       "    </tr>\n",
       "    <tr>\n",
       "      <th>307</th>\n",
       "      <td>GPs_random9_GPcomponent27</td>\n",
       "      <td>False</td>\n",
       "      <td>0.005770</td>\n",
       "    </tr>\n",
       "  </tbody>\n",
       "</table>\n",
       "<p>308 rows × 3 columns</p>\n",
       "</div>"
      ],
      "text/plain": [
       "                           GPs  study  explained_var_ratio\n",
       "0                          GPs  False             0.346704\n",
       "1             GPs_GPcomponent1  False             0.026774\n",
       "2             GPs_GPcomponent2  False             0.087136\n",
       "3             GPs_GPcomponent3  False             0.076694\n",
       "4             GPs_GPcomponent4  False             0.120295\n",
       "..                         ...    ...                  ...\n",
       "303  GPs_random9_GPcomponent23  False             0.011476\n",
       "304  GPs_random9_GPcomponent24  False             0.017557\n",
       "305  GPs_random9_GPcomponent25  False             0.005090\n",
       "306  GPs_random9_GPcomponent26  False             0.005003\n",
       "307  GPs_random9_GPcomponent27  False             0.005770\n",
       "\n",
       "[308 rows x 3 columns]"
      ]
     },
     "metadata": {},
     "output_type": "display_data"
    }
   ],
   "source": [
    "# Explained var\n",
    "explained_var=explaied_var_helper(\n",
    "    gp_study=[(gp,False) for gp in gene_groups_collection.keys()],\n",
    "    adata=adata,gene_groups_collection=gene_groups_collection,study_cov=None)\n",
    "display(explained_var)"
   ]
  },
  {
   "cell_type": "code",
   "execution_count": 170,
   "id": "e8b2444e",
   "metadata": {},
   "outputs": [],
   "source": [
    "explained_var.to_csv(path_save+dataset+'.tsv',sep='\\t',index=False)"
   ]
  },
  {
   "cell_type": "code",
   "execution_count": 171,
   "id": "1fec2b3c",
   "metadata": {},
   "outputs": [
    {
     "data": {
      "text/plain": [
       "{'dataset': 'GSE81547',\n",
       " 'organism': 'human',\n",
       " 'technology': 'SMART-seq2',\n",
       " 'n_cells': 348,\n",
       " 'n_gp_genes': 1267}"
      ]
     },
     "execution_count": 171,
     "metadata": {},
     "output_type": "execute_result"
    }
   ],
   "source": [
    "info"
   ]
  },
  {
   "cell_type": "code",
   "execution_count": 172,
   "id": "b3ef8564",
   "metadata": {},
   "outputs": [],
   "source": [
    "dataset_info.append(info)"
   ]
  },
  {
   "cell_type": "markdown",
   "id": "58ab165f",
   "metadata": {},
   "source": [
    "### GSE81608"
   ]
  },
  {
   "cell_type": "code",
   "execution_count": 173,
   "id": "9d49570a",
   "metadata": {},
   "outputs": [],
   "source": [
    "dataset='GSE81608'\n",
    "info={}\n",
    "info['dataset']=dataset\n",
    "info['organism']='human'\n",
    "info['technology']='FluidigmC1_SMARTer'"
   ]
  },
  {
   "cell_type": "code",
   "execution_count": 174,
   "id": "22fa4361",
   "metadata": {},
   "outputs": [
    {
     "data": {
      "text/plain": [
       "(503, 39851)"
      ]
     },
     "execution_count": 174,
     "metadata": {},
     "output_type": "execute_result"
    }
   ],
   "source": [
    "ddir=dataset+'/GEO/'\n",
    "adata=sc.read(path_rna+ddir+'adata_filtered.h5ad')\n",
    "adata=adata[(adata.obs.cell_type=='beta').values ]\n",
    "info['n_cells']=adata.shape[0]\n",
    "adata.shape"
   ]
  },
  {
   "cell_type": "code",
   "execution_count": 175,
   "id": "d70e5bac",
   "metadata": {},
   "outputs": [
    {
     "name": "stderr",
     "output_type": "stream",
     "text": [
      "Trying to set attribute `.var` of view, copying.\n"
     ]
    },
    {
     "name": "stdout",
     "output_type": "stream",
     "text": [
      "(503, 22113)\n"
     ]
    }
   ],
   "source": [
    "# Remove lowly expressed genes\n",
    "sc.pp.filter_genes(adata,min_cells=adata.shape[0]*0.01)\n",
    "print(adata.shape)"
   ]
  },
  {
   "cell_type": "code",
   "execution_count": 176,
   "id": "6259a09c",
   "metadata": {},
   "outputs": [],
   "source": [
    "# Compute HVG and PCA\n",
    "sc.pp.highly_variable_genes(adata, flavor='cell_ranger', n_top_genes =2000)\n",
    "sc.tl.pca(adata, n_comps=NPC, use_highly_variable=True)"
   ]
  },
  {
   "cell_type": "code",
   "execution_count": 177,
   "id": "7568b838",
   "metadata": {},
   "outputs": [
    {
     "data": {
      "text/html": [
       "<div>\n",
       "<style scoped>\n",
       "    .dataframe tbody tr th:only-of-type {\n",
       "        vertical-align: middle;\n",
       "    }\n",
       "\n",
       "    .dataframe tbody tr th {\n",
       "        vertical-align: top;\n",
       "    }\n",
       "\n",
       "    .dataframe thead th {\n",
       "        text-align: right;\n",
       "    }\n",
       "</style>\n",
       "<table border=\"1\" class=\"dataframe\">\n",
       "  <thead>\n",
       "    <tr style=\"text-align: right;\">\n",
       "      <th></th>\n",
       "      <th>gene_symbol</th>\n",
       "      <th>EID</th>\n",
       "      <th>n_cells</th>\n",
       "      <th>highly_variable</th>\n",
       "      <th>means</th>\n",
       "      <th>dispersions</th>\n",
       "      <th>dispersions_norm</th>\n",
       "    </tr>\n",
       "    <tr>\n",
       "      <th>gene.id</th>\n",
       "      <th></th>\n",
       "      <th></th>\n",
       "      <th></th>\n",
       "      <th></th>\n",
       "      <th></th>\n",
       "      <th></th>\n",
       "      <th></th>\n",
       "    </tr>\n",
       "  </thead>\n",
       "  <tbody>\n",
       "    <tr>\n",
       "      <th>1</th>\n",
       "      <td>A1BG</td>\n",
       "      <td>ENSG00000121410</td>\n",
       "      <td>204</td>\n",
       "      <td>False</td>\n",
       "      <td>0.759327</td>\n",
       "      <td>1.711784</td>\n",
       "      <td>-1.049183</td>\n",
       "    </tr>\n",
       "  </tbody>\n",
       "</table>\n",
       "</div>"
      ],
      "text/plain": [
       "        gene_symbol              EID  n_cells  highly_variable     means  \\\n",
       "gene.id                                                                    \n",
       "1              A1BG  ENSG00000121410      204            False  0.759327   \n",
       "\n",
       "         dispersions  dispersions_norm  \n",
       "gene.id                                 \n",
       "1           1.711784         -1.049183  "
      ]
     },
     "execution_count": 177,
     "metadata": {},
     "output_type": "execute_result"
    }
   ],
   "source": [
    "adata.var.iloc[:1]"
   ]
  },
  {
   "cell_type": "code",
   "execution_count": 179,
   "id": "3fa53d4c",
   "metadata": {},
   "outputs": [
    {
     "name": "stdout",
     "output_type": "stream",
     "text": [
      "1374\n"
     ]
    }
   ],
   "source": [
    "# Subset GPs to only genes in data\n",
    "# Map to gene ids and orthologues in data before making GP sub\n",
    "hcs=[]\n",
    "gids=[]\n",
    "for eid,hc in genes_hc['hc'].iteritems():\n",
    "    for gid in [gid for eid in orthologues.query('eid_mm==@eid').eid_hs \n",
    "                for gid in adata.var.query('EID==@eid').index ]:\n",
    "        hcs.append(hc)\n",
    "        gids.append(gid)\n",
    "genes_hc_sub=pd.DataFrame({'hc':hcs},index=gids,dtype='category')\n",
    "print(genes_hc_sub.shape[0])\n",
    "info['n_gp_genes']=genes_hc_sub.shape[0]\n",
    "# Make sizes of GPs for random creation\n",
    "# Splits for np split\n",
    "splits=[]\n",
    "n_curr=0\n",
    "# Make sure this is ordered as gps\n",
    "for n in genes_hc_sub['hc'].value_counts(sort=False).values:\n",
    "    splits.append(n_curr+n)\n",
    "    n_curr+=n\n",
    "# Do not use last one as automatically createcd\n",
    "splits=splits[:-1]    "
   ]
  },
  {
   "cell_type": "code",
   "execution_count": 180,
   "id": "90ca2156",
   "metadata": {},
   "outputs": [],
   "source": [
    "# Gene groups - GP and random\n",
    "gene_groups_collection={}\n",
    "# Add true GPs\n",
    "gene_groups_collection['GPs']={hc:list(g) \n",
    "                               for hc,g in genes_hc_sub.groupby('hc').groups.items()}\n",
    "# Add random gene groups of GP sizes\n",
    "np.random.seed(0)\n",
    "for i in range(10):\n",
    "    # Random idx groups of GP sizes\n",
    "    random_indices=np.split(np.random.permutation(list(range(adata.shape[1]))\n",
    "                                             )[:genes_hc_sub.shape[0]],splits)\n",
    "    # Map idx to genes\n",
    "    gene_groups_collection['GPs_random'+str(i)]={\n",
    "        genes_hc_sub.hc.cat.categories[gp_idx]:adata.var_names[idxs] \n",
    "        for gp_idx,idxs in enumerate(random_indices)}"
   ]
  },
  {
   "cell_type": "code",
   "execution_count": 181,
   "id": "2708d5d3",
   "metadata": {},
   "outputs": [
    {
     "name": "stdout",
     "output_type": "stream",
     "text": [
      "GP and study: GPs False\n",
      "cov shape: (503, 27)\n",
      "GP and study: GPs_random0 False\n",
      "cov shape: (503, 27)\n",
      "GP and study: GPs_random1 False\n",
      "cov shape: (503, 27)\n",
      "GP and study: GPs_random2 False\n",
      "cov shape: (503, 27)\n",
      "GP and study: GPs_random3 False\n",
      "cov shape: (503, 27)\n",
      "GP and study: GPs_random4 False\n",
      "cov shape: (503, 27)\n",
      "GP and study: GPs_random5 False\n",
      "cov shape: (503, 27)\n",
      "GP and study: GPs_random6 False\n",
      "cov shape: (503, 27)\n",
      "GP and study: GPs_random7 False\n",
      "cov shape: (503, 27)\n",
      "GP and study: GPs_random8 False\n",
      "cov shape: (503, 27)\n",
      "GP and study: GPs_random9 False\n",
      "cov shape: (503, 27)\n"
     ]
    },
    {
     "data": {
      "text/html": [
       "<div>\n",
       "<style scoped>\n",
       "    .dataframe tbody tr th:only-of-type {\n",
       "        vertical-align: middle;\n",
       "    }\n",
       "\n",
       "    .dataframe tbody tr th {\n",
       "        vertical-align: top;\n",
       "    }\n",
       "\n",
       "    .dataframe thead th {\n",
       "        text-align: right;\n",
       "    }\n",
       "</style>\n",
       "<table border=\"1\" class=\"dataframe\">\n",
       "  <thead>\n",
       "    <tr style=\"text-align: right;\">\n",
       "      <th></th>\n",
       "      <th>GPs</th>\n",
       "      <th>study</th>\n",
       "      <th>explained_var_ratio</th>\n",
       "    </tr>\n",
       "  </thead>\n",
       "  <tbody>\n",
       "    <tr>\n",
       "      <th>0</th>\n",
       "      <td>GPs</td>\n",
       "      <td>False</td>\n",
       "      <td>0.207693</td>\n",
       "    </tr>\n",
       "    <tr>\n",
       "      <th>1</th>\n",
       "      <td>GPs_GPcomponent1</td>\n",
       "      <td>False</td>\n",
       "      <td>0.004551</td>\n",
       "    </tr>\n",
       "    <tr>\n",
       "      <th>2</th>\n",
       "      <td>GPs_GPcomponent2</td>\n",
       "      <td>False</td>\n",
       "      <td>0.027060</td>\n",
       "    </tr>\n",
       "    <tr>\n",
       "      <th>3</th>\n",
       "      <td>GPs_GPcomponent3</td>\n",
       "      <td>False</td>\n",
       "      <td>0.018896</td>\n",
       "    </tr>\n",
       "    <tr>\n",
       "      <th>4</th>\n",
       "      <td>GPs_GPcomponent4</td>\n",
       "      <td>False</td>\n",
       "      <td>0.050196</td>\n",
       "    </tr>\n",
       "    <tr>\n",
       "      <th>...</th>\n",
       "      <td>...</td>\n",
       "      <td>...</td>\n",
       "      <td>...</td>\n",
       "    </tr>\n",
       "    <tr>\n",
       "      <th>303</th>\n",
       "      <td>GPs_random9_GPcomponent23</td>\n",
       "      <td>False</td>\n",
       "      <td>0.002398</td>\n",
       "    </tr>\n",
       "    <tr>\n",
       "      <th>304</th>\n",
       "      <td>GPs_random9_GPcomponent24</td>\n",
       "      <td>False</td>\n",
       "      <td>0.003026</td>\n",
       "    </tr>\n",
       "    <tr>\n",
       "      <th>305</th>\n",
       "      <td>GPs_random9_GPcomponent25</td>\n",
       "      <td>False</td>\n",
       "      <td>0.004549</td>\n",
       "    </tr>\n",
       "    <tr>\n",
       "      <th>306</th>\n",
       "      <td>GPs_random9_GPcomponent26</td>\n",
       "      <td>False</td>\n",
       "      <td>0.005500</td>\n",
       "    </tr>\n",
       "    <tr>\n",
       "      <th>307</th>\n",
       "      <td>GPs_random9_GPcomponent27</td>\n",
       "      <td>False</td>\n",
       "      <td>0.007216</td>\n",
       "    </tr>\n",
       "  </tbody>\n",
       "</table>\n",
       "<p>308 rows × 3 columns</p>\n",
       "</div>"
      ],
      "text/plain": [
       "                           GPs  study  explained_var_ratio\n",
       "0                          GPs  False             0.207693\n",
       "1             GPs_GPcomponent1  False             0.004551\n",
       "2             GPs_GPcomponent2  False             0.027060\n",
       "3             GPs_GPcomponent3  False             0.018896\n",
       "4             GPs_GPcomponent4  False             0.050196\n",
       "..                         ...    ...                  ...\n",
       "303  GPs_random9_GPcomponent23  False             0.002398\n",
       "304  GPs_random9_GPcomponent24  False             0.003026\n",
       "305  GPs_random9_GPcomponent25  False             0.004549\n",
       "306  GPs_random9_GPcomponent26  False             0.005500\n",
       "307  GPs_random9_GPcomponent27  False             0.007216\n",
       "\n",
       "[308 rows x 3 columns]"
      ]
     },
     "metadata": {},
     "output_type": "display_data"
    }
   ],
   "source": [
    "# Explained var\n",
    "explained_var=explaied_var_helper(\n",
    "    gp_study=[(gp,False) for gp in gene_groups_collection.keys()],\n",
    "    adata=adata,gene_groups_collection=gene_groups_collection,study_cov=None)\n",
    "display(explained_var)"
   ]
  },
  {
   "cell_type": "code",
   "execution_count": 182,
   "id": "635630e6",
   "metadata": {},
   "outputs": [],
   "source": [
    "explained_var.to_csv(path_save+dataset+'.tsv',sep='\\t',index=False)"
   ]
  },
  {
   "cell_type": "code",
   "execution_count": 183,
   "id": "16d582d7",
   "metadata": {},
   "outputs": [
    {
     "data": {
      "text/plain": [
       "{'dataset': 'GSE81608',\n",
       " 'organism': 'human',\n",
       " 'technology': 'FluidigmC1_SMARTer',\n",
       " 'n_cells': 503,\n",
       " 'n_gp_genes': 1374}"
      ]
     },
     "execution_count": 183,
     "metadata": {},
     "output_type": "execute_result"
    }
   ],
   "source": [
    "info"
   ]
  },
  {
   "cell_type": "code",
   "execution_count": 184,
   "id": "35dd6875",
   "metadata": {},
   "outputs": [],
   "source": [
    "dataset_info.append(info)"
   ]
  },
  {
   "cell_type": "markdown",
   "id": "eaf7e851",
   "metadata": {},
   "source": [
    " ### GSE198623 (Sophie's data)"
   ]
  },
  {
   "cell_type": "code",
   "execution_count": 185,
   "id": "908e3656",
   "metadata": {},
   "outputs": [],
   "source": [
    "dataset='sophieHuman'\n",
    "info={}\n",
    "info['dataset']=dataset\n",
    "info['organism']='human'\n",
    "info['technology']='10X'"
   ]
  },
  {
   "cell_type": "code",
   "execution_count": 186,
   "id": "01d0d7ba",
   "metadata": {},
   "outputs": [
    {
     "data": {
      "text/plain": [
       "(11923, 32738)"
      ]
     },
     "execution_count": 186,
     "metadata": {},
     "output_type": "execute_result"
    }
   ],
   "source": [
    "ddir='P21000'+'/sophie/human/'\n",
    "adata=sc.read(path_rna+ddir+'adata_filtered.h5ad')\n",
    "adata=adata[(adata.obs.cell_type=='beta').values ]\n",
    "info['n_cells']=adata.shape[0]\n",
    "adata.shape"
   ]
  },
  {
   "cell_type": "code",
   "execution_count": 187,
   "id": "605fb273",
   "metadata": {},
   "outputs": [
    {
     "name": "stderr",
     "output_type": "stream",
     "text": [
      "Trying to set attribute `.var` of view, copying.\n"
     ]
    },
    {
     "name": "stdout",
     "output_type": "stream",
     "text": [
      "(11923, 13772)\n"
     ]
    }
   ],
   "source": [
    "# Remove lowly expressed genes\n",
    "sc.pp.filter_genes(adata,min_cells=adata.shape[0]*0.01)\n",
    "print(adata.shape)"
   ]
  },
  {
   "cell_type": "code",
   "execution_count": 188,
   "id": "d1b654cd",
   "metadata": {},
   "outputs": [],
   "source": [
    "# Compute HVG and PCA\n",
    "sc.pp.highly_variable_genes(adata, flavor='cell_ranger', n_top_genes =2000)\n",
    "sc.tl.pca(adata, n_comps=NPC, use_highly_variable=True)"
   ]
  },
  {
   "cell_type": "code",
   "execution_count": 189,
   "id": "b96776e8",
   "metadata": {},
   "outputs": [
    {
     "data": {
      "text/html": [
       "<div>\n",
       "<style scoped>\n",
       "    .dataframe tbody tr th:only-of-type {\n",
       "        vertical-align: middle;\n",
       "    }\n",
       "\n",
       "    .dataframe tbody tr th {\n",
       "        vertical-align: top;\n",
       "    }\n",
       "\n",
       "    .dataframe thead th {\n",
       "        text-align: right;\n",
       "    }\n",
       "</style>\n",
       "<table border=\"1\" class=\"dataframe\">\n",
       "  <thead>\n",
       "    <tr style=\"text-align: right;\">\n",
       "      <th></th>\n",
       "      <th>feature_is_filtered</th>\n",
       "      <th>feature_biotype</th>\n",
       "      <th>EID</th>\n",
       "      <th>n_cells</th>\n",
       "      <th>highly_variable</th>\n",
       "      <th>means</th>\n",
       "      <th>dispersions</th>\n",
       "      <th>dispersions_norm</th>\n",
       "    </tr>\n",
       "  </thead>\n",
       "  <tbody>\n",
       "    <tr>\n",
       "      <th>ENSG00000237683</th>\n",
       "      <td>False</td>\n",
       "      <td>gene</td>\n",
       "      <td>ENSG00000237683</td>\n",
       "      <td>144</td>\n",
       "      <td>False</td>\n",
       "      <td>0.006209</td>\n",
       "      <td>0.575209</td>\n",
       "      <td>-0.772479</td>\n",
       "    </tr>\n",
       "    <tr>\n",
       "      <th>ENSG00000228463</th>\n",
       "      <td>False</td>\n",
       "      <td>gene</td>\n",
       "      <td>ENSG00000228463</td>\n",
       "      <td>2835</td>\n",
       "      <td>False</td>\n",
       "      <td>0.139713</td>\n",
       "      <td>0.539420</td>\n",
       "      <td>-0.952794</td>\n",
       "    </tr>\n",
       "    <tr>\n",
       "      <th>LINC01409</th>\n",
       "      <td>False</td>\n",
       "      <td>gene</td>\n",
       "      <td>ENSG00000237491</td>\n",
       "      <td>477</td>\n",
       "      <td>False</td>\n",
       "      <td>0.022625</td>\n",
       "      <td>0.628852</td>\n",
       "      <td>1.431593</td>\n",
       "    </tr>\n",
       "  </tbody>\n",
       "</table>\n",
       "</div>"
      ],
      "text/plain": [
       "                 feature_is_filtered feature_biotype              EID  \\\n",
       "ENSG00000237683                False            gene  ENSG00000237683   \n",
       "ENSG00000228463                False            gene  ENSG00000228463   \n",
       "LINC01409                      False            gene  ENSG00000237491   \n",
       "\n",
       "                 n_cells  highly_variable     means  dispersions  \\\n",
       "ENSG00000237683      144            False  0.006209     0.575209   \n",
       "ENSG00000228463     2835            False  0.139713     0.539420   \n",
       "LINC01409            477            False  0.022625     0.628852   \n",
       "\n",
       "                 dispersions_norm  \n",
       "ENSG00000237683         -0.772479  \n",
       "ENSG00000228463         -0.952794  \n",
       "LINC01409                1.431593  "
      ]
     },
     "execution_count": 189,
     "metadata": {},
     "output_type": "execute_result"
    }
   ],
   "source": [
    "adata.var.iloc[:3]"
   ]
  },
  {
   "cell_type": "code",
   "execution_count": 192,
   "id": "9727a56d",
   "metadata": {},
   "outputs": [
    {
     "name": "stdout",
     "output_type": "stream",
     "text": [
      "1365\n"
     ]
    }
   ],
   "source": [
    "# Subset GPs to only genes in data\n",
    "# Map to gene ids and orthologues in data before making GP sub\n",
    "hcs=[]\n",
    "gids=[]\n",
    "for eid,hc in genes_hc['hc'].iteritems():\n",
    "    for gid in [gid for eid in orthologues.query('eid_mm==@eid').eid_hs \n",
    "                for gid in adata.var.query('EID ==@eid').index ]:\n",
    "        hcs.append(hc)\n",
    "        gids.append(gid)\n",
    "genes_hc_sub=pd.DataFrame({'hc':hcs},index=gids,dtype='category')\n",
    "print(genes_hc_sub.shape[0])\n",
    "info['n_gp_genes']=genes_hc_sub.shape[0]\n",
    "# Make sizes of GPs for random creation\n",
    "# Splits for np split\n",
    "splits=[]\n",
    "n_curr=0\n",
    "# Make sure this is ordered as gps\n",
    "for n in genes_hc_sub['hc'].value_counts(sort=False).values:\n",
    "    splits.append(n_curr+n)\n",
    "    n_curr+=n\n",
    "# Do not use last one as automatically createcd\n",
    "splits=splits[:-1]    "
   ]
  },
  {
   "cell_type": "code",
   "execution_count": 193,
   "id": "36182245",
   "metadata": {},
   "outputs": [],
   "source": [
    "# Gene groups - GP and random\n",
    "gene_groups_collection={}\n",
    "# Add true GPs\n",
    "gene_groups_collection['GPs']={hc:list(g) \n",
    "                               for hc,g in genes_hc_sub.groupby('hc').groups.items()}\n",
    "# Add random gene groups of GP sizes\n",
    "np.random.seed(0)\n",
    "for i in range(10):\n",
    "    # Random idx groups of GP sizes\n",
    "    random_indices=np.split(np.random.permutation(list(range(adata.shape[1]))\n",
    "                                             )[:genes_hc_sub.shape[0]],splits)\n",
    "    # Map idx to genes\n",
    "    gene_groups_collection['GPs_random'+str(i)]={\n",
    "        genes_hc_sub.hc.cat.categories[gp_idx]:adata.var_names[idxs] \n",
    "        for gp_idx,idxs in enumerate(random_indices)}"
   ]
  },
  {
   "cell_type": "code",
   "execution_count": 194,
   "id": "1703665b",
   "metadata": {},
   "outputs": [
    {
     "name": "stdout",
     "output_type": "stream",
     "text": [
      "GP and study: GPs False\n",
      "cov shape: (11923, 27)\n",
      "GP and study: GPs_random0 False\n",
      "cov shape: (11923, 27)\n",
      "GP and study: GPs_random1 False\n",
      "cov shape: (11923, 27)\n",
      "GP and study: GPs_random2 False\n",
      "cov shape: (11923, 27)\n",
      "GP and study: GPs_random3 False\n",
      "cov shape: (11923, 27)\n",
      "GP and study: GPs_random4 False\n",
      "cov shape: (11923, 27)\n",
      "GP and study: GPs_random5 False\n",
      "cov shape: (11923, 27)\n",
      "GP and study: GPs_random6 False\n",
      "cov shape: (11923, 27)\n",
      "GP and study: GPs_random7 False\n",
      "cov shape: (11923, 27)\n",
      "GP and study: GPs_random8 False\n",
      "cov shape: (11923, 27)\n",
      "GP and study: GPs_random9 False\n",
      "cov shape: (11923, 27)\n"
     ]
    },
    {
     "data": {
      "text/html": [
       "<div>\n",
       "<style scoped>\n",
       "    .dataframe tbody tr th:only-of-type {\n",
       "        vertical-align: middle;\n",
       "    }\n",
       "\n",
       "    .dataframe tbody tr th {\n",
       "        vertical-align: top;\n",
       "    }\n",
       "\n",
       "    .dataframe thead th {\n",
       "        text-align: right;\n",
       "    }\n",
       "</style>\n",
       "<table border=\"1\" class=\"dataframe\">\n",
       "  <thead>\n",
       "    <tr style=\"text-align: right;\">\n",
       "      <th></th>\n",
       "      <th>GPs</th>\n",
       "      <th>study</th>\n",
       "      <th>explained_var_ratio</th>\n",
       "    </tr>\n",
       "  </thead>\n",
       "  <tbody>\n",
       "    <tr>\n",
       "      <th>0</th>\n",
       "      <td>GPs</td>\n",
       "      <td>False</td>\n",
       "      <td>0.474535</td>\n",
       "    </tr>\n",
       "    <tr>\n",
       "      <th>1</th>\n",
       "      <td>GPs_GPcomponent1</td>\n",
       "      <td>False</td>\n",
       "      <td>0.076554</td>\n",
       "    </tr>\n",
       "    <tr>\n",
       "      <th>2</th>\n",
       "      <td>GPs_GPcomponent2</td>\n",
       "      <td>False</td>\n",
       "      <td>0.067020</td>\n",
       "    </tr>\n",
       "    <tr>\n",
       "      <th>3</th>\n",
       "      <td>GPs_GPcomponent3</td>\n",
       "      <td>False</td>\n",
       "      <td>0.079530</td>\n",
       "    </tr>\n",
       "    <tr>\n",
       "      <th>4</th>\n",
       "      <td>GPs_GPcomponent4</td>\n",
       "      <td>False</td>\n",
       "      <td>0.080720</td>\n",
       "    </tr>\n",
       "    <tr>\n",
       "      <th>...</th>\n",
       "      <td>...</td>\n",
       "      <td>...</td>\n",
       "      <td>...</td>\n",
       "    </tr>\n",
       "    <tr>\n",
       "      <th>303</th>\n",
       "      <td>GPs_random9_GPcomponent23</td>\n",
       "      <td>False</td>\n",
       "      <td>0.005221</td>\n",
       "    </tr>\n",
       "    <tr>\n",
       "      <th>304</th>\n",
       "      <td>GPs_random9_GPcomponent24</td>\n",
       "      <td>False</td>\n",
       "      <td>0.030472</td>\n",
       "    </tr>\n",
       "    <tr>\n",
       "      <th>305</th>\n",
       "      <td>GPs_random9_GPcomponent25</td>\n",
       "      <td>False</td>\n",
       "      <td>0.016116</td>\n",
       "    </tr>\n",
       "    <tr>\n",
       "      <th>306</th>\n",
       "      <td>GPs_random9_GPcomponent26</td>\n",
       "      <td>False</td>\n",
       "      <td>0.037565</td>\n",
       "    </tr>\n",
       "    <tr>\n",
       "      <th>307</th>\n",
       "      <td>GPs_random9_GPcomponent27</td>\n",
       "      <td>False</td>\n",
       "      <td>0.004996</td>\n",
       "    </tr>\n",
       "  </tbody>\n",
       "</table>\n",
       "<p>308 rows × 3 columns</p>\n",
       "</div>"
      ],
      "text/plain": [
       "                           GPs  study  explained_var_ratio\n",
       "0                          GPs  False             0.474535\n",
       "1             GPs_GPcomponent1  False             0.076554\n",
       "2             GPs_GPcomponent2  False             0.067020\n",
       "3             GPs_GPcomponent3  False             0.079530\n",
       "4             GPs_GPcomponent4  False             0.080720\n",
       "..                         ...    ...                  ...\n",
       "303  GPs_random9_GPcomponent23  False             0.005221\n",
       "304  GPs_random9_GPcomponent24  False             0.030472\n",
       "305  GPs_random9_GPcomponent25  False             0.016116\n",
       "306  GPs_random9_GPcomponent26  False             0.037565\n",
       "307  GPs_random9_GPcomponent27  False             0.004996\n",
       "\n",
       "[308 rows x 3 columns]"
      ]
     },
     "metadata": {},
     "output_type": "display_data"
    }
   ],
   "source": [
    "# Explained var\n",
    "explained_var=explaied_var_helper(\n",
    "    gp_study=[(gp,False) for gp in gene_groups_collection.keys()],\n",
    "    adata=adata,gene_groups_collection=gene_groups_collection,study_cov=None)\n",
    "display(explained_var)"
   ]
  },
  {
   "cell_type": "code",
   "execution_count": 195,
   "id": "c743c604",
   "metadata": {},
   "outputs": [],
   "source": [
    "explained_var.to_csv(path_save+dataset+'.tsv',sep='\\t',index=False)"
   ]
  },
  {
   "cell_type": "code",
   "execution_count": 196,
   "id": "6eba841a",
   "metadata": {},
   "outputs": [
    {
     "data": {
      "text/plain": [
       "{'dataset': 'sophieHuman',\n",
       " 'organism': 'human',\n",
       " 'technology': '10X',\n",
       " 'n_cells': 11923,\n",
       " 'n_gp_genes': 1365}"
      ]
     },
     "execution_count": 196,
     "metadata": {},
     "output_type": "execute_result"
    }
   ],
   "source": [
    "info"
   ]
  },
  {
   "cell_type": "code",
   "execution_count": 197,
   "id": "3dd33e7d",
   "metadata": {},
   "outputs": [],
   "source": [
    "dataset_info.append(info)"
   ]
  },
  {
   "cell_type": "markdown",
   "id": "85e89cdf",
   "metadata": {},
   "source": [
    " ### GSE148073"
   ]
  },
  {
   "cell_type": "code",
   "execution_count": 404,
   "id": "eb4b595d",
   "metadata": {},
   "outputs": [],
   "source": [
    "dataset='GSE148073'\n",
    "info={}\n",
    "info['dataset']=dataset\n",
    "info['organism']='human'\n",
    "info['technology']='10X'"
   ]
  },
  {
   "cell_type": "code",
   "execution_count": 405,
   "id": "e308c2a1",
   "metadata": {},
   "outputs": [
    {
     "data": {
      "text/plain": [
       "(11298, 26163)"
      ]
     },
     "execution_count": 405,
     "metadata": {},
     "output_type": "execute_result"
    }
   ],
   "source": [
    "ddir=dataset+'/GEO/'\n",
    "adata=sc.read(path_rna+ddir+'adata_filtered.h5ad')\n",
    "adata=adata[(adata.obs.cell_type=='beta').values ]\n",
    "info['n_cells']=adata.shape[0]\n",
    "adata.shape"
   ]
  },
  {
   "cell_type": "code",
   "execution_count": 406,
   "id": "d7dfcacf",
   "metadata": {},
   "outputs": [
    {
     "name": "stderr",
     "output_type": "stream",
     "text": [
      "Trying to set attribute `.var` of view, copying.\n"
     ]
    },
    {
     "name": "stdout",
     "output_type": "stream",
     "text": [
      "(11298, 14106)\n"
     ]
    }
   ],
   "source": [
    "# Remove lowly expressed genes\n",
    "sc.pp.filter_genes(adata,min_cells=adata.shape[0]*0.01)\n",
    "print(adata.shape)"
   ]
  },
  {
   "cell_type": "code",
   "execution_count": 407,
   "id": "215f9b18",
   "metadata": {},
   "outputs": [],
   "source": [
    "# Compute HVG and PCA\n",
    "sc.pp.highly_variable_genes(adata, flavor='cell_ranger', n_top_genes =2000)\n",
    "sc.tl.pca(adata, n_comps=NPC, use_highly_variable=True)"
   ]
  },
  {
   "cell_type": "code",
   "execution_count": 408,
   "id": "6ded23cf",
   "metadata": {},
   "outputs": [
    {
     "data": {
      "text/html": [
       "<div>\n",
       "<style scoped>\n",
       "    .dataframe tbody tr th:only-of-type {\n",
       "        vertical-align: middle;\n",
       "    }\n",
       "\n",
       "    .dataframe tbody tr th {\n",
       "        vertical-align: top;\n",
       "    }\n",
       "\n",
       "    .dataframe thead th {\n",
       "        text-align: right;\n",
       "    }\n",
       "</style>\n",
       "<table border=\"1\" class=\"dataframe\">\n",
       "  <thead>\n",
       "    <tr style=\"text-align: right;\">\n",
       "      <th></th>\n",
       "      <th>EID</th>\n",
       "      <th>n_cells</th>\n",
       "      <th>highly_variable</th>\n",
       "      <th>means</th>\n",
       "      <th>dispersions</th>\n",
       "      <th>dispersions_norm</th>\n",
       "    </tr>\n",
       "  </thead>\n",
       "  <tbody>\n",
       "    <tr>\n",
       "      <th>VTI1B</th>\n",
       "      <td>ENSG00000100568</td>\n",
       "      <td>6840</td>\n",
       "      <td>False</td>\n",
       "      <td>0.488359</td>\n",
       "      <td>0.544571</td>\n",
       "      <td>-0.177293</td>\n",
       "    </tr>\n",
       "    <tr>\n",
       "      <th>SFSWAP</th>\n",
       "      <td>ENSG00000061936</td>\n",
       "      <td>3593</td>\n",
       "      <td>False</td>\n",
       "      <td>0.166361</td>\n",
       "      <td>0.585016</td>\n",
       "      <td>-0.426112</td>\n",
       "    </tr>\n",
       "    <tr>\n",
       "      <th>BCHE</th>\n",
       "      <td>ENSG00000114200</td>\n",
       "      <td>175</td>\n",
       "      <td>False</td>\n",
       "      <td>0.006780</td>\n",
       "      <td>0.736586</td>\n",
       "      <td>0.758693</td>\n",
       "    </tr>\n",
       "  </tbody>\n",
       "</table>\n",
       "</div>"
      ],
      "text/plain": [
       "                    EID  n_cells  highly_variable     means  dispersions  \\\n",
       "VTI1B   ENSG00000100568     6840            False  0.488359     0.544571   \n",
       "SFSWAP  ENSG00000061936     3593            False  0.166361     0.585016   \n",
       "BCHE    ENSG00000114200      175            False  0.006780     0.736586   \n",
       "\n",
       "        dispersions_norm  \n",
       "VTI1B          -0.177293  \n",
       "SFSWAP         -0.426112  \n",
       "BCHE            0.758693  "
      ]
     },
     "execution_count": 408,
     "metadata": {},
     "output_type": "execute_result"
    }
   ],
   "source": [
    "adata.var.iloc[:3]"
   ]
  },
  {
   "cell_type": "code",
   "execution_count": 409,
   "id": "f66acacc",
   "metadata": {},
   "outputs": [
    {
     "name": "stdout",
     "output_type": "stream",
     "text": [
      "1380\n"
     ]
    }
   ],
   "source": [
    "# Subset GPs to only genes in data\n",
    "# Map to gene ids and orthologues in data before making GP sub\n",
    "hcs=[]\n",
    "gids=[]\n",
    "for eid,hc in genes_hc['hc'].iteritems():\n",
    "    for gid in [gid for eid in orthologues.query('eid_mm==@eid').eid_hs \n",
    "                for gid in adata.var.query('EID ==@eid').index ]:\n",
    "        hcs.append(hc)\n",
    "        gids.append(gid)\n",
    "genes_hc_sub=pd.DataFrame({'hc':hcs},index=gids,dtype='category')\n",
    "print(genes_hc_sub.shape[0])\n",
    "info['n_gp_genes']=genes_hc_sub.shape[0]\n",
    "# Make sizes of GPs for random creation\n",
    "# Splits for np split\n",
    "splits=[]\n",
    "n_curr=0\n",
    "# Make sure this is ordered as gps\n",
    "for n in genes_hc_sub['hc'].value_counts(sort=False).values:\n",
    "    splits.append(n_curr+n)\n",
    "    n_curr+=n\n",
    "# Do not use last one as automatically createcd\n",
    "splits=splits[:-1]    "
   ]
  },
  {
   "cell_type": "code",
   "execution_count": 410,
   "id": "4c00384c",
   "metadata": {},
   "outputs": [],
   "source": [
    "# Gene groups - GP and random\n",
    "gene_groups_collection={}\n",
    "# Add true GPs\n",
    "gene_groups_collection['GPs']={hc:list(g) \n",
    "                               for hc,g in genes_hc_sub.groupby('hc').groups.items()}\n",
    "# Add random gene groups of GP sizes\n",
    "np.random.seed(0)\n",
    "for i in range(10):\n",
    "    # Random idx groups of GP sizes\n",
    "    random_indices=np.split(np.random.permutation(list(range(adata.shape[1]))\n",
    "                                             )[:genes_hc_sub.shape[0]],splits)\n",
    "    # Map idx to genes\n",
    "    gene_groups_collection['GPs_random'+str(i)]={\n",
    "        genes_hc_sub.hc.cat.categories[gp_idx]:adata.var_names[idxs] \n",
    "        for gp_idx,idxs in enumerate(random_indices)}"
   ]
  },
  {
   "cell_type": "code",
   "execution_count": 411,
   "id": "45987ae0",
   "metadata": {},
   "outputs": [
    {
     "name": "stdout",
     "output_type": "stream",
     "text": [
      "GP and study: GPs False\n",
      "cov shape: (11298, 27)\n",
      "GP and study: GPs_random0 False\n",
      "cov shape: (11298, 27)\n",
      "GP and study: GPs_random1 False\n",
      "cov shape: (11298, 27)\n",
      "GP and study: GPs_random2 False\n",
      "cov shape: (11298, 27)\n",
      "GP and study: GPs_random3 False\n",
      "cov shape: (11298, 27)\n",
      "GP and study: GPs_random4 False\n",
      "cov shape: (11298, 27)\n",
      "GP and study: GPs_random5 False\n",
      "cov shape: (11298, 27)\n",
      "GP and study: GPs_random6 False\n",
      "cov shape: (11298, 27)\n",
      "GP and study: GPs_random7 False\n",
      "cov shape: (11298, 27)\n",
      "GP and study: GPs_random8 False\n",
      "cov shape: (11298, 27)\n",
      "GP and study: GPs_random9 False\n",
      "cov shape: (11298, 27)\n"
     ]
    },
    {
     "data": {
      "text/html": [
       "<div>\n",
       "<style scoped>\n",
       "    .dataframe tbody tr th:only-of-type {\n",
       "        vertical-align: middle;\n",
       "    }\n",
       "\n",
       "    .dataframe tbody tr th {\n",
       "        vertical-align: top;\n",
       "    }\n",
       "\n",
       "    .dataframe thead th {\n",
       "        text-align: right;\n",
       "    }\n",
       "</style>\n",
       "<table border=\"1\" class=\"dataframe\">\n",
       "  <thead>\n",
       "    <tr style=\"text-align: right;\">\n",
       "      <th></th>\n",
       "      <th>GPs</th>\n",
       "      <th>study</th>\n",
       "      <th>explained_var_ratio</th>\n",
       "    </tr>\n",
       "  </thead>\n",
       "  <tbody>\n",
       "    <tr>\n",
       "      <th>0</th>\n",
       "      <td>GPs</td>\n",
       "      <td>False</td>\n",
       "      <td>0.467790</td>\n",
       "    </tr>\n",
       "    <tr>\n",
       "      <th>1</th>\n",
       "      <td>GPs_GPcomponent1</td>\n",
       "      <td>False</td>\n",
       "      <td>0.040575</td>\n",
       "    </tr>\n",
       "    <tr>\n",
       "      <th>2</th>\n",
       "      <td>GPs_GPcomponent2</td>\n",
       "      <td>False</td>\n",
       "      <td>0.033052</td>\n",
       "    </tr>\n",
       "    <tr>\n",
       "      <th>3</th>\n",
       "      <td>GPs_GPcomponent3</td>\n",
       "      <td>False</td>\n",
       "      <td>0.037026</td>\n",
       "    </tr>\n",
       "    <tr>\n",
       "      <th>4</th>\n",
       "      <td>GPs_GPcomponent4</td>\n",
       "      <td>False</td>\n",
       "      <td>0.051053</td>\n",
       "    </tr>\n",
       "    <tr>\n",
       "      <th>...</th>\n",
       "      <td>...</td>\n",
       "      <td>...</td>\n",
       "      <td>...</td>\n",
       "    </tr>\n",
       "    <tr>\n",
       "      <th>303</th>\n",
       "      <td>GPs_random9_GPcomponent23</td>\n",
       "      <td>False</td>\n",
       "      <td>0.028367</td>\n",
       "    </tr>\n",
       "    <tr>\n",
       "      <th>304</th>\n",
       "      <td>GPs_random9_GPcomponent24</td>\n",
       "      <td>False</td>\n",
       "      <td>0.037689</td>\n",
       "    </tr>\n",
       "    <tr>\n",
       "      <th>305</th>\n",
       "      <td>GPs_random9_GPcomponent25</td>\n",
       "      <td>False</td>\n",
       "      <td>0.005366</td>\n",
       "    </tr>\n",
       "    <tr>\n",
       "      <th>306</th>\n",
       "      <td>GPs_random9_GPcomponent26</td>\n",
       "      <td>False</td>\n",
       "      <td>0.005880</td>\n",
       "    </tr>\n",
       "    <tr>\n",
       "      <th>307</th>\n",
       "      <td>GPs_random9_GPcomponent27</td>\n",
       "      <td>False</td>\n",
       "      <td>0.005649</td>\n",
       "    </tr>\n",
       "  </tbody>\n",
       "</table>\n",
       "<p>308 rows × 3 columns</p>\n",
       "</div>"
      ],
      "text/plain": [
       "                           GPs  study  explained_var_ratio\n",
       "0                          GPs  False             0.467790\n",
       "1             GPs_GPcomponent1  False             0.040575\n",
       "2             GPs_GPcomponent2  False             0.033052\n",
       "3             GPs_GPcomponent3  False             0.037026\n",
       "4             GPs_GPcomponent4  False             0.051053\n",
       "..                         ...    ...                  ...\n",
       "303  GPs_random9_GPcomponent23  False             0.028367\n",
       "304  GPs_random9_GPcomponent24  False             0.037689\n",
       "305  GPs_random9_GPcomponent25  False             0.005366\n",
       "306  GPs_random9_GPcomponent26  False             0.005880\n",
       "307  GPs_random9_GPcomponent27  False             0.005649\n",
       "\n",
       "[308 rows x 3 columns]"
      ]
     },
     "metadata": {},
     "output_type": "display_data"
    }
   ],
   "source": [
    "# Explained var\n",
    "explained_var=explaied_var_helper(\n",
    "    gp_study=[(gp,False) for gp in gene_groups_collection.keys()],\n",
    "    adata=adata,gene_groups_collection=gene_groups_collection,study_cov=None)\n",
    "display(explained_var)"
   ]
  },
  {
   "cell_type": "code",
   "execution_count": 412,
   "id": "6a994c9b",
   "metadata": {},
   "outputs": [],
   "source": [
    "explained_var.to_csv(path_save+dataset+'.tsv',sep='\\t',index=False)"
   ]
  },
  {
   "cell_type": "code",
   "execution_count": 413,
   "id": "3f98d2bb",
   "metadata": {},
   "outputs": [
    {
     "data": {
      "text/plain": [
       "{'dataset': 'GSE148073',\n",
       " 'organism': 'human',\n",
       " 'technology': '10X',\n",
       " 'n_cells': 11298,\n",
       " 'n_gp_genes': 1380}"
      ]
     },
     "execution_count": 413,
     "metadata": {},
     "output_type": "execute_result"
    }
   ],
   "source": [
    "info"
   ]
  },
  {
   "cell_type": "code",
   "execution_count": 414,
   "id": "c33d3d96",
   "metadata": {},
   "outputs": [],
   "source": [
    "dataset_info.append(info)"
   ]
  },
  {
   "cell_type": "markdown",
   "id": "ddcc72f7",
   "metadata": {},
   "source": [
    "## Analyse explained var across datasets"
   ]
  },
  {
   "cell_type": "code",
   "execution_count": 415,
   "id": "4eb23731",
   "metadata": {},
   "outputs": [],
   "source": [
    "# Make DF from dict of dataset info\n",
    "dataset_info=pd.DataFrame(dataset_info)\n",
    "dataset_info.index=dataset_info.dataset"
   ]
  },
  {
   "cell_type": "code",
   "execution_count": 416,
   "id": "dc762f33",
   "metadata": {},
   "outputs": [],
   "source": [
    "# Save dataset info\n",
    "dataset_info.to_csv(path_save+'dataset_info.tsv',sep='\\t')"
   ]
  },
  {
   "cell_type": "markdown",
   "id": "032d0356",
   "metadata": {},
   "source": [
    "### Explained var by GP in atlas"
   ]
  },
  {
   "cell_type": "code",
   "execution_count": 100,
   "id": "961a6f8c",
   "metadata": {},
   "outputs": [],
   "source": [
    "explained_var=pd.read_table(path_save+'mouseAtlas.tsv'\n",
    "     ).query('study == False & GPs.str.contains(\"component\")',engine='python')\n",
    "explained_var['component']=explained_var['GPs'].apply(lambda x:x.split('GPcomponent')[1])\n",
    "explained_var['random']=explained_var['GPs'].str.contains('random')"
   ]
  },
  {
   "cell_type": "code",
   "execution_count": 229,
   "id": "35011c7b",
   "metadata": {},
   "outputs": [
    {
     "name": "stderr",
     "output_type": "stream",
     "text": [
      "/home/icb/karin.hrovatin/miniconda3/envs/rpy2_3/lib/python3.8/site-packages/seaborn/categorical.py:1296: UserWarning: 9.1% of the points cannot be placed; you may want to decrease the size of the markers or use stripplot.\n",
      "  warnings.warn(msg, UserWarning)\n",
      "/home/icb/karin.hrovatin/miniconda3/envs/rpy2_3/lib/python3.8/site-packages/seaborn/categorical.py:1296: UserWarning: 18.2% of the points cannot be placed; you may want to decrease the size of the markers or use stripplot.\n",
      "  warnings.warn(msg, UserWarning)\n",
      "/home/icb/karin.hrovatin/miniconda3/envs/rpy2_3/lib/python3.8/site-packages/seaborn/categorical.py:1296: UserWarning: 27.3% of the points cannot be placed; you may want to decrease the size of the markers or use stripplot.\n",
      "  warnings.warn(msg, UserWarning)\n"
     ]
    },
    {
     "data": {
      "text/plain": [
       "<matplotlib.legend.Legend at 0x7f8c9b262280>"
      ]
     },
     "execution_count": 229,
     "metadata": {},
     "output_type": "execute_result"
    },
    {
     "data": {
      "image/png": "[encoded data removed]",
      "text/plain": [
       "<Figure size 1224x216 with 1 Axes>"
      ]
     },
     "metadata": {
      "needs_background": "light"
     },
     "output_type": "display_data"
    }
   ],
   "source": [
    "rcParams['figure.figsize']=(17,3)\n",
    "sb.swarmplot(x='component',y='explained_var_ratio',hue='random',data=explained_var)\n",
    "plt.legend(bbox_to_anchor=(1.12,1))"
   ]
  },
  {
   "cell_type": "markdown",
   "id": "9f6a39ba",
   "metadata": {},
   "source": [
    "C: Some GPs explain overall less var, but for 26&27 probably due to less cells there - see that separate a lot by study. But 5 is probably more random."
   ]
  },
  {
   "cell_type": "markdown",
   "id": "2c1fdce4",
   "metadata": {},
   "source": [
    "### Explained var in each dataset"
   ]
  },
  {
   "cell_type": "code",
   "execution_count": 101,
   "id": "07ab3b2f",
   "metadata": {},
   "outputs": [],
   "source": [
    "# Load and summarise data of explained var and also parse all results into shared table\n",
    "explained_var_all=[]\n",
    "for dataset in dataset_info.index:\n",
    "    explained_var=pd.read_table(path_save+dataset+'.tsv')\n",
    "    evar=explained_var.query('GPs==\"GPs\" & study==False')['explained_var_ratio'].values\n",
    "    if evar.shape[0]!=1:\n",
    "        raise ValueError('More than 1 explained var value')\n",
    "    dataset_info.at[dataset,'explained_var']=evar[0]\n",
    "    random_var= explained_var.fillna('NA').query(\n",
    "        'GPs.str.startswith(\"GPs_random\") & ~GPs.str.contains(\"component\") & study==False',\n",
    "        engine='python'\n",
    "        )['explained_var_ratio']\n",
    "    dataset_info.at[dataset,'explained_var_radom_m']= random_var.mean()\n",
    "    dataset_info.at[dataset,'explained_var_radom_std']= random_var.std()\n",
    "    dataset_info['explained_var_n_std']=\\\n",
    "        ((dataset_info['explained_var']-dataset_info['explained_var_radom_m'])/\n",
    "        dataset_info['explained_var_radom_std'])\n",
    "    explained_var['component']=explained_var['GPs'].fillna('NA').apply(\n",
    "        lambda x: np.nan if x =='NA' else \n",
    "        ('GPs' if 'component' not in x else x.split('component')[1]))\n",
    "    explained_var['random']=explained_var['GPs'].str.contains('random')\n",
    "    explained_var['dataset']=dataset\n",
    "    explained_var['organism']=dataset_info.at[dataset,'organism']\n",
    "    explained_var_all.append(explained_var)\n",
    "explained_var_all=pd.concat(explained_var_all)    "
   ]
  },
  {
   "cell_type": "code",
   "execution_count": 102,
   "id": "e0c1d64a",
   "metadata": {},
   "outputs": [
    {
     "data": {
      "text/html": [
       "<div>\n",
       "<style scoped>\n",
       "    .dataframe tbody tr th:only-of-type {\n",
       "        vertical-align: middle;\n",
       "    }\n",
       "\n",
       "    .dataframe tbody tr th {\n",
       "        vertical-align: top;\n",
       "    }\n",
       "\n",
       "    .dataframe thead th {\n",
       "        text-align: right;\n",
       "    }\n",
       "</style>\n",
       "<table border=\"1\" class=\"dataframe\">\n",
       "  <thead>\n",
       "    <tr style=\"text-align: right;\">\n",
       "      <th></th>\n",
       "      <th>dataset</th>\n",
       "      <th>organism</th>\n",
       "      <th>technology</th>\n",
       "      <th>n_cells</th>\n",
       "      <th>n_gp_genes</th>\n",
       "      <th>explained_var</th>\n",
       "      <th>explained_var_radom_m</th>\n",
       "      <th>explained_var_radom_std</th>\n",
       "      <th>explained_var_n_std</th>\n",
       "    </tr>\n",
       "    <tr>\n",
       "      <th>dataset</th>\n",
       "      <th></th>\n",
       "      <th></th>\n",
       "      <th></th>\n",
       "      <th></th>\n",
       "      <th></th>\n",
       "      <th></th>\n",
       "      <th></th>\n",
       "      <th></th>\n",
       "      <th></th>\n",
       "    </tr>\n",
       "  </thead>\n",
       "  <tbody>\n",
       "    <tr>\n",
       "      <th>mouseAtlas</th>\n",
       "      <td>mouseAtlas</td>\n",
       "      <td>mouse</td>\n",
       "      <td>10X</td>\n",
       "      <td>102143</td>\n",
       "      <td>1659</td>\n",
       "      <td>0.680508</td>\n",
       "      <td>0.230903</td>\n",
       "      <td>0.022948</td>\n",
       "      <td>19.591923</td>\n",
       "    </tr>\n",
       "    <tr>\n",
       "      <th>GSE137909</th>\n",
       "      <td>GSE137909</td>\n",
       "      <td>mouse</td>\n",
       "      <td>STRT-seq</td>\n",
       "      <td>1005</td>\n",
       "      <td>1570</td>\n",
       "      <td>0.477245</td>\n",
       "      <td>0.187687</td>\n",
       "      <td>0.021454</td>\n",
       "      <td>13.496686</td>\n",
       "    </tr>\n",
       "    <tr>\n",
       "      <th>GSE83146</th>\n",
       "      <td>GSE83146</td>\n",
       "      <td>mouse</td>\n",
       "      <td>FluidigmC1_SMARTer</td>\n",
       "      <td>207</td>\n",
       "      <td>1554</td>\n",
       "      <td>0.315095</td>\n",
       "      <td>0.212668</td>\n",
       "      <td>0.012979</td>\n",
       "      <td>7.891927</td>\n",
       "    </tr>\n",
       "    <tr>\n",
       "      <th>GSE83139</th>\n",
       "      <td>GSE83139</td>\n",
       "      <td>human</td>\n",
       "      <td>Fluidigm_SMART-seq</td>\n",
       "      <td>111</td>\n",
       "      <td>1423</td>\n",
       "      <td>0.350042</td>\n",
       "      <td>0.310782</td>\n",
       "      <td>0.005331</td>\n",
       "      <td>7.363838</td>\n",
       "    </tr>\n",
       "    <tr>\n",
       "      <th>GSE154126</th>\n",
       "      <td>GSE154126</td>\n",
       "      <td>human</td>\n",
       "      <td>SMART-seq</td>\n",
       "      <td>182</td>\n",
       "      <td>1360</td>\n",
       "      <td>0.265033</td>\n",
       "      <td>0.203880</td>\n",
       "      <td>0.010029</td>\n",
       "      <td>6.097779</td>\n",
       "    </tr>\n",
       "    <tr>\n",
       "      <th>GSE101207</th>\n",
       "      <td>GSE101207</td>\n",
       "      <td>human</td>\n",
       "      <td>Drop-seq</td>\n",
       "      <td>9958</td>\n",
       "      <td>1029</td>\n",
       "      <td>0.514281</td>\n",
       "      <td>0.146960</td>\n",
       "      <td>0.069788</td>\n",
       "      <td>5.263360</td>\n",
       "    </tr>\n",
       "    <tr>\n",
       "      <th>GSE124742_GSE164875-patch</th>\n",
       "      <td>GSE124742_GSE164875-patch</td>\n",
       "      <td>human</td>\n",
       "      <td>SMART-seq2</td>\n",
       "      <td>496</td>\n",
       "      <td>1461</td>\n",
       "      <td>0.295505</td>\n",
       "      <td>0.145873</td>\n",
       "      <td>0.011535</td>\n",
       "      <td>12.971986</td>\n",
       "    </tr>\n",
       "    <tr>\n",
       "      <th>GSE124742_GSE164875-facs</th>\n",
       "      <td>GSE124742_GSE164875-facs</td>\n",
       "      <td>human</td>\n",
       "      <td>SMART-seq2</td>\n",
       "      <td>674</td>\n",
       "      <td>1418</td>\n",
       "      <td>0.320157</td>\n",
       "      <td>0.178559</td>\n",
       "      <td>0.011169</td>\n",
       "      <td>12.678008</td>\n",
       "    </tr>\n",
       "    <tr>\n",
       "      <th>GSE86469</th>\n",
       "      <td>GSE86469</td>\n",
       "      <td>human</td>\n",
       "      <td>FluidigmC1_SMARTer</td>\n",
       "      <td>264</td>\n",
       "      <td>1482</td>\n",
       "      <td>0.230156</td>\n",
       "      <td>0.147312</td>\n",
       "      <td>0.005000</td>\n",
       "      <td>16.568801</td>\n",
       "    </tr>\n",
       "    <tr>\n",
       "      <th>GSE81547</th>\n",
       "      <td>GSE81547</td>\n",
       "      <td>human</td>\n",
       "      <td>SMART-seq2</td>\n",
       "      <td>348</td>\n",
       "      <td>1267</td>\n",
       "      <td>0.346704</td>\n",
       "      <td>0.203239</td>\n",
       "      <td>0.009185</td>\n",
       "      <td>15.619775</td>\n",
       "    </tr>\n",
       "    <tr>\n",
       "      <th>GSE81608</th>\n",
       "      <td>GSE81608</td>\n",
       "      <td>human</td>\n",
       "      <td>FluidigmC1_SMARTer</td>\n",
       "      <td>503</td>\n",
       "      <td>1374</td>\n",
       "      <td>0.207693</td>\n",
       "      <td>0.098423</td>\n",
       "      <td>0.006730</td>\n",
       "      <td>16.236588</td>\n",
       "    </tr>\n",
       "    <tr>\n",
       "      <th>sophieHuman</th>\n",
       "      <td>sophieHuman</td>\n",
       "      <td>human</td>\n",
       "      <td>10X</td>\n",
       "      <td>11923</td>\n",
       "      <td>1365</td>\n",
       "      <td>0.474535</td>\n",
       "      <td>0.253957</td>\n",
       "      <td>0.016812</td>\n",
       "      <td>13.120462</td>\n",
       "    </tr>\n",
       "    <tr>\n",
       "      <th>GSE148073</th>\n",
       "      <td>GSE148073</td>\n",
       "      <td>human</td>\n",
       "      <td>10X</td>\n",
       "      <td>11298</td>\n",
       "      <td>1380</td>\n",
       "      <td>0.467790</td>\n",
       "      <td>0.248610</td>\n",
       "      <td>0.020676</td>\n",
       "      <td>10.600553</td>\n",
       "    </tr>\n",
       "  </tbody>\n",
       "</table>\n",
       "</div>"
      ],
      "text/plain": [
       "                                             dataset organism  \\\n",
       "dataset                                                         \n",
       "mouseAtlas                                mouseAtlas    mouse   \n",
       "GSE137909                                  GSE137909    mouse   \n",
       "GSE83146                                    GSE83146    mouse   \n",
       "GSE83139                                    GSE83139    human   \n",
       "GSE154126                                  GSE154126    human   \n",
       "GSE101207                                  GSE101207    human   \n",
       "GSE124742_GSE164875-patch  GSE124742_GSE164875-patch    human   \n",
       "GSE124742_GSE164875-facs    GSE124742_GSE164875-facs    human   \n",
       "GSE86469                                    GSE86469    human   \n",
       "GSE81547                                    GSE81547    human   \n",
       "GSE81608                                    GSE81608    human   \n",
       "sophieHuman                              sophieHuman    human   \n",
       "GSE148073                                  GSE148073    human   \n",
       "\n",
       "                                   technology  n_cells  n_gp_genes  \\\n",
       "dataset                                                              \n",
       "mouseAtlas                                10X   102143        1659   \n",
       "GSE137909                            STRT-seq     1005        1570   \n",
       "GSE83146                   FluidigmC1_SMARTer      207        1554   \n",
       "GSE83139                   Fluidigm_SMART-seq      111        1423   \n",
       "GSE154126                           SMART-seq      182        1360   \n",
       "GSE101207                            Drop-seq     9958        1029   \n",
       "GSE124742_GSE164875-patch          SMART-seq2      496        1461   \n",
       "GSE124742_GSE164875-facs           SMART-seq2      674        1418   \n",
       "GSE86469                   FluidigmC1_SMARTer      264        1482   \n",
       "GSE81547                           SMART-seq2      348        1267   \n",
       "GSE81608                   FluidigmC1_SMARTer      503        1374   \n",
       "sophieHuman                               10X    11923        1365   \n",
       "GSE148073                                 10X    11298        1380   \n",
       "\n",
       "                           explained_var  explained_var_radom_m  \\\n",
       "dataset                                                           \n",
       "mouseAtlas                      0.680508               0.230903   \n",
       "GSE137909                       0.477245               0.187687   \n",
       "GSE83146                        0.315095               0.212668   \n",
       "GSE83139                        0.350042               0.310782   \n",
       "GSE154126                       0.265033               0.203880   \n",
       "GSE101207                       0.514281               0.146960   \n",
       "GSE124742_GSE164875-patch       0.295505               0.145873   \n",
       "GSE124742_GSE164875-facs        0.320157               0.178559   \n",
       "GSE86469                        0.230156               0.147312   \n",
       "GSE81547                        0.346704               0.203239   \n",
       "GSE81608                        0.207693               0.098423   \n",
       "sophieHuman                     0.474535               0.253957   \n",
       "GSE148073                       0.467790               0.248610   \n",
       "\n",
       "                           explained_var_radom_std  explained_var_n_std  \n",
       "dataset                                                                  \n",
       "mouseAtlas                                0.022948            19.591923  \n",
       "GSE137909                                 0.021454            13.496686  \n",
       "GSE83146                                  0.012979             7.891927  \n",
       "GSE83139                                  0.005331             7.363838  \n",
       "GSE154126                                 0.010029             6.097779  \n",
       "GSE101207                                 0.069788             5.263360  \n",
       "GSE124742_GSE164875-patch                 0.011535            12.971986  \n",
       "GSE124742_GSE164875-facs                  0.011169            12.678008  \n",
       "GSE86469                                  0.005000            16.568801  \n",
       "GSE81547                                  0.009185            15.619775  \n",
       "GSE81608                                  0.006730            16.236588  \n",
       "sophieHuman                               0.016812            13.120462  \n",
       "GSE148073                                 0.020676            10.600553  "
      ]
     },
     "execution_count": 102,
     "metadata": {},
     "output_type": "execute_result"
    }
   ],
   "source": [
    "dataset_info"
   ]
  },
  {
   "cell_type": "markdown",
   "id": "25f4ca75",
   "metadata": {},
   "source": [
    "#### Effect of data characteristic on explained var\n",
    "How much var is explained with all GPs across studies and how covariates (species, n cells in dataset, n GP genes present in data) affect the overall explained var."
   ]
  },
  {
   "cell_type": "code",
   "execution_count": 419,
   "id": "cd017183",
   "metadata": {
    "lines_to_next_cell": 2
   },
   "outputs": [
    {
     "data": {
      "image/png": "[encoded data removed]",
      "text/plain": [
       "<Figure size 216x180 with 1 Axes>"
      ]
     },
     "metadata": {
      "needs_background": "light"
     },
     "output_type": "display_data"
    },
    {
     "data": {
      "image/png": "[encoded data removed]",
      "text/plain": [
       "<Figure size 216x180 with 1 Axes>"
      ]
     },
     "metadata": {
      "needs_background": "light"
     },
     "output_type": "display_data"
    },
    {
     "data": {
      "image/png": "[encoded data removed]",
      "text/plain": [
       "<Figure size 216x180 with 1 Axes>"
      ]
     },
     "metadata": {
      "needs_background": "light"
     },
     "output_type": "display_data"
    },
    {
     "data": {
      "image/png": "[encoded data removed]",
      "text/plain": [
       "<Figure size 216x180 with 1 Axes>"
      ]
     },
     "metadata": {
      "needs_background": "light"
     },
     "output_type": "display_data"
    },
    {
     "data": {
      "image/png": "[encoded data removed]",
      "text/plain": [
       "<Figure size 216x180 with 1 Axes>"
      ]
     },
     "metadata": {
      "needs_background": "light"
     },
     "output_type": "display_data"
    }
   ],
   "source": [
    "# Plot explained var vs covariates\n",
    "for y in ['explained_var','explained_var_n_std']:\n",
    "    for x in ['explained_var_n_std','n_cells','n_gp_genes']:\n",
    "        if x!=y:\n",
    "            fig,ax=plt.subplots(figsize=(3,2.5))\n",
    "            sb.scatterplot(x=x,y=y,hue='organism',data=dataset_info,s=40)\n",
    "            plt.legend(bbox_to_anchor=(1.05, 1))\n",
    "            if x=='n_cells':\n",
    "                plt.xscale('log')"
   ]
  },
  {
   "cell_type": "code",
   "execution_count": 420,
   "id": "69188c93",
   "metadata": {},
   "outputs": [
    {
     "data": {
      "image/png": "[encoded data removed]",
      "text/plain": [
       "<Figure size 216x180 with 1 Axes>"
      ]
     },
     "metadata": {
      "needs_background": "light"
     },
     "output_type": "display_data"
    }
   ],
   "source": [
    "fig,ax=plt.subplots(figsize=(3,2.5))\n",
    "sb.scatterplot(x='n_gp_genes',y='n_cells',hue='organism',data=dataset_info,s=40)\n",
    "plt.legend(bbox_to_anchor=(1.05, 1))\n",
    "plt.yscale('log')"
   ]
  },
  {
   "cell_type": "markdown",
   "id": "3bb41bac",
   "metadata": {},
   "source": [
    "#### Explained var significance\n",
    "Per-dataset comparison of var explained by GPs and random gene groups"
   ]
  },
  {
   "cell_type": "code",
   "execution_count": 23,
   "id": "32e65ebe",
   "metadata": {},
   "outputs": [],
   "source": [
    "species_palette={'human':'#8a9e59','mouse':'#c97fac'}"
   ]
  },
  {
   "cell_type": "code",
   "execution_count": 103,
   "id": "3dc57433",
   "metadata": {},
   "outputs": [],
   "source": [
    "# For renaming datasets\n",
    "rename_ds={\n",
    "    'GSE124742_GSE164875-patch':'GSE124742_GSE164875_patch',\n",
    "    'GSE124742_GSE164875-facs':'GSE124742_FACS',\n",
    "    'sophieHuman':'GSE198623'\n",
    "}\n",
    "# rename datasets\n",
    "explained_var_all.dataset=explained_var_all.dataset.replace(rename_ds)"
   ]
  },
  {
   "cell_type": "code",
   "execution_count": 104,
   "id": "dbc60b8d",
   "metadata": {},
   "outputs": [
    {
     "name": "stderr",
     "output_type": "stream",
     "text": [
      "/home/icb/karin.hrovatin/miniconda3/envs/rpy2_3/lib/python3.8/site-packages/seaborn/categorical.py:1296: UserWarning: 10.0% of the points cannot be placed; you may want to decrease the size of the markers or use stripplot.\n",
      "  warnings.warn(msg, UserWarning)\n",
      "/home/icb/karin.hrovatin/miniconda3/envs/rpy2_3/lib/python3.8/site-packages/seaborn/categorical.py:1296: UserWarning: 50.0% of the points cannot be placed; you may want to decrease the size of the markers or use stripplot.\n",
      "  warnings.warn(msg, UserWarning)\n",
      "/home/icb/karin.hrovatin/miniconda3/envs/rpy2_3/lib/python3.8/site-packages/seaborn/categorical.py:1296: UserWarning: 30.0% of the points cannot be placed; you may want to decrease the size of the markers or use stripplot.\n",
      "  warnings.warn(msg, UserWarning)\n",
      "/home/icb/karin.hrovatin/miniconda3/envs/rpy2_3/lib/python3.8/site-packages/seaborn/categorical.py:1296: UserWarning: 20.0% of the points cannot be placed; you may want to decrease the size of the markers or use stripplot.\n",
      "  warnings.warn(msg, UserWarning)\n",
      "/home/icb/karin.hrovatin/miniconda3/envs/rpy2_3/lib/python3.8/site-packages/seaborn/categorical.py:1296: UserWarning: 40.0% of the points cannot be placed; you may want to decrease the size of the markers or use stripplot.\n",
      "  warnings.warn(msg, UserWarning)\n"
     ]
    },
    {
     "data": {
      "image/png": "[encoded data removed]",
      "text/plain": [
       "<Figure size 576x216 with 1 Axes>"
      ]
     },
     "metadata": {
      "needs_background": "light"
     },
     "output_type": "display_data"
    }
   ],
   "source": [
    "# Plot explained var vs random explained var for each dataset\n",
    "rcParams['figure.figsize']=(8,3)\n",
    "sb.swarmplot(x='dataset',y='explained_var_ratio',hue='organism',marker='X',s=10,\n",
    "            data=explained_var_all.query('component==\"GPs\" & study==False & random==False'),\n",
    "            palette=species_palette)\n",
    "g=sb.swarmplot(x='dataset',y='explained_var_ratio',hue='organism',\n",
    "            data=explained_var_all.query('component==\"GPs\" & study==False & random==True'),\n",
    "            palette=species_palette)\n",
    "g.get_legend().remove()\n",
    "g.set_ylim((0,1))\n",
    "a=plt.xticks(rotation=90)\n",
    "\n",
    "handles,labels=g.get_legend_handles_labels()\n",
    "legend_elements=dict()\n",
    "legend_elements['species']=Line2D([0], [0], markersize=0,lw=0)\n",
    "legend_elements.update(zip(labels,handles))\n",
    "legend_elements['\\ngene sets']=Line2D([0], [0], markersize=0,lw=0)                                       \n",
    "legend_elements['GPs']=Line2D([0], [0], marker='X', color='k', \n",
    "                          markerfacecolor='k', markersize=8,lw=0)\n",
    "legend_elements['random']=Line2D([0], [0], marker='o', color='k', \n",
    "                          markerfacecolor='k', markersize=8,lw=0)\n",
    "a=g.legend(handles=legend_elements.values(),labels=legend_elements.keys(), \n",
    "          bbox_to_anchor=(1.01,1.03))\n",
    "# Transparency\n",
    "g.set(facecolor = (0,0,0,0))\n",
    "g.spines['top'].set_visible(False)\n",
    "g.spines['right'].set_visible(False)\n",
    "a=g.set_ylabel('explained var ratio')\n",
    "g.get_legend().get_frame().set_alpha(None)\n",
    "g.get_legend().get_frame().set_facecolor((0, 0, 0, 0))\n",
    "g.get_legend().get_frame().set_edgecolor((0, 0, 0, 0))\n",
    "plt.savefig(path_fig+'swarmplot_beta_GPexplainedVar_datasets.png',dpi=300,bbox_inches='tight')"
   ]
  },
  {
   "cell_type": "markdown",
   "id": "1c12125b",
   "metadata": {},
   "source": [
    "#### Explained var in each dataset by individual GPs"
   ]
  },
  {
   "cell_type": "markdown",
   "id": "a1a8ad6d",
   "metadata": {},
   "source": [
    "Explained var in each study by individual GPs. How much var is explained and how many stds is this from mean on random gene groups."
   ]
  },
  {
   "cell_type": "code",
   "execution_count": 9,
   "id": "971de0ec",
   "metadata": {},
   "outputs": [],
   "source": [
    "# Get explained var for each component in each dataset and compare to random var\n",
    "explained_component=[]\n",
    "for (dataset, component),data in explained_var_all.query(\n",
    "    'study==False & component!=\"GPs\"').groupby(['dataset','component']):\n",
    "    explained=data[~data.random.astype(bool)]['explained_var_ratio'].values[0]\n",
    "    explained_random=data[data.random.astype(bool)]['explained_var_ratio']\n",
    "    explained_n_std=(explained-explained_random.mean())/explained_random.std()\n",
    "    organism=data.organism.values[0]\n",
    "    organism_short='mm' if organism =='mouse' else 'hs'\n",
    "    explained_component.append(\n",
    "        {'dataset':dataset,'component':component,'organism':organism,\n",
    "         'org_dataset':organism_short+'_'+dataset,\n",
    "        'explained_var':explained,'explained_var_n_std':explained_n_std})\n",
    "explained_component=pd.DataFrame(explained_component)  \n",
    "# Sort components for plotting\n",
    "explained_component['component']=pd.Categorical(\n",
    "    explained_component['component'],\n",
    "    [str(c) for c in sorted(explained_component['component'].astype(int).unique())],\n",
    "    True)\n",
    "explained_component['org_dataset']=pd.Categorical(\n",
    "    explained_component['org_dataset'],sorted(explained_component['org_dataset'].unique()),True)"
   ]
  },
  {
   "cell_type": "code",
   "execution_count": 423,
   "id": "69d4aee5",
   "metadata": {},
   "outputs": [
    {
     "data": {
      "image/png": "[encoded data removed]",
      "text/plain": [
       "<Figure size 299.52x622.08 with 1 Axes>"
      ]
     },
     "metadata": {
      "needs_background": "light"
     },
     "output_type": "display_data"
    }
   ],
   "source": [
    "# Explained var by component\n",
    "rcParams['figure.figsize']=(explained_component.dataset.nunique()*0.32,\n",
    "                            explained_component.component.nunique()*0.32)\n",
    "sb.scatterplot(x='org_dataset',y='component',hue='explained_var',size='explained_var_n_std',\n",
    "               data=explained_component,palette='magma')\n",
    "plt.legend(bbox_to_anchor=(1.05, 1))\n",
    "a=plt.xticks(rotation=90)"
   ]
  },
  {
   "cell_type": "markdown",
   "id": "97cabd61",
   "metadata": {},
   "source": [
    "Contribution of GP components for each dataset, scaled (maxabs) across GPs"
   ]
  },
  {
   "cell_type": "code",
   "execution_count": 10,
   "id": "8839b6f8",
   "metadata": {},
   "outputs": [],
   "source": [
    "# Scale explained components\n",
    "scaled=pd.crosstab(columns=explained_component['dataset'],index=explained_component['component'],\n",
    "            values=explained_component['explained_var'],aggfunc='mean')\n",
    "scaled=pd.DataFrame(maxabs_scale(scaled),index=scaled.index,columns=scaled.columns)"
   ]
  },
  {
   "cell_type": "code",
   "execution_count": 21,
   "id": "f28c4aae",
   "metadata": {},
   "outputs": [],
   "source": [
    "# rename datasets\n",
    "scaled.rename(rename_ds,axis=1,inplace=True)\n",
    "dataset_info.rename(rename_ds,axis=0,inplace=True)"
   ]
  },
  {
   "cell_type": "code",
   "execution_count": 35,
   "id": "55778a85",
   "metadata": {},
   "outputs": [],
   "source": [
    "# Add T1D and T2D info\n",
    "dataset_info['diabetes']=None\n",
    "for ds in dataset_info.index:\n",
    "    if ds!='mouseAtlas':\n",
    "        disease=set(pd.read_excel(path_rna+'external_metadata.xlsx',sheet_name=ds)['disease'])\n",
    "        if 'T1D' in disease and 'T2D' in disease:\n",
    "            diabetes='T1D and T2D'\n",
    "        elif 'T1D' in disease :\n",
    "            diabetes='T1D'\n",
    "        elif 'T2D' in disease :\n",
    "            diabetes='T2D'\n",
    "        else:\n",
    "            diabetes='none'\n",
    "    else:\n",
    "        diabetes='T1D and T2D'\n",
    "    dataset_info.at[ds,'diabetes']=diabetes"
   ]
  },
  {
   "cell_type": "code",
   "execution_count": 90,
   "id": "71cb72e0",
   "metadata": {},
   "outputs": [],
   "source": [
    "# dataset anno\n",
    "diabetes_palette={'T1D':'#E04C4C','T2D':'#1E88E5','T1D and T2D':'#E2BF56','none':'#D4D4D4'}\n",
    "col_colors=pd.concat([\n",
    "    # Diabetes anno\n",
    "    pd.Series(scaled.columns,index=scaled.columns,name='diabetes'\n",
    "         ).map(dataset_info['diabetes'].to_dict()\n",
    "         ).map(diabetes_palette),\n",
    "    # Species annotation\n",
    "    pd.Series(scaled.columns,index=scaled.columns,name='species'\n",
    "         ).map(dataset_info['organism'].to_dict()\n",
    "         ).map(species_palette)\n",
    "],axis=1)"
   ]
  },
  {
   "cell_type": "code",
   "execution_count": 105,
   "id": "c5141a25",
   "metadata": {},
   "outputs": [
    {
     "data": {
      "image/png": "[encoded data removed]",
      "text/plain": [
       "<Figure size 943.2x482.4 with 5 Axes>"
      ]
     },
     "metadata": {
      "needs_background": "light"
     },
     "output_type": "display_data"
    }
   ],
   "source": [
    "# Plot clustermap of explained var per GP normalised per dataset\n",
    "# Sizes\n",
    "w_dend=1.5\n",
    "w_colors=0.4\n",
    "nrow=scaled.shape[0]*0.4\n",
    "ncol=scaled.shape[1]*0.4\n",
    "w=ncol+w_dend\n",
    "h=nrow+w_colors*2+w_dend\n",
    "# Heatmap\n",
    "g=sb.clustermap(scaled.T,xticklabels=True,yticklabels=True,\n",
    "              row_colors=col_colors,\n",
    "              figsize=(h,w),\n",
    "             colors_ratio=(w_colors/h,w_colors/w),\n",
    "            dendrogram_ratio=(w_dend/h,w_dend/w),vmin=0,vmax=1,\n",
    "                cbar_pos=(-0.01,0.43,0.02,0.2),cmap='viridis')\n",
    "g.ax_cbar.set_title('relative\\nexplained var\\n')   \n",
    "\n",
    "#remove dendrogram\n",
    "g.ax_row_dendrogram.set_visible(False)\n",
    "g.ax_col_dendrogram.set_visible(False)\n",
    "\n",
    "# Legend for species and diabetes\n",
    "l=plt.legend(handles=\\\n",
    "             [mpatches.Patch(alpha=0, label='diabetes')]+\n",
    "             [mpatches.Patch(color=c, label=l) \n",
    "                      for l,c in diabetes_palette.items()]+\n",
    "             [mpatches.Patch(alpha=0, label='\\nspecies')]+\n",
    "             [mpatches.Patch(color=c, label=l) \n",
    "                      for l,c in species_palette.items()],\n",
    "          bbox_to_anchor=(4.8,-0.3))\n",
    "l.get_frame().set_alpha(0)\n",
    "\n",
    "# Remove row anno tick\n",
    "g.ax_row_colors.xaxis.set_ticks_position('none') \n",
    "\n",
    "plt.savefig(path_fig+'heatmap_beta_GPexplainedVar_datasets_perGPnorm.png',\n",
    "            dpi=300,bbox_inches='tight')"
   ]
  },
  {
   "cell_type": "markdown",
   "id": "e805349b",
   "metadata": {},
   "source": [
    "C: In most datasets the var is best explained by GPs differing between healthy and T2D"
   ]
  }
 ],
 "metadata": {
  "jupytext": {
   "formats": "ipynb,py:percent"
  },
  "kernelspec": {
   "display_name": "Python rpy2_3",
   "language": "python",
   "name": "rpy2_3"
  },
  "language_info": {
   "codemirror_mode": {
    "name": "ipython",
    "version": 3
   },
   "file_extension": ".py",
   "mimetype": "text/x-python",
   "name": "python",
   "nbconvert_exporter": "python",
   "pygments_lexer": "ipython3",
   "version": "3.8.5"
  }
 },
 "nbformat": 4,
 "nbformat_minor": 5
}
