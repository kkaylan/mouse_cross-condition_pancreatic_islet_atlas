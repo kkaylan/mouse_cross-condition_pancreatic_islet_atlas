{
 "cells": [
  {
   "cell_type": "code",
   "execution_count": 1,
   "metadata": {
    "lines_to_next_cell": 2
   },
   "outputs": [],
   "source": [
    "import scanpy as sc\n",
    "import pandas as pd\n",
    "import numpy as np\n",
    "import anndata\n",
    "\n",
    "import pickle as pkl\n",
    "from sklearn.preprocessing import minmax_scale\n",
    "\n",
    "from matplotlib import rcParams\n",
    "import matplotlib.pyplot as plt\n",
    "import seaborn as sb\n",
    "from matplotlib.patches import Patch\n",
    "import matplotlib.colors as mcolors\n",
    "\n",
    "from scipy.cluster.hierarchy import linkage,dendrogram,fcluster,leaves_list\n",
    "from scipy.cluster import hierarchy\n",
    "from scipy.spatial.distance import pdist\n",
    "\n",
    "import sys\n",
    "sys.path.insert(0, '/lustre/groups/ml01/code/karin.hrovatin/diabetes_analysis/')\n",
    "import helper as h\n",
    "import importlib\n",
    "importlib.reload(h)\n",
    "import helper as h\n",
    "\n",
    "#R interface\n",
    "import rpy2.robjects as ro\n",
    "from rpy2.robjects import pandas2ri\n",
    "pandas2ri.activate()\n",
    "%load_ext rpy2.ipython\n",
    "\n",
    "import rpy2.rinterface_lib.callbacks\n",
    "import logging\n",
    "rpy2.rinterface_lib.callbacks.logger.setLevel(logging.ERROR)\n",
    "\n",
    "from rpy2.robjects.packages import importr\n",
    "grdevices = importr('grDevices')"
   ]
  },
  {
   "cell_type": "code",
   "execution_count": 2,
   "metadata": {},
   "outputs": [],
   "source": [
    "%%R\n",
    "library('ComplexHeatmap')\n",
    "library(viridis)\n",
    "library(proxy)\n",
    "library(seriation)\n",
    "library(dendextend)"
   ]
  },
  {
   "cell_type": "code",
   "execution_count": 3,
   "metadata": {},
   "outputs": [],
   "source": [
    "path_data='/lustre/groups/ml01/workspace/karin.hrovatin/data/pancreas/scRNA/combined/'\n",
    "path_markers='/lustre/groups/ml01/workspace/karin.hrovatin/data/pancreas/gene_lists/'"
   ]
  },
  {
   "cell_type": "code",
   "execution_count": 4,
   "metadata": {},
   "outputs": [],
   "source": [
    "# Saving figures\n",
    "path_fig='/lustre/groups/ml01/workspace/karin.hrovatin/data/pancreas/figures/paper/'"
   ]
  },
  {
   "cell_type": "code",
   "execution_count": 5,
   "metadata": {
    "scrolled": true
   },
   "outputs": [
    {
     "data": {
      "text/plain": [
       "(102143, 30672)"
      ]
     },
     "execution_count": 5,
     "metadata": {},
     "output_type": "execute_result"
    }
   ],
   "source": [
    "adata_rn_b=sc.read(path_data+'data_rawnorm_integrated_analysed_beta_v1s1_sfintegrated.h5ad')\n",
    "adata_rn_b.shape"
   ]
  },
  {
   "cell_type": "markdown",
   "metadata": {},
   "source": [
    "## Markers\n",
    "Load markers from manually collected table."
   ]
  },
  {
   "cell_type": "code",
   "execution_count": 6,
   "metadata": {},
   "outputs": [],
   "source": [
    "# markers table\n",
    "markers=pd.read_excel(path_markers+'markers.xlsx',sheet_name='beta_heterogeneity')"
   ]
  },
  {
   "cell_type": "code",
   "execution_count": 7,
   "metadata": {},
   "outputs": [],
   "source": [
    "# orthologue mapping\n",
    "orthologues=pd.read_table(path_markers+'orthologues_ORGmus_musculus_ORG2homo_sapiens_V103.tsv'\n",
    "                         ).rename({'Gene name':'gs_mm','Human gene name':'gs_hs'},axis=1)"
   ]
  },
  {
   "cell_type": "code",
   "execution_count": 8,
   "metadata": {},
   "outputs": [
    {
     "name": "stdout",
     "output_type": "stream",
     "text": [
      "N marker genes: 241\n",
      "Not in data: []\n",
      "N marker gene EIDs: 242\n"
     ]
    }
   ],
   "source": [
    "# Mouse markers\n",
    "marker_names=set(markers.query('organism==\"Mus musculus\"')['gene_name'])\n",
    "# Add human markers\n",
    "marker_names_hs=set(markers.query('organism==\"Homo sapiens\"')['gene_name'])\n",
    "marker_names=list(marker_names|set(orthologues.query('gs_hs in @marker_names_hs')['gs_mm']))\n",
    "print(\"N marker genes:\",len(marker_names))\n",
    "print('Not in data:',[m for m in marker_names if m not in set(adata_rn_b.var.gene_symbol)])\n",
    "marker_eids=list(set(adata_rn_b.var.query('gene_symbol in @marker_names').index))\n",
    "print(\"N marker gene EIDs:\",len(marker_eids))"
   ]
  },
  {
   "cell_type": "markdown",
   "metadata": {},
   "source": [
    "Expression strength of markers and filtering out markers expressed in only a few cells"
   ]
  },
  {
   "cell_type": "code",
   "execution_count": 9,
   "metadata": {},
   "outputs": [
    {
     "name": "stderr",
     "output_type": "stream",
     "text": [
      "<ipython-input-9-019ed55aa16b>:5: RuntimeWarning: invalid value encountered in true_divide\n",
      "  np.array(adata_rn_b.X.sum(axis=0)).ravel()/n_cells.values.ravel(),\n"
     ]
    }
   ],
   "source": [
    "# Calculate expression statistics\n",
    "n_cells=pd.Series(np.array((adata_rn_b.X>0).sum(axis=0)).ravel(),\n",
    "                     index=adata_rn_b.var_names)\n",
    "mean_expr_in_exprc=pd.Series(\n",
    "    np.array(adata_rn_b.X.sum(axis=0)).ravel()/n_cells.values.ravel(), \n",
    "                                index=adata_rn_b.var_names)\n",
    "mean_expr_in_exprc.replace(np.nan,0,inplace=True)"
   ]
  },
  {
   "cell_type": "code",
   "execution_count": 10,
   "metadata": {},
   "outputs": [
    {
     "name": "stdout",
     "output_type": "stream",
     "text": [
      "N cells == 0: ['Ddit3']\n"
     ]
    },
    {
     "data": {
      "image/png": "[encoded data removed]",
      "text/plain": [
       "<Figure size 576x288 with 2 Axes>"
      ]
     },
     "metadata": {
      "needs_background": "light"
     },
     "output_type": "display_data"
    }
   ],
   "source": [
    "# Expression strength distn plots\n",
    "fig,ax=plt.subplots(1,2,figsize=(8,4))\n",
    "ax[0].hist(n_cells.loc[marker_eids].values,bins=100)\n",
    "fig.suptitle('N cells expressing a marker')\n",
    "ax[1].boxplot(n_cells.loc[marker_eids].values)\n",
    "fig.tight_layout()\n",
    "print('N cells == 0:',adata_rn_b.var.loc[\n",
    "    n_cells.loc[marker_eids].index[n_cells.loc[marker_eids]==0],'gene_symbol'].tolist())"
   ]
  },
  {
   "cell_type": "code",
   "execution_count": 11,
   "metadata": {},
   "outputs": [
    {
     "data": {
      "text/plain": [
       "Text(0.5, 0, 'Mean expression in expressing cells for markers')"
      ]
     },
     "execution_count": 11,
     "metadata": {},
     "output_type": "execute_result"
    },
    {
     "data": {
      "image/png": "[encoded data removed]",
      "text/plain": [
       "<Figure size 432x288 with 1 Axes>"
      ]
     },
     "metadata": {
      "needs_background": "light"
     },
     "output_type": "display_data"
    }
   ],
   "source": [
    "a=plt.hist(mean_expr_in_exprc.loc[marker_eids].values,bins=100)\n",
    "plt.xlabel('Mean expression in expressing cells for markers')"
   ]
  },
  {
   "cell_type": "code",
   "execution_count": 10,
   "metadata": {},
   "outputs": [
    {
     "name": "stdout",
     "output_type": "stream",
     "text": [
      "Remaining N names and EIDs: 208 208\n"
     ]
    }
   ],
   "source": [
    "# Remove markers expressed in little cells\n",
    "unexpressed_eids=n_cells.loc[marker_eids].index[\n",
    "    n_cells.loc[marker_eids]<adata_rn_b.shape[0]*0.01].tolist()\n",
    "marker_eids=list(set([g for g in marker_eids if g not in unexpressed_eids]))\n",
    "marker_names=list(set([g for g in adata_rn_b.var.loc[marker_eids,'gene_symbol'] \n",
    "                       if g in marker_names]))\n",
    "print('Remaining N names and EIDs:',len(marker_names),len(marker_eids))"
   ]
  },
  {
   "cell_type": "markdown",
   "metadata": {},
   "source": [
    "## Marker expression"
   ]
  },
  {
   "cell_type": "code",
   "execution_count": 11,
   "metadata": {},
   "outputs": [],
   "source": [
    "# Genes to be marked on the heatmap\n",
    "genes_show=['Slc2a2', 'Ucn3', 'Mafa', 'Sytl4',\n",
    "            'Nkx6-1', 'Chga', 'Nkx2-2', 'Pdx1',\n",
    "            'Ins1','Ins2',\n",
    "            'Gc', 'Cd81', 'Cck','Serpine1',\n",
    "            'Chgb','Iapp','Neurog3',\n",
    "            'Ccl4', 'Cxcl10', 'Cxcl1','Rbp4', 'Mafb',\n",
    "            'Gpx3', 'Cdkn1a', 'Cdkn2b',  'Cdkn2a', 'Atf3',\n",
    "           'Glp1r','Tnfrsf11b','Abcc8','Cat','Npy']\n",
    "ro.globalenv['genes_show']=genes_show"
   ]
  },
  {
   "cell_type": "code",
   "execution_count": 12,
   "metadata": {},
   "outputs": [],
   "source": [
    "# Cell clusters\n",
    "cell_clustering='hc_gene_programs_parsed'\n",
    "ro.globalenv['cell_cls']=[str(cl) for cl in adata_rn_b.obs[cell_clustering].unique().tolist()]\n",
    "ro.globalenv['cell_cls_order']=[str(cl) for cl in \n",
    "                                adata_rn_b.obs[cell_clustering].cat.categories.tolist()]\n",
    "# Cell cl colors\n",
    "# Map python named colors to HEX\n",
    "BASE_COLORS_hex = {name:mcolors.rgb2hex(color) for name,color in mcolors.BASE_COLORS.items()}\n",
    "all_named_colors = {}\n",
    "all_named_colors.update(mcolors.TABLEAU_COLORS)\n",
    "all_named_colors.update(BASE_COLORS_hex)\n",
    "all_named_colors.update(mcolors.CSS4_COLORS)\n",
    "all_named_colors.update(mcolors.XKCD_COLORS)\n",
    "# Extract cl colors\n",
    "ro.globalenv['cell_cls_colors']=[all_named_colors[c] \n",
    "                                 for c in adata_rn_b.uns[cell_clustering+'_colors'][\n",
    "                                     :adata_rn_b.obs[cell_clustering].nunique()]]"
   ]
  },
  {
   "cell_type": "code",
   "execution_count": 14,
   "metadata": {},
   "outputs": [],
   "source": [
    "# Gene annotation\n",
    "marker_anno=pd.DataFrame(index=marker_names)\n",
    "for subtype,data in markers.query('gene_name in @marker_names').groupby('subtype'):\n",
    "    marker_anno.loc[data['gene_name'].unique(),subtype]=1\n",
    "marker_anno.fillna(0,inplace=True)\n",
    "marker_anno=marker_anno.astype(bool) \n",
    "ro.globalenv['marker_anno']=marker_anno"
   ]
  },
  {
   "cell_type": "code",
   "execution_count": 34,
   "metadata": {},
   "outputs": [],
   "source": [
    "# Make df of genes vs mean expression across cell clusters \n",
    "cl_col='hc_gene_programs_parsed'\n",
    "genes=marker_eids\n",
    "cell_cls=adata_rn_b.obs[cl_col].unique()\n",
    "# Remove clusters with lowQ cells\n",
    "cell_cls=[c for c in cell_cls if 'lowQ' not in c]\n",
    "data_genes_pb=pd.DataFrame(index=genes,columns=cell_cls)\n",
    "for cell_cl in cell_cls:\n",
    "    data_genes_pb[cell_cl]=np.array(adata_rn_b[\n",
    "        adata_rn_b.obs[cl_col]==cell_cl,features.index].X.mean(axis=0)).ravel()"
   ]
  },
  {
   "cell_type": "code",
   "execution_count": 35,
   "metadata": {},
   "outputs": [],
   "source": [
    "# Normalised expression df\n",
    "data_genes_pb=data_genes_pb.T\n",
    "data_genes_pb.columns=adata_rn_b.var.loc[data_genes_pb.columns,'gene_symbol']\n",
    "data_genes_pb=pd.DataFrame(minmax_scale(data_genes_pb),\n",
    "                       index=data_genes_pb.index,columns=data_genes_pb.columns)\n",
    "ro.globalenv['data_genes_pb']=data_genes_pb"
   ]
  },
  {
   "cell_type": "code",
   "execution_count": 37,
   "metadata": {},
   "outputs": [],
   "source": [
    "%%R -o genes_order_pb\n",
    "# Order genes\n",
    "distances<-dist(t(data_genes_pb), method=\"Euclidean\")\n",
    "hc<-hclust(d=distances, method = \"ward.D2\" )\n",
    "hc_ordered<-reorder(x=hc,dist = distances)\n",
    "genes_order_pb<- as.dendrogram(hc_ordered) %>% labels"
   ]
  },
  {
   "cell_type": "code",
   "execution_count": 38,
   "metadata": {},
   "outputs": [],
   "source": [
    "%%R\n",
    "# Marker annotation\n",
    "# Order marker anno\n",
    "marker_anno_ordered<-marker_anno[genes_order_pb,]\n",
    "marker_anno_colnames<-colnames(marker_anno_ordered)\n",
    "marker_anno_ordered<-as.matrix(marker_anno_ordered)\n",
    "colnames(marker_anno_ordered)<-marker_anno_colnames"
   ]
  },
  {
   "cell_type": "code",
   "execution_count": 39,
   "metadata": {},
   "outputs": [],
   "source": [
    "%%R -o cells_order_pb\n",
    "# Order cells\n",
    "distances<-dist(data_genes_pb, method=\"Euclidean\")\n",
    "hc<-hclust(d=distances, method = \"ward.D2\" )\n",
    "hc_ordered<-reorder(x=hc,dist = distances)\n",
    "cells_order_pb<- as.dendrogram(hc_ordered) %>% labels"
   ]
  },
  {
   "cell_type": "code",
   "execution_count": 40,
   "metadata": {},
   "outputs": [],
   "source": [
    "%%R\n",
    "# Cell annotation\n",
    "cell_cls<-factor(cells_order_pb, levels = cell_cls_order)\n",
    "cell_cls_colors<-unlist(cell_cls_colors)\n",
    "cell_cl_colormap<-cell_cls_colors\n",
    "names(cell_cl_colormap)<-cell_cls_order\n",
    "ha_col=rowAnnotation(\n",
    "    'cell_clusters' = cell_cls,\n",
    "    col = list(cell_clusters = cell_cl_colormap),\n",
    "    show_annotation_name = c(cell_clusters = FALSE),\n",
    "    show_legend=FALSE\n",
    ")"
   ]
  },
  {
   "cell_type": "code",
   "execution_count": 41,
   "metadata": {},
   "outputs": [],
   "source": [
    "# Select genes for annotating and determine index for marking\n",
    "genes_show_idx_pb=[np.argwhere(genes_order_pb==g)[0][0] for g in genes_show]\n",
    "ro.globalenv['genes_show_idx_pb']=genes_show_idx_pb"
   ]
  },
  {
   "cell_type": "code",
   "execution_count": 44,
   "metadata": {},
   "outputs": [],
   "source": [
    "%%R\n",
    "# Gene info annotation - names and marking subtype\n",
    "genes_show<-unlist(genes_show)\n",
    "genes_show_idx_pb<-unlist(genes_show_idx_pb)\n",
    "ha_row = columnAnnotation(\n",
    "    genes=anno_mark(at = genes_show_idx_pb, labels = genes_show),\n",
    "    marker=marker_anno_ordered,\n",
    "    col = list(marker = setNames( c(\"#dedede\", \"violetred4\"),c(FALSE,TRUE))),\n",
    "    annotation_name_side = \"left\"\n",
    ")"
   ]
  },
  {
   "cell_type": "markdown",
   "metadata": {},
   "source": [
    "Plot, but not save"
   ]
  },
  {
   "cell_type": "code",
   "execution_count": 45,
   "metadata": {},
   "outputs": [
    {
     "data": {
      "image/png": "[encoded data removed]"
     },
     "metadata": {},
     "output_type": "display_data"
    }
   ],
   "source": [
    "%%R -w 800 -h 600 \n",
    "h<-Heatmap(data_genes_pb[cells_order_pb,genes_order_pb],col=viridis(256),\n",
    "       cluster_columns = FALSE, cluster_rows = FALSE,\n",
    "       show_column_names = FALSE, show_row_names = TRUE,\n",
    "       row_title =\"fine cell clusters\",\n",
    "       top_annotation=ha_row,\n",
    "       left_annotation=ha_col,row_names_side = \"left\",\n",
    "       heatmap_legend_param = list( title = \"relative\\nmean\\nexpression\\n\"),\n",
    "       row_gap = unit(0, \"mm\"),\n",
    "       width= unit(15, \"cm\"), height= unit(12, \"cm\"),\n",
    "       show_row_dend = FALSE, \n",
    "       )\n",
    "draw(h)"
   ]
  },
  {
   "cell_type": "markdown",
   "metadata": {},
   "source": [
    "Save plot"
   ]
  },
  {
   "cell_type": "code",
   "execution_count": 47,
   "metadata": {},
   "outputs": [
    {
     "name": "stdout",
     "output_type": "stream",
     "text": [
      "[1] 2\n"
     ]
    }
   ],
   "source": [
    "%%R\n",
    "pdf(file=paste0(path_fig,\"heatmap_beta_knownmarkers_CLfine.pdf\"), width=9.7, height=8)\n",
    "h<-Heatmap(data_genes_pb[cells_order_pb,genes_order_pb],col=viridis(256),\n",
    "       cluster_columns = FALSE, cluster_rows = FALSE,\n",
    "       show_column_names = FALSE, show_row_names = TRUE,\n",
    "       row_title =\"Cell clusters\",\n",
    "       top_annotation=ha_row,\n",
    "       left_annotation=ha_col,row_names_side = \"left\",\n",
    "       heatmap_legend_param = list( title = \"relative\\nmean\\nexpression\\n\"),\n",
    "       row_gap = unit(0, \"mm\"),\n",
    "       width= unit(15, \"cm\"), height= unit(12, \"cm\"),\n",
    "       show_row_dend = FALSE,\n",
    "       )\n",
    "draw(h)\n",
    "dev.off()"
   ]
  },
  {
   "cell_type": "markdown",
   "metadata": {},
   "source": [
    "## Marker state overlaps\n",
    "Look into markers previously reported for multiple states"
   ]
  },
  {
   "cell_type": "code",
   "execution_count": 42,
   "metadata": {},
   "outputs": [],
   "source": [
    "# Size of marker group overlaps\n",
    "categories_count=pd.DataFrame(marker_anno.groupby(list(marker_anno.columns)).\\\n",
    "                              size().rename('count').reset_index())\n",
    "# N beta cell states in each marker group\n",
    "categories_count['n_states']=(categories_count.drop('count',axis=1)==True).sum(axis=1)"
   ]
  },
  {
   "cell_type": "code",
   "execution_count": 46,
   "metadata": {},
   "outputs": [
    {
     "name": "stdout",
     "output_type": "stream",
     "text": [
      "['proliferative', 'senescent'] N genes 1\n",
      "{'Cdkn1a'}\n",
      "['immune-attack susceptible', 'mature'] N genes 5\n",
      "{'Ins2', 'Slc2a2', 'Ins1', 'Pdx1', 'Mafa', 'Foxo1', 'Slc30a8', 'Nkx6-1', 'G6pc2'}\n",
      "['immature', 'senescent'] N genes 1\n",
      "{'Ldha'}\n",
      "['extreme', 'mature'] N genes 4\n",
      "{'Pcsk1', 'Kcnj11', 'Ins2', 'Slc2a2', 'Ins1', 'Pdx1', 'Pcsk2', 'Ero1b', 'Ucn3'}\n",
      "['extreme', 'immune-attack susceptible', 'mature'] N genes 4\n",
      "{'Pdx1', 'Ins2', 'Slc2a2', 'Ins1'}\n",
      "['extreme', 'immature', 'immune-attack susceptible'] N genes 1\n",
      "{'Chga'}\n",
      "['dedifferentiatiated', 'immune-attack resistant'] N genes 1\n",
      "{'Neurog3'}\n",
      "['dedifferentiatiated', 'immature'] N genes 5\n",
      "{'Rbp4', 'Mafb', 'Chgb', 'Cd81', 'Gpx3', 'Cltrn'}\n",
      "['dedifferentiatiated', 'extreme'] N genes 1\n",
      "{'Pcsk1', 'Chgb', 'Iapp'}\n",
      "['dedifferentiatiated', 'extreme', 'mature'] N genes 1\n",
      "{'Pcsk1'}\n",
      "['dedifferentiatiated', 'extreme', 'immature'] N genes 1\n",
      "{'Chgb'}\n",
      "['aged', 'senescent'] N genes 2\n",
      "{'Igf1r', 'Cdkn2a'}\n"
     ]
    }
   ],
   "source": [
    "# report genes that have multiple annotations nd these annotations;\n",
    "# group genes by states they are annotated with\n",
    "for idx,data in categories_count.iterrows():\n",
    "    if data['n_states']>1:\n",
    "        states=[state for state in data.index if data[state]==True and state!='count']\n",
    "        print(states,\n",
    "              'N genes',data['count'])\n",
    "        genes=set(marker_anno.index)\n",
    "        for state in states:\n",
    "            genes=genes&set(marker_anno[marker_anno[state]].index)\n",
    "        print(genes)"
   ]
  },
  {
   "cell_type": "markdown",
   "metadata": {},
   "source": [
    "C: The overlaps mainly make sense"
   ]
  },
  {
   "cell_type": "code",
   "execution_count": null,
   "metadata": {},
   "outputs": [],
   "source": []
  }
 ],
 "metadata": {
  "jupytext": {
   "formats": "ipynb,py:percent"
  },
  "kernelspec": {
   "display_name": "Python rpy2_3",
   "language": "python",
   "name": "rpy2_3"
  },
  "language_info": {
   "codemirror_mode": {
    "name": "ipython",
    "version": 3
   },
   "file_extension": ".py",
   "mimetype": "text/x-python",
   "name": "python",
   "nbconvert_exporter": "python",
   "pygments_lexer": "ipython3",
   "version": "3.8.5"
  }
 },
 "nbformat": 4,
 "nbformat_minor": 4
}
