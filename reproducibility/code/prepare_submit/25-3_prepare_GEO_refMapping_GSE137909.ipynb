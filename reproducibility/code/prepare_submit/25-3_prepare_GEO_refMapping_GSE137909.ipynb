{
 "cells": [
  {
   "cell_type": "code",
   "execution_count": 1,
   "id": "c3bcd1ac",
   "metadata": {},
   "outputs": [],
   "source": [
    "import pandas as pd\n",
    "import scanpy as sc\n",
    "import numpy as np"
   ]
  },
  {
   "cell_type": "code",
   "execution_count": 2,
   "id": "ac4e862d",
   "metadata": {},
   "outputs": [],
   "source": [
    "path_rna='/lustre/groups/ml01/workspace/karin.hrovatin/data/pancreas/scRNA/'\n",
    "path_data=path_rna+'combined/'\n",
    "path_query=path_rna+'GSE137909/GEO/'\n",
    "path_model=path_query+'run_scArches1603792372.695119/'\n",
    "path_save=path_model+'submission/geo/'"
   ]
  },
  {
   "cell_type": "markdown",
   "id": "a20bd23f",
   "metadata": {},
   "source": [
    "## Prepare data\n",
    "Make adata with only obs and embedding. Leave expression out as it is availiable on GEO (original publication)."
   ]
  },
  {
   "cell_type": "code",
   "execution_count": 18,
   "id": "df7c5c21",
   "metadata": {},
   "outputs": [],
   "source": [
    "# Load obs and latent and convert to adata\n",
    "adata=sc.AnnData(obs=sc.read(path_query+'adata.h5ad',backed='r').obs.copy())\n",
    "obsm=sc.read(path_model+'latent_query.h5ad' ).to_df()\n",
    "obsm.index=[i.replace('-GSE137909','') for i in obsm.index]\n",
    "adata.obsm['X_integrated']=obsm.loc[adata.obs_names,:].values"
   ]
  },
  {
   "cell_type": "code",
   "execution_count": 22,
   "id": "8b02cca3",
   "metadata": {
    "scrolled": true
   },
   "outputs": [
    {
     "name": "stdout",
     "output_type": "stream",
     "text": [
      "\n",
      "************\n",
      "STZ\n",
      "bool\n",
      "\n",
      " ['False', 'True']\n",
      "\n",
      "************\n",
      "age\n",
      "category\n",
      "\n",
      " ['11 m', '12 d', '2 m', '2.2 m', '2.4 m', '2.77 m', '21 d', '3 d', '3 m', '3.4 m', '4 m', '7 m']\n",
      "\n",
      "************\n",
      "batch\n",
      "int64\n",
      "\n",
      " ['1', '2', '3']\n",
      "\n",
      "************\n",
      "cell_subtype_original\n",
      "category\n",
      "\n",
      " ['beta_1', 'beta_2', 'beta_3', 'nan']\n",
      "\n",
      "************\n",
      "cell_type\n",
      "category\n",
      "\n",
      " ['acinar', 'alpha', 'beta', 'delta', 'ductal', 'endothelial', 'gamma', 'immune', 'mesenchyme']\n",
      "\n",
      "************\n",
      "cell_type_original\n",
      "category\n",
      "\n",
      " ['PP', 'acinar', 'alpha', 'beta', 'delta', 'duct', 'endothelium', 'immune', 'mesenchyme']\n",
      "\n",
      "************\n",
      "disease\n",
      "category\n",
      "\n",
      " ['T2D', 'healthy']\n",
      "\n",
      "************\n",
      "donor\n",
      "category\n",
      "\n",
      " ['Ngn3Cre_Control_1', 'Ngn3Cre_Control_2', 'Ngn3Cre_Control_3', 'Ngn3Cre_P12_1', 'Ngn3Cre_P12_2', 'Ngn3Cre_P21_1', 'Ngn3Cre_P3_1', 'Ngn3Cre_STZ_D12_1', 'Ngn3Cre_STZ_D12_2', 'Ngn3Cre_STZ_D30_1', 'Ngn3Cre_STZ_D42_1', 'Ngn3Cre_STZ_D6_1', 'Ngn3Cre_STZ_M2_1', 'Ngn3Cre_STZ_M2_NoIns_1', 'Ngn3Cre_STZ_M2_NoIns_2', 'Ngn3Cre_STZ_M5_1', 'Ngn3Cre_STZ_M9_1']\n",
      "\n",
      "************\n",
      "insulin_implant\n",
      "bool\n",
      "\n",
      " ['False', 'True']\n",
      "\n",
      "************\n",
      "sex\n",
      "category\n",
      "\n",
      " ['male']\n",
      "\n",
      "************\n",
      "size_factors_sample\n",
      "float64\n",
      "\n",
      "************\n",
      "strain\n",
      "category\n",
      "\n",
      " ['Ngn3-Cre; Rosa-RFP']\n",
      "\n",
      "************\n",
      "time_after_STZ\n",
      "category\n",
      "\n",
      " ['12 d', '2 m', '30 d', '42 d', '5 m', '6 d', '9 m', 'nan']\n"
     ]
    }
   ],
   "source": [
    "# analyse obs columns\n",
    "for col in sorted(adata.obs.columns):\n",
    "    print('\\n************')\n",
    "    print(col)\n",
    "    print(adata.obs[col].dtype)\n",
    "    if adata.obs[col].nunique()<100:\n",
    "        print('\\n',sorted(adata.obs[col].astype(str).unique()))"
   ]
  },
  {
   "cell_type": "code",
   "execution_count": 33,
   "id": "28acc9cc",
   "metadata": {},
   "outputs": [],
   "source": [
    "# Describe adata fields\n",
    "adata.uns['field_descriptions']={\n",
    "    'obs':{\n",
    "        'STZ': 'Was the mice treated with single high STZ dose.',\n",
    "        'age': 'Age at death. Abbreviations: d - days, m - months.',\n",
    "        'batch': 'Batch as defined in the original publication.',\n",
    "        'cell_subtype_original': 'Beta cell subtypes from the original publication.',\n",
    "        'cell_type': 'Cell type name matched to atlas cell type nomenclature.',\n",
    "        'cell_type_original': 'Cell type name from the original publication.',\n",
    "        'disease': 'Diabetes model',\n",
    "        'donor': 'Sample (cell source) information from the original publication.',\n",
    "        'insulin_implant': 'Was mice treated with insulin implant.',\n",
    "        'sex': 'Animal sex',\n",
    "        'size_factors_sample': 'Size factors computed per sample; used to normalise raw '+\\\n",
    "            'expression from GEO for reference mapping.',\n",
    "        'strain': 'Mouse strain and genetic background.',\n",
    "        'time_after_STZ': 'Time between STZ treatment and sampling. '+\\\n",
    "            'Abbreviations: d- days, m - months.',\n",
    "    },\n",
    "    'obsm':{\n",
    "        'X_integrated':'Embededing from mapping onto the atlas.'\n",
    "    }\n",
    "}"
   ]
  },
  {
   "cell_type": "code",
   "execution_count": 34,
   "id": "3c52f045",
   "metadata": {},
   "outputs": [
    {
     "data": {
      "text/plain": [
       "AnnData object with n_obs × n_vars = 2999 × 0\n",
       "    obs: 'strain', 'STZ', 'insulin_implant', 'time_after_STZ', 'age', 'batch', 'cell_type_original', 'cell_subtype_original', 'cell_type', 'donor', 'sex', 'disease', 'size_factors_sample'\n",
       "    uns: 'field_descriptions'\n",
       "    obsm: 'X_integrated'"
      ]
     },
     "execution_count": 34,
     "metadata": {},
     "output_type": "execute_result"
    }
   ],
   "source": [
    "adata"
   ]
  },
  {
   "cell_type": "markdown",
   "id": "9efd38a1",
   "metadata": {},
   "source": [
    "## Save"
   ]
  },
  {
   "cell_type": "code",
   "execution_count": 35,
   "id": "f7fee760",
   "metadata": {},
   "outputs": [],
   "source": [
    "adata.write(path_save+'adata.h5ad')"
   ]
  },
  {
   "cell_type": "code",
   "execution_count": 36,
   "id": "1bd310bf",
   "metadata": {},
   "outputs": [
    {
     "data": {
      "text/plain": [
       "'/lustre/groups/ml01/workspace/karin.hrovatin/data/pancreas/scRNA/GSE137909/GEO/run_scArches1603792372.695119/submission/geo/adata.h5ad'"
      ]
     },
     "execution_count": 36,
     "metadata": {},
     "output_type": "execute_result"
    }
   ],
   "source": [
    "path_save+'adata.h5ad'"
   ]
  },
  {
   "cell_type": "code",
   "execution_count": null,
   "id": "603087c4",
   "metadata": {},
   "outputs": [],
   "source": []
  }
 ],
 "metadata": {
  "jupytext": {
   "formats": "ipynb,py:percent"
  },
  "kernelspec": {
   "display_name": "Python rpy2_3",
   "language": "python",
   "name": "rpy2_3"
  },
  "language_info": {
   "codemirror_mode": {
    "name": "ipython",
    "version": 3
   },
   "file_extension": ".py",
   "mimetype": "text/x-python",
   "name": "python",
   "nbconvert_exporter": "python",
   "pygments_lexer": "ipython3",
   "version": "3.8.5"
  }
 },
 "nbformat": 4,
 "nbformat_minor": 5
}
