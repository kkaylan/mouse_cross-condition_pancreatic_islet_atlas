{
 "cells": [
  {
   "cell_type": "code",
   "execution_count": 2,
   "id": "5299a0ab",
   "metadata": {},
   "outputs": [],
   "source": [
    "import scanpy as sc\n",
    "import numpy as np\n",
    "import pandas as pd\n",
    "import pprint\n",
    "import gc\n",
    "from collections import defaultdict\n",
    "from scipy.sparse import csr_matrix\n",
    "import pickle \n",
    "\n",
    "import sys\n",
    "sys.path.insert(0, '/lustre/groups/ml01/code/karin.hrovatin/diabetes_analysis/')\n",
    "from importlib import reload  \n",
    "import helper\n",
    "reload(helper)\n",
    "import helper as h"
   ]
  },
  {
   "cell_type": "code",
   "execution_count": 3,
   "id": "3ff4b7d9",
   "metadata": {},
   "outputs": [],
   "source": [
    "path_data='/lustre/groups/ml01/workspace/karin.hrovatin/data/pancreas/scRNA/combined/'\n",
    "path_save=path_data+'submission/geo/'"
   ]
  },
  {
   "cell_type": "markdown",
   "id": "ec2007fd",
   "metadata": {},
   "source": [
    "Objects to supplement adata expression with"
   ]
  },
  {
   "cell_type": "code",
   "execution_count": 4,
   "id": "5bbd6c89",
   "metadata": {},
   "outputs": [],
   "source": [
    "# Adata metadata fields\n",
    "meta=dict()"
   ]
  },
  {
   "cell_type": "markdown",
   "id": "d90b97a6",
   "metadata": {},
   "source": [
    "## Prepare adata fields"
   ]
  },
  {
   "cell_type": "markdown",
   "id": "7b4e0148",
   "metadata": {},
   "source": [
    "### Add fields from existing adata objects\n",
    "Check what is in adatas and subsequently add missing info"
   ]
  },
  {
   "cell_type": "markdown",
   "id": "95d5c95c",
   "metadata": {},
   "source": [
    "##### data_integrated_analysed.h5ad"
   ]
  },
  {
   "cell_type": "code",
   "execution_count": 5,
   "id": "4cd536e0",
   "metadata": {},
   "outputs": [
    {
     "data": {
      "text/plain": [
       "AnnData object with n_obs × n_vars = 301796 × 13999 backed at '/lustre/groups/ml01/workspace/karin.hrovatin/data/pancreas/scRNA/combined/data_integrated_analysed.h5ad'\n",
       "    obs: 'study_sample', 'study', 'file', 'reference', 'size_factors_sample', 'S_score', 'G2M_score', 'phase', 'phase_cyclone', 's_cyclone', 'g2m_cyclone', 'g1_cyclone', 'sex', 'pre_cell_type', 'ins_score', 'ins_high', 'gcg_score', 'gcg_high', 'sst_score', 'sst_high', 'ppy_score', 'ppy_high', 'cell_filtering', 'age', 'strain', 'tissue', 'technique', 'internal_id', 'batch', 'study_sample_design', 'cell_type', 'cell_type_multiplet', 'cell_subtype', 'cell_subtype_multiplet', 'leiden_r0.4', 'design', 'cell_type_integrated', 'cell_type_integrated_v1', 'leiden_r1', 'leiden_r1.5', 'leiden_r2', 'leiden_r0.5', 'size_factors_integrated', 'pre_cell_type_unified', 'pre_cell_type_original', 'study_parsed', 'cell_type_integrated_v1_parsed', 'cell_type_parsed', 'low_q'\n",
       "    var: 'gene_symbol', 'used_integration', 'gene_symbol_original_matched'\n",
       "    uns: 'cell_type_integrated_colors', 'cell_type_integrated_v1_colors', 'cell_type_integrated_v1_parsed_order', 'cell_type_multiplet_colors', 'leiden', 'neighbors', 'pre_cell_type_colors', 'study_order', 'study_parsed_colors', 'study_parsed_order', 'umap'\n",
       "    obsm: 'X_integrated', 'X_umap'\n",
       "    obsp: 'connectivities', 'distances'"
      ]
     },
     "execution_count": 5,
     "metadata": {},
     "output_type": "execute_result"
    }
   ],
   "source": [
    "adata_temp=sc.read(path_data+'data_integrated_analysed.h5ad', backed='r')\n",
    "adata_temp"
   ]
  },
  {
   "cell_type": "markdown",
   "id": "65aa87f3",
   "metadata": {},
   "source": [
    "Fields to add"
   ]
  },
  {
   "cell_type": "code",
   "execution_count": 6,
   "id": "80aaa7f6",
   "metadata": {},
   "outputs": [],
   "source": [
    "# Fields to add\n",
    "add_anna={\n",
    "    'obs':['study_sample', 'study', 'file', 'reference', 'size_factors_sample', \n",
    "           'phase_cyclone', 's_cyclone', 'g2m_cyclone', \n",
    "           'g1_cyclone', 'sex', 'ins_score', 'ins_high', 'gcg_score', \n",
    "           'gcg_high', 'sst_score', 'sst_high', 'ppy_score', 'ppy_high', 'cell_filtering', \n",
    "           'age', 'strain', 'tissue', 'technique', \n",
    "           'study_sample_design', 'cell_type', 'cell_type_multiplet', 'cell_subtype', \n",
    "           'cell_subtype_multiplet', 'design', \n",
    "           'cell_type_integrated_v1',\n",
    "           'size_factors_integrated', 'pre_cell_type_unified', 'pre_cell_type_original', \n",
    "           'study_parsed', 'cell_type_integrated_v1_parsed', 'cell_type_parsed', 'low_q'],\n",
    "    'uns':['cell_type_integrated_v1_colors', \n",
    "           'cell_type_integrated_v1_parsed_order', \n",
    "           'study_order', \n",
    "           'study_parsed_colors', 'study_parsed_order'],\n",
    "    'obsm':['X_integrated', 'X_umap'],\n",
    "}"
   ]
  },
  {
   "cell_type": "code",
   "execution_count": 7,
   "id": "d2974311",
   "metadata": {},
   "outputs": [],
   "source": [
    "# Save above specified fields\n",
    "for m, fields in add_anna.items():\n",
    "    if not isinstance(vars(adata_temp)['_'+m],pd.DataFrame):\n",
    "        meta[m]={}\n",
    "        for field in fields:\n",
    "            if m!='obsm':\n",
    "                meta[m][field]=vars(adata_temp)['_'+m][field]\n",
    "            else:\n",
    "                meta[m][field]=pd.DataFrame(vars(adata_temp)['_'+m][field],\n",
    "                                            index=adata_temp.obs_names)\n",
    "    else:\n",
    "        meta[m]=[]\n",
    "        meta[m].append(vars(adata_temp)['_'+m][fields])"
   ]
  },
  {
   "cell_type": "code",
   "execution_count": 8,
   "id": "c24bedb4",
   "metadata": {},
   "outputs": [],
   "source": [
    "del adata_temp"
   ]
  },
  {
   "cell_type": "code",
   "execution_count": 9,
   "id": "62520fe7",
   "metadata": {
    "scrolled": false
   },
   "outputs": [
    {
     "data": {
      "text/plain": [
       "53"
      ]
     },
     "execution_count": 9,
     "metadata": {},
     "output_type": "execute_result"
    }
   ],
   "source": [
    "gc.collect()"
   ]
  },
  {
   "cell_type": "markdown",
   "id": "a0b79d87",
   "metadata": {},
   "source": [
    "##### data_rawnorm_integrated_annotated.h5ad  "
   ]
  },
  {
   "cell_type": "code",
   "execution_count": 10,
   "id": "531ad495",
   "metadata": {},
   "outputs": [
    {
     "data": {
      "text/plain": [
       "AnnData object with n_obs × n_vars = 301796 × 30672 backed at '/lustre/groups/ml01/workspace/karin.hrovatin/data/pancreas/scRNA/combined/data_rawnorm_integrated_annotated.h5ad'\n",
       "    obs: 'study_sample', 'study', 'file', 'reference', 'size_factors_sample', 'S_score', 'G2M_score', 'phase', 'phase_cyclone', 's_cyclone', 'g2m_cyclone', 'g1_cyclone', 'sex', 'pre_cell_type', 'ins_score', 'ins_high', 'gcg_score', 'gcg_high', 'sst_score', 'sst_high', 'ppy_score', 'ppy_high', 'cell_filtering', 'age', 'design', 'strain', 'tissue', 'technique', 'internal_id', 'batch', 'study_sample_design', 'cell_type', 'cell_type_multiplet', 'cell_subtype', 'cell_subtype_multiplet', 'size_factors_integrated'\n",
       "    var: 'gene_symbol', 'used_integration', 'gene_symbol_original_matched'\n",
       "    uns: 'cell_type_multiplet_colors', 'neighbors', 'pre_cell_type_colors', 'umap'\n",
       "    obsm: 'X_integrated', 'X_umap'\n",
       "    layers: 'X_sf_integrated'"
      ]
     },
     "execution_count": 10,
     "metadata": {},
     "output_type": "execute_result"
    }
   ],
   "source": [
    "adata_temp=sc.read(path_data+'data_rawnorm_integrated_annotated.h5ad', backed='r')\n",
    "adata_temp"
   ]
  },
  {
   "cell_type": "code",
   "execution_count": 11,
   "id": "90bc2d3d",
   "metadata": {},
   "outputs": [],
   "source": [
    "# Add var info\n",
    "m='var'\n",
    "fields=['gene_symbol', 'used_integration', 'gene_symbol_original_matched']\n",
    "meta[m]=[]\n",
    "meta[m].append(vars(adata_temp)['_'+m][fields])"
   ]
  },
  {
   "cell_type": "code",
   "execution_count": 12,
   "id": "1813ecd9",
   "metadata": {},
   "outputs": [],
   "source": [
    "del adata_temp"
   ]
  },
  {
   "cell_type": "code",
   "execution_count": 13,
   "id": "573ca9ba",
   "metadata": {
    "scrolled": false
   },
   "outputs": [
    {
     "data": {
      "text/plain": [
       "63"
      ]
     },
     "execution_count": 13,
     "metadata": {},
     "output_type": "execute_result"
    }
   ],
   "source": [
    "gc.collect()"
   ]
  },
  {
   "cell_type": "markdown",
   "id": "22d74674",
   "metadata": {},
   "source": [
    "##### data_integrated_annotated.h5ad"
   ]
  },
  {
   "cell_type": "code",
   "execution_count": 14,
   "id": "db85904c",
   "metadata": {},
   "outputs": [
    {
     "data": {
      "text/plain": [
       "AnnData object with n_obs × n_vars = 301796 × 13999 backed at '/lustre/groups/ml01/workspace/karin.hrovatin/data/pancreas/scRNA/combined/data_integrated_annotated.h5ad'\n",
       "    obs: 'study_sample', 'study', 'file', 'reference', 'size_factors_sample', 'S_score', 'G2M_score', 'phase', 'phase_cyclone', 's_cyclone', 'g2m_cyclone', 'g1_cyclone', 'sex', 'pre_cell_type', 'ins_score', 'ins_high', 'gcg_score', 'gcg_high', 'sst_score', 'sst_high', 'ppy_score', 'ppy_high', 'cell_filtering', 'age', 'design', 'strain', 'tissue', 'technique', 'internal_id', 'batch', 'study_sample_design', 'cell_type', 'cell_type_multiplet', 'cell_subtype', 'cell_subtype_multiplet'\n",
       "    var: 'gene_symbol', 'used_integration', 'gene_symbol_original_matched'\n",
       "    uns: 'cell_type_multiplet_colors', 'neighbors', 'pre_cell_type_colors', 'umap'\n",
       "    obsm: 'X_integrated', 'X_umap'\n",
       "    obsp: 'connectivities', 'distances'"
      ]
     },
     "execution_count": 14,
     "metadata": {},
     "output_type": "execute_result"
    }
   ],
   "source": [
    "sc.read(path_data+'data_integrated_annotated.h5ad', backed='r')"
   ]
  },
  {
   "cell_type": "markdown",
   "id": "a993de6f",
   "metadata": {},
   "source": [
    "All important fields from \"annotated\" are also in the \"analysed\" file."
   ]
  },
  {
   "cell_type": "markdown",
   "id": "f199ff79",
   "metadata": {},
   "source": [
    "##### data_rawnorm_integrated_analysed_beta_v1s1_sfintegrated.h5ad"
   ]
  },
  {
   "cell_type": "code",
   "execution_count": 15,
   "id": "98a0847d",
   "metadata": {},
   "outputs": [
    {
     "data": {
      "text/plain": [
       "AnnData object with n_obs × n_vars = 102143 × 30672 backed at '/lustre/groups/ml01/workspace/karin.hrovatin/data/pancreas/scRNA/combined/data_rawnorm_integrated_analysed_beta_v1s1_sfintegrated.h5ad'\n",
       "    obs: 'study_sample', 'study', 'file', 'reference', 'size_factors_sample', 'S_score', 'G2M_score', 'phase', 'phase_cyclone', 's_cyclone', 'g2m_cyclone', 'g1_cyclone', 'sex', 'pre_cell_type', 'ins_score', 'ins_high', 'gcg_score', 'gcg_high', 'sst_score', 'sst_high', 'ppy_score', 'ppy_high', 'cell_filtering', 'age', 'strain', 'tissue', 'technique', 'internal_id', 'batch', 'study_sample_design', 'cell_type', 'cell_type_multiplet', 'cell_subtype', 'cell_subtype_multiplet', 'design', 'cell_type_integrated', 'cell_type_integrated_v1', 'gcg_score_scaled', 'ins_score_scaled', 'ppy_score_scaled', 'sst_score_scaled', 'n_counts', 'n_genes', 'mt_frac', 'emptyDrops_LogProb', 'emptyDrops_LogProb_scaled', 'leiden_r0.4', 'leiden_r0.7', 'leiden_r1', 'leiden_r1.5', 'leiden_r2', 'size_factors_integrated', 'de_aging_dpt_pseudotime', 'de_diseased_healthy_diseased_axis', 'de_diseased_healthy_diseased_cl_axis', 'de_diseased_healthy_diseased_cl_axis_sub', 'age_approx_days', 'de_aging_dpt_pseudotime_studySubset', 'leiden_r20', 'de_diseased_healthy_diseased_cl_axis_umap_sub', 'hc_gene_programs', 'leiden_r0.5', 'leiden_r0.6', 'leiden_r0.8', 'leiden_r0.3', 'leiden_r0.7_parsed', 'hc_gene_programs_parsed', 'study_parsed', 'leiden_r1.5_parsed', 'leiden_r1.5_parsed_const'\n",
       "    var: 'gene_symbol', 'used_integration', 'gene_symbol_original_matched'\n",
       "    uns: 'hc_gene_programs_parsed_colors', 'hc_gene_programs_parsed_order', 'leiden', 'leiden_r1.5_parsed_colors', 'leiden_r1.5_parsed_order', 'neighbors', 'study_order', 'study_parsed_colors', 'study_parsed_order', 'umap'\n",
       "    obsm: 'X_integrated', 'X_umap', 'X_umap_opt'\n",
       "    obsp: 'connectivities', 'distances'"
      ]
     },
     "execution_count": 15,
     "metadata": {},
     "output_type": "execute_result"
    }
   ],
   "source": [
    "adata_temp=sc.read(path_data+'data_rawnorm_integrated_analysed_beta_v1s1_sfintegrated.h5ad', \n",
    "                   backed='r')\n",
    "adata_temp"
   ]
  },
  {
   "cell_type": "markdown",
   "id": "e621a57e",
   "metadata": {},
   "source": [
    "Define data parts that should be added from beta"
   ]
  },
  {
   "cell_type": "code",
   "execution_count": 16,
   "id": "17228c50",
   "metadata": {},
   "outputs": [],
   "source": [
    "# Fields to add\n",
    "add_anna={\n",
    "    'obs':[\n",
    "           'leiden_r1.5',  'leiden_r20', 'hc_gene_programs',\n",
    "           'hc_gene_programs_parsed', 'leiden_r1.5_parsed', \n",
    "           'leiden_r1.5_parsed_const'],\n",
    "    'uns':['hc_gene_programs_parsed_colors', 'hc_gene_programs_parsed_order', \n",
    "           'leiden_r1.5_parsed_colors', 'leiden_r1.5_parsed_order'],\n",
    "    'obsm':['X_umap', 'X_umap_opt'],\n",
    "}"
   ]
  },
  {
   "cell_type": "code",
   "execution_count": 17,
   "id": "d056c697",
   "metadata": {},
   "outputs": [],
   "source": [
    "# Save above specified fields\n",
    "prefix='BETA-DATA_'\n",
    "for m, fields in add_anna.items():\n",
    "    if not isinstance(vars(adata_temp)['_'+m],pd.DataFrame):\n",
    "        for field in fields:\n",
    "            if m!='obsm':\n",
    "                meta[m][prefix+field]=vars(adata_temp)['_'+m][field]\n",
    "            else:\n",
    "                meta[m][prefix+field]=pd.DataFrame(vars(adata_temp)['_'+m][field],\n",
    "                                            index=adata_temp.obs_names)\n",
    "    else:\n",
    "        meta[m].append(vars(adata_temp)['_'+m][fields].rename(\n",
    "            {c:prefix+c for c in fields},axis=1))"
   ]
  },
  {
   "cell_type": "code",
   "execution_count": 18,
   "id": "660b9321",
   "metadata": {},
   "outputs": [],
   "source": [
    "del adata_temp"
   ]
  },
  {
   "cell_type": "code",
   "execution_count": 19,
   "id": "10bf5b87",
   "metadata": {},
   "outputs": [
    {
     "data": {
      "text/plain": [
       "42"
      ]
     },
     "execution_count": 19,
     "metadata": {},
     "output_type": "execute_result"
    }
   ],
   "source": [
    "gc.collect()"
   ]
  },
  {
   "cell_type": "markdown",
   "id": "7c77ea21",
   "metadata": {},
   "source": [
    "##### submission/cellxgene/adata.h5ad"
   ]
  },
  {
   "cell_type": "code",
   "execution_count": 20,
   "id": "f4405294",
   "metadata": {},
   "outputs": [
    {
     "data": {
      "text/plain": [
       "AnnData object with n_obs × n_vars = 301796 × 31706 backed at '/lustre/groups/ml01/workspace/karin.hrovatin/data/pancreas/scRNA/combined/submission/cellxgene/adata.h5ad'\n",
       "    obs: 'batch_integration', 'dataset', 'design', 'cell_cycle_phase', 'ins_high', 'gcg_high', 'sst_high', 'ppy_high', 'cell_filtering', 'strain', 'age', 'cell_type_originalDataset_unified', 'cell_type_originalDataset', 'cell_type_reannotatedIntegrated', 'n_genes', 'mt_frac', 'doublet_score', 'log10_n_counts', 'age_approxDays', 'dataset__design__sample', 'cell_subtype_immune_reannotatedIntegrated', 'cell_subtype_endothelial_reannotatedIntegrated', 'emptyDrops_LogProb_scaled', 'cell_subtype_beta_coarse_reannotatedIntegrated', 'cell_subtype_beta_fine_reannotatedIntegrated', 'GP_1', 'GP_2', 'GP_3', 'GP_4', 'GP_5', 'GP_6', 'GP_7', 'GP_8', 'GP_9', 'GP_10', 'GP_11', 'GP_12', 'GP_13', 'GP_14', 'GP_15', 'GP_16', 'GP_17', 'GP_18', 'GP_19', 'GP_20', 'GP_21', 'GP_22', 'GP_23', 'GP_24', 'GP_25', 'GP_26', 'GP_27', 'assay_ontology_term_id', 'cell_type_ontology_term_id', 'development_stage_ontology_term_id', 'diabetes_model', 'chemical_stress', 'GEO_accession', 'disease_ontology_term_id', 'self_reported_ethnicity_ontology_term_id', 'is_primary_data', 'organism_ontology_term_id', 'sex_ontology_term_id', 'sex_annotation', 'tissue_ontology_term_id', 'low_q', 'donor_id', 'suspension_type'\n",
       "    var: 'present_Fltp_2y', 'present_Fltp_adult', 'present_Fltp_P16', 'present_NOD', 'present_NOD_elimination', 'present_spikein_drug', 'present_embryo', 'present_VSG', 'present_STZ', 'feature_is_filtered'\n",
       "    uns: 'batch_condition', 'default_embedding', 'field_descriptions', 'schema_version', 'title'\n",
       "    obsm: 'X_integrated_umap', 'X_integrated_umap_beta'"
      ]
     },
     "execution_count": 20,
     "metadata": {},
     "output_type": "execute_result"
    }
   ],
   "source": [
    "adata_temp=sc.read(path_data+'submission/cellxgene/adata.h5ad', backed='r')\n",
    "adata_temp"
   ]
  },
  {
   "cell_type": "markdown",
   "id": "3800767b",
   "metadata": {},
   "source": [
    "Define data parts that should be added from CellxGene adata"
   ]
  },
  {
   "cell_type": "code",
   "execution_count": 21,
   "id": "132dd4f6",
   "metadata": {},
   "outputs": [],
   "source": [
    "# Fields to add\n",
    "add_anna={\n",
    "    'obs':['n_genes', 'mt_frac', 'doublet_score', \n",
    "           'log10_n_counts', 'age_approxDays', \n",
    "           'cell_subtype_immune_reannotatedIntegrated', \n",
    "           'cell_subtype_endothelial_reannotatedIntegrated', 'emptyDrops_LogProb_scaled', \n",
    "           'diabetes_model', 'chemical_stress', 'GEO_accession', \n",
    "           'sex_annotation'],\n",
    "    'var':[\n",
    "        # This also identifies genes in the data used for analyses\n",
    "        'feature_is_filtered',\n",
    "        'present_Fltp_2y', 'present_Fltp_adult', 'present_Fltp_P16', \n",
    "           'present_NOD', 'present_NOD_elimination', 'present_spikein_drug', \n",
    "           'present_embryo', 'present_VSG', 'present_STZ']\n",
    "}"
   ]
  },
  {
   "cell_type": "code",
   "execution_count": 22,
   "id": "52404f05",
   "metadata": {},
   "outputs": [],
   "source": [
    "# Save above specified fields\n",
    "prefix='CXG-DATA_'\n",
    "for m, fields in add_anna.items():\n",
    "    if not isinstance(vars(adata_temp)['_'+m],pd.DataFrame):\n",
    "        for field in fields:\n",
    "            if m!='obsm':\n",
    "                meta[m][prefix+field]=vars(adata_temp)['_'+m][field]\n",
    "            else:\n",
    "                meta[m][prefix+field]=pd.DataFrame(vars(adata_temp)['_'+m][field],\n",
    "                                            index=adata_temp.obs_names)\n",
    "    else:\n",
    "        meta[m].append(vars(adata_temp)['_'+m][fields].rename(\n",
    "            {c:prefix+c for c in fields},axis=1))"
   ]
  },
  {
   "cell_type": "code",
   "execution_count": null,
   "id": "917082af",
   "metadata": {},
   "outputs": [],
   "source": [
    "# Add finally parsed gene symbols for all genes\n",
    "meta['var'].append(pd.DataFrame(\n",
    "    h.get_symbols(adata_temp.var.index).rename('gene_symbol_FINAL')))"
   ]
  },
  {
   "cell_type": "markdown",
   "id": "ee9b6ab5",
   "metadata": {},
   "source": [
    "#### Combine metadata fields from different objects and do final edits"
   ]
  },
  {
   "cell_type": "code",
   "execution_count": null,
   "id": "6d6eebf3",
   "metadata": {},
   "outputs": [],
   "source": [
    "# Combine data parts from different objects\n",
    "for m in ['obs','var']:\n",
    "    meta[m]=pd.concat(meta[m],axis=1)"
   ]
  },
  {
   "cell_type": "code",
   "execution_count": 65,
   "id": "61c899c2",
   "metadata": {},
   "outputs": [],
   "source": [
    "# Add False to used_integration genes unmatched accross datasets\n",
    "meta['var']['used_integration']=meta['var']['used_integration'].fillna(False)"
   ]
  },
  {
   "cell_type": "markdown",
   "id": "945c24bd",
   "metadata": {},
   "source": [
    "### View metadata fiels\n",
    "Combine and add readme info"
   ]
  },
  {
   "cell_type": "code",
   "execution_count": 25,
   "id": "464ed597",
   "metadata": {
    "scrolled": true
   },
   "outputs": [
    {
     "name": "stdout",
     "output_type": "stream",
     "text": [
      "\n",
      "************\n",
      "BETA-DATA_hc_gene_programs\n",
      "category\n",
      "\n",
      " ['1', '10', '11', '12', '13', '14', '15', '16', '17', '18', '19', '2', '20', '21', '3', '4', '5', '6', '7', '8', '9', 'nan']\n",
      "\n",
      "************\n",
      "BETA-DATA_hc_gene_programs_parsed\n",
      "category\n",
      "\n",
      " ['D-inter.', 'NOD-D', 'NOD-imm.', 'adult+agedM', 'adult-imm.1', 'adult-imm.2', 'adult1', 'adult2', 'agedF1', 'agedF2', 'chem1', 'chem2', 'chem3', 'db/db+mSTZ', 'db/db-VSG', 'db/db-VSG+lowQ', 'imm.1', 'imm.2', 'imm.3', 'lowQ', 'mSTZ', 'nan']\n",
      "\n",
      "************\n",
      "BETA-DATA_leiden_r1.5\n",
      "category\n",
      "\n",
      " ['0', '1', '10', '11', '12', '13', '14', '15', '16', '17', '18', '19', '2', '20', '21', '22', '3', '4', '5', '6', '7', '8', '9', 'nan']\n",
      "\n",
      "************\n",
      "BETA-DATA_leiden_r1.5_parsed\n",
      "category\n",
      "\n",
      " ['NOD-D', 'adult', 'agedF', 'agedM', 'chem', 'db/db+mSTZ', 'imm.', 'lowQ', 'lowQ-hMT', 'nan']\n",
      "\n",
      "************\n",
      "BETA-DATA_leiden_r1.5_parsed_const\n",
      "category\n",
      "\n",
      " ['T1D', 'T2D', 'adult', 'low_quality', 'low_quality_highMT', 'nan', 'old_female', 'old_male', 'spikein_chem', 'young']\n",
      "\n",
      "************\n",
      "BETA-DATA_leiden_r20\n",
      "category\n",
      "\n",
      "************\n",
      "CXG-DATA_GEO_accession\n",
      "category\n",
      "\n",
      " ['GSE117770', 'GSE128565', 'GSE132188', 'GSE142465 (GSM4228185 - GSM4228199)', 'GSE144471', 'GSE161966', 'GSE174194', 'GSE211795', 'GSE211796']\n",
      "\n",
      "************\n",
      "CXG-DATA_age_approxDays\n",
      "float64\n",
      "\n",
      " ['-5.5', '-6.5', '-7.5', '-8.5', '112.0', '119.0', '120.0', '16.0', '182.0', '35.0', '56.0', '730.0', '75.0', '98.0']\n",
      "\n",
      "************\n",
      "CXG-DATA_cell_subtype_endothelial_reannotatedIntegrated\n",
      "category\n",
      "\n",
      " ['capilary', 'lymphatic', 'multiplet', 'nan', 'pericyte-like', 'vein']\n",
      "\n",
      "************\n",
      "CXG-DATA_cell_subtype_immune_reannotatedIntegrated\n",
      "category\n",
      "\n",
      " ['B', 'B_T_doublet', 'B_cycling', 'DC', 'T', 'T_cycling', 'macrophage_monocyte', 'nan', 'neutrophil', 'plasma', 'plasma_cycling']\n",
      "\n",
      "************\n",
      "CXG-DATA_chemical_stress\n",
      "category\n",
      "\n",
      " ['FoxOinhibitor', 'GABA', 'artemether_10uM', 'artemether_1uM', 'nan']\n",
      "\n",
      "************\n",
      "CXG-DATA_diabetes_model\n",
      "category\n",
      "\n",
      " ['T1D_NOD', 'T1D_NOD_prediabetic', 'T2D_db/db', 'T2D_db/db-treated_PairFeed', 'T2D_db/db-treated_VSG', 'T2D_mSTZ', 'T2D_mSTZ-treated_GLP-1', 'T2D_mSTZ-treated_GLP-1_estrogen', 'T2D_mSTZ-treated_GLP-1_estrogen+insulin', 'T2D_mSTZ-treated_estrogen', 'T2D_mSTZ-treated_insulin', 'nan']\n",
      "\n",
      "************\n",
      "CXG-DATA_doublet_score\n",
      "float64\n",
      "\n",
      "************\n",
      "CXG-DATA_emptyDrops_LogProb_scaled\n",
      "float64\n",
      "\n",
      "************\n",
      "CXG-DATA_log10_n_counts\n",
      "float64\n",
      "\n",
      "************\n",
      "CXG-DATA_mt_frac\n",
      "float64\n",
      "\n",
      "************\n",
      "CXG-DATA_n_genes\n",
      "float64\n",
      "\n",
      "************\n",
      "CXG-DATA_sex_annotation\n",
      "category\n",
      "\n",
      " ['data-driven', 'ground-truth']\n",
      "\n",
      "************\n",
      "age\n",
      "category\n",
      "\n",
      " ['12.5 E', '13.5 E', '14 w', '14.5 E', '15.5 E', '16 d', '16 w', '16-18 w', '182 d', '2 y', '2-3 m', '4 m', '5 w', '8 w']\n",
      "\n",
      "************\n",
      "cell_filtering\n",
      "category\n",
      "\n",
      " [' Ngn3+,EpCam+ ', 'CD45-', 'Fltp+', 'Fltp+_early', 'Fltp+_late', 'Fltp-', 'NA']\n",
      "\n",
      "************\n",
      "cell_subtype\n",
      "category\n",
      "\n",
      " ['NA', 'NA_proliferative', 'acinar', 'acinar_low', 'alpha', 'alpha_beta', 'alpha_beta_delta', 'alpha_beta_delta_gamma', 'alpha_beta_delta_proliferative', 'alpha_beta_gamma', 'alpha_beta_proliferative', 'alpha_delta', 'alpha_delta_gamma', 'alpha_delta_gamma_proliferative', 'alpha_delta_proliferative', 'alpha_gamma', 'alpha_gamma_proliferative', 'alpha_proliferative', 'beta', 'beta_Ccl5_high', 'beta_Cd81_high', 'beta_Cd81_high_Ccl5_high', 'beta_Cd81_high_Chga_Chgb_high', 'beta_Cd81_high_Chgb_high', 'beta_Cd81_high_Cxcl10_high', 'beta_Cd81_high_Cxcl10_high_Ccl5_high', 'beta_Cd81_high_Cxcl10_high_Chga_Chgb_high', 'beta_Cd81_high_Cxcl10_high_Chgb_high', 'beta_Cd81_high_Etv1_high', 'beta_Cd81_high_Etv1_high_Chgb_high', 'beta_Cd81_high_ins_low', 'beta_Chga_Chgb_high', 'beta_Chgb_high', 'beta_Cxcl10_high', 'beta_Cxcl10_high_Ccl5_high', 'beta_Cxcl10_high_Chga_Chgb_high', 'beta_Cxcl10_high_Chgb_high', 'beta_Etv1_high', 'beta_Etv1_high_Chgb_high', 'beta_delta', 'beta_delta_gamma', 'beta_delta_proliferative', 'beta_gamma', 'beta_gamma_proliferative', 'beta_immature', 'beta_immature_Ccl5_high', 'beta_immature_Chgb_high', 'beta_immature_Cxcl10_high', 'beta_immature_Cxcl10_high_Ccl5_high', 'beta_immature_Cxcl10_high_Chgb_high', 'beta_immature_Etv1_high', 'beta_immature_Etv1_high_Ccl5_high', 'beta_immature_ins_low', 'beta_ins_low', 'beta_proliferative', 'beta_subpopulation_STZref', 'delta', 'delta_gamma', 'delta_proliferative', 'ductal', 'ductal_proliferative', 'endothelial', 'endothelial_pericyte', 'epsilon', 'gamma', 'gamma_proliferative', 'immune', 'pericyte', 'schwann', 'stellate', 'stellate_pericyte']\n",
      "\n",
      "************\n",
      "cell_subtype_multiplet\n",
      "category\n",
      "\n",
      " ['NA', 'NA_proliferative', 'acinar', 'acinar_low', 'alpha', 'alpha_delta', 'alpha_delta_gamma', 'alpha_delta_proliferative', 'alpha_gamma', 'alpha_gamma_proliferative', 'alpha_proliferative', 'beta', 'beta_Ccl5_high', 'beta_Cd81_high', 'beta_Cd81_high_Ccl5_high', 'beta_Cd81_high_Chga_Chgb_high', 'beta_Cd81_high_Chgb_high', 'beta_Cd81_high_Cxcl10_high', 'beta_Cd81_high_Cxcl10_high_Ccl5_high', 'beta_Cd81_high_Cxcl10_high_Chga_Chgb_high', 'beta_Cd81_high_Cxcl10_high_Chgb_high', 'beta_Cd81_high_Etv1_high', 'beta_Cd81_high_Etv1_high_Chgb_high', 'beta_Cd81_high_ins_low', 'beta_Chga_Chgb_high', 'beta_Chgb_high', 'beta_Cxcl10_high', 'beta_Cxcl10_high_Ccl5_high', 'beta_Cxcl10_high_Chga_Chgb_high', 'beta_Cxcl10_high_Chgb_high', 'beta_Etv1_high', 'beta_Etv1_high_Chgb_high', 'beta_immature', 'beta_immature_Ccl5_high', 'beta_immature_Chgb_high', 'beta_immature_Cxcl10_high', 'beta_immature_Cxcl10_high_Ccl5_high', 'beta_immature_Cxcl10_high_Chgb_high', 'beta_immature_Etv1_high', 'beta_immature_Etv1_high_Ccl5_high', 'beta_immature_ins_low', 'beta_ins_low', 'beta_proliferative', 'beta_subpopulation_STZref', 'delta', 'delta_gamma', 'delta_proliferative', 'ductal', 'ductal_proliferative', 'endothelial', 'endothelial_pericyte', 'epsilon', 'gamma', 'gamma_proliferative', 'immune', 'multiplet', 'pericyte', 'schwann', 'stellate', 'stellate_pericyte']\n",
      "\n",
      "************\n",
      "cell_type\n",
      "category\n",
      "\n",
      " ['NA', 'NA_proliferative', 'acinar', 'acinar_low', 'alpha', 'alpha_beta', 'alpha_beta_delta', 'alpha_beta_delta_gamma', 'alpha_beta_delta_proliferative', 'alpha_beta_gamma', 'alpha_beta_proliferative', 'alpha_delta', 'alpha_delta_gamma', 'alpha_delta_gamma_proliferative', 'alpha_delta_proliferative', 'alpha_gamma', 'alpha_gamma_proliferative', 'alpha_proliferative', 'beta', 'beta_delta', 'beta_delta_gamma', 'beta_delta_proliferative', 'beta_gamma', 'beta_gamma_proliferative', 'beta_ins_low', 'beta_proliferative', 'beta_subpopulation_STZref', 'delta', 'delta_gamma', 'delta_proliferative', 'ductal', 'ductal_proliferative', 'endothelial', 'endothelial_pericyte', 'epsilon', 'gamma', 'gamma_proliferative', 'immune', 'pericyte', 'schwann', 'stellate', 'stellate_pericyte']\n",
      "\n",
      "************\n",
      "cell_type_integrated_v1\n",
      "category\n",
      "\n",
      " ['acinar', 'alpha', 'alpha_beta', 'alpha_delta', 'ambient', 'beta', 'beta_delta', 'beta_gamma', 'delta', 'delta_gamma', 'ductal', 'embryo', 'embryo endocrine', 'endocrine proliferative', 'endothelial', 'gamma', 'immune', 'schwann', 'stellate_activated', 'stellate_quiescent']\n",
      "\n",
      "************\n",
      "cell_type_integrated_v1_parsed\n",
      "category\n",
      "\n",
      " ['E endo.', 'E non-endo.', 'acinar', 'alpha', 'alpha+beta', 'alpha+delta', 'beta', 'beta+delta', 'beta+gamma', 'delta', 'delta+gamma', 'ductal', 'endo. prolif.', 'endothelial', 'gamma', 'immune', 'lowQ', 'schwann', 'stellate a.', 'stellate q.']\n",
      "\n",
      "************\n",
      "cell_type_multiplet\n",
      "category\n",
      "\n",
      " ['NA', 'NA_proliferative', 'acinar', 'acinar_low', 'alpha', 'alpha_delta', 'alpha_delta_gamma', 'alpha_delta_proliferative', 'alpha_gamma', 'alpha_gamma_proliferative', 'alpha_proliferative', 'beta', 'beta_ins_low', 'beta_proliferative', 'beta_subpopulation_STZref', 'delta', 'delta_gamma', 'delta_proliferative', 'ductal', 'ductal_proliferative', 'endothelial', 'endothelial_pericyte', 'epsilon', 'gamma', 'gamma_proliferative', 'immune', 'multiplet', 'pericyte', 'schwann', 'stellate', 'stellate_pericyte']\n",
      "\n",
      "************\n",
      "cell_type_parsed\n",
      "category\n",
      "\n",
      " ['NA', 'NA prolif.', 'acinar', 'acinar low', 'alpha', 'alpha prolif.', 'alpha+beta', 'alpha+beta prolif.', 'alpha+beta+delta', 'alpha+beta+delta prolif.', 'alpha+beta+delta+gamma', 'alpha+beta+gamma', 'alpha+delta', 'alpha+delta prolif.', 'alpha+delta+gamma', 'alpha+delta+gamma prolif.', 'alpha+gamma', 'alpha+gamma prolif.', 'beta', 'beta ins low', 'beta prolif.', 'beta subpopulation STZref', 'beta+delta', 'beta+delta prolif.', 'beta+delta+gamma', 'beta+gamma', 'beta+gamma prolif.', 'delta', 'delta prolif.', 'delta+gamma', 'ductal', 'ductal prolif.', 'endothelial', 'endothelial pericyte', 'epsilon', 'gamma', 'gamma prolif.', 'immune', 'pericyte', 'schwann', 'stellate', 'stellate pericyte']\n",
      "\n",
      "************\n",
      "design\n",
      "category\n"
     ]
    },
    {
     "name": "stdout",
     "output_type": "stream",
     "text": [
      "\n",
      " ['14w', '16w', '8w', 'A10_r1', 'A10_r2', 'A10_r3', 'A1_r1', 'A1_r2', 'A1_r3', 'DMSO_r1', 'DMSO_r2', 'DMSO_r3', 'E12.5', 'E13.5', 'E14.5', 'E15.5', 'FOXO_r1', 'FOXO_r2', 'FOXO_r3', 'GABA_r1', 'GABA_r2', 'GABA_r3', 'IRE1alphabeta-/-', 'IRE1alphafl/fl', 'PF_Lepr-/-', 'STZ', 'STZ_GLP-1', 'STZ_GLP-1_estrogen', 'STZ_GLP-1_estrogen+insulin', 'STZ_estrogen', 'STZ_insulin', 'VSG_Lepr-/-', 'chow_WT', 'control', 'head_Fltp+', 'head_Fltp-', 'mGFP', 'mRFP', 'mTmG', 'sham_Lepr-/-', 'tail_Fltp+', 'tail_Fltp-']\n",
      "\n",
      "************\n",
      "file\n",
      "category\n",
      "\n",
      " ['145_mGFP', '146_mRFP', '147_mTmG', 'E12_5', 'E13_5', 'E14_5', 'E15_5', 'G1', 'G2', 'G3', 'G4', 'G5', 'G6', 'G8', 'MUC13631', 'MUC13632', 'MUC13633', 'MUC13634', 'MUC13639', 'MUC13640', 'MUC13641', 'MUC13642', 'MUC13974', 'MUC13975', 'MUC13976', 'SRR10751502', 'SRR10751503', 'SRR10751504', 'SRR10751505', 'SRR10751506', 'SRR10751507', 'SRR10751508', 'SRR10751509', 'SRR10751510', 'SRR10751511', 'SRR10751512', 'SRR10751513', 'SRR10751514', 'SRR10751515', 'SRR10751516', 'SRR10985097', 'SRR10985098', 'SRR10985099', 'SRR7610295', 'SRR7610296', 'SRR7610297', 'SRR7610298', 'SRR7610299', 'SRR7610300', 'SRR7610301', 'SRR7610302', 'SRR7610303', 'mouse1', 'mouse2', 'mouse3', 'mouse4']\n",
      "\n",
      "************\n",
      "g1_cyclone\n",
      "float64\n",
      "\n",
      "************\n",
      "g2m_cyclone\n",
      "float64\n",
      "\n",
      "************\n",
      "gcg_high\n",
      "bool\n",
      "\n",
      " ['False', 'True']\n",
      "\n",
      "************\n",
      "gcg_score\n",
      "float64\n",
      "\n",
      "************\n",
      "ins_high\n",
      "bool\n",
      "\n",
      " ['False', 'True']\n",
      "\n",
      "************\n",
      "ins_score\n",
      "float64\n",
      "\n",
      "************\n",
      "low_q\n",
      "bool\n",
      "\n",
      " ['False', 'True']\n",
      "\n",
      "************\n",
      "phase_cyclone\n",
      "category\n",
      "\n",
      " ['G1', 'G2M', 'S']\n",
      "\n",
      "************\n",
      "ppy_high\n",
      "bool\n",
      "\n",
      " ['False', 'True']\n",
      "\n",
      "************\n",
      "ppy_score\n",
      "float64\n",
      "\n",
      "************\n",
      "pre_cell_type_original\n",
      "category\n",
      "\n",
      " ['10', '11', '13', '3', '4', 'Acinar', 'Alpha', 'Beta', 'Delta', 'Ductal', 'Endothelial', 'Endothelial1', 'Endothelial2', 'Epsilon', 'Fev+ Alpha', 'Fev+ Beta', 'Fev+ Delta', 'Fev+ Epsilon', 'Fev+ Pyy', 'Gamma', 'Gcg', 'Gcg-Ppy_high', 'Gcg-Ppy_low', 'Immune', 'Ins-Ppy', 'Ins-Sst', 'Ins-Sst-Ppy', 'Ins_1', 'Ins_2', 'Ins_dedifferentiated', 'Mat. Acinar', 'Multipotent', 'NA', 'Ngn3 High early', 'Ngn3 High late', 'Ngn3 low EP', 'PP', 'Polyhormonal', 'Ppy', 'Prlf. Acinar', 'Prlf. Ductal', 'Prlf. Tip', 'Prlf. Trunk', 'Sst-Ppy_low', 'Stellate', 'Tip', 'Trunk', 'acinar/ductal', 'alpha', 'alpha, proliferating', 'alpha-beta', 'alpha-delta', 'beta', 'beta, proliferating', 'beta-delta', 'delta', 'delta, proliferating', 'endothelial', 'epsilon', 'gamma', 'gamma, proliferating', 'immune', 'primary Alpha', 'secondary Alpha', 'stellate']\n",
      "\n",
      "************\n",
      "pre_cell_type_unified\n",
      "category\n",
      "\n",
      " ['E EP Ngn3high early', 'E EP Ngn3high late', 'E EP Ngn3low', 'E Fev+ Pyy', 'E Fev+ beta', 'E Fev+ delta', 'E Fev+ epsilon', 'E acinar mature', 'E acinar prolif.', 'E alpha Fev+', 'E alpha primary', 'E alpha secondary', 'E beta', 'E delta', 'E ductal', 'E ductal prolif.', 'E epsilon', 'E multipotent', 'E tip', 'E tip prolif.', 'E trunk', 'E trunk prolif.', 'NA', 'acinar', 'acinar/ductal', 'alpha', 'alpha prolif.', 'alpha+beta', 'alpha+delta', 'alpha+gamma', 'beta', 'beta prolif.', 'beta+delta', 'beta+delta+gamma', 'beta+gamma', 'delta', 'delta prolif.', 'ductal', 'endothelial', 'epsilon', 'gamma', 'gamma prolif.', 'immune', 'polyhormonal', 'stellate']\n",
      "\n",
      "************\n",
      "reference\n",
      "category\n",
      "\n",
      " ['False', 'True']\n",
      "\n",
      "************\n",
      "s_cyclone\n",
      "float64\n",
      "\n",
      "************\n",
      "sex\n",
      "category\n",
      "\n",
      " ['female', 'male']\n",
      "\n",
      "************\n",
      "size_factors_integrated\n",
      "float64\n",
      "\n",
      "************\n",
      "size_factors_sample\n",
      "float64\n",
      "\n",
      "************\n",
      "sst_high\n",
      "bool\n",
      "\n",
      " ['False', 'True']\n",
      "\n",
      "************\n",
      "sst_score\n",
      "float64\n",
      "\n",
      "************\n",
      "strain\n",
      "category\n",
      "\n",
      " ['129SV', 'BKSCg-Dock7m+/+Leprdb/J;WT', 'BKSCg-Dock7m+/+Leprdb/J;db/db', 'C57BL/6J', 'C57BL/6J; Fltp ZV (Het)', 'C57BL/6J; Fltp iCre; mTmG', 'C57BL/6J×129/SvJ; Ngn3-Venus fusion', 'NOD/ShiLtJ', 'NOD/ShiLtJ;IRE1alphabeta-/-', 'NOD/ShiLtJ;IRE1alphafl/fl']\n",
      "\n",
      "************\n",
      "study\n",
      "category\n",
      "\n",
      " ['Fltp_2y', 'Fltp_P16', 'Fltp_adult', 'NOD', 'NOD_elimination', 'STZ', 'VSG', 'embryo', 'spikein_drug']\n",
      "\n",
      "************\n",
      "study_parsed\n",
      "category\n",
      "\n",
      " ['4m', '5wNOD', '8-16wNOD', 'P16', 'aged', 'chem', 'db/db', 'embryonic', 'mSTZ']\n",
      "\n",
      "************\n",
      "study_sample\n",
      "category\n",
      "\n",
      " ['Fltp_2y_MUC13974', 'Fltp_2y_MUC13975', 'Fltp_2y_MUC13976', 'Fltp_P16_145_mGFP', 'Fltp_P16_146_mRFP', 'Fltp_P16_147_mTmG', 'Fltp_adult_mouse1', 'Fltp_adult_mouse2', 'Fltp_adult_mouse3', 'Fltp_adult_mouse4', 'NOD_SRR10985097', 'NOD_SRR10985098', 'NOD_SRR10985099', 'NOD_elimination_SRR7610295', 'NOD_elimination_SRR7610296', 'NOD_elimination_SRR7610297', 'NOD_elimination_SRR7610298', 'NOD_elimination_SRR7610299', 'NOD_elimination_SRR7610300', 'NOD_elimination_SRR7610301', 'NOD_elimination_SRR7610302', 'NOD_elimination_SRR7610303', 'STZ_G1', 'STZ_G2', 'STZ_G3', 'STZ_G4', 'STZ_G5', 'STZ_G6', 'STZ_G8', 'VSG_MUC13631', 'VSG_MUC13632', 'VSG_MUC13633', 'VSG_MUC13634', 'VSG_MUC13639', 'VSG_MUC13640', 'VSG_MUC13641', 'VSG_MUC13642', 'embryo_E12_5', 'embryo_E13_5', 'embryo_E14_5', 'embryo_E15_5', 'spikein_drug_SRR10751502', 'spikein_drug_SRR10751503', 'spikein_drug_SRR10751504', 'spikein_drug_SRR10751505', 'spikein_drug_SRR10751506', 'spikein_drug_SRR10751507', 'spikein_drug_SRR10751508', 'spikein_drug_SRR10751509', 'spikein_drug_SRR10751510', 'spikein_drug_SRR10751511', 'spikein_drug_SRR10751512', 'spikein_drug_SRR10751513', 'spikein_drug_SRR10751514', 'spikein_drug_SRR10751515', 'spikein_drug_SRR10751516']\n",
      "\n",
      "************\n",
      "study_sample_design\n",
      "category\n",
      "\n",
      " ['Fltp_2y_MUC13974_mRFP', 'Fltp_2y_MUC13975_mTmG', 'Fltp_2y_MUC13976_mGFP', 'Fltp_P16_145_mGFP_mGFP', 'Fltp_P16_146_mRFP_mRFP', 'Fltp_P16_147_mTmG_mTmG', 'Fltp_adult_mouse1_head_Fltp-', 'Fltp_adult_mouse2_head_Fltp+', 'Fltp_adult_mouse3_tail_Fltp-', 'Fltp_adult_mouse4_tail_Fltp+', 'NOD_SRR10985097_IRE1alphabeta-/-', 'NOD_SRR10985098_IRE1alphabeta-/-', 'NOD_SRR10985099_IRE1alphafl/fl', 'NOD_elimination_SRR7610295_8w', 'NOD_elimination_SRR7610296_8w', 'NOD_elimination_SRR7610297_8w', 'NOD_elimination_SRR7610298_14w', 'NOD_elimination_SRR7610299_14w', 'NOD_elimination_SRR7610300_14w', 'NOD_elimination_SRR7610301_16w', 'NOD_elimination_SRR7610302_16w', 'NOD_elimination_SRR7610303_16w', 'STZ_G1_control', 'STZ_G2_STZ', 'STZ_G3_STZ_insulin', 'STZ_G4_STZ_GLP-1', 'STZ_G5_STZ_estrogen', 'STZ_G6_STZ_GLP-1_estrogen', 'STZ_G8_STZ_GLP-1_estrogen+insulin', 'VSG_MUC13631_PF_Lepr-/-', 'VSG_MUC13632_PF_Lepr-/-', 'VSG_MUC13633_chow_WT', 'VSG_MUC13634_chow_WT', 'VSG_MUC13639_sham_Lepr-/-', 'VSG_MUC13640_VSG_Lepr-/-', 'VSG_MUC13641_sham_Lepr-/-', 'VSG_MUC13642_VSG_Lepr-/-', 'embryo_E12_5_E12.5', 'embryo_E13_5_E13.5', 'embryo_E14_5_E14.5', 'embryo_E15_5_E15.5', 'spikein_drug_SRR10751502_A1_r1', 'spikein_drug_SRR10751503_A10_r1', 'spikein_drug_SRR10751504_DMSO_r1', 'spikein_drug_SRR10751505_FOXO_r1', 'spikein_drug_SRR10751506_GABA_r1', 'spikein_drug_SRR10751507_A1_r2', 'spikein_drug_SRR10751508_A10_r2', 'spikein_drug_SRR10751509_DMSO_r2', 'spikein_drug_SRR10751510_FOXO_r2', 'spikein_drug_SRR10751511_GABA_r2', 'spikein_drug_SRR10751512_A1_r3', 'spikein_drug_SRR10751513_A10_r3', 'spikein_drug_SRR10751514_DMSO_r3', 'spikein_drug_SRR10751515_FOXO_r3', 'spikein_drug_SRR10751516_GABA_r3']\n",
      "\n",
      "************\n",
      "technique\n",
      "category\n",
      "\n",
      " ['Chromium v2', 'Chromium v3', 'Chromium v3.1']\n",
      "\n",
      "************\n",
      "tissue\n",
      "category\n",
      "\n",
      " ['islet', 'pancreas']\n"
     ]
    }
   ],
   "source": [
    "for col in sorted(meta['obs'].columns):\n",
    "    print('\\n************')\n",
    "    print(col)\n",
    "    print(meta['obs'][col].dtype)\n",
    "    if meta['obs'][col].nunique()<100:\n",
    "        print('\\n',sorted(meta['obs'][col].astype(str).unique()))"
   ]
  },
  {
   "cell_type": "code",
   "execution_count": 66,
   "id": "39c850f2",
   "metadata": {
    "scrolled": true
   },
   "outputs": [
    {
     "name": "stdout",
     "output_type": "stream",
     "text": [
      "\n",
      "************\n",
      "CXG-DATA_feature_is_filtered\n",
      "bool\n",
      "\n",
      " ['False', 'True']\n",
      "\n",
      "************\n",
      "CXG-DATA_present_Fltp_2y\n",
      "bool\n",
      "\n",
      " ['False', 'True']\n",
      "\n",
      "************\n",
      "CXG-DATA_present_Fltp_P16\n",
      "bool\n",
      "\n",
      " ['False', 'True']\n",
      "\n",
      "************\n",
      "CXG-DATA_present_Fltp_adult\n",
      "bool\n",
      "\n",
      " ['False', 'True']\n",
      "\n",
      "************\n",
      "CXG-DATA_present_NOD\n",
      "bool\n",
      "\n",
      " ['False', 'True']\n",
      "\n",
      "************\n",
      "CXG-DATA_present_NOD_elimination\n",
      "bool\n",
      "\n",
      " ['False', 'True']\n",
      "\n",
      "************\n",
      "CXG-DATA_present_STZ\n",
      "bool\n",
      "\n",
      " ['False', 'True']\n",
      "\n",
      "************\n",
      "CXG-DATA_present_VSG\n",
      "bool\n",
      "\n",
      " ['False', 'True']\n",
      "\n",
      "************\n",
      "CXG-DATA_present_embryo\n",
      "bool\n",
      "\n",
      " ['False', 'True']\n",
      "\n",
      "************\n",
      "CXG-DATA_present_spikein_drug\n",
      "bool\n",
      "\n",
      " ['False', 'True']\n",
      "\n",
      "************\n",
      "gene_symbol\n",
      "category\n",
      "\n",
      "************\n",
      "gene_symbol_FINAL\n",
      "object\n",
      "\n",
      "************\n",
      "gene_symbol_original_matched\n",
      "category\n",
      "\n",
      "************\n",
      "used_integration\n",
      "bool\n",
      "\n",
      " ['False', 'True']\n"
     ]
    }
   ],
   "source": [
    "for col in sorted(meta['var'].columns):\n",
    "    print('\\n************')\n",
    "    print(col)\n",
    "    print(meta['var'][col].dtype)\n",
    "    if meta['var'][col].nunique()<100:\n",
    "        print('\\n',sorted(meta['var'][col].astype(str).unique()))"
   ]
  },
  {
   "cell_type": "code",
   "execution_count": 27,
   "id": "291f2957",
   "metadata": {},
   "outputs": [
    {
     "data": {
      "text/plain": [
       "{'cell_type_integrated_v1_colors': array(['#FFAA92', '#0AA6D8', '#FAD09F', '#72418F', '#9B9700', '#006FA6',\n",
       "        '#FFB500', '#D790FF', '#FF913F', '#A4E804', '#324E72', '#D16100',\n",
       "        '#44a4b8', '#B05B6F', '#A77500', '#788D66', '#BEC459', '#FF8A9A',\n",
       "        '#D157A0', '#7A87A1'], dtype=object),\n",
       " 'cell_type_integrated_v1_parsed_order': array(['E endo.', 'E non-endo.', 'alpha', 'beta', 'delta', 'gamma',\n",
       "        'endo. prolif.', 'acinar', 'ductal', 'endothelial', 'immune',\n",
       "        'schwann', 'stellate a.', 'stellate q.', 'alpha+beta',\n",
       "        'alpha+delta', 'beta+delta', 'beta+gamma', 'delta+gamma', 'lowQ'],\n",
       "       dtype=object),\n",
       " 'study_order': array(['embryo', 'Fltp_P16', 'Fltp_adult', 'Fltp_2y', 'spikein_drug',\n",
       "        'NOD', 'NOD_elimination', 'STZ', 'VSG'], dtype=object),\n",
       " 'study_parsed_colors': array(['#7f7f7f', '#ff7f0e', '#2ca02c', '#1f77b4', '#bcbd22', '#d62728',\n",
       "        '#9467bd', '#8c564b', '#e377c2'], dtype=object),\n",
       " 'study_parsed_order': array(['embryonic', 'P16', '4m', 'aged', 'chem', '5wNOD', '8-16wNOD',\n",
       "        'mSTZ', 'db/db'], dtype=object),\n",
       " 'BETA-DATA_hc_gene_programs_parsed_colors': array(['tab:cyan', 'lightsteelblue', 'pink', 'lightcoral', 'bisque',\n",
       "        'darkgrey', 'tab:pink', 'yellowgreen', 'tab:brown', 'tab:gray',\n",
       "        'tab:olive', 'paleturquoise', 'yellow', 'tab:orange', 'tab:blue',\n",
       "        'tab:green', 'tab:red', 'limegreen', 'plum', 'peru', 'tab:purple'],\n",
       "       dtype=object),\n",
       " 'BETA-DATA_hc_gene_programs_parsed_order': array(['imm.1', 'imm.2', 'imm.3', 'NOD-imm.', 'adult-imm.1',\n",
       "        'adult-imm.2', 'adult1', 'adult2', 'adult+agedM', 'agedF1',\n",
       "        'agedF2', 'D-inter.', 'NOD-D', 'db/db+mSTZ', 'mSTZ', 'db/db-VSG',\n",
       "        'db/db-VSG+lowQ', 'chem1', 'chem2', 'chem3', 'lowQ'], dtype=object),\n",
       " 'BETA-DATA_leiden_r1.5_parsed_colors': array(['#1f77b4', '#ff7f0e', '#2ca02c', '#d62728', '#9467bd', '#8c564b',\n",
       "        '#e377c2', '#7f7f7f', '#bcbd22'], dtype=object),\n",
       " 'BETA-DATA_leiden_r1.5_parsed_order': array(['imm.', 'adult', 'agedF', 'agedM', 'NOD-D', 'db/db+mSTZ', 'chem',\n",
       "        'lowQ', 'lowQ-hMT'], dtype=object)}"
      ]
     },
     "execution_count": 27,
     "metadata": {},
     "output_type": "execute_result"
    }
   ],
   "source": [
    "meta['uns']"
   ]
  },
  {
   "cell_type": "code",
   "execution_count": 28,
   "id": "4c704e64",
   "metadata": {},
   "outputs": [
    {
     "data": {
      "text/plain": [
       "{'X_integrated':                                            0         1         2         3   \\\n",
       " AAACCCAAGTTCTCTT-1-MUC13976-Fltp_2y -0.055741  1.067266  0.149782 -0.439275   \n",
       " AAACCCACACAGTACT-1-MUC13976-Fltp_2y  0.361207 -1.147599  0.502209 -0.313425   \n",
       " AAACCCAGTCATAGTC-1-MUC13976-Fltp_2y  0.687031  0.382731  0.319853 -0.122550   \n",
       " AAACCCAGTTATCCAG-1-MUC13976-Fltp_2y  0.236678  0.144389  0.094825  0.027253   \n",
       " AAACCCATCACCCTCA-1-MUC13976-Fltp_2y  0.046111  0.690046  0.011320  0.230219   \n",
       " ...                                       ...       ...       ...       ...   \n",
       " TTTGTCATCAGTTAGC-1-G3-STZ           -0.006123 -1.257029  0.592854 -0.355245   \n",
       " TTTGTCATCGAATCCA-1-G3-STZ            0.240444  0.033737  0.006005  0.085857   \n",
       " TTTGTCATCGGACAAG-1-G3-STZ            0.331356 -1.402840 -0.178069 -0.179652   \n",
       " TTTGTCATCTATCGCC-1-G3-STZ           -0.563410 -1.567436 -0.430056  0.380836   \n",
       " TTTGTCATCTGTCTAT-1-G3-STZ            0.187582  0.192749 -0.517480  0.363011   \n",
       " \n",
       "                                            4         5         6         7   \\\n",
       " AAACCCAAGTTCTCTT-1-MUC13976-Fltp_2y -0.799424  0.465610  1.299787  1.520586   \n",
       " AAACCCACACAGTACT-1-MUC13976-Fltp_2y -0.534512 -0.637662  1.599806  0.559714   \n",
       " AAACCCAGTCATAGTC-1-MUC13976-Fltp_2y -0.073447 -0.639682  2.013248  1.071132   \n",
       " AAACCCAGTTATCCAG-1-MUC13976-Fltp_2y  0.077795 -1.449470  0.684493  1.620542   \n",
       " AAACCCATCACCCTCA-1-MUC13976-Fltp_2y -1.530598 -0.121799  1.672742  1.243830   \n",
       " ...                                       ...       ...       ...       ...   \n",
       " TTTGTCATCAGTTAGC-1-G3-STZ            0.502601  0.013050  0.736883 -1.286982   \n",
       " TTTGTCATCGAATCCA-1-G3-STZ           -0.373454 -0.371671  0.883413  0.890529   \n",
       " TTTGTCATCGGACAAG-1-G3-STZ            0.845860  0.245723  0.771367 -1.431892   \n",
       " TTTGTCATCTATCGCC-1-G3-STZ            0.480325  0.410827 -0.774564 -1.214489   \n",
       " TTTGTCATCTGTCTAT-1-G3-STZ           -0.334558  0.216619  0.252662  1.270890   \n",
       " \n",
       "                                            8         9         10        11  \\\n",
       " AAACCCAAGTTCTCTT-1-MUC13976-Fltp_2y -0.527079 -1.659444  0.471180 -1.196665   \n",
       " AAACCCACACAGTACT-1-MUC13976-Fltp_2y -1.917532 -0.542303 -0.638674  0.072337   \n",
       " AAACCCAGTCATAGTC-1-MUC13976-Fltp_2y -1.671525  0.254031 -0.729212  0.831136   \n",
       " AAACCCAGTTATCCAG-1-MUC13976-Fltp_2y -1.074480 -0.472600  1.904837  1.493325   \n",
       " AAACCCATCACCCTCA-1-MUC13976-Fltp_2y -1.094596  0.584693 -0.580101  1.256804   \n",
       " ...                                       ...       ...       ...       ...   \n",
       " TTTGTCATCAGTTAGC-1-G3-STZ           -0.706650  0.918705  1.373015  0.004823   \n",
       " TTTGTCATCGAATCCA-1-G3-STZ           -0.357786  0.227116 -0.503069  0.397320   \n",
       " TTTGTCATCGGACAAG-1-G3-STZ            0.406621 -1.267739  0.388810 -0.160748   \n",
       " TTTGTCATCTATCGCC-1-G3-STZ            1.172648  0.180460  1.621614 -0.051469   \n",
       " TTTGTCATCTGTCTAT-1-G3-STZ            0.030551  0.929178  0.062046  0.408282   \n",
       " \n",
       "                                            12        13        14  \n",
       " AAACCCAAGTTCTCTT-1-MUC13976-Fltp_2y -0.145181 -0.026337 -0.716751  \n",
       " AAACCCACACAGTACT-1-MUC13976-Fltp_2y -0.243741  0.134543 -0.542856  \n",
       " AAACCCAGTCATAGTC-1-MUC13976-Fltp_2y  0.099233  2.845886 -0.758232  \n",
       " AAACCCAGTTATCCAG-1-MUC13976-Fltp_2y -0.041053 -0.320465 -0.074570  \n",
       " AAACCCATCACCCTCA-1-MUC13976-Fltp_2y -0.059572  1.977925 -1.016930  \n",
       " ...                                       ...       ...       ...  \n",
       " TTTGTCATCAGTTAGC-1-G3-STZ            0.471049  1.574416 -0.973760  \n",
       " TTTGTCATCGAATCCA-1-G3-STZ           -0.295736  0.701196 -0.660472  \n",
       " TTTGTCATCGGACAAG-1-G3-STZ            0.160430  2.154996 -0.807058  \n",
       " TTTGTCATCTATCGCC-1-G3-STZ            0.453520  0.791232 -0.780088  \n",
       " TTTGTCATCTGTCTAT-1-G3-STZ           -0.280681  0.262889 -0.462368  \n",
       " \n",
       " [301796 rows x 15 columns],\n",
       " 'X_umap':                                             0         1\n",
       " AAACCCAAGTTCTCTT-1-MUC13976-Fltp_2y -6.140449  5.927922\n",
       " AAACCCACACAGTACT-1-MUC13976-Fltp_2y -7.438500  3.287086\n",
       " AAACCCAGTCATAGTC-1-MUC13976-Fltp_2y -8.246803  2.471230\n",
       " AAACCCAGTTATCCAG-1-MUC13976-Fltp_2y -8.354506  6.485884\n",
       " AAACCCATCACCCTCA-1-MUC13976-Fltp_2y -8.396451  2.651948\n",
       " ...                                       ...       ...\n",
       " TTTGTCATCAGTTAGC-1-G3-STZ           -2.791680 -0.742304\n",
       " TTTGTCATCGAATCCA-1-G3-STZ           -5.948475  3.008234\n",
       " TTTGTCATCGGACAAG-1-G3-STZ           -1.111149 -0.458204\n",
       " TTTGTCATCTATCGCC-1-G3-STZ           -3.323905 -2.458790\n",
       " TTTGTCATCTGTCTAT-1-G3-STZ           -3.509476  5.087432\n",
       " \n",
       " [301796 rows x 2 columns],\n",
       " 'BETA-DATA_X_umap':                                             0          1\n",
       " AAACCCAAGTTCTCTT-1-MUC13976-Fltp_2y  2.510037  11.412383\n",
       " AAACCCACACAGTACT-1-MUC13976-Fltp_2y -1.648431   8.118258\n",
       " AAACCCAGTCATAGTC-1-MUC13976-Fltp_2y -3.065282   8.703052\n",
       " AAACCCAGTTATCCAG-1-MUC13976-Fltp_2y -3.092096  10.055847\n",
       " AAACCCATCACCCTCA-1-MUC13976-Fltp_2y -3.491225   8.206387\n",
       " ...                                       ...        ...\n",
       " TTTGTCACACGTCTCT-1-G3-STZ            4.570773   3.425108\n",
       " TTTGTCAGTTGTGGCC-1-G3-STZ            6.284012   7.520721\n",
       " TTTGTCATCACATACG-1-G3-STZ            6.837980   6.274178\n",
       " TTTGTCATCGAATCCA-1-G3-STZ           -0.026080   7.532978\n",
       " TTTGTCATCTGTCTAT-1-G3-STZ            5.518336   7.594541\n",
       " \n",
       " [102143 rows x 2 columns],\n",
       " 'BETA-DATA_X_umap_opt':                                             0          1\n",
       " AAACCCAAGTTCTCTT-1-MUC13976-Fltp_2y  2.626141  10.641837\n",
       " AAACCCACACAGTACT-1-MUC13976-Fltp_2y -0.274828   9.857037\n",
       " AAACCCAGTCATAGTC-1-MUC13976-Fltp_2y -1.102691   9.469563\n",
       " AAACCCAGTTATCCAG-1-MUC13976-Fltp_2y  0.474892  11.797863\n",
       " AAACCCATCACCCTCA-1-MUC13976-Fltp_2y -1.186217   9.660612\n",
       " ...                                       ...        ...\n",
       " TTTGTCACACGTCTCT-1-G3-STZ            4.621852   4.090690\n",
       " TTTGTCAGTTGTGGCC-1-G3-STZ            7.019509   7.362927\n",
       " TTTGTCATCACATACG-1-G3-STZ            6.830436   6.339474\n",
       " TTTGTCATCGAATCCA-1-G3-STZ            1.263405   6.492737\n",
       " TTTGTCATCTGTCTAT-1-G3-STZ            6.415640   7.558186\n",
       " \n",
       " [102143 rows x 2 columns]}"
      ]
     },
     "execution_count": 28,
     "metadata": {},
     "output_type": "execute_result"
    }
   ],
   "source": [
    "meta['obsm']"
   ]
  },
  {
   "cell_type": "code",
   "execution_count": 29,
   "id": "f641c066",
   "metadata": {},
   "outputs": [],
   "source": [
    "# make uns descriptions\n",
    "meta['uns']['field_descriptions']={\n",
    "    'readme':'The field description dictionary contains adata field explanations. '+\\\n",
    "              'Fields prefixed with \"BETA-DATA\" come from beta-cell specific adata object '+\\\n",
    "              '(in code saved in data_rawnorm_integrated_analysed_beta_v1s1_sfintegrated.h5ad) '+\\\n",
    "              'and fields prefixed with CXG-DATA come from adata prepared for cellxgene; '+\\\n",
    "              'other fields come from atlas-wide objects (in code saved in '+\\\n",
    "              'data_rawnorm_integrated_annotated.h5ad and data_integrated_analysed.h5ad). '+\\\n",
    "              'Expression contains all genes from count matrices of individual datasets and '+\\\n",
    "              'we specify in the below described var columns which genes were used for '+\\\n",
    "              'integration and atlas exploration. If a gene was missing from a dataset its '+\\\n",
    "              'expression was set to 0 for that dataset.',\n",
    "    'X':'Expression normalized with integration-based size factors and transformed with log(x+1)',\n",
    "    'raw.X':'Raw expression counts',\n",
    "    'obs':{\n",
    "        'BETA-DATA_hc_gene_programs': 'Beta cell fine subtype annotation on '+\\\n",
    "            'integrated atlas. Fine annotation aimed at capturing all biollogically '+\\\n",
    "            'distinct beta cell subtypes (assesed based on gene program activity patterns).' ,\n",
    "        'BETA-DATA_hc_gene_programs_parsed': 'As BETA-DATA_hc_gene_programs, but with '+\\\n",
    "            'pretty names.' +\\\n",
    "            'Abbreviations: D-inter. - diabetic intermediate, NOD-D - NOD diabetic, '+\\\n",
    "            'M/F - male/female, chem - chem dataset, imm. - immature, lowQ - low quality.',\n",
    "        'BETA-DATA_leiden_r1.5': 'Clustering used to define beta cell coarse subtype '+\\\n",
    "            'annotation.',\n",
    "        'BETA-DATA_leiden_r1.5_parsed': 'Beta cell coarse subtype '+\\\n",
    "            'annotation on integrated atlas. Coarse annotation based on '+\\\n",
    "            'metadata information. Abbreviations: NOD-D - NOD diabetic, M/F - male/female, '+\\\n",
    "            'chem - chem dataset, imm. - immature, lowQ - low quality, '+\\\n",
    "            'hMT - high mitochondrial fraction',\n",
    "        'BETA-DATA_leiden_r1.5_parsed_const': 'As BETA-DATA_leiden_r1.5_parsed, but without '+\\\n",
    "            'pretty names. Used as an unchanging reference for coarse cell states.',\n",
    "        'BETA-DATA_leiden_r20': 'Cell clusters used to define beta-cell pseudobulk in '+\\\n",
    "            'some analyses.',\n",
    "        'CXG-DATA_GEO_accession': 'GEO accession of each dataset',\n",
    "        'CXG-DATA_age_approxDays': \"Approximate mapping of age column to days for \"+\\\n",
    "            \"the purpose of visualisation\",\n",
    "        'CXG-DATA_cell_subtype_endothelial_reannotatedIntegrated': 'Endothelial cell subtype '+\\\n",
    "            'reannotation on integrated atlas based on known markers',\n",
    "        'CXG-DATA_cell_subtype_immune_reannotatedIntegrated': 'Immune cell subtype '+\\\n",
    "            'reannotation on integrated atlas based on known markers',\n",
    "        'CXG-DATA_chemical_stress': 'Application of chemicals to islets',\n",
    "        'CXG-DATA_diabetes_model': 'Diabetes model and any diabetes treatment',\n",
    "        'CXG-DATA_doublet_score': 'Scrublet doublet scores computed per sample; '+\\\n",
    "                'higher - more likely doublet',\n",
    "        'CXG-DATA_emptyDrops_LogProb_scaled': 'Log probability that droplet is empty computed '+\\\n",
    "                'per sample with emptyDrops and scaled to [0,1] per sample; '+\\\n",
    "                'higher - more likely empty droplet',\n",
    "        'CXG-DATA_log10_n_counts': 'log10(N counts)',\n",
    "        'CXG-DATA_mt_frac': 'Fraction of mitochondrial genes expression',\n",
    "        'CXG-DATA_n_genes': 'Number of expressed genes',\n",
    "        'CXG-DATA_sex_annotation': 'Was sex known from sample metadata (ground-truth) or '+\\\n",
    "                'was it determined bsed on Y-chromosomal gene expression (data-driven)',\n",
    "        'age': \"Age as defined in original publication, E - embryonic days, \"+\\\n",
    "                \"d - postnatal days, m - postnatal months, y - postnatal years\",\n",
    "        'cell_filtering': \"FACS sorting\",\n",
    "        'cell_subtype': 'Per-dataset annotation of cell types and for beta cells cell states '+\\\n",
    "            'that are annotated based on known markers. Used for integartion evaluation. '+\\\n",
    "            'Unnanotated cells start with NA.',\n",
    "        'cell_subtype_multiplet': 'As cell_subtype, but with potential multiplet cell clusters '+\\\n",
    "            'set to a single annotation that can be jointly filtered out.',\n",
    "        'cell_type': 'Per-dataset annotation of cell types used for integartion evaluation. '+\\\n",
    "            'Unnanotated cells start with NA.',\n",
    "        'cell_type_integrated_v1': 'Cell type reannotation on the integrated atlas.',\n",
    "        'cell_type_integrated_v1_parsed': 'As cell_type_integrated_v1, but with pretty names.'+\\\n",
    "            'Abbreviations: E - embryonic, endo. - endocrine, \"+\"\" symbol - likely doublet, '+\\\n",
    "            'prolif. - proliferative, lowQ - low quality, '+\\\n",
    "            'stellate a./q. - stellate activated/quiescent',\n",
    "        'cell_type_multiplet': 'As cell_type, but with potential multiplet cell clusters '+\\\n",
    "            'set to a single annotation that can be jointly filtered out.',\n",
    "        'cell_type_parsed': 'As cell_type, but with pretty names.',\n",
    "        'design': 'Brief sample description that gives information on differences '+\\\n",
    "                'between samples within dataset',\n",
    "        'file': 'Technical sample, in some cases equal to biological sample',\n",
    "        'g1_cyclone': 'G1 score of cyclone',\n",
    "        'g2m_cyclone': 'G2M score of cyclone',\n",
    "        '*_high': 'Where * denotes hormone name. '+\\\n",
    "            'Do cells have high expression of the given hormone (ins, gsg, sst, ppy)'+\\\n",
    "            ', determined per sample',\n",
    "        '*_score': 'Where * denotes hormone name. Hormone scores computed per sample.',\n",
    "        'low_q': 'False for cells asigned to low quality clusters',\n",
    "        'phase_cyclone': 'Phase of cell cycle (cyclone)',\n",
    "        'pre_cell_type_original': \"Cell types as reported in the studies that generated \"+\\\n",
    "                \"the datasets\",\n",
    "        'pre_cell_type_unified': \"Cell types as reported in the studies that \"+\\\n",
    "                \"generated the datasets; manually unified to a common naming scheme. \"+\\\n",
    "                'Abberviations: E - embryonic, EP - endocrine progenitor/precursor, '+\\\n",
    "                'Fev+ - Fev positive, prolif. - proliferative, \"+\"\" symbol - likely doublet',\n",
    "        'reference': 'Was dataset used in initial integration hyperparameter evaluation, '+\\\n",
    "            'see reproducibility code for more information.',\n",
    "        's_cyclone': 'S score of cyclone',\n",
    "        'sex': 'Cell sex.',\n",
    "        'size_factors_integrated': 'Size factors computed on integrated embedding.',\n",
    "        'size_factors_sample': 'Size factors computed per sample.',\n",
    "        'strain': 'Mouse strain and genetic background',\n",
    "        'study': 'Dataset name.',\n",
    "        'study_parsed': 'As study, but with pretty name.',\n",
    "        'study_sample': 'Concatentation of columns with sample study and sample '+\\\n",
    "            '(file) information',\n",
    "        'study_sample_design': 'Concatentation of columns with sample study, sample '+\\\n",
    "            '(file), and design information',\n",
    "        'technique': 'Sequencing protocol',\n",
    "        'tissue': 'Tissue type',\n",
    "\n",
    "    },\n",
    "    'var':{\n",
    "        'CXG-DATA_feature_is_filtered': 'False for features not present in all datasets. '+\\\n",
    "            'This defines features used for atlas exploration.',\n",
    "        'CXG-DATA_present_*': '* Dataset name. True if feature was present in a dataset.',\n",
    "        'gene_symbol': 'Gene symbols from BioMart V103.',\n",
    "        'gene_symbol_FINAL': 'Gene symbol assigned for each gene first based on BioMart V103, '+\\\n",
    "            ' and if missing based on gene symbols from alignment information of datasets.',\n",
    "        'gene_symbol_original_matched': 'Gene symbols shared across annotations of individual '+\\\n",
    "            'datasets, some of which differ due to different genomic versions.'+\\\n",
    "            'If not shared set to np.nan.',\n",
    "        'used_integration': 'True if feature was used for integration.',\n",
    "\n",
    "    },\n",
    "    'uns':{\n",
    "        '*_colors': 'Colors for the column corresponding to *.',\n",
    "        '*_order': 'Order of categories in the column corresponding to *.',\n",
    "    },\n",
    "    'obsm':{\n",
    "        'BETA-DATA_X_umap': 'Beta-cell specific UMAP embedding computed with default '+\\\n",
    "            'Scanpy parameters.',\n",
    "        'BETA-DATA_X_umap_opt': 'As BETA-DATA_X_umap, but with optimised parameters to '+\\\n",
    "            'enable better visualisation of cell clusters.',\n",
    "        'X_integrated': 'Integrated atlas embedding.',\n",
    "        'X_umap': 'Atlas-wide UMAP embedding.',\n",
    "\n",
    "    },\n",
    "}"
   ]
  },
  {
   "cell_type": "markdown",
   "id": "ff69460d",
   "metadata": {},
   "source": [
    "### Save metadata"
   ]
  },
  {
   "cell_type": "code",
   "execution_count": 67,
   "id": "56e61913",
   "metadata": {},
   "outputs": [],
   "source": [
    "for m,data in meta.items():\n",
    "    if isinstance (data,pd.DataFrame):\n",
    "        data.to_csv(path_save+m+'.tsv',sep='\\t')\n",
    "    else:\n",
    "        pickle.dump(data,open(path_save+m+'.pkl','wb'))"
   ]
  },
  {
   "cell_type": "markdown",
   "id": "a28cd45f",
   "metadata": {},
   "source": [
    "## Expression"
   ]
  },
  {
   "cell_type": "code",
   "execution_count": 31,
   "id": "14f5f18d",
   "metadata": {},
   "outputs": [],
   "source": [
    "adata_temp=sc.read(path_data+'submission/cellxgene/adata.h5ad')"
   ]
  },
  {
   "cell_type": "code",
   "execution_count": 32,
   "id": "e178325c",
   "metadata": {},
   "outputs": [
    {
     "data": {
      "text/plain": [
       "375"
      ]
     },
     "execution_count": 32,
     "metadata": {},
     "output_type": "execute_result"
    }
   ],
   "source": [
    "# Make adata\n",
    "adata=sc.AnnData(adata_temp.raw.X,\n",
    "                 obs=pd.DataFrame(index=adata_temp.obs.index),\n",
    "                 var=pd.DataFrame(index=adata_temp.raw.var.index))\n",
    "adata.raw=adata.copy()\n",
    "del adata_temp\n",
    "gc.collect()"
   ]
  },
  {
   "cell_type": "code",
   "execution_count": 33,
   "id": "a6aff9fb",
   "metadata": {},
   "outputs": [
    {
     "name": "stderr",
     "output_type": "stream",
     "text": [
      "/tmp/ipykernel_29740/2100602627.py:2: DtypeWarning: Columns (19,25,26,27,28,32,33,36,50,52,53) have mixed types. Specify dtype option on import or set low_memory=False.\n",
      "  obs=pd.read_table(path_save+'obs.tsv',index_col=0)\n"
     ]
    }
   ],
   "source": [
    "# Reload obs for size factors\n",
    "obs=pd.read_table(path_save+'obs.tsv',index_col=0)"
   ]
  },
  {
   "cell_type": "code",
   "execution_count": 34,
   "id": "2cfbb538",
   "metadata": {},
   "outputs": [],
   "source": [
    "# Normalize X\n",
    "adata.obs['size_factors_integrated']=obs.loc[adata.obs_names,'size_factors_integrated']\n",
    "adata=h.get_rawnormalised(adata,sf_col='size_factors_integrated',\n",
    "                    use_log=True,save_nonlog=False, use_raw=False, copy=False)\n",
    "adata.obs.drop('size_factors_integrated',axis=1,inplace=True) \n",
    "del adata.uns['log1p']"
   ]
  },
  {
   "cell_type": "code",
   "execution_count": 35,
   "id": "6171c922",
   "metadata": {},
   "outputs": [
    {
     "name": "stdout",
     "output_type": "stream",
     "text": [
      "AnnData object with n_obs × n_vars = 301796 × 31706\n",
      "Raw AnnData with n_obs × n_vars = 301796 × 31706\n"
     ]
    }
   ],
   "source": [
    "print(adata)\n",
    "print(adata.raw)"
   ]
  },
  {
   "cell_type": "markdown",
   "id": "fb083274",
   "metadata": {},
   "source": [
    "## Add metadata to adata"
   ]
  },
  {
   "cell_type": "code",
   "execution_count": 36,
   "id": "43bbd77a",
   "metadata": {},
   "outputs": [
    {
     "name": "stderr",
     "output_type": "stream",
     "text": [
      "/tmp/ipykernel_29740/3061390088.py:2: DtypeWarning: Columns (19,25,26,27,28,32,33,36,50,52,53) have mixed types. Specify dtype option on import or set low_memory=False.\n",
      "  obs=pd.read_table(path_save+'obs.tsv',index_col=0)\n"
     ]
    }
   ],
   "source": [
    "# Obs\n",
    "obs=pd.read_table(path_save+'obs.tsv',index_col=0)\n",
    "adata.obs=obs.loc[adata.obs_names,:]"
   ]
  },
  {
   "cell_type": "code",
   "execution_count": 37,
   "id": "057c529a",
   "metadata": {},
   "outputs": [],
   "source": [
    "# Var\n",
    "var=pd.read_table(path_save+'var.tsv',index_col=0)\n",
    "adata.var=var.loc[adata.var_names,:]"
   ]
  },
  {
   "cell_type": "code",
   "execution_count": 38,
   "id": "bd12a995",
   "metadata": {},
   "outputs": [],
   "source": [
    "# Obsm\n",
    "obsm=pickle.load(open(path_save+'obsm.pkl','rb'))\n",
    "for o,data in obsm.items():\n",
    "    adata.obsm[o]=data.reindex(adata.obs_names).values"
   ]
  },
  {
   "cell_type": "code",
   "execution_count": 39,
   "id": "068ec794",
   "metadata": {},
   "outputs": [],
   "source": [
    "# Uns\n",
    "uns=pickle.load(open(path_save+'uns.pkl','rb'))\n",
    "for u,data in uns.items():\n",
    "    adata.uns[u]=data"
   ]
  },
  {
   "cell_type": "markdown",
   "id": "7aa3f8e3",
   "metadata": {},
   "source": [
    "## Save adata"
   ]
  },
  {
   "cell_type": "code",
   "execution_count": 40,
   "id": "d5eaaa8c",
   "metadata": {},
   "outputs": [
    {
     "data": {
      "text/plain": [
       "AnnData object with n_obs × n_vars = 301796 × 31706\n",
       "    obs: 'study_sample', 'study', 'file', 'reference', 'size_factors_sample', 'phase_cyclone', 's_cyclone', 'g2m_cyclone', 'g1_cyclone', 'sex', 'ins_score', 'ins_high', 'gcg_score', 'gcg_high', 'sst_score', 'sst_high', 'ppy_score', 'ppy_high', 'cell_filtering', 'age', 'strain', 'tissue', 'technique', 'study_sample_design', 'cell_type', 'cell_type_multiplet', 'cell_subtype', 'cell_subtype_multiplet', 'design', 'cell_type_integrated_v1', 'size_factors_integrated', 'pre_cell_type_unified', 'pre_cell_type_original', 'study_parsed', 'cell_type_integrated_v1_parsed', 'cell_type_parsed', 'low_q', 'BETA-DATA_leiden_r1.5', 'BETA-DATA_leiden_r20', 'BETA-DATA_hc_gene_programs', 'BETA-DATA_hc_gene_programs_parsed', 'BETA-DATA_leiden_r1.5_parsed', 'BETA-DATA_leiden_r1.5_parsed_const', 'CXG-DATA_n_genes', 'CXG-DATA_mt_frac', 'CXG-DATA_doublet_score', 'CXG-DATA_log10_n_counts', 'CXG-DATA_age_approxDays', 'CXG-DATA_cell_subtype_immune_reannotatedIntegrated', 'CXG-DATA_cell_subtype_endothelial_reannotatedIntegrated', 'CXG-DATA_emptyDrops_LogProb_scaled', 'CXG-DATA_diabetes_model', 'CXG-DATA_chemical_stress', 'CXG-DATA_GEO_accession', 'CXG-DATA_sex_annotation'\n",
       "    var: 'gene_symbol', 'used_integration', 'gene_symbol_original_matched', 'CXG-DATA_feature_is_filtered', 'CXG-DATA_present_Fltp_2y', 'CXG-DATA_present_Fltp_adult', 'CXG-DATA_present_Fltp_P16', 'CXG-DATA_present_NOD', 'CXG-DATA_present_NOD_elimination', 'CXG-DATA_present_spikein_drug', 'CXG-DATA_present_embryo', 'CXG-DATA_present_VSG', 'CXG-DATA_present_STZ', 'gene_symbol_FINAL'\n",
       "    uns: 'cell_type_integrated_v1_colors', 'cell_type_integrated_v1_parsed_order', 'study_order', 'study_parsed_colors', 'study_parsed_order', 'BETA-DATA_hc_gene_programs_parsed_colors', 'BETA-DATA_hc_gene_programs_parsed_order', 'BETA-DATA_leiden_r1.5_parsed_colors', 'BETA-DATA_leiden_r1.5_parsed_order', 'field_descriptions'\n",
       "    obsm: 'X_integrated', 'X_umap', 'BETA-DATA_X_umap', 'BETA-DATA_X_umap_opt'"
      ]
     },
     "execution_count": 40,
     "metadata": {},
     "output_type": "execute_result"
    }
   ],
   "source": [
    "adata"
   ]
  },
  {
   "cell_type": "code",
   "execution_count": 69,
   "id": "ae55a9ad",
   "metadata": {},
   "outputs": [],
   "source": [
    "adata.write(path_save+'adata.h5ad')"
   ]
  },
  {
   "cell_type": "code",
   "execution_count": 70,
   "id": "eb27b15d",
   "metadata": {},
   "outputs": [
    {
     "data": {
      "text/plain": [
       "'/lustre/groups/ml01/workspace/karin.hrovatin/data/pancreas/scRNA/combined/submission/geo/adata.h5ad'"
      ]
     },
     "execution_count": 70,
     "metadata": {},
     "output_type": "execute_result"
    }
   ],
   "source": [
    "path_save+'adata.h5ad'"
   ]
  },
  {
   "cell_type": "code",
   "execution_count": null,
   "id": "dff72ad1",
   "metadata": {},
   "outputs": [],
   "source": []
  }
 ],
 "metadata": {
  "jupytext": {
   "formats": "ipynb,py:percent"
  },
  "kernelspec": {
   "display_name": "cellxgene",
   "language": "python",
   "name": "cellxgene"
  },
  "language_info": {
   "codemirror_mode": {
    "name": "ipython",
    "version": 3
   },
   "file_extension": ".py",
   "mimetype": "text/x-python",
   "name": "python",
   "nbconvert_exporter": "python",
   "pygments_lexer": "ipython3",
   "version": "3.8.0"
  }
 },
 "nbformat": 4,
 "nbformat_minor": 5
}
