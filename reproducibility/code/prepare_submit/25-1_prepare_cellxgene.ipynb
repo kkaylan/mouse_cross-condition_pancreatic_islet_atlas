{
 "cells": [
  {
   "cell_type": "code",
   "execution_count": 1,
   "id": "72040194",
   "metadata": {},
   "outputs": [],
   "source": [
    "import scanpy as sc\n",
    "import numpy as np\n",
    "import pandas as pd\n",
    "import pprint\n",
    "import gc\n",
    "\n",
    "from sklearn.preprocessing import minmax_scale\n",
    "\n",
    "import matplotlib.pyplot as plt\n",
    "import seaborn as sb\n",
    "from matplotlib import rcParams\n",
    "\n",
    "import sys\n",
    "sys.path.insert(0, '/lustre/groups/ml01/code/karin.hrovatin/diabetes_analysis/')\n",
    "from importlib import reload  \n",
    "import helper\n",
    "reload(helper)\n",
    "import helper as h"
   ]
  },
  {
   "cell_type": "code",
   "execution_count": 2,
   "id": "6c9bbd7c",
   "metadata": {},
   "outputs": [],
   "source": [
    "path_data='/lustre/groups/ml01/workspace/karin.hrovatin/data/pancreas/scRNA/combined/'\n",
    "path_save=path_data+'submission/cellxgene/'"
   ]
  },
  {
   "cell_type": "code",
   "execution_count": 3,
   "id": "562af7d3",
   "metadata": {},
   "outputs": [],
   "source": [
    "adata_int=sc.read(path_data+'data_integrated_analysed.h5ad')"
   ]
  },
  {
   "cell_type": "markdown",
   "id": "183d228c",
   "metadata": {},
   "source": [
    "## Prepare obs"
   ]
  },
  {
   "cell_type": "markdown",
   "id": "503818e7",
   "metadata": {},
   "source": [
    "### Add info from integrated object"
   ]
  },
  {
   "cell_type": "code",
   "execution_count": 4,
   "id": "784032be",
   "metadata": {},
   "outputs": [],
   "source": [
    "# Load integrated object obs\n",
    "obs_a=sc.read(path_data+'data_integrated_analysed.h5ad',backed='r').obs.copy()"
   ]
  },
  {
   "cell_type": "code",
   "execution_count": 4,
   "id": "0913dc89",
   "metadata": {},
   "outputs": [
    {
     "data": {
      "text/plain": [
       "Index(['study_sample', 'study', 'file', 'reference', 'size_factors_sample',\n",
       "       'S_score', 'G2M_score', 'phase', 'phase_cyclone', 's_cyclone',\n",
       "       'g2m_cyclone', 'g1_cyclone', 'sex', 'pre_cell_type', 'ins_score',\n",
       "       'ins_high', 'gcg_score', 'gcg_high', 'sst_score', 'sst_high',\n",
       "       'ppy_score', 'ppy_high', 'cell_filtering', 'age', 'strain', 'tissue',\n",
       "       'technique', 'internal_id', 'batch', 'study_sample_design', 'cell_type',\n",
       "       'cell_type_multiplet', 'cell_subtype', 'cell_subtype_multiplet',\n",
       "       'leiden_r0.4', 'design', 'cell_type_integrated',\n",
       "       'cell_type_integrated_v1', 'leiden_r1', 'leiden_r1.5', 'leiden_r2',\n",
       "       'leiden_r0.5', 'size_factors_integrated', 'pre_cell_type_unified',\n",
       "       'pre_cell_type_original', 'study_parsed',\n",
       "       'cell_type_integrated_v1_parsed', 'cell_type_parsed', 'low_q',\n",
       "       'cell_type_integrated_v2', 'cell_type_integrated_v2_parsed'],\n",
       "      dtype='object')"
      ]
     },
     "execution_count": 4,
     "metadata": {},
     "output_type": "execute_result"
    }
   ],
   "source": [
    "obs_a.columns"
   ]
  },
  {
   "cell_type": "code",
   "execution_count": 101,
   "id": "740fcc33",
   "metadata": {},
   "outputs": [
    {
     "data": {
      "text/plain": [
       "['batch_integration',\n",
       " 'dataset',\n",
       " 'sample',\n",
       " 'design',\n",
       " 'cell_cycle_phase',\n",
       " 'sex',\n",
       " 'ins_high',\n",
       " 'gcg_high',\n",
       " 'sst_high',\n",
       " 'ppy_high',\n",
       " 'cell_filtering',\n",
       " 'strain',\n",
       " 'age_original',\n",
       " 'cell_type_originalDataset_unified',\n",
       " 'cell_type_originalDataset',\n",
       " 'cell_type_reannotatedIntegrated']"
      ]
     },
     "execution_count": 101,
     "metadata": {},
     "output_type": "execute_result"
    }
   ],
   "source": [
    "# Select and rename columns\n",
    "cols=['study_sample', 'study_parsed', 'file', 'design',\n",
    "      'phase_cyclone', #'s_cyclone','g2m_cyclone', 'g1_cyclone', \n",
    "      'ins_high', 'gcg_high','sst_high', 'ppy_high', \n",
    "      'cell_filtering', 'strain', 'age', \n",
    "      'pre_cell_type_unified','pre_cell_type_original',\n",
    "      'cell_type_integrated_v2_parsed','low_q']\n",
    "# Other cols to add parsed latter for CZI: 'tissue', 'technique', \n",
    "# Other colls to be parsed: 'cell_type_multiplet', \n",
    "obs=obs_a[cols].copy()\n",
    "cols_rename={\n",
    "    'study_sample':'batch_integration',\n",
    "    'study_parsed':'dataset',\n",
    "    'file':'sample',\n",
    "    'phase_cyclone':'cell_cycle_phase',\n",
    "    'pre_cell_type_original':'cell_type_originalDataset',\n",
    "    'pre_cell_type_unified':'cell_type_originalDataset_unified',\n",
    "    'cell_type_integrated_v2_parsed':'cell_type_reannotatedIntegrated'\n",
    "}\n",
    "obs.rename(cols_rename,axis=1,inplace=True)\n",
    "obs.columns.to_list()"
   ]
  },
  {
   "cell_type": "code",
   "execution_count": 4,
   "id": "662373bf",
   "metadata": {},
   "outputs": [
    {
     "data": {
      "text/plain": [
       "13978"
      ]
     },
     "execution_count": 4,
     "metadata": {},
     "output_type": "execute_result"
    }
   ],
   "source": [
    "# Negate lowQ as it is stored in oposite boolean value\n",
    "obs['low_q']=~obs['low_q']\n",
    "obs['low_q'].sum()"
   ]
  },
  {
   "cell_type": "code",
   "execution_count": 46,
   "id": "1de94d06",
   "metadata": {},
   "outputs": [],
   "source": [
    "# Re-add updated study and ct info if neccesary\n",
    "if False:\n",
    "    obs['dataset']=obs_a['study_parsed']\n",
    "    obs['cell_type_originalDataset']=obs_a['pre_cell_type_original']\n",
    "    obs['cell_type_originalDataset_unified']=obs_a['pre_cell_type_unified']\n",
    "    obs['cell_type_reannotatedIntegrated']=obs_a['cell_type_integrated_v2_parsed']"
   ]
  },
  {
   "cell_type": "code",
   "execution_count": 68,
   "id": "ebfc6959",
   "metadata": {},
   "outputs": [],
   "source": [
    "# Convert to category\n",
    "for col in [\n",
    "     'batch_integration',\n",
    "     'dataset',\n",
    "     'sample',\n",
    "     'design',\n",
    "     'cell_cycle_phase',\n",
    "     'cell_filtering',\n",
    "     'strain',\n",
    "     'age',\n",
    "     'cell_type_originalDataset_unified',\n",
    "     'cell_type_originalDataset',\n",
    "     'cell_type_reannotatedIntegrated']:\n",
    "    obs[col]=obs[col].astype('category')"
   ]
  },
  {
   "cell_type": "code",
   "execution_count": 32,
   "id": "2a2c2221",
   "metadata": {},
   "outputs": [],
   "source": [
    "# Study_design_sample\n",
    "obs['dataset__design__sample']=['__'.join([da,de,s]) for da,de,s in \n",
    "                                zip(obs['dataset'],obs['design'],obs['sample'])]\n",
    "obs['dataset__design__sample']=obs['dataset__design__sample'].astype('category')\n",
    "# Remove sample as now contained elsewhere\n",
    "obs.drop('sample',inplace=True,axis=1)"
   ]
  },
  {
   "cell_type": "code",
   "execution_count": 7,
   "id": "bced2b71",
   "metadata": {
    "lines_to_next_cell": 2
   },
   "outputs": [
    {
     "name": "stdout",
     "output_type": "stream",
     "text": [
      "Remap ages:\n",
      "{'12.5 E': '-8.5 d',\n",
      " '13.5 E': '-7.5 d',\n",
      " '14 w': '14 w',\n",
      " '14.5 E': '-6.5 d',\n",
      " '15.5 E': '-5.5 d',\n",
      " '16 d': '16 d',\n",
      " '16 w': '16 w',\n",
      " '16-18 w': '17.0 w',\n",
      " '182 d': '182 d',\n",
      " '2 y': '2 y',\n",
      " '2-3 m': '2.5 m',\n",
      " '4 m': '4 m',\n",
      " '5 w': '5 w',\n",
      " '8 w': '8 w'}\n",
      "Map approx days:\n",
      "{'-5.5 d': -5.5,\n",
      " '-6.5 d': -6.5,\n",
      " '-7.5 d': -7.5,\n",
      " '-8.5 d': -8.5,\n",
      " '14 w': 98.0,\n",
      " '16 d': 16.0,\n",
      " '16 w': 112.0,\n",
      " '17.0 w': 119.0,\n",
      " '182 d': 182.0,\n",
      " '2 y': 730.0,\n",
      " '2.5 m': 75.0,\n",
      " '4 m': 120.0,\n",
      " '5 w': 35.0,\n",
      " '8 w': 56.0}\n"
     ]
    }
   ],
   "source": [
    "# Map age to days for visualisation\n",
    "# Parse ages\n",
    "e_days=21\n",
    "ages_parsed_map={}\n",
    "for a in obs['age'].unique():\n",
    "    if a.endswith(' E'):\n",
    "        a_parsed=str(float(a.split()[0])-e_days)+' d'\n",
    "    elif '-' in a:\n",
    "        a_parsed=str(np.mean([float(a) for a in a.split(' ')[0].split('-')]))+' '+a.split(' ')[1]\n",
    "    else:\n",
    "        a_parsed=a\n",
    "    ages_parsed_map[a]=a_parsed\n",
    "print('Remap ages:')\n",
    "pprint.pprint(ages_parsed_map)\n",
    "# Map age strings to approx days\n",
    "age_unit_map={'y':365,'w':7,'m':30,'d':1}\n",
    "age_map={age: float(age.split()[0])*age_unit_map[age.split()[1]] \n",
    "         for age in obs['age'].map(ages_parsed_map).unique()}\n",
    "print('Map approx days:')\n",
    "pprint.pprint(age_map)\n",
    "obs['age_approxDays']=obs['age'].map(ages_parsed_map).map(age_map).dtype"
   ]
  },
  {
   "cell_type": "markdown",
   "id": "32229628",
   "metadata": {},
   "source": [
    "Map different stress treatments to more readable cols than design"
   ]
  },
  {
   "cell_type": "code",
   "execution_count": 44,
   "id": "6e8c4c2a",
   "metadata": {},
   "outputs": [],
   "source": [
    "obs['diabetes_model']=obs_a['study_sample_design'].map({\n",
    "     'NOD_elimination_SRR7610298_14w':'T1D_NOD',\n",
    "     'NOD_elimination_SRR7610299_14w':'T1D_NOD',\n",
    "     'NOD_elimination_SRR7610300_14w':'T1D_NOD',\n",
    "     'NOD_elimination_SRR7610301_16w':'T1D_NOD',\n",
    "     'NOD_elimination_SRR7610302_16w':'T1D_NOD',\n",
    "     'NOD_elimination_SRR7610303_16w':'T1D_NOD',\n",
    "     'NOD_elimination_SRR7610295_8w':'T1D_NOD_prediabetic',\n",
    "     'NOD_elimination_SRR7610296_8w':'T1D_NOD_prediabetic',\n",
    "     'NOD_elimination_SRR7610297_8w':'T1D_NOD_prediabetic',\n",
    "     'NOD_SRR10985097_IRE1alphabeta-/-':'T1D_NOD_prediabetic',\n",
    "     'NOD_SRR10985098_IRE1alphabeta-/-':'T1D_NOD_prediabetic',\n",
    "     'NOD_SRR10985099_IRE1alphafl/fl':'T1D_NOD_prediabetic',\n",
    "     'STZ_G4_STZ_GLP-1':'T2D_mSTZ-treated_GLP-1',\n",
    "     'STZ_G8_STZ_GLP-1_estrogen+insulin':'T2D_mSTZ-treated_GLP-1_estrogen+insulin',\n",
    "     'STZ_G6_STZ_GLP-1_estrogen':'T2D_mSTZ-treated_GLP-1_estrogen',\n",
    "     'STZ_G2_STZ':'T2D_mSTZ',\n",
    "     'STZ_G5_STZ_estrogen':'T2D_mSTZ-treated_estrogen',\n",
    "     'STZ_G3_STZ_insulin':'T2D_mSTZ-treated_insulin',\n",
    "     'VSG_MUC13631_PF_Lepr-/-':'T2D_db/db-treated_PairFeed',\n",
    "     'VSG_MUC13632_PF_Lepr-/-':'T2D_db/db-treated_PairFeed',\n",
    "     'VSG_MUC13640_VSG_Lepr-/-':'T2D_db/db-treated_VSG',\n",
    "     'VSG_MUC13642_VSG_Lepr-/-':'T2D_db/db-treated_VSG',\n",
    "     'VSG_MUC13639_sham_Lepr-/-':'T2D_db/db',\n",
    "     'VSG_MUC13641_sham_Lepr-/-':'T2D_db/db'})\n",
    "obs['diabetes_model']=obs['diabetes_model'].astype('category')"
   ]
  },
  {
   "cell_type": "code",
   "execution_count": 286,
   "id": "abb9fc67",
   "metadata": {},
   "outputs": [],
   "source": [
    "obs['chemical_stress']=obs_a['study_sample_design'].map({\n",
    " 'spikein_drug_SRR10751503_A10_r1':'artemether_10uM',\n",
    " 'spikein_drug_SRR10751508_A10_r2':'artemether_10uM',\n",
    " 'spikein_drug_SRR10751513_A10_r3':'artemether_10uM',\n",
    " 'spikein_drug_SRR10751502_A1_r1':'artemether_1uM',\n",
    " 'spikein_drug_SRR10751507_A1_r2':'artemether_1uM',\n",
    " 'spikein_drug_SRR10751512_A1_r3':'artemether_1uM',\n",
    " 'spikein_drug_SRR10751505_FOXO_r1':'FoxOinhibitor',\n",
    " 'spikein_drug_SRR10751510_FOXO_r2':'FoxOinhibitor',\n",
    " 'spikein_drug_SRR10751515_FOXO_r3':'FoxOinhibitor',\n",
    " 'spikein_drug_SRR10751506_GABA_r1':'GABA',\n",
    " 'spikein_drug_SRR10751511_GABA_r2':'GABA',\n",
    " 'spikein_drug_SRR10751516_GABA_r3':'GABA'})\n",
    "obs['chemical_stress']=obs['chemical_stress'].astype('category')"
   ]
  },
  {
   "cell_type": "markdown",
   "id": "19a5a363",
   "metadata": {},
   "source": [
    "Publication info"
   ]
  },
  {
   "cell_type": "code",
   "execution_count": 26,
   "id": "6b392a95",
   "metadata": {},
   "outputs": [],
   "source": [
    "# GEO\n",
    "obs['GEO_accession']=obs_a['study'].map({\n",
    "    'Fltp_2y':'GSE211795', \n",
    "    'Fltp_adult':'GSE211796', \n",
    "    'Fltp_P16':'GSE161966', \n",
    "    'NOD':'GSE144471', \n",
    "    'NOD_elimination':'GSE117770', \n",
    "    'spikein_drug':'GSE142465 (GSM4228185 - GSM4228199)', \n",
    "    'embryo':'GSE132188', \n",
    "    'VSG':'GSE174194', \n",
    "    'STZ':'GSE128565'\n",
    "})\n",
    "obs['GEO_accession']=obs['GEO_accession'].astype('category')"
   ]
  },
  {
   "cell_type": "markdown",
   "id": "934793d5",
   "metadata": {},
   "source": [
    "### Add QC info from preprocessing of individual datasets/samples"
   ]
  },
  {
   "cell_type": "code",
   "execution_count": 112,
   "id": "445c5f03",
   "metadata": {},
   "outputs": [],
   "source": [
    "# Add emptyDrops LogProba\n",
    "files=pd.read_table('/lustre/groups/ml01/workspace/karin.hrovatin/data/pancreas/scRNA/raw_file_list.tsv')\n",
    "files.index=[study+'_'+sample for study,sample in zip(files['study'],files['sample'])]\n",
    "for study_sample in obs_a.study_sample.unique():\n",
    "    file=files.at[study_sample,'dir']+'raw_'+files.at[study_sample,'ending']\n",
    "    # Index used in raw and merged data\n",
    "    index_raw=obs_a.index[obs_a.study_sample==study_sample]\n",
    "    index_parsed=[\n",
    "        idx.replace('-'+files.at[study_sample,'sample']+'-'+files.at[study_sample,'study'],'')\n",
    "        for idx in index_raw]\n",
    "    # Load ambient info\n",
    "    obs.loc[index_raw,'emptyDrops_LogProb'\n",
    "                     ]=sc.read(file,backed='r').obs.loc[index_parsed,'emptyDrops_LogProb'].values"
   ]
  },
  {
   "cell_type": "code",
   "execution_count": 173,
   "id": "0ae1b782",
   "metadata": {},
   "outputs": [],
   "source": [
    "# Scale empty drops proba per sample (as was computed) - gives on e.g. beta cells clearer scores\n",
    "obs['emptyDrops_LogProb_scaled']=obs.groupby('batch_integration')['emptyDrops_LogProb'].apply(\n",
    "        lambda x: pd.DataFrame(minmax_scale(x),index=x.index,columns=['emptyDrops_LogProb_scaled'])\n",
    ").unstack()['emptyDrops_LogProb_scaled']\n",
    "obs.drop('emptyDrops_LogProb',axis=1,inplace=True)"
   ]
  },
  {
   "cell_type": "code",
   "execution_count": null,
   "id": "f5de6551",
   "metadata": {
    "lines_to_next_cell": 2
   },
   "outputs": [],
   "source": [
    "# Add other QC metrics from datasets\n",
    "data=[('Fltp_2y','/lustre/groups/ml01/workspace/karin.hrovatin/data/pancreas/scRNA/islets_aged_fltp_iCre/rev6/'),\n",
    "      ('Fltp_adult','/lustre/groups/ml01/workspace/karin.hrovatin/data/pancreas/scRNA/islet_fltp_headtail/rev4/'),\n",
    "      ('Fltp_P16','/lustre/groups/ml01/workspace/karin.hrovatin/data/pancreas/scRNA/salinno_project/rev4/'),\n",
    "      ('NOD','/lustre/groups/ml01/workspace/karin.hrovatin/data/pancreas/scRNA/GSE144471/'),\n",
    "      ('NOD_elimination','/lustre/groups/ml01/workspace/karin.hrovatin/data/pancreas/scRNA/GSE117770/'),\n",
    "      ('spikein_drug','/lustre/groups/ml01/workspace/karin.hrovatin/data/pancreas/scRNA/GSE142465/'),\n",
    "      ('embryo','/lustre/groups/ml01/workspace/karin.hrovatin/data/pancreas/scRNA/GSE132188/rev7/'),\n",
    "      ('VSG','/lustre/groups/ml01/workspace/karin.hrovatin/data/pancreas/scRNA/VSG_PF_WT_cohort/rev7/'),\n",
    "      ('STZ','/lustre/groups/ml01/workspace/karin.hrovatin/data/pancreas/scRNA/islet_glpest_lickert/rev7/')]\n",
    "for study,path in data:\n",
    "    #print(study)\n",
    "    #Load annotation\n",
    "    obs_sub=sc.read_h5ad(path+'data_annotated.h5ad',backed='r').obs[\n",
    "        [ 'n_counts', 'n_genes', 'mt_frac', 'doublet_score']].copy()\n",
    "    # parse idx to match integrated one\n",
    "    obs_sub.index=[i+'-'+study for i in obs_sub.index]\n",
    "    for col in obs_sub.columns:\n",
    "        obs.loc[obs_sub.index,col]=obs_sub[col]"
   ]
  },
  {
   "cell_type": "code",
   "execution_count": 131,
   "id": "2eb47883",
   "metadata": {},
   "outputs": [],
   "source": [
    "# Convert n_counts to log for visualisation\n",
    "obs['log10_n_counts']=np.log10(obs['n_counts'])\n",
    "obs.drop('n_counts',axis=1,inplace=True)"
   ]
  },
  {
   "cell_type": "markdown",
   "id": "42d88977",
   "metadata": {},
   "source": [
    "### Annotation from cell subtype analyses"
   ]
  },
  {
   "cell_type": "markdown",
   "id": "bb0dc9b6",
   "metadata": {},
   "source": [
    "#### Other cell type subtypes"
   ]
  },
  {
   "cell_type": "code",
   "execution_count": 153,
   "id": "0b14b33a",
   "metadata": {},
   "outputs": [],
   "source": [
    "# Immune\n",
    "obs_sub=sc.read(path_data+'data_rawnorm_integrated_analysed_immune.h5ad',\n",
    "                backed='r').obs['cell_subtype_v1_parsed_coarse_v2'].copy()\n",
    "obs.loc[obs_sub.index,'cell_subtype_immune_reannotatedIntegrated']=obs_sub"
   ]
  },
  {
   "cell_type": "code",
   "execution_count": 156,
   "id": "25c49be5",
   "metadata": {},
   "outputs": [],
   "source": [
    "# Endothelial\n",
    "obs_sub=sc.read(path_data+'data_rawnorm_integrated_analysed_endothelial.h5ad',\n",
    "                backed='r').obs['cell_subtype_v1_parsed_coarse'].copy()\n",
    "obs.loc[obs_sub.index,'cell_subtype_endothelial_reannotatedIntegrated']=obs_sub"
   ]
  },
  {
   "cell_type": "markdown",
   "id": "25a9274b",
   "metadata": {},
   "source": [
    "#### Beta cell info"
   ]
  },
  {
   "cell_type": "code",
   "execution_count": 33,
   "id": "1ac98555",
   "metadata": {},
   "outputs": [],
   "source": [
    "adata_rn_b=sc.read(path_data+'data_rawnorm_integrated_analysed_beta_v1s1_sfintegrated.h5ad')"
   ]
  },
  {
   "cell_type": "code",
   "execution_count": 34,
   "id": "8275e7db",
   "metadata": {},
   "outputs": [],
   "source": [
    "# Add cell subtypes\n",
    "obs.loc[adata_rn_b.obs_names,'cell_subtype_beta_coarse_reannotatedIntegrated']=adata_rn_b.obs[\n",
    "    'leiden_r1.5_parsed']\n",
    "obs.loc[adata_rn_b.obs_names,'cell_subtype_beta_fine_reannotatedIntegrated']=adata_rn_b.obs[\n",
    "    'hc_gene_programs_parsed']"
   ]
  },
  {
   "cell_type": "code",
   "execution_count": 193,
   "id": "e778f9c2",
   "metadata": {},
   "outputs": [],
   "source": [
    "# Add gene program activity\n",
    "genes_hc=pd.read_table('/lustre/groups/ml01/workspace/karin.hrovatin/data/pancreas/scRNA/combined/moransi/sfintegrated/gene_hc_t2.4.tsv',\n",
    "                       sep='\\t',index_col=0)\n",
    "gene_cl='hc'\n",
    "for ct in sorted(genes_hc[gene_cl].unique()):\n",
    "    score_name='GP_'+str(ct)\n",
    "    sc.tl.score_genes(adata_rn_b, \n",
    "                      gene_list=genes_hc.index[genes_hc[gene_cl]==ct], \n",
    "                     score_name=score_name, use_raw=False)\n",
    "    obs.loc[adata_rn_b.obs_names,score_name]=adata_rn_b.obs[score_name]"
   ]
  },
  {
   "cell_type": "markdown",
   "id": "6e70ccf0",
   "metadata": {},
   "source": [
    "## Parse for cellxgene"
   ]
  },
  {
   "cell_type": "markdown",
   "id": "424e1bbb",
   "metadata": {},
   "source": [
    "Replace NA with nan"
   ]
  },
  {
   "cell_type": "code",
   "execution_count": 35,
   "id": "5d6e7f3f",
   "metadata": {},
   "outputs": [
    {
     "data": {
      "text/plain": [
       "[]"
      ]
     },
     "execution_count": 35,
     "metadata": {},
     "output_type": "execute_result"
    }
   ],
   "source": [
    "# Check if any cols contain 'NA'\n",
    "[col for col in obs.columns if (obs[col]=='NA').any()]"
   ]
  },
  {
   "cell_type": "code",
   "execution_count": 199,
   "id": "4dfb7c78",
   "metadata": {},
   "outputs": [],
   "source": [
    "for col in [col for col in obs.columns if (obs[col]=='NA').any()]:\n",
    "    obs.loc[obs.index[obs[col]=='NA'],col]=np.nan"
   ]
  },
  {
   "cell_type": "markdown",
   "id": "56e31706",
   "metadata": {},
   "source": [
    "### Required fields"
   ]
  },
  {
   "cell_type": "code",
   "execution_count": 220,
   "id": "9a6afb6a",
   "metadata": {},
   "outputs": [],
   "source": [
    "obs['assay_ontology_term_id']=obs_a['technique'].map({\n",
    "    'Chromium v2':'EFO:0009899', \n",
    "    'Chromium v3':'EFO:0009922',\n",
    "    'Chromium v3.1':'EFO:0009922'}).astype('category')"
   ]
  },
  {
   "cell_type": "code",
   "execution_count": 60,
   "id": "75096214",
   "metadata": {},
   "outputs": [],
   "source": [
    "obs['cell_type_ontology_term_id']=obs_a['cell_type_integrated_v2'].map({\n",
    "     'acinar':'CL:0002064',\n",
    "     'alpha':'CL:0000171',\n",
    "     'alpha_beta':'CL:0008024',\n",
    "     'alpha_delta':'CL:0008024',\n",
    "     'ambient':'CL:0000000',\n",
    "     'beta':'CL:0000169',\n",
    "     'beta_delta':'CL:0008024',\n",
    "     'beta_gamma':'CL:0008024',\n",
    "     'delta':'CL:0000173',\n",
    "     'delta_gamma':'CL:0008024',\n",
    "     'ductal':'CL:0002079',\n",
    "     'embryo':'CL:0000003',\n",
    "     'embryo endocrine':'CL:0000003',\n",
    "     'endocrine proliferative':'CL:0008024',\n",
    "     'endothelial':'CL:0000115',\n",
    "     'gamma':'CL:0002275',\n",
    "     'immune':'CL:0000988',\n",
    "     'schwann':'CL:0002573',\n",
    "     'stellate_activated':'CL:0002410',\n",
    "     'stellate_quiescent':'CL:0002410'\n",
    "}).astype('category')"
   ]
  },
  {
   "cell_type": "code",
   "execution_count": 70,
   "id": "230107e9",
   "metadata": {},
   "outputs": [],
   "source": [
    "obs['development_stage_ontology_term_id']=obs['age'].map({\n",
    "     '12.5 E':'MmusDv:0000027',\n",
    "     '13.5 E':'MmusDv:0000028',\n",
    "     '14 w':'MmusDv:0000063',\n",
    "     '14.5 E':'MmusDv:0000029',\n",
    "     '15.5 E':'MmusDv:0000032',\n",
    "     '16 d':'MmusDv:0000037',\n",
    "     '16 w':'MmusDv:0000063',\n",
    "     '182 d':'MmusDv:0000077',\n",
    "     '2 y':'MmusDv:0000091',\n",
    "     '2-3 m':'MmusDv:0000062',\n",
    "     '16-18 w':'MmusDv:0000064',\n",
    "     '4 m':'MmusDv:0000064',\n",
    "     '5 w':'MmusDv:0000049',\n",
    "     '8 w':'MmusDv:0000052'\n",
    "}).astype('category')"
   ]
  },
  {
   "cell_type": "code",
   "execution_count": 57,
   "id": "dcd37f92",
   "metadata": {},
   "outputs": [],
   "source": [
    "# Disease\n",
    "# Would be best not to annotate disease due to model, disease progression, \n",
    "# treatment, and chem stress\n",
    "obs['disease_ontology_term_id']=obs_a['study_sample_design'].map({\n",
    "     'NOD_elimination_SRR7610298_14w': 'MONDO:0005147',\n",
    "     'NOD_elimination_SRR7610299_14w': 'MONDO:0005147',\n",
    "     'NOD_elimination_SRR7610300_14w': 'MONDO:0005147',\n",
    "     'NOD_elimination_SRR7610301_16w': 'MONDO:0005147',\n",
    "     'NOD_elimination_SRR7610302_16w': 'MONDO:0005147',\n",
    "     'NOD_elimination_SRR7610303_16w': 'MONDO:0005147',\n",
    "     'STZ_G4_STZ_GLP-1': 'MONDO:0005148',\n",
    "     'STZ_G8_STZ_GLP-1_estrogen+insulin': 'MONDO:0005148',\n",
    "     'STZ_G6_STZ_GLP-1_estrogen': 'MONDO:0005148',\n",
    "     'STZ_G2_STZ': 'MONDO:0005148',\n",
    "     'STZ_G5_STZ_estrogen': 'MONDO:0005148',\n",
    "     'STZ_G3_STZ_insulin': 'MONDO:0005148',\n",
    "     'VSG_MUC13631_PF_Lepr-/-': 'MONDO:0005148',\n",
    "     'VSG_MUC13632_PF_Lepr-/-': 'MONDO:0005148',\n",
    "     'VSG_MUC13640_VSG_Lepr-/-': 'MONDO:0005148',\n",
    "     'VSG_MUC13642_VSG_Lepr-/-': 'MONDO:0005148',\n",
    "     'VSG_MUC13639_sham_Lepr-/-': 'MONDO:0005148',\n",
    "     'VSG_MUC13641_sham_Lepr-/-': 'MONDO:0005148',\n",
    "     'spikein_drug_SRR10751503_A10_r1': 'MONDO:0001933',\n",
    "     'spikein_drug_SRR10751508_A10_r2': 'MONDO:0001933',\n",
    "     'spikein_drug_SRR10751513_A10_r3': 'MONDO:0001933',\n",
    "     'spikein_drug_SRR10751502_A1_r1': 'MONDO:0001933',\n",
    "     'spikein_drug_SRR10751507_A1_r2': 'MONDO:0001933',\n",
    "     'spikein_drug_SRR10751512_A1_r3': 'MONDO:0001933',\n",
    "     'spikein_drug_SRR10751505_FOXO_r1': 'MONDO:0001933',\n",
    "     'spikein_drug_SRR10751510_FOXO_r2': 'MONDO:0001933',\n",
    "     'spikein_drug_SRR10751515_FOXO_r3': 'MONDO:0001933',\n",
    "     'spikein_drug_SRR10751506_GABA_r1': 'MONDO:0001933',\n",
    "     'spikein_drug_SRR10751511_GABA_r2': 'MONDO:0001933',\n",
    "     'spikein_drug_SRR10751516_GABA_r3': 'MONDO:0001933'\n",
    "}).fillna('PATO:0000461').astype('category')"
   ]
  },
  {
   "cell_type": "code",
   "execution_count": 242,
   "id": "6b0f8ca9",
   "metadata": {},
   "outputs": [],
   "source": [
    "obs['self_reported_ethnicity_ontology_term_id']='na'\n",
    "obs['self_reported_ethnicity_ontology_term_id']=obs['self_reported_ethnicity_ontology_term_id'].astype('category')"
   ]
  },
  {
   "cell_type": "code",
   "execution_count": 243,
   "id": "c4039641",
   "metadata": {},
   "outputs": [],
   "source": [
    "obs['is_primary_data']=True"
   ]
  },
  {
   "cell_type": "code",
   "execution_count": 17,
   "id": "d4d22934",
   "metadata": {},
   "outputs": [],
   "source": [
    "obs['organism_ontology_term_id']='NCBITaxon:10090'\n",
    "obs['organism_ontology_term_id']=obs['organism_ontology_term_id'].astype('category')"
   ]
  },
  {
   "cell_type": "code",
   "execution_count": 72,
   "id": "f0d48b02",
   "metadata": {},
   "outputs": [],
   "source": [
    "obs['sex_ontology_term_id']=obs_a['sex'].map({\n",
    "    'female':'PATO:0000383',\n",
    "    'male':'PATO:0000384'\n",
    "}).astype('category')\n",
    "# Also add info on sex annotation\n",
    "obs['sex_annotation']=obs_a['study'].map({\n",
    "    'Fltp_2y':'data-driven', \n",
    "    'Fltp_adult':'ground-truth', \n",
    "    'Fltp_P16':'data-driven', \n",
    "    'NOD':'ground-truth', \n",
    "    'NOD_elimination':'ground-truth', \n",
    "    'spikein_drug':'ground-truth', \n",
    "    'embryo':'data-driven', \n",
    "    'VSG':'ground-truth', \n",
    "    'STZ':'ground-truth'\n",
    "})\n",
    "obs['sex_annotation']=obs['sex_annotation'].astype('category')"
   ]
  },
  {
   "cell_type": "code",
   "execution_count": 64,
   "id": "ab7ed144",
   "metadata": {},
   "outputs": [],
   "source": [
    "obs['tissue_ontology_term_id']='UBERON:0000006'\n",
    "obs.loc[obs_a[obs_a.study=='embryo'].index,'tissue_ontology_term_id']='UBERON:0001264'\n",
    "obs['tissue_ontology_term_id']=obs['tissue_ontology_term_id'].astype('category')"
   ]
  },
  {
   "cell_type": "code",
   "execution_count": 10,
   "id": "17f08c1c",
   "metadata": {},
   "outputs": [],
   "source": [
    "obs['donor_id']=obs_a.loc[obs.index,:].apply(\n",
    "    lambda x:'mouse_pancreatic_islet_atlas_Hrovatin__'+x['study']+'__'+x['file'], axis=1)\n",
    "obs['donor_id']=obs['donor_id'].astype('category')"
   ]
  },
  {
   "cell_type": "code",
   "execution_count": 14,
   "id": "6dc6a746",
   "metadata": {},
   "outputs": [],
   "source": [
    "obs['suspension_type']='cell'\n",
    "obs['suspension_type']=obs['suspension_type'].astype('category')"
   ]
  },
  {
   "cell_type": "markdown",
   "id": "beff842a",
   "metadata": {},
   "source": [
    "### Examine the prepared obs"
   ]
  },
  {
   "cell_type": "code",
   "execution_count": 15,
   "id": "f02d9fdb",
   "metadata": {
    "scrolled": true
   },
   "outputs": [
    {
     "name": "stdout",
     "output_type": "stream",
     "text": [
      "\n",
      "************\n",
      "GEO_accession\n",
      "object\n",
      "\n",
      " ['GSE117770', 'GSE128565', 'GSE132188', 'GSE142465 (GSM4228185 - GSM4228199)', 'GSE144471', 'GSE161966', 'GSE174194', 'GSE211795', 'GSE211796']\n",
      "\n",
      "************\n",
      "GP_1\n",
      "float64\n",
      "\n",
      "************\n",
      "GP_10\n",
      "float64\n",
      "\n",
      "************\n",
      "GP_11\n",
      "float64\n",
      "\n",
      "************\n",
      "GP_12\n",
      "float64\n",
      "\n",
      "************\n",
      "GP_13\n",
      "float64\n",
      "\n",
      "************\n",
      "GP_14\n",
      "float64\n",
      "\n",
      "************\n",
      "GP_15\n",
      "float64\n",
      "\n",
      "************\n",
      "GP_16\n",
      "float64\n",
      "\n",
      "************\n",
      "GP_17\n",
      "float64\n",
      "\n",
      "************\n",
      "GP_18\n",
      "float64\n",
      "\n",
      "************\n",
      "GP_19\n",
      "float64\n",
      "\n",
      "************\n",
      "GP_2\n",
      "float64\n",
      "\n",
      "************\n",
      "GP_20\n",
      "float64\n",
      "\n",
      "************\n",
      "GP_21\n",
      "float64\n",
      "\n",
      "************\n",
      "GP_22\n",
      "float64\n",
      "\n",
      "************\n",
      "GP_23\n",
      "float64\n",
      "\n",
      "************\n",
      "GP_24\n",
      "float64\n",
      "\n",
      "************\n",
      "GP_25\n",
      "float64\n",
      "\n",
      "************\n",
      "GP_26\n",
      "float64\n",
      "\n",
      "************\n",
      "GP_27\n",
      "float64\n",
      "\n",
      "************\n",
      "GP_3\n",
      "float64\n",
      "\n",
      "************\n",
      "GP_4\n",
      "float64\n",
      "\n",
      "************\n",
      "GP_5\n",
      "float64\n",
      "\n",
      "************\n",
      "GP_6\n",
      "float64\n",
      "\n",
      "************\n",
      "GP_7\n",
      "float64\n",
      "\n",
      "************\n",
      "GP_8\n",
      "float64\n",
      "\n",
      "************\n",
      "GP_9\n",
      "float64\n",
      "\n",
      "************\n",
      "age\n",
      "object\n",
      "\n",
      " ['12.5 E', '13.5 E', '14 w', '14.5 E', '15.5 E', '16 d', '16 w', '16-18 w', '182 d', '2 y', '2-3 m', '4 m', '5 w', '8 w']\n",
      "\n",
      "************\n",
      "age_approxDays\n",
      "float64\n",
      "\n",
      " ['-5.5', '-6.5', '-7.5', '-8.5', '112.0', '119.0', '120.0', '16.0', '182.0', '35.0', '56.0', '730.0', '75.0', '98.0']\n",
      "\n",
      "************\n",
      "assay_ontology_term_id\n",
      "object\n",
      "\n",
      " ['EFO:0009899', 'EFO:0009922']\n",
      "\n",
      "************\n",
      "batch_integration\n",
      "object\n",
      "\n",
      " ['Fltp_2y_MUC13974', 'Fltp_2y_MUC13975', 'Fltp_2y_MUC13976', 'Fltp_P16_145_mGFP', 'Fltp_P16_146_mRFP', 'Fltp_P16_147_mTmG', 'Fltp_adult_mouse1', 'Fltp_adult_mouse2', 'Fltp_adult_mouse3', 'Fltp_adult_mouse4', 'NOD_SRR10985097', 'NOD_SRR10985098', 'NOD_SRR10985099', 'NOD_elimination_SRR7610295', 'NOD_elimination_SRR7610296', 'NOD_elimination_SRR7610297', 'NOD_elimination_SRR7610298', 'NOD_elimination_SRR7610299', 'NOD_elimination_SRR7610300', 'NOD_elimination_SRR7610301', 'NOD_elimination_SRR7610302', 'NOD_elimination_SRR7610303', 'STZ_G1', 'STZ_G2', 'STZ_G3', 'STZ_G4', 'STZ_G5', 'STZ_G6', 'STZ_G8', 'VSG_MUC13631', 'VSG_MUC13632', 'VSG_MUC13633', 'VSG_MUC13634', 'VSG_MUC13639', 'VSG_MUC13640', 'VSG_MUC13641', 'VSG_MUC13642', 'embryo_E12_5', 'embryo_E13_5', 'embryo_E14_5', 'embryo_E15_5', 'spikein_drug_SRR10751502', 'spikein_drug_SRR10751503', 'spikein_drug_SRR10751504', 'spikein_drug_SRR10751505', 'spikein_drug_SRR10751506', 'spikein_drug_SRR10751507', 'spikein_drug_SRR10751508', 'spikein_drug_SRR10751509', 'spikein_drug_SRR10751510', 'spikein_drug_SRR10751511', 'spikein_drug_SRR10751512', 'spikein_drug_SRR10751513', 'spikein_drug_SRR10751514', 'spikein_drug_SRR10751515', 'spikein_drug_SRR10751516']\n",
      "\n",
      "************\n",
      "cell_cycle_phase\n",
      "object\n",
      "\n",
      " ['G1', 'G2M', 'S']\n",
      "\n",
      "************\n",
      "cell_filtering\n",
      "object\n",
      "\n",
      " [' Ngn3+,EpCam+ ', 'CD45-', 'Fltp+', 'Fltp+_early', 'Fltp+_late', 'Fltp-', 'nan']\n",
      "\n",
      "************\n",
      "cell_subtype_beta_coarse_reannotatedIntegrated\n",
      "object\n",
      "\n",
      " ['NOD-D', 'adult', 'agedF', 'agedM', 'chem', 'db/db+mSTZ', 'imm.', 'lowQ', 'lowQ-hMT', 'nan']\n",
      "\n",
      "************\n",
      "cell_subtype_beta_fine_reannotatedIntegrated\n",
      "object\n",
      "\n",
      " ['D-inter.', 'NOD-D', 'NOD-imm.', 'adult+agedM', 'adult-imm.1', 'adult-imm.2', 'adult1', 'adult2', 'agedF1', 'agedF2', 'chem1', 'chem2', 'chem3', 'db/db+mSTZ', 'db/db-VSG', 'db/db-VSG+lowQ', 'imm.1', 'imm.2', 'imm.3', 'lowQ', 'mSTZ', 'nan']\n",
      "\n",
      "************\n",
      "cell_subtype_endothelial_reannotatedIntegrated\n",
      "object\n",
      "\n",
      " ['capilary', 'lymphatic', 'multiplet', 'nan', 'pericyte-like', 'vein']\n",
      "\n",
      "************\n",
      "cell_subtype_immune_reannotatedIntegrated\n",
      "object\n",
      "\n",
      " ['B', 'B_T_doublet', 'B_cycling', 'DC', 'T', 'T_cycling', 'macrophage_monocyte', 'nan', 'neutrophil', 'plasma', 'plasma_cycling']\n",
      "\n",
      "************\n",
      "cell_type_ontology_term_id\n",
      "object\n",
      "\n",
      " ['CL:0000000', 'CL:0000003', 'CL:0000115', 'CL:0000169', 'CL:0000171', 'CL:0000173', 'CL:0000988', 'CL:0002064', 'CL:0002079', 'CL:0002275', 'CL:0002410', 'CL:0002573', 'CL:0008024']\n",
      "\n",
      "************\n",
      "cell_type_originalDataset\n",
      "object\n",
      "\n",
      " ['10', '11', '13', '3', '4', 'Acinar', 'Alpha', 'Beta', 'Delta', 'Ductal', 'Endothelial', 'Endothelial1', 'Endothelial2', 'Epsilon', 'Fev+ Alpha', 'Fev+ Beta', 'Fev+ Delta', 'Fev+ Epsilon', 'Fev+ Pyy', 'Gamma', 'Gcg', 'Gcg-Ppy_high', 'Gcg-Ppy_low', 'Immune', 'Ins-Ppy', 'Ins-Sst', 'Ins-Sst-Ppy', 'Ins_1', 'Ins_2', 'Ins_dedifferentiated', 'Mat. Acinar', 'Multipotent', 'Ngn3 High early', 'Ngn3 High late', 'Ngn3 low EP', 'PP', 'Polyhormonal', 'Ppy', 'Prlf. Acinar', 'Prlf. Ductal', 'Prlf. Tip', 'Prlf. Trunk', 'Sst-Ppy_low', 'Stellate', 'Tip', 'Trunk', 'acinar/ductal', 'alpha', 'alpha, proliferating', 'alpha-beta', 'alpha-delta', 'beta', 'beta, proliferating', 'beta-delta', 'delta', 'delta, proliferating', 'endothelial', 'epsilon', 'gamma', 'gamma, proliferating', 'immune', 'nan', 'primary Alpha', 'secondary Alpha', 'stellate']\n",
      "\n",
      "************\n",
      "cell_type_originalDataset_unified\n",
      "object\n",
      "\n",
      " ['E EP Ngn3high early', 'E EP Ngn3high late', 'E EP Ngn3low', 'E Fev+ Pyy', 'E Fev+ beta', 'E Fev+ delta', 'E Fev+ epsilon', 'E acinar mature', 'E acinar prolif.', 'E alpha Fev+', 'E alpha primary', 'E alpha secondary', 'E beta', 'E delta', 'E ductal', 'E ductal prolif.', 'E epsilon', 'E multipotent', 'E tip', 'E tip prolif.', 'E trunk', 'E trunk prolif.', 'acinar', 'acinar/ductal', 'alpha', 'alpha prolif.', 'alpha+beta', 'alpha+delta', 'alpha+gamma', 'beta', 'beta prolif.', 'beta+delta', 'beta+delta+gamma', 'beta+gamma', 'delta', 'delta prolif.', 'ductal', 'endothelial', 'epsilon', 'gamma', 'gamma prolif.', 'immune', 'nan', 'polyhormonal', 'stellate']\n",
      "\n",
      "************\n",
      "cell_type_reannotatedIntegrated\n",
      "object\n",
      "\n",
      " ['E endo.', 'E non-endo.', 'acinar', 'alpha', 'alpha+beta', 'alpha+delta', 'beta', 'beta+delta', 'beta+gamma', 'delta', 'delta+gamma', 'ductal', 'endo. prolif.', 'endothelial', 'gamma', 'immune', 'lowQ', 'schwann', 'stellate a.', 'stellate q.']\n",
      "\n",
      "************\n",
      "chemical_stress\n",
      "object\n",
      "\n",
      " ['FoxOinhibitor', 'GABA', 'artemether_10uM', 'artemether_1uM', 'nan']\n",
      "\n",
      "************\n",
      "dataset\n",
      "object\n",
      "\n",
      " ['4m', '5wNOD', '8-16wNOD', 'P16', 'aged', 'chem', 'db/db', 'embryonic', 'mSTZ']\n",
      "\n",
      "************\n",
      "dataset__design__sample\n",
      "object\n",
      "\n",
      " ['4m__head_Fltp+__mouse2', '4m__head_Fltp-__mouse1', '4m__tail_Fltp+__mouse4', '4m__tail_Fltp-__mouse3', '5wNOD__IRE1alphabeta-/-__SRR10985097', '5wNOD__IRE1alphabeta-/-__SRR10985098', '5wNOD__IRE1alphafl/fl__SRR10985099', '8-16wNOD__14w__SRR7610298', '8-16wNOD__14w__SRR7610299', '8-16wNOD__14w__SRR7610300', '8-16wNOD__16w__SRR7610301', '8-16wNOD__16w__SRR7610302', '8-16wNOD__16w__SRR7610303', '8-16wNOD__8w__SRR7610295', '8-16wNOD__8w__SRR7610296', '8-16wNOD__8w__SRR7610297', 'P16__mGFP__145_mGFP', 'P16__mRFP__146_mRFP', 'P16__mTmG__147_mTmG', 'aged__mGFP__MUC13976', 'aged__mRFP__MUC13974', 'aged__mTmG__MUC13975', 'chem__A10_r1__SRR10751503', 'chem__A10_r2__SRR10751508', 'chem__A10_r3__SRR10751513', 'chem__A1_r1__SRR10751502', 'chem__A1_r2__SRR10751507', 'chem__A1_r3__SRR10751512', 'chem__DMSO_r1__SRR10751504', 'chem__DMSO_r2__SRR10751509', 'chem__DMSO_r3__SRR10751514', 'chem__FOXO_r1__SRR10751505', 'chem__FOXO_r2__SRR10751510', 'chem__FOXO_r3__SRR10751515', 'chem__GABA_r1__SRR10751506', 'chem__GABA_r2__SRR10751511', 'chem__GABA_r3__SRR10751516', 'db/db__PF_Lepr-/-__MUC13631', 'db/db__PF_Lepr-/-__MUC13632', 'db/db__VSG_Lepr-/-__MUC13640', 'db/db__VSG_Lepr-/-__MUC13642', 'db/db__chow_WT__MUC13633', 'db/db__chow_WT__MUC13634', 'db/db__sham_Lepr-/-__MUC13639', 'db/db__sham_Lepr-/-__MUC13641', 'embryonic__E12.5__E12_5', 'embryonic__E13.5__E13_5', 'embryonic__E14.5__E14_5', 'embryonic__E15.5__E15_5', 'mSTZ__STZ_GLP-1__G4', 'mSTZ__STZ_GLP-1_estrogen+insulin__G8', 'mSTZ__STZ_GLP-1_estrogen__G6', 'mSTZ__STZ__G2', 'mSTZ__STZ_estrogen__G5', 'mSTZ__STZ_insulin__G3', 'mSTZ__control__G1']\n",
      "\n",
      "************\n",
      "design\n",
      "object\n",
      "\n",
      " ['14w', '16w', '8w', 'A10_r1', 'A10_r2', 'A10_r3', 'A1_r1', 'A1_r2', 'A1_r3', 'DMSO_r1', 'DMSO_r2', 'DMSO_r3', 'E12.5', 'E13.5', 'E14.5', 'E15.5', 'FOXO_r1', 'FOXO_r2', 'FOXO_r3', 'GABA_r1', 'GABA_r2', 'GABA_r3', 'IRE1alphabeta-/-', 'IRE1alphafl/fl', 'PF_Lepr-/-', 'STZ', 'STZ_GLP-1', 'STZ_GLP-1_estrogen', 'STZ_GLP-1_estrogen+insulin', 'STZ_estrogen', 'STZ_insulin', 'VSG_Lepr-/-', 'chow_WT', 'control', 'head_Fltp+', 'head_Fltp-', 'mGFP', 'mRFP', 'mTmG', 'sham_Lepr-/-', 'tail_Fltp+', 'tail_Fltp-']\n",
      "\n",
      "************\n",
      "development_stage_ontology_term_id\n",
      "object\n",
      "\n",
      " ['MmusDv:0000027', 'MmusDv:0000028', 'MmusDv:0000029', 'MmusDv:0000032', 'MmusDv:0000037', 'MmusDv:0000049', 'MmusDv:0000052', 'MmusDv:0000062', 'MmusDv:0000063', 'MmusDv:0000064', 'MmusDv:0000077', 'MmusDv:0000091']\n",
      "\n",
      "************\n",
      "diabetes_model\n",
      "object\n",
      "\n",
      " ['T1D_NOD', 'T1D_NOD_prediabetic', 'T2D_db/db', 'T2D_db/db-treated_PairFeed', 'T2D_db/db-treated_VSG', 'T2D_mSTZ', 'T2D_mSTZ-treated_GLP-1', 'T2D_mSTZ-treated_GLP-1_estrogen', 'T2D_mSTZ-treated_GLP-1_estrogen+insulin', 'T2D_mSTZ-treated_estrogen', 'T2D_mSTZ-treated_insulin', 'nan']\n",
      "\n",
      "************\n",
      "disease_ontology_term_id\n",
      "object\n",
      "\n",
      " ['MONDO:0001933', 'MONDO:0005147', 'MONDO:0005148', 'PATO:0000461']\n",
      "\n",
      "************\n",
      "donor_id\n",
      "category\n"
     ]
    },
    {
     "name": "stdout",
     "output_type": "stream",
     "text": [
      "\n",
      " ['mouse_pancreatic_islet_atlas_Hrovatin__Fltp_2y__MUC13974', 'mouse_pancreatic_islet_atlas_Hrovatin__Fltp_2y__MUC13975', 'mouse_pancreatic_islet_atlas_Hrovatin__Fltp_2y__MUC13976', 'mouse_pancreatic_islet_atlas_Hrovatin__Fltp_P16__145_mGFP', 'mouse_pancreatic_islet_atlas_Hrovatin__Fltp_P16__146_mRFP', 'mouse_pancreatic_islet_atlas_Hrovatin__Fltp_P16__147_mTmG', 'mouse_pancreatic_islet_atlas_Hrovatin__Fltp_adult__mouse1', 'mouse_pancreatic_islet_atlas_Hrovatin__Fltp_adult__mouse2', 'mouse_pancreatic_islet_atlas_Hrovatin__Fltp_adult__mouse3', 'mouse_pancreatic_islet_atlas_Hrovatin__Fltp_adult__mouse4', 'mouse_pancreatic_islet_atlas_Hrovatin__NOD__SRR10985097', 'mouse_pancreatic_islet_atlas_Hrovatin__NOD__SRR10985098', 'mouse_pancreatic_islet_atlas_Hrovatin__NOD__SRR10985099', 'mouse_pancreatic_islet_atlas_Hrovatin__NOD_elimination__SRR7610295', 'mouse_pancreatic_islet_atlas_Hrovatin__NOD_elimination__SRR7610296', 'mouse_pancreatic_islet_atlas_Hrovatin__NOD_elimination__SRR7610297', 'mouse_pancreatic_islet_atlas_Hrovatin__NOD_elimination__SRR7610298', 'mouse_pancreatic_islet_atlas_Hrovatin__NOD_elimination__SRR7610299', 'mouse_pancreatic_islet_atlas_Hrovatin__NOD_elimination__SRR7610300', 'mouse_pancreatic_islet_atlas_Hrovatin__NOD_elimination__SRR7610301', 'mouse_pancreatic_islet_atlas_Hrovatin__NOD_elimination__SRR7610302', 'mouse_pancreatic_islet_atlas_Hrovatin__NOD_elimination__SRR7610303', 'mouse_pancreatic_islet_atlas_Hrovatin__STZ__G1', 'mouse_pancreatic_islet_atlas_Hrovatin__STZ__G2', 'mouse_pancreatic_islet_atlas_Hrovatin__STZ__G3', 'mouse_pancreatic_islet_atlas_Hrovatin__STZ__G4', 'mouse_pancreatic_islet_atlas_Hrovatin__STZ__G5', 'mouse_pancreatic_islet_atlas_Hrovatin__STZ__G6', 'mouse_pancreatic_islet_atlas_Hrovatin__STZ__G8', 'mouse_pancreatic_islet_atlas_Hrovatin__VSG__MUC13631', 'mouse_pancreatic_islet_atlas_Hrovatin__VSG__MUC13632', 'mouse_pancreatic_islet_atlas_Hrovatin__VSG__MUC13633', 'mouse_pancreatic_islet_atlas_Hrovatin__VSG__MUC13634', 'mouse_pancreatic_islet_atlas_Hrovatin__VSG__MUC13639', 'mouse_pancreatic_islet_atlas_Hrovatin__VSG__MUC13640', 'mouse_pancreatic_islet_atlas_Hrovatin__VSG__MUC13641', 'mouse_pancreatic_islet_atlas_Hrovatin__VSG__MUC13642', 'mouse_pancreatic_islet_atlas_Hrovatin__embryo__E12_5', 'mouse_pancreatic_islet_atlas_Hrovatin__embryo__E13_5', 'mouse_pancreatic_islet_atlas_Hrovatin__embryo__E14_5', 'mouse_pancreatic_islet_atlas_Hrovatin__embryo__E15_5', 'mouse_pancreatic_islet_atlas_Hrovatin__spikein_drug__SRR10751502', 'mouse_pancreatic_islet_atlas_Hrovatin__spikein_drug__SRR10751503', 'mouse_pancreatic_islet_atlas_Hrovatin__spikein_drug__SRR10751504', 'mouse_pancreatic_islet_atlas_Hrovatin__spikein_drug__SRR10751505', 'mouse_pancreatic_islet_atlas_Hrovatin__spikein_drug__SRR10751506', 'mouse_pancreatic_islet_atlas_Hrovatin__spikein_drug__SRR10751507', 'mouse_pancreatic_islet_atlas_Hrovatin__spikein_drug__SRR10751508', 'mouse_pancreatic_islet_atlas_Hrovatin__spikein_drug__SRR10751509', 'mouse_pancreatic_islet_atlas_Hrovatin__spikein_drug__SRR10751510', 'mouse_pancreatic_islet_atlas_Hrovatin__spikein_drug__SRR10751511', 'mouse_pancreatic_islet_atlas_Hrovatin__spikein_drug__SRR10751512', 'mouse_pancreatic_islet_atlas_Hrovatin__spikein_drug__SRR10751513', 'mouse_pancreatic_islet_atlas_Hrovatin__spikein_drug__SRR10751514', 'mouse_pancreatic_islet_atlas_Hrovatin__spikein_drug__SRR10751515', 'mouse_pancreatic_islet_atlas_Hrovatin__spikein_drug__SRR10751516']\n",
      "\n",
      "************\n",
      "doublet_score\n",
      "float64\n",
      "\n",
      "************\n",
      "emptyDrops_LogProb_scaled\n",
      "float64\n",
      "\n",
      "************\n",
      "gcg_high\n",
      "bool\n",
      "\n",
      " ['False', 'True']\n",
      "\n",
      "************\n",
      "ins_high\n",
      "bool\n",
      "\n",
      " ['False', 'True']\n",
      "\n",
      "************\n",
      "is_primary_data\n",
      "bool\n",
      "\n",
      " ['True']\n",
      "\n",
      "************\n",
      "log10_n_counts\n",
      "float64\n",
      "\n",
      "************\n",
      "low_q\n",
      "bool\n",
      "\n",
      " ['False', 'True']\n",
      "\n",
      "************\n",
      "mt_frac\n",
      "float64\n",
      "\n",
      "************\n",
      "n_genes\n",
      "float64\n",
      "\n",
      "************\n",
      "organism_ontology_term_id\n",
      "object\n",
      "\n",
      " ['NCBITaxon:10090']\n",
      "\n",
      "************\n",
      "ppy_high\n",
      "bool\n",
      "\n",
      " ['False', 'True']\n",
      "\n",
      "************\n",
      "self_reported_ethnicity_ontology_term_id\n",
      "object\n",
      "\n",
      " ['na']\n",
      "\n",
      "************\n",
      "sex_annotation\n",
      "object\n",
      "\n",
      " ['data-driven', 'ground-truth']\n",
      "\n",
      "************\n",
      "sex_ontology_term_id\n",
      "object\n",
      "\n",
      " ['PATO:0000383', 'PATO:0000384']\n",
      "\n",
      "************\n",
      "sst_high\n",
      "bool\n",
      "\n",
      " ['False', 'True']\n",
      "\n",
      "************\n",
      "strain\n",
      "object\n",
      "\n",
      " ['129SV', 'BKSCg-Dock7m+/+Leprdb/J;WT', 'BKSCg-Dock7m+/+Leprdb/J;db/db', 'C57BL/6J', 'C57BL/6J; Fltp ZV (Het)', 'C57BL/6J; Fltp iCre; mTmG', 'C57BL/6J×129/SvJ; Ngn3-Venus fusion', 'NOD/ShiLtJ', 'NOD/ShiLtJ;IRE1alphabeta-/-', 'NOD/ShiLtJ;IRE1alphafl/fl']\n",
      "\n",
      "************\n",
      "suspension_type\n",
      "category\n",
      "\n",
      " ['cell']\n",
      "\n",
      "************\n",
      "tissue_ontology_term_id\n",
      "object\n",
      "\n",
      " ['UBERON:0000006', 'UBERON:0001264']\n"
     ]
    }
   ],
   "source": [
    "# List columns and their content\n",
    "for col in sorted(obs.columns):\n",
    "    print('\\n************')\n",
    "    print(col)\n",
    "    print(obs[col].dtype)\n",
    "    if obs[col].nunique()<100:\n",
    "        print('\\n',sorted(obs[col].astype(str).unique()))"
   ]
  },
  {
   "cell_type": "markdown",
   "id": "ffdd84fa",
   "metadata": {},
   "source": [
    "### Save"
   ]
  },
  {
   "cell_type": "code",
   "execution_count": 16,
   "id": "e26db093",
   "metadata": {},
   "outputs": [],
   "source": [
    "obs.to_csv(path_save+'obs.tsv',sep='\\t')"
   ]
  },
  {
   "cell_type": "markdown",
   "id": "5ab71c4a",
   "metadata": {},
   "source": [
    "## Prepare adata X, var, and obsm"
   ]
  },
  {
   "cell_type": "code",
   "execution_count": 6,
   "id": "6c31f6b0",
   "metadata": {
    "lines_to_next_cell": 2
   },
   "outputs": [],
   "source": [
    "data_study=[\n",
    "  ('Fltp_2y','/lustre/groups/ml01/workspace/karin.hrovatin/data/pancreas/scRNA/islets_aged_fltp_iCre/rev6/'),\n",
    "  ('Fltp_adult','/lustre/groups/ml01/workspace/karin.hrovatin/data/pancreas/scRNA/islet_fltp_headtail/rev4/'),\n",
    "  ('Fltp_P16','/lustre/groups/ml01/workspace/karin.hrovatin/data/pancreas/scRNA/salinno_project/rev4/'),\n",
    "  ('NOD','/lustre/groups/ml01/workspace/karin.hrovatin/data/pancreas/scRNA/GSE144471/'),\n",
    "  ('NOD_elimination','/lustre/groups/ml01/workspace/karin.hrovatin/data/pancreas/scRNA/GSE117770/'),\n",
    "  ('spikein_drug','/lustre/groups/ml01/workspace/karin.hrovatin/data/pancreas/scRNA/GSE142465/'),\n",
    "  ('embryo','/lustre/groups/ml01/workspace/karin.hrovatin/data/pancreas/scRNA/GSE132188/rev7/'),\n",
    "  ('VSG','/lustre/groups/ml01/workspace/karin.hrovatin/data/pancreas/scRNA/VSG_PF_WT_cohort/rev7/'),\n",
    "  ('STZ','/lustre/groups/ml01/workspace/karin.hrovatin/data/pancreas/scRNA/islet_glpest_lickert/rev7/')\n",
    "]"
   ]
  },
  {
   "cell_type": "code",
   "execution_count": 7,
   "id": "6af9e903",
   "metadata": {},
   "outputs": [],
   "source": [
    "genes_anno=pd.read_table('/lustre/groups/ml01/workspace/karin.hrovatin/data/pancreas/gene_lists/genomeAnno_ORG'+\\\n",
    "    'mus_musculus_V103.tsv',index_col=0)"
   ]
  },
  {
   "cell_type": "code",
   "execution_count": 8,
   "id": "00d5bf70",
   "metadata": {},
   "outputs": [
    {
     "name": "stdout",
     "output_type": "stream",
     "text": [
      "Fltp_2y\n",
      "(17361, 31129)\n",
      "Shape of valid symbols (17361, 31125)\n",
      "Fltp_adult\n",
      "(17353, 31127)\n",
      "Shape of valid symbols (17353, 31125)\n",
      "Fltp_P16\n",
      "(19881, 31129)\n",
      "Shape of valid symbols (19881, 31125)\n",
      "NOD\n",
      "(2690, 31257)\n",
      "Shape of valid symbols (2690, 31253)\n",
      "NOD_elimination\n",
      "(54329, 31257)\n",
      "Shape of valid symbols (54329, 31253)\n",
      "spikein_drug\n",
      "(33331, 31257)\n",
      "Shape of valid symbols (33331, 31253)\n",
      "embryo\n",
      "(37561, 31257)\n",
      "Shape of valid symbols (37561, 31253)\n",
      "VSG\n",
      "(69745, 31125)\n",
      "Shape of valid symbols (69745, 31125)\n",
      "STZ\n",
      "(49545, 31253)\n",
      "Shape of valid symbols (49545, 31253)\n",
      "Full: (301796, 31706)\n",
      "N all genes: 31706\n"
     ]
    },
    {
     "data": {
      "text/plain": [
       "1586"
      ]
     },
     "execution_count": 8,
     "metadata": {},
     "output_type": "execute_result"
    }
   ],
   "source": [
    "# Load all raw adatas\n",
    "adatas={}\n",
    "genes_study={}\n",
    "for study,path in data_study:\n",
    "    print(study)\n",
    "    adata_sub=sc.read(path+'data_normlisedForIntegration.h5ad').raw.to_adata()\n",
    "    print(adata_sub.shape)\n",
    "    # Map symbols to EIDs\n",
    "    genes_anno_sub=genes_anno.copy()\n",
    "    genes_anno_sub['EID']=genes_anno_sub.index\n",
    "    # make sure no nan symbols (not really expected)\n",
    "    if adata_sub.var_names.isna().any():\n",
    "        raise ValueError('Some var names are na')\n",
    "    # map symbols to eids based on per-study map (accounting for modified symbols in adata)\n",
    "    genes_anno_sub.index=genes_anno_sub['gene_symbol_'+study]\n",
    "    eid_symbols=set(genes_anno_sub.index)\n",
    "    eid_vars=[v for v in adata_sub.var_names if v in eid_symbols]\n",
    "    adata_sub=adata_sub[:,eid_vars]\n",
    "    print('Shape of valid symbols',adata_sub.shape)\n",
    "    adata_sub.var_names=genes_anno_sub.loc[adata_sub.var_names,'EID']\n",
    "    # Genes present in adata\n",
    "    genes_study[study]=set(adata_sub.var_names)\n",
    "    # Save adata\n",
    "    adatas[study]=adata_sub\n",
    "# Join adata objects\n",
    "adata = sc.concat( adatas,   join='outer',index_unique='-')\n",
    "print('Full:',adata.shape)\n",
    "print('N all genes:',len(set().union(*genes_study.values())))\n",
    "\n",
    "del adatas\n",
    "del adata_sub\n",
    "gc.collect()"
   ]
  },
  {
   "cell_type": "code",
   "execution_count": 10,
   "id": "e8f03048",
   "metadata": {},
   "outputs": [],
   "source": [
    "# Which gene is present in which study\n",
    "for study,genes in genes_study.items():\n",
    "    adata.var.loc[genes,'present_'+study]=True\n",
    "    adata.var['present_'+study].fillna(False,inplace=True)"
   ]
  },
  {
   "cell_type": "code",
   "execution_count": 11,
   "id": "37cceb93",
   "metadata": {},
   "outputs": [
    {
     "name": "stdout",
     "output_type": "stream",
     "text": [
      "N intersecting genes: 30672\n"
     ]
    },
    {
     "name": "stderr",
     "output_type": "stream",
     "text": [
      "/home/icb/karin.hrovatin/miniconda3/envs/rpy2_3/lib/python3.8/site-packages/scipy/sparse/_index.py:125: SparseEfficiencyWarning: Changing the sparsity structure of a csr_matrix is expensive. lil_matrix is more efficient.\n",
      "  self._set_arrayXarray(i, j, x)\n"
     ]
    }
   ],
   "source": [
    "# Filter out features not present in all adatas (keep in raw)\n",
    "adata.raw=adata.copy()\n",
    "# Set filtered genes to 0\n",
    "genes_intersect=set.intersection(*genes_study.values())\n",
    "print(\"N intersecting genes:\",len(genes_intersect))\n",
    "adata.var['feature_is_filtered']=[g not in genes_intersect for g in adata.var_names]\n",
    "adata[:,adata.var['feature_is_filtered']].X=0"
   ]
  },
  {
   "cell_type": "code",
   "execution_count": 12,
   "id": "49d3a146",
   "metadata": {},
   "outputs": [],
   "source": [
    "# Normalize X\n",
    "adata.obs['size_factors_integrated']=obs_a.loc[adata.obs_names,'size_factors_integrated']\n",
    "adata=h.get_rawnormalised(adata,sf_col='size_factors_integrated',\n",
    "                    use_log=True,save_nonlog=False, use_raw=False)\n",
    "del adata.uns['log1p']"
   ]
  },
  {
   "cell_type": "code",
   "execution_count": 13,
   "id": "5f1a3578",
   "metadata": {},
   "outputs": [],
   "source": [
    "# Add obsm\n",
    "adata.obsm['X_integrated_umap']=sc.read(path_data+'data_integrated_analysed.h5ad',\n",
    "                                        backed='r')[adata.obs_names,:].obsm['X_umap']"
   ]
  },
  {
   "cell_type": "code",
   "execution_count": 14,
   "id": "b8aa18fa",
   "metadata": {},
   "outputs": [
    {
     "data": {
      "text/plain": [
       "818"
      ]
     },
     "execution_count": 14,
     "metadata": {},
     "output_type": "execute_result"
    }
   ],
   "source": [
    "# Addd obsm of beta cells only\n",
    "adata_temp=sc.read(path_data+'data_rawnorm_integrated_analysed_beta_v1s1_sfintegrated.h5ad',\n",
    "                   backed='r')\n",
    "embed=pd.DataFrame(adata_temp.obsm['X_umap_opt'],index=adata_temp.obs_names\n",
    "                  ).reindex(adata.obs_names)\n",
    "adata.obsm['X_integrated_umap_beta']=embed.values\n",
    "del adata_temp\n",
    "gc.collect()"
   ]
  },
  {
   "cell_type": "markdown",
   "id": "6b692fd6",
   "metadata": {},
   "source": [
    "## Add obs to adata"
   ]
  },
  {
   "cell_type": "code",
   "execution_count": 15,
   "id": "daa78d26",
   "metadata": {},
   "outputs": [],
   "source": [
    "# reload obs\n",
    "obs=pd.read_table(path_save+'obs.tsv',index_col=0)"
   ]
  },
  {
   "cell_type": "code",
   "execution_count": 16,
   "id": "0c4d663e",
   "metadata": {},
   "outputs": [],
   "source": [
    "# Add to adta\n",
    "adata.obs=obs.loc[adata.obs_names,:]"
   ]
  },
  {
   "cell_type": "markdown",
   "id": "634c11d6",
   "metadata": {},
   "source": [
    "## Prepare uns"
   ]
  },
  {
   "cell_type": "code",
   "execution_count": 37,
   "id": "7e523175",
   "metadata": {},
   "outputs": [],
   "source": [
    "adata.uns['schema_version']=\"3.0.0\""
   ]
  },
  {
   "cell_type": "code",
   "execution_count": 18,
   "id": "5724ef74",
   "metadata": {},
   "outputs": [],
   "source": [
    "adata.uns['title']='Mouse pancreatic islet scRNA-seq atlas across sexes, ages, and stress conditions including diabetes'"
   ]
  },
  {
   "cell_type": "code",
   "execution_count": 20,
   "id": "b29d5204",
   "metadata": {},
   "outputs": [],
   "source": [
    "adata.uns['batch_condition']=['batch_integration']"
   ]
  },
  {
   "cell_type": "code",
   "execution_count": 21,
   "id": "1076b9dd",
   "metadata": {},
   "outputs": [],
   "source": [
    "adata.uns['default_embedding']='X_integrated_umap'"
   ]
  },
  {
   "cell_type": "code",
   "execution_count": 22,
   "id": "561d7116",
   "metadata": {},
   "outputs": [],
   "source": [
    "# Description of individual columns\n",
    "adata.uns['field_descriptions']={\n",
    "    'obs':{\n",
    "         'GEO_accession':'GEO accession of each dataset',\n",
    "         'GP_*':'Gene program (GP) activity score in beta cells.'+\\\n",
    "                'We collected genes variable across beta cell atlas subset '+\\\n",
    "                'and clustered them into GPs based on their co-expression.',\n",
    "         'age':\"Age as defined in original publication, E - embryonic days, \"+\\\n",
    "                \"d - postnatal days, m - postnatal months, y - postnatal years\",\n",
    "         'age_approxDays':\"Approximate mapping of age column to days for \"+\\\n",
    "                \"the purpose of visualisation\",\n",
    "         'batch_integration':'Batch used for integration',\n",
    "         'cell_cycle_phase':'Phase of cell cycle (cyclone)',\n",
    "         'cell_filtering':\"FACS sorting\",\n",
    "         'cell_subtype_beta_coarse_reannotatedIntegrated':'Beta cell subtype '+\\\n",
    "                'reannotation on integrated atlas. Coarse annotation based on '+\\\n",
    "                'metadata information. Abbreviations: NOD-D - NOD diabetic, M/F - male/female, '+\\\n",
    "                'chem - chem dataset, imm. - immature, lowQ - low quality, '+\\\n",
    "                'hMT - high mitochondrial fraction',\n",
    "         'cell_subtype_beta_fine_reannotatedIntegrated':'Beta cell subtype reannotation on '+\\\n",
    "                'integrated atlas. Fine annotation aimed at capturing all biollogically '+\\\n",
    "                'distinct beta cell subtypes (assesed based on gene program activity patterns).' +\\\n",
    "                'Abbreviations: D-inter. - diabetic intermediate, NOD-D - NOD diabetic, '+\\\n",
    "                'M/F - male/female, chem - chem dataset, imm. - immature, lowQ - low quality.',\n",
    "         'cell_subtype_endothelial_reannotatedIntegrated':'Endothelial cell subtype '+\\\n",
    "                'reannotation on integrated atlas based on known markers',\n",
    "         'cell_subtype_immune_reannotatedIntegrated':'Immune cell subtype reannotation on '+\\\n",
    "                'integrated atlas based on known markers',\n",
    "         'cell_type_originalDataset':\"Cell types as reported in the studies that generated \"+\\\n",
    "                \"the datasets\",\n",
    "         'cell_type_originalDataset_unified':\"Cell types as reported in the studies that \"+\\\n",
    "                \"generated the datasets; manually unified to a common naming scheme. \"+\\\n",
    "                'Abberviations: E - embryonic, EP - endocrine progenitor/precursor, '+\\\n",
    "                'Fev+ - Fev positive, prolif. - proliferative, \"+\"\" symbol - likely doublet',\n",
    "         'cell_type_reannotatedIntegrated':'Cell type reannotation on integrated atlas. '+\\\n",
    "                'Abbreviations: E - embryonic, endo. - endocrine, \"+\"\" symbol - likely doublet, '+\\\n",
    "                'prolif. - proliferative, lowQ - low quality, '+\\\n",
    "                'stellate a./q. - stellate activated/quiescent',\n",
    "         'chemical_stress':'Application of chemicals to islets',\n",
    "         'dataset':'Dataset comprised of multiple samples that were generated/published together',\n",
    "         'dataset__design__sample':'Concatentation of multiple columns with sample information',\n",
    "         'design':'Brief sample description that gives information on differences '+\\\n",
    "                'between samples within dataset',\n",
    "         'diabetes_model':'Diabetes model and any diabetes treatment',\n",
    "         'doublet_score':'Scrublet doublet scores computed per sample; '+\\\n",
    "                'higher - more likely doublet',\n",
    "         'emptyDrops_LogProb_scaled':'Log probability that droplet is empty computed '+\\\n",
    "                'per sample with emptyDrops and scaled to [0,1] per sample; '+\\\n",
    "                'higher - more likely empty droplet',\n",
    "         '*_high':'Do cells have high expression of the given hormone (ins, gsg, sst, ppy)'+\\\n",
    "                ', determined per sample',\n",
    "         'log10_n_counts':'log10(N counts)',\n",
    "         'low_q':'True for cells asigned to low quality clusters',\n",
    "         'mt_frac':'Fraction of mitochondrial genes expression',\n",
    "         'n_genes':'Number of expressed genes',\n",
    "         'sample':'Technical sample, in some cases equal to biological sample',\n",
    "         'sex_annotation':'Was sex known from sample metadata (ground-truth) or '+\\\n",
    "                'was it determined bsed on Y-chromosomal gene expression (data-driven)',\n",
    "         'strain':'Mouse strain and genetic background',\n",
    "         'donor_id':'This is ID of a sample and not donor. Some samples were pooled '+\\\n",
    "                 'accross animals.',\n",
    "    },\n",
    "    'var':{\n",
    "        'present_*':'Was gene present in the genome version used for count matrix generation '+\\\n",
    "                'of given dataset',\n",
    "    },\n",
    "    'obsm':{\n",
    "        'X_integrated_umap':'UMAP computed on integrated embedding', \n",
    "        'X_integrated_umap_beta':'UMAP computed on integrated embedding of beta cell subset'\n",
    "    },\n",
    "    'X':{\n",
    "        'X_normalization':'Joint scran normalisation on integrated embedding followed'+\\\n",
    "                'by log(expr+1) transformation',\n",
    "    }\n",
    "}"
   ]
  },
  {
   "cell_type": "markdown",
   "id": "95c7c76e",
   "metadata": {},
   "source": [
    "## Cell ordering\n",
    "Randomly order cells to improve plotting"
   ]
  },
  {
   "cell_type": "code",
   "execution_count": 23,
   "id": "15cbde77",
   "metadata": {},
   "outputs": [],
   "source": [
    "random_indices=np.random.permutation(list(range(adata.shape[0])))\n",
    "adata=adata[random_indices,:]"
   ]
  },
  {
   "cell_type": "markdown",
   "id": "af4f66ac",
   "metadata": {},
   "source": [
    "## Save"
   ]
  },
  {
   "cell_type": "code",
   "execution_count": 30,
   "id": "7b755035",
   "metadata": {},
   "outputs": [
    {
     "data": {
      "text/plain": [
       "AnnData object with n_obs × n_vars = 301796 × 31706\n",
       "    obs: 'batch_integration', 'dataset', 'design', 'cell_cycle_phase', 'ins_high', 'gcg_high', 'sst_high', 'ppy_high', 'cell_filtering', 'strain', 'age', 'cell_type_originalDataset_unified', 'cell_type_originalDataset', 'cell_type_reannotatedIntegrated', 'n_genes', 'mt_frac', 'doublet_score', 'log10_n_counts', 'age_approxDays', 'dataset__design__sample', 'cell_subtype_immune_reannotatedIntegrated', 'cell_subtype_endothelial_reannotatedIntegrated', 'emptyDrops_LogProb_scaled', 'cell_subtype_beta_coarse_reannotatedIntegrated', 'cell_subtype_beta_fine_reannotatedIntegrated', 'GP_1', 'GP_2', 'GP_3', 'GP_4', 'GP_5', 'GP_6', 'GP_7', 'GP_8', 'GP_9', 'GP_10', 'GP_11', 'GP_12', 'GP_13', 'GP_14', 'GP_15', 'GP_16', 'GP_17', 'GP_18', 'GP_19', 'GP_20', 'GP_21', 'GP_22', 'GP_23', 'GP_24', 'GP_25', 'GP_26', 'GP_27', 'assay_ontology_term_id', 'cell_type_ontology_term_id', 'development_stage_ontology_term_id', 'diabetes_model', 'chemical_stress', 'GEO_accession', 'disease_ontology_term_id', 'self_reported_ethnicity_ontology_term_id', 'is_primary_data', 'organism_ontology_term_id', 'sex_ontology_term_id', 'sex_annotation', 'tissue_ontology_term_id', 'low_q', 'donor_id', 'suspension_type'\n",
       "    var: 'present_Fltp_2y', 'present_Fltp_adult', 'present_Fltp_P16', 'present_NOD', 'present_NOD_elimination', 'present_spikein_drug', 'present_embryo', 'present_VSG', 'present_STZ', 'feature_is_filtered'\n",
       "    uns: 'schema_version', 'title', 'batch_condition', 'default_embedding', 'field_descriptions'\n",
       "    obsm: 'X_integrated_umap', 'X_integrated_umap_beta'"
      ]
     },
     "execution_count": 30,
     "metadata": {},
     "output_type": "execute_result"
    }
   ],
   "source": [
    "adata"
   ]
  },
  {
   "cell_type": "code",
   "execution_count": 38,
   "id": "7418d157",
   "metadata": {
    "scrolled": true
   },
   "outputs": [],
   "source": [
    "adata.write(path_save+'adata.h5ad')"
   ]
  },
  {
   "cell_type": "code",
   "execution_count": 39,
   "id": "61c6391f",
   "metadata": {},
   "outputs": [
    {
     "data": {
      "text/plain": [
       "'/lustre/groups/ml01/workspace/karin.hrovatin/data/pancreas/scRNA/combined/submission/cellxgene/adata.h5ad'"
      ]
     },
     "execution_count": 39,
     "metadata": {},
     "output_type": "execute_result"
    }
   ],
   "source": [
    "path_save+'adata.h5ad'"
   ]
  },
  {
   "cell_type": "markdown",
   "id": "80f01a9a",
   "metadata": {},
   "source": [
    "## Remove genes not in cellxgene genome version"
   ]
  },
  {
   "cell_type": "raw",
   "id": "60b44161",
   "metadata": {},
   "source": [
    "In terminal:\n",
    "conda activate cellxgene # env with cellxgene formatting package\n",
    "cd /lustre/groups/ml01/workspace/karin.hrovatin/data/pancreas/scRNA/combined/submission/cellxgene\n",
    "cellxgene-schema validate adata.h5ad\n",
    "\n",
    "# Get invalid genes (saved to file)\n",
    "cellxgene-schema validate adata.h5ad &> invalid_eids.txt\n",
    "cat invalid_eids.txt |grep \"is not a valid feature ID in\" > invalid_eids.txt"
   ]
  },
  {
   "cell_type": "code",
   "execution_count": 41,
   "id": "d7d796bc",
   "metadata": {},
   "outputs": [],
   "source": [
    "# Eids not accepted by cellxgene\n",
    "invalid_eids=pd.read_table(path_save+'invalid_eids.txt',sep=' ',header=None,usecols=[1,9],\n",
    "                           quotechar=\"'\")\n",
    "invalid_eids.columns=['eid','obj']"
   ]
  },
  {
   "cell_type": "code",
   "execution_count": 42,
   "id": "5810b23a",
   "metadata": {},
   "outputs": [],
   "source": [
    "# Invalid eids should be the same for var and raw.var\n",
    "if not all(invalid_eids.query('obj==\"var.\"')['eid'].values==\\\n",
    "    invalid_eids.query('obj==\"raw.var.\"')['eid'].values):\n",
    "    raise ValueError('Genes to be removed not same in var and raw.var')\n",
    "if not all(adata.var_names==adata.raw.var_names):\n",
    "    raise ValueError('Var and raw.var not matching')"
   ]
  },
  {
   "cell_type": "code",
   "execution_count": 44,
   "id": "3fc3efdb",
   "metadata": {},
   "outputs": [
    {
     "name": "stdout",
     "output_type": "stream",
     "text": [
      "N eids to remove: 372\n",
      "adata (301796, 31334) raw (301796, 31334)\n"
     ]
    }
   ],
   "source": [
    "# Removes unacceptable genes\n",
    "# Assumes the same in var and raw.var (checked above) reported as err and present in adata\n",
    "eids_remove=set(invalid_eids['eid'].unique())\n",
    "print(\"N eids to remove:\",len(eids_remove))\n",
    "eids_keep=[e for e in adata.var_names if e not in eids_remove]\n",
    "# remove from adata\n",
    "adata_filtered=adata[:,eids_keep].copy()\n",
    "adata_filtered.raw=adata.raw.to_adata()[:,eids_keep].copy()\n",
    "print('adata',adata_filtered.shape,'raw',adata_filtered.raw.shape)"
   ]
  },
  {
   "cell_type": "markdown",
   "id": "47935d6f",
   "metadata": {},
   "source": [
    "#### Save filtered adata"
   ]
  },
  {
   "cell_type": "code",
   "execution_count": 45,
   "id": "4d013914",
   "metadata": {},
   "outputs": [
    {
     "data": {
      "text/plain": [
       "AnnData object with n_obs × n_vars = 301796 × 31334\n",
       "    obs: 'batch_integration', 'dataset', 'design', 'cell_cycle_phase', 'ins_high', 'gcg_high', 'sst_high', 'ppy_high', 'cell_filtering', 'strain', 'age', 'cell_type_originalDataset_unified', 'cell_type_originalDataset', 'cell_type_reannotatedIntegrated', 'n_genes', 'mt_frac', 'doublet_score', 'log10_n_counts', 'age_approxDays', 'dataset__design__sample', 'cell_subtype_immune_reannotatedIntegrated', 'cell_subtype_endothelial_reannotatedIntegrated', 'emptyDrops_LogProb_scaled', 'cell_subtype_beta_coarse_reannotatedIntegrated', 'cell_subtype_beta_fine_reannotatedIntegrated', 'GP_1', 'GP_2', 'GP_3', 'GP_4', 'GP_5', 'GP_6', 'GP_7', 'GP_8', 'GP_9', 'GP_10', 'GP_11', 'GP_12', 'GP_13', 'GP_14', 'GP_15', 'GP_16', 'GP_17', 'GP_18', 'GP_19', 'GP_20', 'GP_21', 'GP_22', 'GP_23', 'GP_24', 'GP_25', 'GP_26', 'GP_27', 'assay_ontology_term_id', 'cell_type_ontology_term_id', 'development_stage_ontology_term_id', 'diabetes_model', 'chemical_stress', 'GEO_accession', 'disease_ontology_term_id', 'self_reported_ethnicity_ontology_term_id', 'is_primary_data', 'organism_ontology_term_id', 'sex_ontology_term_id', 'sex_annotation', 'tissue_ontology_term_id', 'low_q', 'donor_id', 'suspension_type'\n",
       "    var: 'present_Fltp_2y', 'present_Fltp_adult', 'present_Fltp_P16', 'present_NOD', 'present_NOD_elimination', 'present_spikein_drug', 'present_embryo', 'present_VSG', 'present_STZ', 'feature_is_filtered'\n",
       "    uns: 'schema_version', 'title', 'batch_condition', 'default_embedding', 'field_descriptions'\n",
       "    obsm: 'X_integrated_umap', 'X_integrated_umap_beta'"
      ]
     },
     "execution_count": 45,
     "metadata": {},
     "output_type": "execute_result"
    }
   ],
   "source": [
    "adata_filtered"
   ]
  },
  {
   "cell_type": "code",
   "execution_count": 46,
   "id": "564a07b1",
   "metadata": {},
   "outputs": [],
   "source": [
    "adata_filtered.write(path_save+'adata_filtered.h5ad')"
   ]
  },
  {
   "cell_type": "markdown",
   "id": "d23c04d6",
   "metadata": {},
   "source": [
    "### Validation of final object"
   ]
  },
  {
   "cell_type": "raw",
   "id": "df82dff4",
   "metadata": {},
   "source": [
    "In terminal:\n",
    "conda activate cellxgene\n",
    "cd /lustre/groups/ml01/workspace/karin.hrovatin/data/pancreas/scRNA/combined/submission/cellxgene\n",
    "cellxgene-schema validate adata_filtered.h5ad"
   ]
  },
  {
   "cell_type": "markdown",
   "id": "8eaa4f0c",
   "metadata": {},
   "source": [
    "## Other info\n",
    "\n",
    "- Title: Mouse pancreatic islet scRNA-seq atlas across sexes, ages, and stress conditions including diabetes\n",
    "- Description: To better understand pancreatic β-cell heterogeneity we generated a mouse pancreatic islet atlas capturing a wide range of biological conditions. The atlas contains scRNA-seq datasets of over 300,000 mouse pancreatic islet cells, of which more than 100,000 are β-cells, from nine datasets with 56 samples, including two previously unpublished datasets. The samples vary in sex, age (ranging from embryonic to aged), chemical stress, and disease status (including T1D NOD model development and two T2D models, mSTZ and db/db) together with different diabetes treatments. Additional information about data fields is availiable in adata uns field 'field_descriptions'.\n",
    "- Contact: Karin Hrovatin, karin.hrovatin@helmholtz-muenchen.de\n",
    "- Publication/preprint DOI: TBD\n",
    "- URLs: \n",
    "    - GitHub: https://github.com/theislab/mm_pancreas_atlas_rep/\n",
    "    - GEO: GSE211799"
   ]
  },
  {
   "cell_type": "code",
   "execution_count": null,
   "id": "b50d99e6",
   "metadata": {},
   "outputs": [],
   "source": []
  }
 ],
 "metadata": {
  "jupytext": {
   "encoding": "# -*- coding: utf-8 -*-",
   "formats": "ipynb,py:percent"
  },
  "kernelspec": {
   "display_name": "cellxgene",
   "language": "python",
   "name": "cellxgene"
  },
  "language_info": {
   "codemirror_mode": {
    "name": "ipython",
    "version": 3
   },
   "file_extension": ".py",
   "mimetype": "text/x-python",
   "name": "python",
   "nbconvert_exporter": "python",
   "pygments_lexer": "ipython3",
   "version": "3.8.0"
  }
 },
 "nbformat": 4,
 "nbformat_minor": 5
}
