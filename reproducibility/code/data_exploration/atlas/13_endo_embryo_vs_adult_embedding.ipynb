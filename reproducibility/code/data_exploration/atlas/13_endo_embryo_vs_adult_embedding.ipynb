{
 "cells": [
  {
   "cell_type": "code",
   "execution_count": 4,
   "id": "b99caf8e",
   "metadata": {
    "lines_to_next_cell": 2
   },
   "outputs": [],
   "source": [
    "import scanpy as sc\n",
    "import pandas as pd\n",
    "import numpy as np\n",
    "from pathlib import Path\n",
    "import pickle as pkl\n",
    "\n",
    "from sklearn.preprocessing import maxabs_scale\n",
    "\n",
    "import seaborn as sb\n",
    "import matplotlib.pyplot as plt\n",
    "from matplotlib import rcParams\n",
    "import matplotlib.cm as cm\n",
    "import matplotlib.colors as mcolors\n",
    "\n",
    "from diffxpy.testing.det import DifferentialExpressionTestWald\n",
    "import diffxpy.api as de\n",
    "\n",
    "import sys\n",
    "sys.path.insert(0, '/lustre/groups/ml01/code/karin.hrovatin/diabetes_analysis/data_exploration/')\n",
    "import helper_diffxpy as hde\n",
    "import importlib\n",
    "importlib.reload(hde)\n",
    "import helper_diffxpy as hde\n",
    "\n",
    "import sys\n",
    "sys.path.insert(0, '/lustre/groups/ml01/code/karin.hrovatin/diabetes_analysis/')\n",
    "import helper as h\n",
    "import importlib\n",
    "importlib.reload(h)\n",
    "import helper as h"
   ]
  },
  {
   "cell_type": "code",
   "execution_count": 5,
   "id": "bfeb2d27",
   "metadata": {},
   "outputs": [],
   "source": [
    "path_data='/lustre/groups/ml01/workspace/karin.hrovatin/data/pancreas/scRNA/combined/'\n",
    "path_save=path_data+'embryo_DE/'\n",
    "path_save_de_delta=path_save+'diffxpy_deltaMature/'\n",
    "path_dotplots=path_save+'embryo_maturation_plots/'"
   ]
  },
  {
   "cell_type": "code",
   "execution_count": 6,
   "id": "2311e3de",
   "metadata": {
    "lines_to_next_cell": 2
   },
   "outputs": [],
   "source": [
    "path_fig='/lustre/groups/ml01/workspace/karin.hrovatin/data/pancreas/figures/paper/'"
   ]
  },
  {
   "cell_type": "code",
   "execution_count": 7,
   "id": "7fc854e1",
   "metadata": {},
   "outputs": [],
   "source": [
    "adata_rawnorm=sc.read(path_data+'data_rawnorm_integrated_annotated.h5ad')"
   ]
  },
  {
   "cell_type": "code",
   "execution_count": 8,
   "id": "ddf7b59a",
   "metadata": {},
   "outputs": [],
   "source": [
    "# Add ct info\n",
    "adata_full=sc.read(path_data+'data_integrated_analysed.h5ad',backed='r')\n",
    "adata_rawnorm.obs[['cell_type_integrated_v1','pre_cell_type_original']]=\\\n",
    "    adata_full.obs[['cell_type_integrated_v1','pre_cell_type_original']].copy()\n",
    "del adata_full"
   ]
  },
  {
   "cell_type": "code",
   "execution_count": 9,
   "id": "a8184170",
   "metadata": {},
   "outputs": [],
   "source": [
    "# Use correct layer\n",
    "adata_rawnorm.X=adata_rawnorm.layers['X_sf_integrated']"
   ]
  },
  {
   "cell_type": "markdown",
   "id": "9d54bc3f",
   "metadata": {},
   "source": [
    "### Make cell groups"
   ]
  },
  {
   "cell_type": "markdown",
   "id": "c5e0fbfb",
   "metadata": {},
   "source": [
    "Subset to embryo and non-embryo endo cells. For non-embryo endo cells use cells that are annotated as endo and do not come from embryo study. For embryo-endo use embryo study ct anno and subset to cells mapping to embryo_endocrine cluster in atlas anno (as at older ages some alpha/belta already map to postnatal endo clusters). Thrid group of cells is embryo cells mapping to postnatal endo cluster (regardless of original ct annotation from the embryo-dataset study). Did not use epsilon as little in adult. Did not use gamma as not yet really present in embryo."
   ]
  },
  {
   "cell_type": "code",
   "execution_count": 10,
   "id": "a517b79c",
   "metadata": {},
   "outputs": [
    {
     "data": {
      "text/plain": [
       "Mat. Acinar        6972\n",
       "Ductal             4262\n",
       "Tip                3796\n",
       "Prlf. Acinar       3289\n",
       "Ngn3 low EP        2582\n",
       "Prlf. Ductal       2298\n",
       "Prlf. Tip          2193\n",
       "Ngn3 High late     1726\n",
       "NA                 1641\n",
       "Fev+ Beta          1359\n",
       "Beta               1232\n",
       "Prlf. Trunk        1188\n",
       "Multipotent        1187\n",
       "secondary Alpha    1159\n",
       "Ngn3 High early     767\n",
       "Trunk               615\n",
       "Fev+ Alpha          345\n",
       "primary Alpha       263\n",
       "Epsilon             230\n",
       "Fev+ Pyy            132\n",
       "Fev+ Epsilon        112\n",
       "Fev+ Delta          110\n",
       "Delta               103\n",
       "Name: pre_cell_type_original, dtype: int64"
      ]
     },
     "execution_count": 10,
     "metadata": {},
     "output_type": "execute_result"
    }
   ],
   "source": [
    "# Embryo cts\n",
    "adata_rawnorm.obs.query('study==\"embryo\"')['pre_cell_type_original'].\\\n",
    "    cat.remove_unused_categories().value_counts()"
   ]
  },
  {
   "cell_type": "markdown",
   "id": "53f66981",
   "metadata": {},
   "source": [
    "Compute cell groups and report their sizes"
   ]
  },
  {
   "cell_type": "code",
   "execution_count": 11,
   "id": "42b1f5cd",
   "metadata": {},
   "outputs": [
    {
     "data": {
      "text/plain": [
       "beta_postnatal         102109\n",
       "alpha_postnatal         40903\n",
       "delta_postnatal         24663\n",
       "gamma_postnatal          6993\n",
       "alpha_embryo             1378\n",
       "beta_embryo              1220\n",
       "delta_embryo_mature       112\n",
       "beta_embryo_mature         34\n",
       "alpha_embryo_mature        32\n",
       "delta_embryo               17\n",
       "gamma_embryo_mature         6\n",
       "Name: ct_de, dtype: int64"
      ]
     },
     "execution_count": 11,
     "metadata": {},
     "output_type": "execute_result"
    }
   ],
   "source": [
    "# Add ct groups\n",
    "adata_rawnorm.obs['ct_de']=np.nan\n",
    "endo_cts=['alpha','beta','gamma','delta']\n",
    "endo_postnatal=adata_rawnorm.obs.query(\n",
    "    'study!=\"embryo\" and cell_type_integrated_v1 in @endo_cts').index\n",
    "adata_rawnorm.obs.loc[endo_postnatal,'ct_de']=adata_rawnorm.obs.loc[\n",
    "    endo_postnatal,'cell_type_integrated_v1'].apply(lambda x: x+'_postnatal')\n",
    "endo_embryo_mature=adata_rawnorm.obs.query(\n",
    "    'study==\"embryo\" and cell_type_integrated_v1 in @endo_cts').index\n",
    "adata_rawnorm.obs.loc[endo_embryo_mature,'ct_de']=adata_rawnorm.obs.loc[\n",
    "    endo_embryo_mature,'cell_type_integrated_v1'].apply(lambda x: x+'_embryo_mature')\n",
    "endo_cts_embryo=['primary Alpha','secondary Alpha','Beta','Delta','Gamma']\n",
    "endo_embryo=adata_rawnorm.obs.query(\n",
    "    'study==\"embryo\" and cell_type_integrated_v1==\"embryo endocrine\" and '+\n",
    "    'pre_cell_type_original in @endo_cts_embryo').index\n",
    "adata_rawnorm.obs.loc[endo_embryo,'ct_de']=adata_rawnorm.obs.loc[\n",
    "    endo_embryo,'pre_cell_type_original'].apply(\n",
    "    lambda x: x.lower().replace('primary ','').replace('secondary ','')+'_embryo')\n",
    "adata_rawnorm.obs['ct_de'].value_counts()"
   ]
  },
  {
   "cell_type": "markdown",
   "id": "e0ac385b",
   "metadata": {},
   "source": [
    "Make ct names pretty for plotting"
   ]
  },
  {
   "cell_type": "code",
   "execution_count": 13,
   "id": "b1ad5bea",
   "metadata": {},
   "outputs": [
    {
     "name": "stdout",
     "output_type": "stream",
     "text": [
      "['beta P' 'delta P' nan 'alpha P' 'gamma P' 'alpha E' 'delta E P-like'\n",
      " 'beta E' 'beta E P-like' 'delta E' 'alpha E P-like' 'gamma E P-like']\n"
     ]
    }
   ],
   "source": [
    "# Make ct names pretty\n",
    "adata_rawnorm.obs['ct_de_parsed']=adata_rawnorm.obs['ct_de'].str.replace('_',' ')\n",
    "adata_rawnorm.obs['ct_de_parsed']=adata_rawnorm.obs['ct_de_parsed'].\\\n",
    "    str.replace('mature','P-like').str.replace('postnatal','P').str.replace('embryo','E')\n",
    "print(adata_rawnorm.obs['ct_de_parsed'].unique())"
   ]
  },
  {
   "cell_type": "markdown",
   "id": "108d798d",
   "metadata": {},
   "source": [
    "### Proportions of embryonic groups across embryo ages and cts\n",
    "In embryonic dataset compare across endo cell types and samples (differing in age) how many cells (relatively to total sample size) map to embryo and embryo postnatal-like groups."
   ]
  },
  {
   "cell_type": "code",
   "execution_count": 108,
   "id": "867f2f13",
   "metadata": {},
   "outputs": [],
   "source": [
    "# Compute what ratio of embryonic sample represent different cell groups \n",
    "ratios=[]\n",
    "for ct in ['alpha','beta','delta']: # gamma not in embryo and epsilon not in postnatal\n",
    "    for subtype in ['E','E P-like']:\n",
    "        ct_name=ct+' '+subtype\n",
    "        for age,data in adata_rawnorm.obs.query('study==\"embryo\"'\n",
    "                                               ).groupby('age',observed=True):\n",
    "            ratio=data.query('ct_de_parsed==@ct_name').shape[0]/data.shape[0]\n",
    "            ratios.append({'age':age,'cell type':ct,'subtype':subtype,\n",
    "                           'ratio of sample':ratio})\n",
    "ratios=pd.DataFrame(ratios)\n",
    "ratios.age=pd.Categorical(ratios.age,\n",
    "    [str(round(age,1))+' E' for age in \n",
    "     sorted([float(age.split()[0]) for age in ratios.age.unique()])])"
   ]
  },
  {
   "cell_type": "code",
   "execution_count": 109,
   "id": "0eedd3d6",
   "metadata": {
    "scrolled": true
   },
   "outputs": [
    {
     "data": {
      "image/png": "[encoded data removed]",
      "text/plain": [
       "<Figure size 499.75x144 with 3 Axes>"
      ]
     },
     "metadata": {
      "needs_background": "light"
     },
     "output_type": "display_data"
    }
   ],
   "source": [
    "# Plot\n",
    "g=sb.catplot(y=\"subtype\", x=\"ratio of sample\",\n",
    "                hue=\"age\", col=\"cell type\",\n",
    "                data=ratios, kind=\"bar\",\n",
    "                height=2, aspect=1,sharex=False);\n",
    "g.set(facecolor = (0,0,0,0))\n",
    "for ax in g.axes[0]:\n",
    "    ax.set_title(ax.get_title().split('= ')[1],fontsize=10)\n",
    "plt.savefig(path_fig+'barplot_atlas_embryoEndoRatio_matureVSembryo.png',dpi=300,bbox_inches='tight')    "
   ]
  },
  {
   "cell_type": "markdown",
   "id": "4f27707e",
   "metadata": {},
   "source": [
    "### Known embryonic development and delta function genes\n",
    "Analyse known development and function genes to see why embryonic delta cells may be more similar to postnatal cells."
   ]
  },
  {
   "cell_type": "markdown",
   "id": "d9761326",
   "metadata": {},
   "source": [
    "Fev+ markers across endo groups"
   ]
  },
  {
   "cell_type": "code",
   "execution_count": 14,
   "id": "62e52618",
   "metadata": {},
   "outputs": [
    {
     "name": "stderr",
     "output_type": "stream",
     "text": [
      "/home/icb/karin.hrovatin/miniconda3/envs/rpy2_3/lib/python3.8/site-packages/anndata/_core/anndata.py:1220: FutureWarning: The `inplace` parameter in pandas.Categorical.reorder_categories is deprecated and will be removed in a future version. Removing unused categories will always return a new Categorical object.\n",
      "  c.reorder_categories(natsorted(c.categories), inplace=True)\n",
      "/home/icb/karin.hrovatin/miniconda3/envs/rpy2_3/lib/python3.8/site-packages/anndata/_core/anndata.py:1228: ImplicitModificationWarning: Initializing view as actual.\n",
      "  warnings.warn(\n",
      "Trying to set attribute `.obs` of view, copying.\n",
      "... storing 'ct_de' as categorical\n",
      "/home/icb/karin.hrovatin/miniconda3/envs/rpy2_3/lib/python3.8/site-packages/anndata/_core/anndata.py:1220: FutureWarning: The `inplace` parameter in pandas.Categorical.reorder_categories is deprecated and will be removed in a future version. Removing unused categories will always return a new Categorical object.\n",
      "  c.reorder_categories(natsorted(c.categories), inplace=True)\n",
      "Trying to set attribute `.obs` of view, copying.\n",
      "... storing 'ct_de_parsed' as categorical\n"
     ]
    },
    {
     "data": {
      "image/png": "[encoded data removed]",
      "text/plain": [
       "<Figure size 374.4x298.8 with 5 Axes>"
      ]
     },
     "metadata": {
      "needs_background": "light"
     },
     "output_type": "display_data"
    }
   ],
   "source": [
    "genes=['Fev','Tox3','Tmem185a','Pax4','Cck','Neurod1','Vwa5b2','Celf3',\n",
    "                        'Runx1t1','Cacna2d1']\n",
    "# Sort based on expression \"center\" across maturation subtypes, averaged across cts\n",
    "means=[]\n",
    "for ct in ['alpha','beta','delta']:\n",
    "    # Order genes for plotting based on expression in marking ct across maturity clusters\n",
    "    data=adata_rawnorm[adata_rawnorm.obs.ct_de.str.contains(ct).fillna(False),\n",
    "                   adata_rawnorm.var.query('gene_symbol in @genes').index].to_df()\n",
    "    data['ct_de']=adata_rawnorm[adata_rawnorm.obs.ct_de.str.contains(ct).fillna(False),\n",
    "                                :].obs.ct_de\n",
    "    data=data.groupby('ct_de').mean()\n",
    "    # Sorting to enable plotting from embryonic to postnatal markers\n",
    "    ct_pos={'embryo':1,'embryo_mature':2,'postnatal':3}\n",
    "    data.index=[ct_pos[i.replace(ct+'_','')] for i in data.index]\n",
    "    means.append(\n",
    "        # If mean expression per subtype (y) was empirical distn over sorted subtypes (x), \n",
    "        # where would be mean (x)\n",
    "        data.apply(\n",
    "          lambda x: np.array([y for n,e in x.iteritems() \n",
    "                        for y in [n]*int(e/x.sum()*100)]).mean()).rename(ct))\n",
    "means=pd.DataFrame(means)\n",
    "genes=means.mean().sort_values().index\n",
    "genes=list(adata_rawnorm.var.loc[genes,'gene_symbol'].values)\n",
    "\n",
    "sc.pl.dotplot(adata_rawnorm[\n",
    "        ~adata_rawnorm.obs.ct_de.isna().values & \n",
    "        ~adata_rawnorm.obs.ct_de.str.contains('gamma').fillna(False).values\n",
    "        ,:], var_names=genes,\n",
    "                         gene_symbols='gene_symbol',use_raw=False,\n",
    "              groupby='ct_de_parsed',\n",
    "              standard_scale='var',title='Fev+',\n",
    "              size_title='fraction of cells',\n",
    "              colorbar_title='relative\\nmean expression',\n",
    "              show=False)\n",
    "plt.savefig(path_fig+'dotplot_atlas_embryoMaturation_markers_Fev.png',dpi=300,\n",
    "                bbox_inches='tight')"
   ]
  },
  {
   "cell_type": "markdown",
   "id": "3511087c",
   "metadata": {},
   "source": [
    "Fev+ (subset of genes) and delta functional markers across delta groups"
   ]
  },
  {
   "cell_type": "code",
   "execution_count": 15,
   "id": "084f5296",
   "metadata": {},
   "outputs": [
    {
     "name": "stderr",
     "output_type": "stream",
     "text": [
      "/home/icb/karin.hrovatin/miniconda3/envs/rpy2_3/lib/python3.8/site-packages/anndata/_core/anndata.py:1220: FutureWarning: The `inplace` parameter in pandas.Categorical.reorder_categories is deprecated and will be removed in a future version. Removing unused categories will always return a new Categorical object.\n",
      "  c.reorder_categories(natsorted(c.categories), inplace=True)\n",
      "/home/icb/karin.hrovatin/miniconda3/envs/rpy2_3/lib/python3.8/site-packages/anndata/_core/anndata.py:1228: ImplicitModificationWarning: Initializing view as actual.\n",
      "  warnings.warn(\n",
      "Trying to set attribute `.obs` of view, copying.\n",
      "... storing 'ct_de' as categorical\n",
      "/home/icb/karin.hrovatin/miniconda3/envs/rpy2_3/lib/python3.8/site-packages/anndata/_core/anndata.py:1220: FutureWarning: The `inplace` parameter in pandas.Categorical.reorder_categories is deprecated and will be removed in a future version. Removing unused categories will always return a new Categorical object.\n",
      "  c.reorder_categories(natsorted(c.categories), inplace=True)\n",
      "Trying to set attribute `.obs` of view, copying.\n",
      "... storing 'ct_de_parsed' as categorical\n"
     ]
    },
    {
     "data": {
      "image/png": "[encoded data removed]",
      "text/plain": [
       "<Figure size 614.16x180 with 5 Axes>"
      ]
     },
     "metadata": {
      "needs_background": "light"
     },
     "output_type": "display_data"
    }
   ],
   "source": [
    "genes={\n",
    "       'Fev+':['Pax4','Fev','Cck'],\n",
    "       'delta':['Hhex','Sst'],\n",
    "       'Sst TFs':['Pdx1','Pknox1', 'Pbx1'],\n",
    "       'hormone\\nreceptors':['Sstr3','Gcgr','Insr','Crhr2','Glp1r'],\n",
    "       'nutrient\\nsensors':['Ffar4','Slc2a1','Slc2a3','Slc7a1','Slc7a2','Slc7a5'],\n",
    "      }\n",
    "sc.pl.dotplot(adata_rawnorm[\n",
    "        adata_rawnorm.obs.ct_de.str.startswith('delta').fillna(False)\n",
    "        ,:], var_names=genes,\n",
    "                         gene_symbols='gene_symbol',use_raw=False,\n",
    "              groupby='ct_de_parsed',\n",
    "              standard_scale='var',\n",
    "                size_title='fraction of cells',\n",
    "              colorbar_title='relative\\nmean expression',\n",
    "              show=False,var_group_rotation=0)\n",
    "plt.savefig(path_fig+'dotplot_atlas_embryoMaturationDelta_markers_FevDelta.png',dpi=300,\n",
    "                bbox_inches='tight')"
   ]
  }
 ],
 "metadata": {
  "jupytext": {
   "encoding": "# -*- coding: utf-8 -*-",
   "formats": "ipynb,py:percent"
  },
  "kernelspec": {
   "display_name": "Python rpy2_3",
   "language": "python",
   "name": "rpy2_3"
  },
  "language_info": {
   "codemirror_mode": {
    "name": "ipython",
    "version": 3
   },
   "file_extension": ".py",
   "mimetype": "text/x-python",
   "name": "python",
   "nbconvert_exporter": "python",
   "pygments_lexer": "ipython3",
   "version": "3.8.5"
  }
 },
 "nbformat": 4,
 "nbformat_minor": 5
}
