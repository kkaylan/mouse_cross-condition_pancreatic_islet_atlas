{
 "cells": [
  {
   "cell_type": "markdown",
   "id": "43cfbb4a",
   "metadata": {},
   "source": [
    "# Expression of diabetes DE genes validated with antibodies"
   ]
  },
  {
   "cell_type": "code",
   "execution_count": 1,
   "id": "1f8319b4",
   "metadata": {},
   "outputs": [],
   "source": [
    "import scanpy as sc\n",
    "import pandas as pd\n",
    "import numpy as np\n",
    "from pathlib import Path\n",
    "from collections import defaultdict\n",
    "\n",
    "import seaborn as sb\n",
    "import matplotlib.pyplot as plt\n",
    "from matplotlib import rcParams\n",
    "import matplotlib.cm as cm\n",
    "import matplotlib.colors as mcolors\n",
    "from matplotlib.patches import Patch\n",
    "from matplotlib.lines import Line2D"
   ]
  },
  {
   "cell_type": "code",
   "execution_count": 2,
   "id": "a4a031c1",
   "metadata": {
    "lines_to_next_cell": 2
   },
   "outputs": [],
   "source": [
    "path_data='/lustre/groups/ml01/workspace/karin.hrovatin/data/pancreas/scRNA/combined/'"
   ]
  },
  {
   "cell_type": "code",
   "execution_count": 3,
   "id": "16b886bb",
   "metadata": {},
   "outputs": [],
   "source": [
    "# Saving figures\n",
    "path_fig='/lustre/groups/ml01/workspace/karin.hrovatin/data/pancreas/figures/paper/'\n",
    "sc._settings.ScanpyConfig.figdir=Path(path_fig)"
   ]
  },
  {
   "cell_type": "code",
   "execution_count": 4,
   "id": "f6365e83",
   "metadata": {
    "scrolled": true
   },
   "outputs": [
    {
     "data": {
      "text/plain": [
       "(102143, 30672)"
      ]
     },
     "execution_count": 4,
     "metadata": {},
     "output_type": "execute_result"
    }
   ],
   "source": [
    "adata_rn_b=sc.read(path_data+'data_rawnorm_integrated_analysed_beta_v1s1_sfintegrated.h5ad')\n",
    "adata_rn_b.shape"
   ]
  },
  {
   "cell_type": "markdown",
   "id": "c5354ac2",
   "metadata": {},
   "source": [
    "Prepare healthy-diseased categories per dataset with diabetes model"
   ]
  },
  {
   "cell_type": "code",
   "execution_count": 5,
   "id": "daa9d4de",
   "metadata": {},
   "outputs": [],
   "source": [
    "# T1D and T2D (untreated) samples by diabetes model vs healthy controls from same studies\n",
    "diseased_category={\n",
    " 'NOD_elimination_SRR7610300_14w':'NOD',\n",
    " 'NOD_elimination_SRR7610299_14w':'NOD',\n",
    " 'NOD_elimination_SRR7610298_14w':'NOD',\n",
    " 'NOD_elimination_SRR7610303_16w':'NOD',\n",
    " 'NOD_elimination_SRR7610301_16w':'NOD',\n",
    " 'NOD_elimination_SRR7610302_16w':'NOD',\n",
    " 'NOD_elimination_SRR7610295_8w':'healthy control (NOD)',\n",
    " 'NOD_elimination_SRR7610296_8w':'healthy control (NOD)',\n",
    " 'NOD_elimination_SRR7610297_8w':'healthy control (NOD)',\n",
    " 'VSG_MUC13633_chow_WT':'healthy control (db/db)',\n",
    " 'VSG_MUC13634_chow_WT':'healthy control (db/db)',\n",
    " 'VSG_MUC13641_sham_Lepr-/-':'db/db',\n",
    " 'VSG_MUC13639_sham_Lepr-/-':'db/db',\n",
    " 'STZ_G2_STZ':'mSTZ',\n",
    " 'STZ_G1_control':'healthy control (mSTZ)'}\n",
    "diseased_order_colors={'healthy control (mSTZ)':'#0CA9BD',\n",
    "                       'healthy control (db/db)':'#0B2E79',\n",
    "                       'healthy control (NOD)':'#8BBD0C',\n",
    "                       'mSTZ':'#FFCC57',\n",
    "                       'db/db':'#C72323',\n",
    "                       'NOD':'#8D29A4'}\n",
    "adata_rn_b_sub=adata_rn_b[np.argwhere(adata_rn_b.obs.study_sample_design.isin(\n",
    "    diseased_category.keys()).values).ravel(),:].copy()\n",
    "adata_rn_b_sub.obs['diseased_group']=pd.Categorical(\n",
    "    adata_rn_b_sub.obs.study_sample_design.map(diseased_category),\n",
    "    categories=diseased_order_colors.keys(),ordered=True)\n",
    "# Add colors so that PAGA recognises them\n",
    "adata_rn_b_sub.uns['diseased_group_colors']=[diseased_order_colors[c] for c in  \n",
    "                                             adata_rn_b_sub.obs['diseased_group'].cat.categories]"
   ]
  },
  {
   "cell_type": "code",
   "execution_count": 6,
   "id": "6a537ef2",
   "metadata": {},
   "outputs": [],
   "source": [
    " # reorder categories\n",
    "adata_rn_b_sub.obs['diseased_group']=pd.Categorical(\n",
    "adata_rn_b_sub.obs.study_sample_design.map(diseased_category),\n",
    "categories=['healthy control (NOD)','NOD',\n",
    "            'healthy control (mSTZ)','mSTZ',\n",
    "            'healthy control (db/db)','db/db']\n",
    "    ,ordered=True)"
   ]
  },
  {
   "cell_type": "markdown",
   "id": "fdd7ce5a",
   "metadata": {},
   "source": [
    "Plot expression of genes measured on protein level with antibodies"
   ]
  },
  {
   "cell_type": "code",
   "execution_count": 9,
   "id": "764827c9",
   "metadata": {},
   "outputs": [
    {
     "data": {
      "image/png": "[encoded data removed]",
      "text/plain": [
       "<Figure size 241.2x223.2 with 4 Axes>"
      ]
     },
     "metadata": {
      "needs_background": "light"
     },
     "output_type": "display_data"
    }
   ],
   "source": [
    "# Dotplot of genes\n",
    "sc.pl.dotplot(adata_rn_b_sub, \n",
    "              var_names=['Ucn3','Aldh1a3','Nucb2','Fkbp11','Mt3'],\n",
    "              gene_symbols='gene_symbol',use_raw=False,\n",
    "              groupby='diseased_group',\n",
    "              standard_scale='var',show=False,\n",
    "              size_title='fraction of cells',\n",
    "              colorbar_title='relative\\nmean expression',)\n",
    "plt.savefig(path_fig+'dotplot_beta_AbMarkers_diabetes.png',dpi=300,bbox_inches='tight')"
   ]
  },
  {
   "cell_type": "code",
   "execution_count": null,
   "id": "7a02ff5d",
   "metadata": {},
   "outputs": [],
   "source": []
  }
 ],
 "metadata": {
  "jupytext": {
   "formats": "ipynb,py:percent"
  },
  "kernelspec": {
   "display_name": "Python 3",
   "language": "python",
   "name": "python3"
  },
  "language_info": {
   "codemirror_mode": {
    "name": "ipython",
    "version": 3
   },
   "file_extension": ".py",
   "mimetype": "text/x-python",
   "name": "python",
   "nbconvert_exporter": "python",
   "pygments_lexer": "ipython3",
   "version": "3.8.5"
  }
 },
 "nbformat": 4,
 "nbformat_minor": 5
}
