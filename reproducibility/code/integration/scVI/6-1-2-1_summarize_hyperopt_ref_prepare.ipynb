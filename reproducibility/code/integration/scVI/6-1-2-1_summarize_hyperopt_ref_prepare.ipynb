{
 "cells": [
  {
   "cell_type": "markdown",
   "metadata": {},
   "source": [
    "# Extract hyperopt data\n",
    "Extract data from the hyperopt search to be thereafeter analysed in another notebook."
   ]
  },
  {
   "cell_type": "code",
   "execution_count": 1,
   "metadata": {},
   "outputs": [],
   "source": [
    "from autotune_advanced_notebook import Benchmarkable\n",
    "import torch\n",
    "import io\n",
    "import matplotlib.pyplot as plt\n",
    "import seaborn as sb\n",
    "import matplotlib \n",
    "matplotlib.use('TkAgg')\n",
    "from IPython.core.interactiveshell import InteractiveShell\n",
    "InteractiveShell.ast_node_interactivity = \"all\"\n",
    "from scvi.dataset.anndataset import AnnDatasetFromAnnData\n",
    "import scanpy as sc\n",
    "import numpy as np\n",
    "import anndata"
   ]
  },
  {
   "cell_type": "code",
   "execution_count": 2,
   "metadata": {},
   "outputs": [],
   "source": [
    "# Paths to expression data and scVI hyperopt\n",
    "path_adata='/lustre/groups/ml01/workspace/karin.hrovatin/data/pancreas/scRNA/ref_combined/preprocessed/'\n",
    "path_data='/lustre/groups/ml01/workspace/karin.hrovatin/data/pancreas/scRNA/ref_combined/scVI/hyperopt/'"
   ]
  },
  {
   "cell_type": "markdown",
   "metadata": {},
   "source": [
    "### Load data"
   ]
  },
  {
   "cell_type": "code",
   "execution_count": 7,
   "metadata": {},
   "outputs": [],
   "source": [
    "# Hyperopt folder for which to prepare data\n",
    "folder_name='1599165129.871496_2000_mll'\n",
    "# Name used for Benchmarkable\n",
    "hyperopt_run_name='ref_2000_mll'\n",
    "# Hvg column name or 'all' to use all genes\n",
    "hvg_name='highly_variable'"
   ]
  },
  {
   "cell_type": "code",
   "execution_count": 8,
   "metadata": {},
   "outputs": [],
   "source": [
    "# Load hyperopt result (requires GPU)\n",
    "hyperopt_res=Benchmarkable(global_path=path_data+folder_name, exp_key='ref', name=hyperopt_run_name)"
   ]
  },
  {
   "cell_type": "markdown",
   "metadata": {},
   "source": [
    "### Get parameters search results"
   ]
  },
  {
   "cell_type": "code",
   "execution_count": 9,
   "metadata": {},
   "outputs": [],
   "source": [
    "# Extract all tested params and corresponding metrics - save as tsv into hyperopt folder\n",
    "params_res=hyperopt_res.get_param_df()\n",
    "params_res.to_csv(path_data+folder_name+'/trials_ref.tsv',sep='\\t',index=False)"
   ]
  },
  {
   "cell_type": "markdown",
   "metadata": {},
   "source": [
    "### Get latent space of best model"
   ]
  },
  {
   "cell_type": "code",
   "execution_count": 19,
   "metadata": {},
   "outputs": [],
   "source": [
    "# Load original data to transform to latent space\n",
    "adata=sc.read_h5ad(path_adata+'data_normalised.h5ad')"
   ]
  },
  {
   "cell_type": "code",
   "execution_count": 20,
   "metadata": {},
   "outputs": [
    {
     "name": "stderr",
     "output_type": "stream",
     "text": [
      "Trying to set attribute `.obs` of view, copying.\n"
     ]
    },
    {
     "name": "stdout",
     "output_type": "stream",
     "text": [
      "[2020-09-09 14:49:43,251] INFO - scvi.dataset.anndataset | Dense size under 1Gb, casting to dense format (np.ndarray).\n",
      "[2020-09-09 14:49:44,144] INFO - scvi.dataset.dataset | Remapping batch_indices to [0,N]\n",
      "[2020-09-09 14:49:44,148] INFO - scvi.dataset.dataset | Remapping labels to [0,N]\n",
      "[2020-09-09 14:49:48,689] INFO - scvi.dataset.dataset | Computing the library size for the new data\n",
      "[2020-09-09 14:49:49,089] INFO - scvi.dataset.dataset | Downsampled from 73487 to 73487 cells\n"
     ]
    }
   ],
   "source": [
    "# Prepare scVI data object\n",
    "# Replace X with counts\n",
    "data=adata.copy()\n",
    "data.X=data.layers['counts']\n",
    "del data.layers['counts']\n",
    "del data.raw\n",
    "# Select genes\n",
    "if hvg_name != 'all':\n",
    "    data=data[:,data.var[hvg_name]]\n",
    "# Add batch info\n",
    "batches=data.obs.study_sample.unique()\n",
    "data.obs['batch_int']=data.obs.study_sample.replace(dict(zip(batches,range(len(batches)))))\n",
    "# Make scVi data object\n",
    "data=AnnDatasetFromAnnData(ad = data,batch_label='batch_int')"
   ]
  },
  {
   "cell_type": "code",
   "execution_count": 21,
   "metadata": {},
   "outputs": [],
   "source": [
    "# Get latent space\n",
    "posterior = hyperopt_res.trainer.create_posterior(hyperopt_res.trainer.model, data, indices=np.arange(len(data)))\n",
    "latent, batch_indices, labels = posterior.sequential().get_latent()"
   ]
  },
  {
   "cell_type": "code",
   "execution_count": 22,
   "metadata": {},
   "outputs": [],
   "source": [
    "# Store latent space as adata \n",
    "latent_adata = anndata.AnnData(X=latent)\n",
    "# Add cell metadata\n",
    "latent_adata.obs=adata.obs.copy()\n",
    "latent_adata.obs_names=adata.obs_names.copy()"
   ]
  },
  {
   "cell_type": "code",
   "execution_count": 23,
   "metadata": {},
   "outputs": [
    {
     "name": "stderr",
     "output_type": "stream",
     "text": [
      "/home/icb/karin.hrovatin/miniconda3/envs/rpy2_3/lib/python3.8/site-packages/scanpy/neighbors/__init__.py:121: FutureWarning: This location for 'distances' is deprecated. It has been moved to .obsp[distances], and will not be accesible here in a future version of anndata.\n",
      "  adata.uns['neighbors']['distances'] = neighbors.distances\n",
      "/home/icb/karin.hrovatin/miniconda3/envs/rpy2_3/lib/python3.8/site-packages/scanpy/neighbors/__init__.py:122: FutureWarning: This location for 'connectivities' is deprecated. It has been moved to .obsp[connectivities], and will not be accesible here in a future version of anndata.\n",
      "  adata.uns['neighbors']['connectivities'] = neighbors.connectivities\n",
      "/home/icb/karin.hrovatin/miniconda3/envs/rpy2_3/lib/python3.8/site-packages/scanpy/tools/_umap.py:147: FutureWarning: This location for 'connectivities' is deprecated. It has been moved to .obsp[connectivities], and will not be accesible here in a future version of anndata.\n",
      "  adata.uns['neighbors']['connectivities'].tocoo(),\n"
     ]
    }
   ],
   "source": [
    "# Compute neighbours and UMAp on latent data\n",
    "sc.pp.neighbors(latent_adata,n_pcs=0)\n",
    "sc.tl.umap(latent_adata)"
   ]
  },
  {
   "cell_type": "code",
   "execution_count": 24,
   "metadata": {},
   "outputs": [],
   "source": [
    "latent_adata.write(path_data+folder_name+'/latent.h5ad')"
   ]
  },
  {
   "cell_type": "code",
   "execution_count": null,
   "metadata": {},
   "outputs": [],
   "source": []
  },
  {
   "cell_type": "code",
   "execution_count": null,
   "metadata": {},
   "outputs": [],
   "source": []
  },
  {
   "cell_type": "code",
   "execution_count": null,
   "metadata": {},
   "outputs": [],
   "source": []
  }
 ],
 "metadata": {
  "jupytext": {
   "formats": "ipynb,py:percent"
  },
  "kernelspec": {
   "display_name": "Python rpy2_3",
   "language": "python",
   "name": "rpy2_3"
  },
  "language_info": {
   "codemirror_mode": {
    "name": "ipython",
    "version": 3
   },
   "file_extension": ".py",
   "mimetype": "text/x-python",
   "name": "python",
   "nbconvert_exporter": "python",
   "pygments_lexer": "ipython3",
   "version": "3.8.5"
  }
 },
 "nbformat": 4,
 "nbformat_minor": 4
}
